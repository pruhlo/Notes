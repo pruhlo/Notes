{
 "cells": [
  {
   "cell_type": "markdown",
   "metadata": {},
   "source": [
    "https://github.com/alisa-ludezh\n",
    "# [Метод головних компонент](https://uk.wikipedia.org/wiki/Метод_головних_компонент)\n",
    "\n",
    "У цьому завданні вам буде запропоновано ознайомитися з підходом, який перевідкривався в різних областях, має безліч різних інтерпретацій, а також кілька цікавих узагальнень: методом головних компонент (principal component analysis).\n",
    "\n",
    "<p style=\"font-family: Arials; font-size: 16px; font-style: normal; font-weight: bold; letter-spacing: 2px; color: #0099FF; line-height:1.3\"><a href=\"#part1\" style=\"color:#808080; text-decoration:none;\">Теорія</a></p>\n",
    "<p style=\"font-family: Arials; font-size: 16px; font-style: normal; font-weight: bold; letter-spacing: 2px; color: #0099FF; line-height:1.3\"><a href=\"#part2\" style=\"color:#808080; text-decoration:none;\">Статистичний погляд на модель</a></p>\n",
    "<p style=\"font-family: Arials; font-size: 16px; font-style: normal; font-weight: bold; letter-spacing: 2px; color: #0099FF; line-height:1.3\"><a href=\"#part3\" style=\"color:#808080; text-decoration:none;\">Завдання 1. Автоматичне зменшення розмірності даних за допомогою логарифму правдоподібності</a></p>\n",
    "<p style=\"font-family: Arials; font-size: 16px; font-style: normal; font-weight: bold; letter-spacing: 2px; color: #0099FF; line-height:1.3\"><a href=\"#part4\" style=\"color:#808080; text-decoration:none;\">Варіаційний погляд на модель</a></p>\n",
    "<p style=\"font-family: Arials; font-size: 16px; font-style: normal; font-weight: bold; letter-spacing: 2px; color: #0099FF; line-height:1.3\"><a href=\"#part5\" style=\"color:#808080; text-decoration:none;\">Завдання 2. Ручне зменшення розмірності ознак за допомогою аналізу дисперсії даних уздовж основних компонентів</a></p>\n",
    "<p style=\"font-family: Arials; font-size: 16px; font-style: normal; font-weight: bold; letter-spacing: 2px; color: #0099FF; line-height:1.3\"><a href=\"#part6\" style=\"color:#808080; text-decoration:none;\">Інтерпретація основних компонентів</a></p>\n",
    "<p style=\"font-family: Arials; font-size: 16px; font-style: normal; font-weight: bold; letter-spacing: 2px; color: #0099FF; line-height:1.3\"><a href=\"#part7\" style=\"color:#808080; text-decoration:none;\">Завдання 3. Аналіз основних компонентів з допомогою кореляцій з вихідними ознаками.</a></p>\n",
    "<p style=\"font-family: Arials; font-size: 16px; font-style: normal; font-weight: bold; letter-spacing: 2px; color: #0099FF; line-height:1.3\"><a href=\"#part8\" style=\"color:#808080; text-decoration:none;\">Інтерпретація головних компонентів з використанням даних</a></p>\n",
    "<p style=\"font-family: Arials; font-size: 16px; font-style: normal; font-weight: bold; letter-spacing: 2px; color: #0099FF; line-height:1.3\"><a href=\"#part9\" style=\"color:#808080; text-decoration:none;\">Завдання 4. Аналіз головних компонент за допомогою вкладів у їх дисперсію окремих об'єктів</a></p>\n",
    "<p style=\"font-family: Arials; font-size: 16px; font-style: normal; font-weight: bold; letter-spacing: 2px; color: #0099FF; line-height:1.3\"><a href=\"#part10\" style=\"color:#808080; text-decoration:none;\">Аналіз основних недоліків методу основних компонентів</a></p>\n",
    "\n",
    "[Приклади PCA (principal component analysis)](https://nbviewer.org/github/pruhlo/notes-for-Data-Science/blob/master/PCA%20example.ipynb)"
   ]
  },
  {
   "cell_type": "markdown",
   "metadata": {},
   "source": [
    "## Programming assignment\n",
    "\n",
    "Завдання розбите на дві частини:\n",
    "- робота з модельними даними,\n",
    "- робота із реальними даними.\n",
    "\n",
    "Наприкінці кожного пункту потрібно отримати відповідь і завантажити у відповідну форму у вигляді набору текстових файлів."
   ]
  },
  {
   "cell_type": "code",
   "execution_count": 3,
   "metadata": {},
   "outputs": [],
   "source": [
    "import numpy as np\n",
    "import pandas as pd\n",
    "import scipy\n",
    "import matplotlib\n",
    "from sklearn.preprocessing import StandardScaler\n",
    "from matplotlib import pyplot as plt\n",
    "import matplotlib.patches as mpatches\n",
    "matplotlib.style.use('ggplot')\n",
    "%matplotlib inline"
   ]
  },
  {
   "cell_type": "markdown",
   "metadata": {},
   "source": [
    "## Теорія\n",
    "\n",
    "<p id='part1'></p>\n",
    "Будь-який набір даних є матрицею $X$.\n",
    "\n",
    "Метод головних компонент послідовно знаходить такі лінійні комбінації ознак (компоненти) із $X$:\n",
    "- кожна компонента ортогональна решті і нормована: $<w_i, w_j> = 0, \\quad ||w_i||=1$,\n",
    "- кожна компонента визначає максимально можливу дисперсію даних (з урахуванням попереднього обмеження).\n",
    "\n",
    "Припущення, в рамках яких цей підхід працюватиме добре:\n",
    "- лінійність компонентів: ми припускаємо, що дані можна аналізувати лінійними методами,\n",
    "- великі дисперсії важливі: передбачається, що найбільш важливими є ті напрямки в даних, вздовж яких вони мають найбільшу дисперсію,\n",
    "- всі компоненти ортогональні: це припущення дозволяє проводити аналіз основних компонентів за допомогою технік лінійної алгебри (наприклад, сингулярне розкладання матриці $X$ або спектральне розкладання матриці $X^TX$).\n",
    "\n",
    "Як це виглядає математично?\n",
    "\n",
    "Позначимо наступним чином вибіркову матрицю коваріації даних $\\hat{C} \\propto Q = X^TX$. ($Q$ відрізняється від $\\hat{C}$ нормуванням на кількість об'єктів).\n",
    "\n",
    "Сингулярне розкладання матриці $Q$ виглядає так:\n",
    "\n",
    "$$Q = X^TX = W \\Lambda W^T$$\n",
    "\n",
    "Можна чітко показати, що стовпці матриці $W$ є основними компонентами матриці $X$, тобто. комбінаціями ознак, що задовольняють двом умовам, зазначеним на початку. При цьому дисперсія даних уздовж напрямку, заданого кожною компонентою, дорівнює відповідному значенню діагональної матриці $ Lambda $.\n",
    "\n",
    "Як на підставі цього перетворення проводити зменшення розмірності? Ми можемо відранжувати компоненти, використовуючи значення дисперсій даних вздовж них.\n",
    "\n",
    "Зробимо це: $\\lambda_{(1)} > \\lambda_{(2)} > \\dots > \\lambda_{(D)}$.\n",
    "\n",
    "Тоді, якщо ми виберемо компоненти, відповідні першим $d$ дисперсіям з цього списку, ми отримаємо набір з $d$ нових ознак, які найкраще описують дисперсію початкового набору даних серед інших можливих лінійних комбінацій вихідних ознак матриці $X$.\n",
    "- Якщо $d=D$, то ми взагалі не втрачаємо жодної інформації.\n",
    "- Якщо $d<D$, ми втрачаємо інформацію, яка, за справедливості зазначених вище припущень, буде пропорційна сумі дисперсій відкинутих компонент.\n",
    "\n",
    "Виходить, що метод головних компонентів дозволяє нам ранжувати отримані компоненти за \"значимістю\", а також запустити процес їх відбору."
   ]
  },
  {
   "cell_type": "markdown",
   "metadata": {},
   "source": [
    "## приклад\n",
    "\n",
    "Розглянемо набір даних, який семпльований з багатовимірного нормального розподілу з [матрицею коваріації](https://nbviewer.org/github/pruhlo/notes-for-Data-Science/blob/master/Correlation.ipynb#part1) $C = \\begin{pmatrix} 3 & 1 \\\\ 1 & 2 \\end{pmatrix}$."
   ]
  },
  {
   "cell_type": "code",
   "execution_count": 3,
   "metadata": {},
   "outputs": [
    {
     "data": {
      "image/png": "[encoded data removed]",
      "text/plain": [
       "<Figure size 432x288 with 1 Axes>"
      ]
     },
     "metadata": {
      "needs_background": "light"
     },
     "output_type": "display_data"
    }
   ],
   "source": [
    "from sklearn.decomposition import PCA\n",
    "\n",
    "mu = np.zeros(2)\n",
    "C = np.array([[3, 1], [1, 2]])\n",
    "\n",
    "data = np.random.multivariate_normal(mu, C, size=50)\n",
    "plt.scatter(data[:, 0], data[:, 1])\n",
    "plt.show()"
   ]
  },
  {
   "cell_type": "markdown",
   "metadata": {},
   "source": [
    "Шляхом [діагоналізації](https://runebook.dev/ru/docs/numpy/reference/generated/numpy.linalg.eig) істинної матриці коваріації $C$, ми можемо знайти перетворення вихідного набору даних, компоненти якого найкраще описуватимуть дисперсію, з урахуванням їхньої ортогональності один одному:"
   ]
  },
  {
   "cell_type": "code",
   "execution_count": 6,
   "metadata": {},
   "outputs": [
    {
     "data": {
      "text/plain": [
       "array([[ 0.85065081, -0.52573111],\n",
       "       [ 0.52573111,  0.85065081]])"
      ]
     },
     "execution_count": 6,
     "metadata": {},
     "output_type": "execute_result"
    }
   ],
   "source": [
    "v, W_true = np.linalg.eig(C)\n",
    "v # Out: array([3.61803399, 1.38196601])\n",
    "W_true"
   ]
  },
  {
   "cell_type": "code",
   "execution_count": 3,
   "metadata": {},
   "outputs": [
    {
     "data": {
      "image/png": "[encoded data removed]",
      "text/plain": [
       "<matplotlib.figure.Figure at 0x7ff949110dd8>"
      ]
     },
     "metadata": {},
     "output_type": "display_data"
    }
   ],
   "source": [
    "v, W_true = np.linalg.eig(C)\n",
    "\n",
    "plt.scatter(data[:, 0], data[:, 1])\n",
    "# побудуємо справжні компоненти, вздовж яких максимальна дисперсія даних\n",
    "plt.plot(data[:, 0], (W_true[0, 0] / W_true[0, 1]) * data[:, 0], color=\"g\") # Вектор 0\n",
    "plt.plot(data[:, 0], (W_true[1, 0] / W_true[1, 1]) * data[:, 0], color=\"g\") # Вектор 1\n",
    "g_patch = mpatches.Patch(color='g', label='True components')\n",
    "plt.legend(handles=[g_patch])\n",
    "plt.axis('equal')\n",
    "limits = [\n",
    "    np.minimum(np.amin(data[:, 0]), np.amin(data[:, 1])),\n",
    "    np.maximum(np.amax(data[:, 0]), np.amax(data[:, 1]))\n",
    "]\n",
    "plt.xlim(limits[0], limits[1])\n",
    "plt.ylim(limits[0], limits[1])\n",
    "plt.draw()"
   ]
  },
  {
   "cell_type": "markdown",
   "metadata": {},
   "source": [
    "А тепер порівняємо ці напрямки з напрямками, які обирає метод головних компонентів:"
   ]
  },
  {
   "cell_type": "code",
   "execution_count": 5,
   "metadata": {
    "collapsed": true
   },
   "outputs": [],
   "source": [
    "def plot_principal_components(data, model, scatter=True, legend=True):\n",
    "    W_pca = model.components_\n",
    "    if scatter:\n",
    "        plt.scatter(data[:, 0], data[:, 1])\n",
    "    plt.plot(data[:, 0], -(W_pca[0, 0] / W_pca[0, 1]) * data[:, 0], color=\"c\")\n",
    "    plt.plot(data[:, 0], -(W_pca[1, 0] / W_pca[1, 1]) * data[:, 0], color=\"c\")\n",
    "    if legend:\n",
    "        c_patch = mpatches.Patch(color='c', label='Principal components')\n",
    "        plt.legend(handles=[c_patch], loc='lower right')\n",
    "    # зробимо графіки красивими:\n",
    "    plt.axis('equal')\n",
    "    limits = [\n",
    "        np.minimum(np.amin(data[:, 0]), np.amin(data[:, 1])) - 0.5,\n",
    "        np.maximum(np.amax(data[:, 0]), np.amax(data[:, 1])) + 0.5\n",
    "    ]\n",
    "    plt.xlim(limits[0], limits[1])\n",
    "    plt.ylim(limits[0], limits[1])\n",
    "    plt.draw()"
   ]
  },
  {
   "cell_type": "code",
   "execution_count": 16,
   "metadata": {},
   "outputs": [
    {
     "data": {
      "text/plain": [
       "array([-3.53815964, -3.84016854, -2.67373607,  0.77486795, -6.04501719,\n",
       "       -1.72869262, -4.73861585,  4.33353394,  5.90911267, -1.20181413,\n",
       "        2.1625707 ,  2.88878544, -1.44387543, -0.01067812, -1.62206017,\n",
       "        1.51026155,  2.54814935,  0.81005879,  0.30171335, -5.67356432,\n",
       "       -3.50862891, -5.00796415, -1.31990665,  1.78555964,  0.64726292,\n",
       "        3.73687148,  4.61630176,  2.92809452, -7.9948182 ,  3.37445281,\n",
       "       -0.40994345,  0.11286567, -5.07935031, -3.1931723 ,  2.29814915,\n",
       "        2.83828611,  2.17553133, -0.25892165,  3.19403809, -2.58772456,\n",
       "        1.10882879, -0.7708935 ,  2.88231924,  1.02192394,  2.00313733,\n",
       "        2.78100188,  1.07313383, -6.24725759, -2.04999675,  2.06837152])"
      ]
     },
     "execution_count": 16,
     "metadata": {},
     "output_type": "execute_result"
    }
   ],
   "source": [
    "W_pca = model.components_\n",
    "(W_pca[0, 0] / W_pca[0, 1])*data[:,0]"
   ]
  },
  {
   "cell_type": "code",
   "execution_count": 9,
   "metadata": {},
   "outputs": [
    {
     "data": {
      "image/png": "[encoded data removed]",
      "text/plain": [
       "<matplotlib.figure.Figure at 0x7f0c7c398d30>"
      ]
     },
     "metadata": {},
     "output_type": "display_data"
    }
   ],
   "source": [
    "from sklearn.decomposition import PCA\n",
    "model = PCA(n_components=2)\n",
    "model.fit(data)\n",
    "\n",
    "plt.scatter(data[:, 0], data[:, 1])\n",
    "# побудуємо справжні компоненти, вздовж яких максимальна дисперсія даних\n",
    "plt.plot(data[:, 0], (W_true[0, 0] / W_true[0, 1]) * data[:, 0], color=\"g\")\n",
    "plt.plot(data[:, 0], (W_true[1, 0] / W_true[1, 1]) * data[:, 0], color=\"g\")\n",
    "# побудуємо компоненти, отримані з використанням методу PCA:\n",
    "plot_principal_components(data, model, scatter=False, legend=False)\n",
    "c_patch = mpatches.Patch(color='c', label='Principal components')\n",
    "plt.legend(handles=[g_patch, c_patch])\n",
    "plt.draw()"
   ]
  },
  {
   "cell_type": "markdown",
   "metadata": {},
   "source": [
    "Видно, що при невеликій кількості даних вони відрізняються незначно. Збільшимо розмір вибірки:"
   ]
  },
  {
   "cell_type": "code",
   "execution_count": 16,
   "metadata": {},
   "outputs": [
    {
     "data": {
      "image/png": "[encoded data removed]",
      "text/plain": [
       "<matplotlib.figure.Figure at 0x7f83e744ca20>"
      ]
     },
     "metadata": {},
     "output_type": "display_data"
    }
   ],
   "source": [
    "data_large = np.random.multivariate_normal(mu, C, size=5000)\n",
    "\n",
    "model = PCA(n_components=2)\n",
    "model.fit(data_large)\n",
    "plt.scatter(data_large[:, 0], data_large[:, 1], alpha=0.1)\n",
    "# побудуємо справжні компоненти, вздовж яких максимальна дисперсія даних\n",
    "plt.plot(\n",
    "    data_large[:, 0], (W_true[0, 0] / W_true[0, 1]) * data_large[:, 0],\n",
    "    color=\"g\")\n",
    "plt.plot(\n",
    "    data_large[:, 0], (W_true[1, 0] / W_true[1, 1]) * data_large[:, 0],\n",
    "    color=\"g\")\n",
    "# побудуємо компоненти, отримані з використанням методу PCA:\n",
    "plot_principal_components(data_large, model, scatter=False, legend=False)\n",
    "c_patch = mpatches.Patch(color='c', label='Principal components')\n",
    "plt.legend(handles=[g_patch, c_patch])\n",
    "plt.draw()"
   ]
  },
  {
   "cell_type": "markdown",
   "metadata": {},
   "source": [
    "І тут основні компоненти значно точніше наближають справжні напрями даних, вздовж яких спостерігається найбільша дисперсія."
   ]
  },
  {
   "cell_type": "markdown",
   "metadata": {},
   "source": [
    "## Статистичний погляд на модель\n",
    "\n",
    "<p id='part2'></p>\n",
    "Як формалізувати припущення вказаного вище методу? За допомогою ймовірнісної моделі!\n",
    "\n",
    "Завдання, яке стоїть за будь-яким методом зменшення розмірності: отримати з набору зашумлених ознак $X$ істинні значення $Y$, які насправді визначають набір даних (тобто зведення датасету з великою кількістю ознак до даних, що мають т.зв. \" ефективну розмірність\").\n",
    "\n",
    "У разі методу головних компонент ми хочемо знайти напрями, вздовж яких максимальна дисперсія, з урахуванням описаних вище припущень структуру даних і компонент.\n",
    "\n",
    "Матеріал, описаний нижче у цій секції, не обов'язковий ознайомлення до виконання наступного завдання, т.к. потребує деяких знань статистики.\n",
    "\n",
    "Для тих, хто збирається його пропустити: наприкінці розділу ми отримаємо метрику якості, яка має визначати, наскільки дані добре описуються побудованою моделлю при заданій кількості компонентів. Відбір ознак при цьому зводиться до того, що ми вибираємо ту кількість компонент, при якому метрика (логарифм правдоподібності), що використовується, є максимальною.\n",
    "\n",
    "З урахуванням припущень завдання методу головних компонентів виглядає так:\n",
    "\n",
    "$$ x = Wy + \\mu + \\epsilon$$\n",
    "\n",
    "де:\n",
    "- $x$ -- дані, що спостерігаються\n",
    "- $W$ - матриця головних компонент (кожен стобець - одна компонента)\n",
    "- $y$ -- їх проекція на основні компоненти\n",
    "- $\\mu$ -- середнє спостережуваних даних\n",
    "- $\\epsilon \\sim \\mathcal{N}(0, \\sigma^2I)$ -- нормальний шум\n",
    "\n",
    "Виходячи з розподілу шуму, випишемо розподіл на $x$:\n",
    "\n",
    "$$p(x \\mid y) = \\mathcal{N}(Wx + \\mu, \\sigma^2I) $$\n",
    "\n",
    "Введемо апріорний розподіл на $y$:\n",
    "\n",
    "$$p(y) = \\mathcal{N}(0, 1)$$\n",
    "\n",
    "Виведемо з цього за допомогою формули Байєса маргінальний розподіл $p(x)$:\n",
    "\n",
    "$$p(x) = \\mathcal{N}(\\mu, \\sigma^2I + WW^T)$$\n",
    "\n",
    "Тоді правдоподібність набору даних за умови використовуваної моделі виглядає так:\n",
    "\n",
    "$$\\mathcal{L} = \\sum_{i=1}^N \\log p(x_i) = -N/2 \\Big( d\\log(2\\pi) + \\log |C| + \\text{tr }(C^{-1}S) \\Big)$$\n",
    "\n",
    "де:\n",
    "- $C = \\sigma^2I + WW^T$ - матриця коваріації в маргінальній моделі\n",
    "- $S = \\frac{1}{N} \\sum_{i=1}^N (x_i - \\mu)(x_i - \\mu)^T$ -- вибіркова коваріація\n",
    "\n",
    "Значення $\\mathcal{L}$ має сенс логарифму ймовірності отримання набору даних $X$ за умови, що він задовольняє припущенням моделі методу основних компонентів. Чим воно більше - тим краще модель описує дані, що спостерігаються."
   ]
  },
  {
   "cell_type": "markdown",
   "metadata": {},
   "source": [
    "## Завдання 1. Автоматичне зменшення розмірності даних за допомогою логарифму правдоподібності $\\mathcal{L}$\n",
    "\n",
    "\n",
    "<p id='part3'></p>\n",
    "\n",
    "Розглянемо набір даних розмірності $D$, чия реальна розмірність значно менше спостережуваної (назвемо $d$). Від вас вимагається:\n",
    "\n",
    "1. Для кожного значення $\\hat{d}$ в інтервалі [1,D] побудувати модель PCA з $\\hat{d}$ головними компонентами.\n",
    "2. Оцінити середній логарифм правдоподібності даних кожної моделі на генеральної сукупності, використовуючи метод крос-валідації з 3 фолдами (підсумкова оцінка значення логарифму правдоподібності усереднюється за всіма фолдам).\n",
    "3. Знайти модель, на яку він максимальний, і внести у файл відповіді число компонент у цій моделі, тобто. значення $\\hat{d}_{opt}$.\n",
    "\n",
    "Для оцінки логарифму правдоподібності моделі для заданого числа головних компонентів за допомогою методу крос-валідації використовуйте такі функції:\n",
    "\n",
    "    model = PCA(n_components=n)\n",
    "    scores = cv_score(model, data)\n",
    "        \n",
    "Зверніть увагу, що scores - це вектор, довжина якого дорівнює числу фолдів. Для отримання оцінки правдоподібності моделі його значення потрібно усереднити.\n",
    "\n",
    "Для візуалізації оцінок можна використовувати таку функцію:\n",
    "\n",
    "    plot_scores(d_scores)\n",
    "    \n",
    "котрої на вхід передається вектор отриманих оцінок логарифму правдоподібності даних для кожного $\\hat{d}$.\n",
    "\n",
    "Для тих, хто цікавиться: дані для завдань 1 і 2 були згенеровані відповідно до передбачуваної PCA моделлю. Тобто: дані $Y$ з ефективною розмірністю $d$, отримані з незалежних рівномірних розподілів, лінійно трансформовані випадковою матрицею $W$ у простір розмірністю $D$, після чого до всіх ознак був доданий незалежний нормальний шум з дисперсією $\\sigma$ ."
   ]
  },
  {
   "cell_type": "code",
   "execution_count": 27,
   "metadata": {
    "collapsed": true
   },
   "outputs": [
    {
     "data": {
      "text/html": [
       "<div>\n",
       "<style>\n",
       "    .dataframe thead tr:only-child th {\n",
       "        text-align: right;\n",
       "    }\n",
       "\n",
       "    .dataframe thead th {\n",
       "        text-align: left;\n",
       "    }\n",
       "\n",
       "    .dataframe tbody tr th {\n",
       "        vertical-align: top;\n",
       "    }\n",
       "</style>\n",
       "<table border=\"1\" class=\"dataframe\">\n",
       "  <thead>\n",
       "    <tr style=\"text-align: right;\">\n",
       "      <th></th>\n",
       "      <th>0</th>\n",
       "      <th>1</th>\n",
       "      <th>2</th>\n",
       "      <th>3</th>\n",
       "      <th>4</th>\n",
       "      <th>5</th>\n",
       "      <th>6</th>\n",
       "      <th>7</th>\n",
       "      <th>8</th>\n",
       "      <th>9</th>\n",
       "      <th>...</th>\n",
       "      <th>70</th>\n",
       "      <th>71</th>\n",
       "      <th>72</th>\n",
       "      <th>73</th>\n",
       "      <th>74</th>\n",
       "      <th>75</th>\n",
       "      <th>76</th>\n",
       "      <th>77</th>\n",
       "      <th>78</th>\n",
       "      <th>79</th>\n",
       "    </tr>\n",
       "  </thead>\n",
       "  <tbody>\n",
       "    <tr>\n",
       "      <th>0</th>\n",
       "      <td>-0.238399</td>\n",
       "      <td>-1.311330</td>\n",
       "      <td>-0.782298</td>\n",
       "      <td>-0.341821</td>\n",
       "      <td>0.469353</td>\n",
       "      <td>-0.431860</td>\n",
       "      <td>0.602948</td>\n",
       "      <td>1.220206</td>\n",
       "      <td>1.525103</td>\n",
       "      <td>-0.991354</td>\n",
       "      <td>...</td>\n",
       "      <td>-0.559927</td>\n",
       "      <td>-0.532534</td>\n",
       "      <td>-0.465923</td>\n",
       "      <td>0.874697</td>\n",
       "      <td>-0.108972</td>\n",
       "      <td>-0.080328</td>\n",
       "      <td>0.448971</td>\n",
       "      <td>2.080754</td>\n",
       "      <td>-1.535373</td>\n",
       "      <td>-0.460125</td>\n",
       "    </tr>\n",
       "    <tr>\n",
       "      <th>1</th>\n",
       "      <td>-0.223940</td>\n",
       "      <td>-1.277836</td>\n",
       "      <td>-0.202433</td>\n",
       "      <td>-0.317682</td>\n",
       "      <td>0.081900</td>\n",
       "      <td>-0.624267</td>\n",
       "      <td>-0.577119</td>\n",
       "      <td>-0.489564</td>\n",
       "      <td>0.704099</td>\n",
       "      <td>-0.511071</td>\n",
       "      <td>...</td>\n",
       "      <td>-0.055943</td>\n",
       "      <td>-2.208109</td>\n",
       "      <td>0.027813</td>\n",
       "      <td>-1.663044</td>\n",
       "      <td>0.018190</td>\n",
       "      <td>-0.432993</td>\n",
       "      <td>1.204321</td>\n",
       "      <td>0.705121</td>\n",
       "      <td>-1.106140</td>\n",
       "      <td>0.145533</td>\n",
       "    </tr>\n",
       "    <tr>\n",
       "      <th>2</th>\n",
       "      <td>-0.278740</td>\n",
       "      <td>1.342790</td>\n",
       "      <td>-0.734591</td>\n",
       "      <td>0.618881</td>\n",
       "      <td>1.365690</td>\n",
       "      <td>-1.397553</td>\n",
       "      <td>-1.446412</td>\n",
       "      <td>-0.844917</td>\n",
       "      <td>0.845916</td>\n",
       "      <td>-1.574979</td>\n",
       "      <td>...</td>\n",
       "      <td>-1.616313</td>\n",
       "      <td>2.144484</td>\n",
       "      <td>-1.110290</td>\n",
       "      <td>-0.524140</td>\n",
       "      <td>-2.176645</td>\n",
       "      <td>-1.903969</td>\n",
       "      <td>1.715735</td>\n",
       "      <td>0.054220</td>\n",
       "      <td>-1.125896</td>\n",
       "      <td>1.309994</td>\n",
       "    </tr>\n",
       "    <tr>\n",
       "      <th>3</th>\n",
       "      <td>0.585189</td>\n",
       "      <td>0.344587</td>\n",
       "      <td>1.512917</td>\n",
       "      <td>0.272105</td>\n",
       "      <td>0.480314</td>\n",
       "      <td>-0.688009</td>\n",
       "      <td>-1.473050</td>\n",
       "      <td>-0.732295</td>\n",
       "      <td>0.407361</td>\n",
       "      <td>0.900369</td>\n",
       "      <td>...</td>\n",
       "      <td>1.107443</td>\n",
       "      <td>-0.948995</td>\n",
       "      <td>0.555096</td>\n",
       "      <td>0.645465</td>\n",
       "      <td>1.291971</td>\n",
       "      <td>0.690657</td>\n",
       "      <td>-0.322088</td>\n",
       "      <td>0.341865</td>\n",
       "      <td>-1.436627</td>\n",
       "      <td>0.231027</td>\n",
       "    </tr>\n",
       "    <tr>\n",
       "      <th>4</th>\n",
       "      <td>0.992821</td>\n",
       "      <td>-0.654237</td>\n",
       "      <td>2.431634</td>\n",
       "      <td>-1.167275</td>\n",
       "      <td>0.347093</td>\n",
       "      <td>0.772373</td>\n",
       "      <td>0.766213</td>\n",
       "      <td>-0.441367</td>\n",
       "      <td>0.632604</td>\n",
       "      <td>1.543905</td>\n",
       "      <td>...</td>\n",
       "      <td>0.088682</td>\n",
       "      <td>1.357311</td>\n",
       "      <td>0.739249</td>\n",
       "      <td>-0.213874</td>\n",
       "      <td>0.521273</td>\n",
       "      <td>-0.885125</td>\n",
       "      <td>-1.262695</td>\n",
       "      <td>0.974920</td>\n",
       "      <td>1.139357</td>\n",
       "      <td>-0.104045</td>\n",
       "    </tr>\n",
       "  </tbody>\n",
       "</table>\n",
       "<p>5 rows × 80 columns</p>\n",
       "</div>"
      ],
      "text/plain": [
       "          0         1         2         3         4         5         6  \\\n",
       "0 -0.238399 -1.311330 -0.782298 -0.341821  0.469353 -0.431860  0.602948   \n",
       "1 -0.223940 -1.277836 -0.202433 -0.317682  0.081900 -0.624267 -0.577119   \n",
       "2 -0.278740  1.342790 -0.734591  0.618881  1.365690 -1.397553 -1.446412   \n",
       "3  0.585189  0.344587  1.512917  0.272105  0.480314 -0.688009 -1.473050   \n",
       "4  0.992821 -0.654237  2.431634 -1.167275  0.347093  0.772373  0.766213   \n",
       "\n",
       "          7         8         9    ...           70        71        72  \\\n",
       "0  1.220206  1.525103 -0.991354    ...    -0.559927 -0.532534 -0.465923   \n",
       "1 -0.489564  0.704099 -0.511071    ...    -0.055943 -2.208109  0.027813   \n",
       "2 -0.844917  0.845916 -1.574979    ...    -1.616313  2.144484 -1.110290   \n",
       "3 -0.732295  0.407361  0.900369    ...     1.107443 -0.948995  0.555096   \n",
       "4 -0.441367  0.632604  1.543905    ...     0.088682  1.357311  0.739249   \n",
       "\n",
       "         73        74        75        76        77        78        79  \n",
       "0  0.874697 -0.108972 -0.080328  0.448971  2.080754 -1.535373 -0.460125  \n",
       "1 -1.663044  0.018190 -0.432993  1.204321  0.705121 -1.106140  0.145533  \n",
       "2 -0.524140 -2.176645 -1.903969  1.715735  0.054220 -1.125896  1.309994  \n",
       "3  0.645465  1.291971  0.690657 -0.322088  0.341865 -1.436627  0.231027  \n",
       "4 -0.213874  0.521273 -0.885125 -1.262695  0.974920  1.139357 -0.104045  \n",
       "\n",
       "[5 rows x 80 columns]"
      ]
     },
     "execution_count": 27,
     "metadata": {},
     "output_type": "execute_result"
    }
   ],
   "source": [
    "data.head()"
   ]
  },
  {
   "cell_type": "code",
   "execution_count": 83,
   "metadata": {
    "collapsed": true
   },
   "outputs": [],
   "source": [
    "from sklearn.decomposition import PCA\n",
    "from sklearn.model_selection import cross_val_score as cv_score, KFold\n",
    "\n",
    "\n",
    "def plot_scores(d_scores):\n",
    "    n_components = np.arange(1, d_scores.size + 1)\n",
    "    plt.plot(n_components, d_scores, 'b', label='PCA scores')\n",
    "    plt.xlim(n_components[0], n_components[-1])\n",
    "    plt.xlabel('n components')\n",
    "    plt.ylabel('cv scores')\n",
    "    plt.legend(loc='lower right')\n",
    "    plt.show()\n",
    "\n",
    "\n",
    "def write_answer_1(optimal_d):\n",
    "    with open(\"pca_answer1.txt\", \"w\") as fout:\n",
    "        fout.write(str(optimal_d))\n",
    "\n",
    "\n",
    "data = pd.read_csv('data_task1.csv')\n",
    "\n",
    "arr_s = []\n",
    "for d in range(1,data.shape[1]+1):\n",
    "    model_1 = PCA(n_components=d)\n",
    "    model_1.fit(data)\n",
    "    res = cv_score(model_1, data, cv=3)\n",
    "    arr_s.append(res.mean())"
   ]
  },
  {
   "cell_type": "code",
   "execution_count": 91,
   "metadata": {},
   "outputs": [
    {
     "data": {
      "image/png": "[encoded data removed]",
      "text/plain": [
       "<matplotlib.figure.Figure at 0x7f83e707e748>"
      ]
     },
     "metadata": {},
     "output_type": "display_data"
    }
   ],
   "source": [
    "plot_scores(np.array(arr_s))"
   ]
  },
  {
   "cell_type": "code",
   "execution_count": 86,
   "metadata": {
    "collapsed": true
   },
   "outputs": [],
   "source": [
    "write_answer_1(arr_s.index(max(arr_s))+1)"
   ]
  },
  {
   "cell_type": "markdown",
   "metadata": {},
   "source": [
    "## Варіаційний погляд на модель\n",
    "\n",
    "<p id='part4'></p>\n",
    "\n",
    "Ми знаємо, що кожній **головній компоненті відповідає** описувана їй **дисперсія** даних (дисперсія даних при проекції цього компоненту). **Вона чисельно дорівнює значенню діагональних елементів матриці** $ Lambda $, **одержуваної з спектрального розкладання матриці коваріації даних** (див. теорію вище).\n",
    "\n",
    "Виходячи з цього, ми можемо відсортувати дисперсію даних вздовж цих компонентів за спаданням, і зменшити розмірність даних, відкинувши $q$ підсумкових основних компонентів, що мають найменшу дисперсію.\n",
    "\n",
    "Робити це можна двома різними способами. Наприклад, якщо ви далі навчаєте на даних із зменшеною розмірністю модель класифікації чи регресії, можна запустити ітераційний процес: видаляти компоненти з найменшою дисперсією по одній, поки якість підсумкової моделі стане значно гірше.\n",
    "\n",
    "Більш загальний спосіб відбору ознак полягає в тому, що ви можете подивитися на різниці в дисперсіях у відсортованому ряді $\\lambda_{(1)} > \\lambda_{(2)} > \\dots > \\lambda_{(D)}$: $ \\lambda_{(1)}-\\lambda_{(2)}, \\dots, \\lambda_{(D-1)} - \\lambda_{(D)}$, і видалити ті компоненти, на яких різниця буде найбільшою. Саме цим методом вам пропонується скористатися для тестового набору даних."
   ]
  },
  {
   "cell_type": "markdown",
   "metadata": {},
   "source": [
    "## Завдання 2. Ручне зменшення розмірності ознак за допомогою аналізу дисперсії даних уздовж основних компонентів\n",
    "\n",
    "<p id='part5'></p>\n",
    "\n",
    "Розглянемо ще один набір даних розмірності $ D $, чия реальна розмірність значно менше спостерігається (назвемо її також $ d $). Від вас вимагається:\n",
    "\n",
    "1. Побудувати модель PCA із $D$ головними компонентами за цими даними.\n",
    "2. Спроектувати дані на основні компоненти.\n",
    "3. Оцінити їх дисперсію вздовж основних компонент.\n",
    "4. Відсортувати дисперсії в порядку убування та отримати їх попарні різниці: $lambda_{(i-1)} - \\lambda_{(i)}$.\n",
    "5. Знайти різницю з найбільшим значенням і отримати оцінку на ефективну розмірність даних $\\hat{d}$ .\n",
    "6. Побудувати графік дисперсій і переконатися, що отримана оцінка $hat{d}_{opt}$ дійсно має сенс, після цього внести отримане значення $\\hat{d}_{opt}$ у файл відповіді.\n",
    "\n",
    "Для створення моделі PCA використовуйте функцію:\n",
    "\n",
    "    model.fit(data)\n",
    "    \n",
    "Для трансформації даних використовуйте метод:\n",
    "\n",
    "    model.transform(data)\n",
    "    \n",
    "Оцінку дисперсій на трансформованих даних вам потрібно буде реалізувати вручну. Для побудови графіків можна скористатися функцією\n",
    "\n",
    "    plot_variances(d_variances)\n",
    "    \n",
    "якої слід передати на вхід відсортований за зменшенням вектор дисперсій уздовж компонент."
   ]
  },
  {
   "cell_type": "markdown",
   "metadata": {},
   "source": [
    "Суть завдання полягає в тому, щоб дані розмірності D перетворити на дані меншої розмірності d, при цьому втративши мінімум інформації. Для чого пропонується проаналізувати дисперсії ознак по всіх компонентах після відображення даних у простір з певними властивостями (зазначені на початку зошита).\n",
    "\n",
    "Іншими словами, спочатку вам пропонується знайти вектори (D штук) за допомогою класу sklearn.decomposition.PCA, які стануть базисом нового простору. Для чого необхідно створити екземпляр даного класу з параметрами за замовчуванням та використовувати метод fit() з пропонованими даними як аргумент. Потім відобразити дані в новий простір такої ж розмірності (D) за допомогою методу transform() і знайти дисперсії проекцій запропонованих даних вектора базису даного простору. Власне проекції ви отримали, коли відобразили дані методом transform(). Ці проекції є координати об'єктів у новому просторі. Таким чином, залишилося просто порахувати їх, наприклад, скориставшись методом std (axis = 0). Після чого, слідуючи описаному в завданні алгоритму знайти d, тобто кількість компонентів, дисперсія вздовж яких значно вища, ніж уздовж інших (пік у різницях відповідає стрибку в ряді впорядкованих дисперсій). Це і буде шукана розмірність простору.\n",
    "\n",
    "Те, що повертає функція np.std() залежить від того, яке значення приймає параметр axis. Якщо None (за замовчуванням), то поверне число, що дорівнює дисперсії порахованої на всіх елементах масиву, якщо якесь ціле число, то дисперсії пораховані вздовж зазначеної осі (тобто вектор), якщо картеж, то дисперсії пораховані вздовж зазначених осей масиву (Тобто масив).\n",
    "\n",
    "Дисперсію треба вважати на трансформованих за допомогою методу transform() даних.\n",
    "\n",
    "А у формулі про яку ви говорите не просто вважається дисперсія, а відбувається відображення вихідних даних у новий простір та підрахунок дисперсії (Х – матриця об'єктів у вихідному просторі)."
   ]
  },
  {
   "cell_type": "code",
   "execution_count": 4,
   "metadata": {},
   "outputs": [
    {
     "ename": "FileNotFoundError",
     "evalue": "[Errno 2] No such file or directory: 'data_task2.csv'",
     "output_type": "error",
     "traceback": [
      "\u001b[1;31m---------------------------------------------------------------------------\u001b[0m",
      "\u001b[1;31mFileNotFoundError\u001b[0m                         Traceback (most recent call last)",
      "Input \u001b[1;32mIn [4]\u001b[0m, in \u001b[0;36m<cell line: 17>\u001b[1;34m()\u001b[0m\n\u001b[0;32m     14\u001b[0m     \u001b[38;5;28;01mwith\u001b[39;00m \u001b[38;5;28mopen\u001b[39m(\u001b[38;5;124m\"\u001b[39m\u001b[38;5;124mpca_answer2.txt\u001b[39m\u001b[38;5;124m\"\u001b[39m, \u001b[38;5;124m\"\u001b[39m\u001b[38;5;124mw\u001b[39m\u001b[38;5;124m\"\u001b[39m) \u001b[38;5;28;01mas\u001b[39;00m fout:\n\u001b[0;32m     15\u001b[0m         fout\u001b[38;5;241m.\u001b[39mwrite(\u001b[38;5;28mstr\u001b[39m(optimal_d))\n\u001b[1;32m---> 17\u001b[0m data \u001b[38;5;241m=\u001b[39m \u001b[43mpd\u001b[49m\u001b[38;5;241;43m.\u001b[39;49m\u001b[43mread_csv\u001b[49m\u001b[43m(\u001b[49m\u001b[38;5;124;43m'\u001b[39;49m\u001b[38;5;124;43mdata_task2.csv\u001b[39;49m\u001b[38;5;124;43m'\u001b[39;49m\u001b[43m)\u001b[49m\n\u001b[0;32m     19\u001b[0m d\u001b[38;5;241m=\u001b[39mdata\u001b[38;5;241m.\u001b[39mshape[\u001b[38;5;241m1\u001b[39m]\n\u001b[0;32m     20\u001b[0m model_2 \u001b[38;5;241m=\u001b[39m PCA(n_components\u001b[38;5;241m=\u001b[39md)\n",
      "File \u001b[1;32m~\\Desktop\\jupyter\\lib\\site-packages\\pandas\\util\\_decorators.py:311\u001b[0m, in \u001b[0;36mdeprecate_nonkeyword_arguments.<locals>.decorate.<locals>.wrapper\u001b[1;34m(*args, **kwargs)\u001b[0m\n\u001b[0;32m    305\u001b[0m \u001b[38;5;28;01mif\u001b[39;00m \u001b[38;5;28mlen\u001b[39m(args) \u001b[38;5;241m>\u001b[39m num_allow_args:\n\u001b[0;32m    306\u001b[0m     warnings\u001b[38;5;241m.\u001b[39mwarn(\n\u001b[0;32m    307\u001b[0m         msg\u001b[38;5;241m.\u001b[39mformat(arguments\u001b[38;5;241m=\u001b[39marguments),\n\u001b[0;32m    308\u001b[0m         \u001b[38;5;167;01mFutureWarning\u001b[39;00m,\n\u001b[0;32m    309\u001b[0m         stacklevel\u001b[38;5;241m=\u001b[39mstacklevel,\n\u001b[0;32m    310\u001b[0m     )\n\u001b[1;32m--> 311\u001b[0m \u001b[38;5;28;01mreturn\u001b[39;00m func(\u001b[38;5;241m*\u001b[39margs, \u001b[38;5;241m*\u001b[39m\u001b[38;5;241m*\u001b[39mkwargs)\n",
      "File \u001b[1;32m~\\Desktop\\jupyter\\lib\\site-packages\\pandas\\io\\parsers\\readers.py:680\u001b[0m, in \u001b[0;36mread_csv\u001b[1;34m(filepath_or_buffer, sep, delimiter, header, names, index_col, usecols, squeeze, prefix, mangle_dupe_cols, dtype, engine, converters, true_values, false_values, skipinitialspace, skiprows, skipfooter, nrows, na_values, keep_default_na, na_filter, verbose, skip_blank_lines, parse_dates, infer_datetime_format, keep_date_col, date_parser, dayfirst, cache_dates, iterator, chunksize, compression, thousands, decimal, lineterminator, quotechar, quoting, doublequote, escapechar, comment, encoding, encoding_errors, dialect, error_bad_lines, warn_bad_lines, on_bad_lines, delim_whitespace, low_memory, memory_map, float_precision, storage_options)\u001b[0m\n\u001b[0;32m    665\u001b[0m kwds_defaults \u001b[38;5;241m=\u001b[39m _refine_defaults_read(\n\u001b[0;32m    666\u001b[0m     dialect,\n\u001b[0;32m    667\u001b[0m     delimiter,\n\u001b[1;32m   (...)\u001b[0m\n\u001b[0;32m    676\u001b[0m     defaults\u001b[38;5;241m=\u001b[39m{\u001b[38;5;124m\"\u001b[39m\u001b[38;5;124mdelimiter\u001b[39m\u001b[38;5;124m\"\u001b[39m: \u001b[38;5;124m\"\u001b[39m\u001b[38;5;124m,\u001b[39m\u001b[38;5;124m\"\u001b[39m},\n\u001b[0;32m    677\u001b[0m )\n\u001b[0;32m    678\u001b[0m kwds\u001b[38;5;241m.\u001b[39mupdate(kwds_defaults)\n\u001b[1;32m--> 680\u001b[0m \u001b[38;5;28;01mreturn\u001b[39;00m \u001b[43m_read\u001b[49m\u001b[43m(\u001b[49m\u001b[43mfilepath_or_buffer\u001b[49m\u001b[43m,\u001b[49m\u001b[43m \u001b[49m\u001b[43mkwds\u001b[49m\u001b[43m)\u001b[49m\n",
      "File \u001b[1;32m~\\Desktop\\jupyter\\lib\\site-packages\\pandas\\io\\parsers\\readers.py:575\u001b[0m, in \u001b[0;36m_read\u001b[1;34m(filepath_or_buffer, kwds)\u001b[0m\n\u001b[0;32m    572\u001b[0m _validate_names(kwds\u001b[38;5;241m.\u001b[39mget(\u001b[38;5;124m\"\u001b[39m\u001b[38;5;124mnames\u001b[39m\u001b[38;5;124m\"\u001b[39m, \u001b[38;5;28;01mNone\u001b[39;00m))\n\u001b[0;32m    574\u001b[0m \u001b[38;5;66;03m# Create the parser.\u001b[39;00m\n\u001b[1;32m--> 575\u001b[0m parser \u001b[38;5;241m=\u001b[39m TextFileReader(filepath_or_buffer, \u001b[38;5;241m*\u001b[39m\u001b[38;5;241m*\u001b[39mkwds)\n\u001b[0;32m    577\u001b[0m \u001b[38;5;28;01mif\u001b[39;00m chunksize \u001b[38;5;129;01mor\u001b[39;00m iterator:\n\u001b[0;32m    578\u001b[0m     \u001b[38;5;28;01mreturn\u001b[39;00m parser\n",
      "File \u001b[1;32m~\\Desktop\\jupyter\\lib\\site-packages\\pandas\\io\\parsers\\readers.py:934\u001b[0m, in \u001b[0;36mTextFileReader.__init__\u001b[1;34m(self, f, engine, **kwds)\u001b[0m\n\u001b[0;32m    931\u001b[0m     \u001b[38;5;28mself\u001b[39m\u001b[38;5;241m.\u001b[39moptions[\u001b[38;5;124m\"\u001b[39m\u001b[38;5;124mhas_index_names\u001b[39m\u001b[38;5;124m\"\u001b[39m] \u001b[38;5;241m=\u001b[39m kwds[\u001b[38;5;124m\"\u001b[39m\u001b[38;5;124mhas_index_names\u001b[39m\u001b[38;5;124m\"\u001b[39m]\n\u001b[0;32m    933\u001b[0m \u001b[38;5;28mself\u001b[39m\u001b[38;5;241m.\u001b[39mhandles: IOHandles \u001b[38;5;241m|\u001b[39m \u001b[38;5;28;01mNone\u001b[39;00m \u001b[38;5;241m=\u001b[39m \u001b[38;5;28;01mNone\u001b[39;00m\n\u001b[1;32m--> 934\u001b[0m \u001b[38;5;28mself\u001b[39m\u001b[38;5;241m.\u001b[39m_engine \u001b[38;5;241m=\u001b[39m \u001b[38;5;28;43mself\u001b[39;49m\u001b[38;5;241;43m.\u001b[39;49m\u001b[43m_make_engine\u001b[49m\u001b[43m(\u001b[49m\u001b[43mf\u001b[49m\u001b[43m,\u001b[49m\u001b[43m \u001b[49m\u001b[38;5;28;43mself\u001b[39;49m\u001b[38;5;241;43m.\u001b[39;49m\u001b[43mengine\u001b[49m\u001b[43m)\u001b[49m\n",
      "File \u001b[1;32m~\\Desktop\\jupyter\\lib\\site-packages\\pandas\\io\\parsers\\readers.py:1218\u001b[0m, in \u001b[0;36mTextFileReader._make_engine\u001b[1;34m(self, f, engine)\u001b[0m\n\u001b[0;32m   1214\u001b[0m     mode \u001b[38;5;241m=\u001b[39m \u001b[38;5;124m\"\u001b[39m\u001b[38;5;124mrb\u001b[39m\u001b[38;5;124m\"\u001b[39m\n\u001b[0;32m   1215\u001b[0m \u001b[38;5;66;03m# error: No overload variant of \"get_handle\" matches argument types\u001b[39;00m\n\u001b[0;32m   1216\u001b[0m \u001b[38;5;66;03m# \"Union[str, PathLike[str], ReadCsvBuffer[bytes], ReadCsvBuffer[str]]\"\u001b[39;00m\n\u001b[0;32m   1217\u001b[0m \u001b[38;5;66;03m# , \"str\", \"bool\", \"Any\", \"Any\", \"Any\", \"Any\", \"Any\"\u001b[39;00m\n\u001b[1;32m-> 1218\u001b[0m \u001b[38;5;28mself\u001b[39m\u001b[38;5;241m.\u001b[39mhandles \u001b[38;5;241m=\u001b[39m \u001b[43mget_handle\u001b[49m\u001b[43m(\u001b[49m\u001b[43m  \u001b[49m\u001b[38;5;66;43;03m# type: ignore[call-overload]\u001b[39;49;00m\n\u001b[0;32m   1219\u001b[0m \u001b[43m    \u001b[49m\u001b[43mf\u001b[49m\u001b[43m,\u001b[49m\n\u001b[0;32m   1220\u001b[0m \u001b[43m    \u001b[49m\u001b[43mmode\u001b[49m\u001b[43m,\u001b[49m\n\u001b[0;32m   1221\u001b[0m \u001b[43m    \u001b[49m\u001b[43mencoding\u001b[49m\u001b[38;5;241;43m=\u001b[39;49m\u001b[38;5;28;43mself\u001b[39;49m\u001b[38;5;241;43m.\u001b[39;49m\u001b[43moptions\u001b[49m\u001b[38;5;241;43m.\u001b[39;49m\u001b[43mget\u001b[49m\u001b[43m(\u001b[49m\u001b[38;5;124;43m\"\u001b[39;49m\u001b[38;5;124;43mencoding\u001b[39;49m\u001b[38;5;124;43m\"\u001b[39;49m\u001b[43m,\u001b[49m\u001b[43m \u001b[49m\u001b[38;5;28;43;01mNone\u001b[39;49;00m\u001b[43m)\u001b[49m\u001b[43m,\u001b[49m\n\u001b[0;32m   1222\u001b[0m \u001b[43m    \u001b[49m\u001b[43mcompression\u001b[49m\u001b[38;5;241;43m=\u001b[39;49m\u001b[38;5;28;43mself\u001b[39;49m\u001b[38;5;241;43m.\u001b[39;49m\u001b[43moptions\u001b[49m\u001b[38;5;241;43m.\u001b[39;49m\u001b[43mget\u001b[49m\u001b[43m(\u001b[49m\u001b[38;5;124;43m\"\u001b[39;49m\u001b[38;5;124;43mcompression\u001b[39;49m\u001b[38;5;124;43m\"\u001b[39;49m\u001b[43m,\u001b[49m\u001b[43m \u001b[49m\u001b[38;5;28;43;01mNone\u001b[39;49;00m\u001b[43m)\u001b[49m\u001b[43m,\u001b[49m\n\u001b[0;32m   1223\u001b[0m \u001b[43m    \u001b[49m\u001b[43mmemory_map\u001b[49m\u001b[38;5;241;43m=\u001b[39;49m\u001b[38;5;28;43mself\u001b[39;49m\u001b[38;5;241;43m.\u001b[39;49m\u001b[43moptions\u001b[49m\u001b[38;5;241;43m.\u001b[39;49m\u001b[43mget\u001b[49m\u001b[43m(\u001b[49m\u001b[38;5;124;43m\"\u001b[39;49m\u001b[38;5;124;43mmemory_map\u001b[39;49m\u001b[38;5;124;43m\"\u001b[39;49m\u001b[43m,\u001b[49m\u001b[43m \u001b[49m\u001b[38;5;28;43;01mFalse\u001b[39;49;00m\u001b[43m)\u001b[49m\u001b[43m,\u001b[49m\n\u001b[0;32m   1224\u001b[0m \u001b[43m    \u001b[49m\u001b[43mis_text\u001b[49m\u001b[38;5;241;43m=\u001b[39;49m\u001b[43mis_text\u001b[49m\u001b[43m,\u001b[49m\n\u001b[0;32m   1225\u001b[0m \u001b[43m    \u001b[49m\u001b[43merrors\u001b[49m\u001b[38;5;241;43m=\u001b[39;49m\u001b[38;5;28;43mself\u001b[39;49m\u001b[38;5;241;43m.\u001b[39;49m\u001b[43moptions\u001b[49m\u001b[38;5;241;43m.\u001b[39;49m\u001b[43mget\u001b[49m\u001b[43m(\u001b[49m\u001b[38;5;124;43m\"\u001b[39;49m\u001b[38;5;124;43mencoding_errors\u001b[39;49m\u001b[38;5;124;43m\"\u001b[39;49m\u001b[43m,\u001b[49m\u001b[43m \u001b[49m\u001b[38;5;124;43m\"\u001b[39;49m\u001b[38;5;124;43mstrict\u001b[39;49m\u001b[38;5;124;43m\"\u001b[39;49m\u001b[43m)\u001b[49m\u001b[43m,\u001b[49m\n\u001b[0;32m   1226\u001b[0m \u001b[43m    \u001b[49m\u001b[43mstorage_options\u001b[49m\u001b[38;5;241;43m=\u001b[39;49m\u001b[38;5;28;43mself\u001b[39;49m\u001b[38;5;241;43m.\u001b[39;49m\u001b[43moptions\u001b[49m\u001b[38;5;241;43m.\u001b[39;49m\u001b[43mget\u001b[49m\u001b[43m(\u001b[49m\u001b[38;5;124;43m\"\u001b[39;49m\u001b[38;5;124;43mstorage_options\u001b[39;49m\u001b[38;5;124;43m\"\u001b[39;49m\u001b[43m,\u001b[49m\u001b[43m \u001b[49m\u001b[38;5;28;43;01mNone\u001b[39;49;00m\u001b[43m)\u001b[49m\u001b[43m,\u001b[49m\n\u001b[0;32m   1227\u001b[0m \u001b[43m\u001b[49m\u001b[43m)\u001b[49m\n\u001b[0;32m   1228\u001b[0m \u001b[38;5;28;01massert\u001b[39;00m \u001b[38;5;28mself\u001b[39m\u001b[38;5;241m.\u001b[39mhandles \u001b[38;5;129;01mis\u001b[39;00m \u001b[38;5;129;01mnot\u001b[39;00m \u001b[38;5;28;01mNone\u001b[39;00m\n\u001b[0;32m   1229\u001b[0m f \u001b[38;5;241m=\u001b[39m \u001b[38;5;28mself\u001b[39m\u001b[38;5;241m.\u001b[39mhandles\u001b[38;5;241m.\u001b[39mhandle\n",
      "File \u001b[1;32m~\\Desktop\\jupyter\\lib\\site-packages\\pandas\\io\\common.py:786\u001b[0m, in \u001b[0;36mget_handle\u001b[1;34m(path_or_buf, mode, encoding, compression, memory_map, is_text, errors, storage_options)\u001b[0m\n\u001b[0;32m    781\u001b[0m \u001b[38;5;28;01melif\u001b[39;00m \u001b[38;5;28misinstance\u001b[39m(handle, \u001b[38;5;28mstr\u001b[39m):\n\u001b[0;32m    782\u001b[0m     \u001b[38;5;66;03m# Check whether the filename is to be opened in binary mode.\u001b[39;00m\n\u001b[0;32m    783\u001b[0m     \u001b[38;5;66;03m# Binary mode does not support 'encoding' and 'newline'.\u001b[39;00m\n\u001b[0;32m    784\u001b[0m     \u001b[38;5;28;01mif\u001b[39;00m ioargs\u001b[38;5;241m.\u001b[39mencoding \u001b[38;5;129;01mand\u001b[39;00m \u001b[38;5;124m\"\u001b[39m\u001b[38;5;124mb\u001b[39m\u001b[38;5;124m\"\u001b[39m \u001b[38;5;129;01mnot\u001b[39;00m \u001b[38;5;129;01min\u001b[39;00m ioargs\u001b[38;5;241m.\u001b[39mmode:\n\u001b[0;32m    785\u001b[0m         \u001b[38;5;66;03m# Encoding\u001b[39;00m\n\u001b[1;32m--> 786\u001b[0m         handle \u001b[38;5;241m=\u001b[39m \u001b[38;5;28;43mopen\u001b[39;49m\u001b[43m(\u001b[49m\n\u001b[0;32m    787\u001b[0m \u001b[43m            \u001b[49m\u001b[43mhandle\u001b[49m\u001b[43m,\u001b[49m\n\u001b[0;32m    788\u001b[0m \u001b[43m            \u001b[49m\u001b[43mioargs\u001b[49m\u001b[38;5;241;43m.\u001b[39;49m\u001b[43mmode\u001b[49m\u001b[43m,\u001b[49m\n\u001b[0;32m    789\u001b[0m \u001b[43m            \u001b[49m\u001b[43mencoding\u001b[49m\u001b[38;5;241;43m=\u001b[39;49m\u001b[43mioargs\u001b[49m\u001b[38;5;241;43m.\u001b[39;49m\u001b[43mencoding\u001b[49m\u001b[43m,\u001b[49m\n\u001b[0;32m    790\u001b[0m \u001b[43m            \u001b[49m\u001b[43merrors\u001b[49m\u001b[38;5;241;43m=\u001b[39;49m\u001b[43merrors\u001b[49m\u001b[43m,\u001b[49m\n\u001b[0;32m    791\u001b[0m \u001b[43m            \u001b[49m\u001b[43mnewline\u001b[49m\u001b[38;5;241;43m=\u001b[39;49m\u001b[38;5;124;43m\"\u001b[39;49m\u001b[38;5;124;43m\"\u001b[39;49m\u001b[43m,\u001b[49m\n\u001b[0;32m    792\u001b[0m \u001b[43m        \u001b[49m\u001b[43m)\u001b[49m\n\u001b[0;32m    793\u001b[0m     \u001b[38;5;28;01melse\u001b[39;00m:\n\u001b[0;32m    794\u001b[0m         \u001b[38;5;66;03m# Binary mode\u001b[39;00m\n\u001b[0;32m    795\u001b[0m         handle \u001b[38;5;241m=\u001b[39m \u001b[38;5;28mopen\u001b[39m(handle, ioargs\u001b[38;5;241m.\u001b[39mmode)\n",
      "\u001b[1;31mFileNotFoundError\u001b[0m: [Errno 2] No such file or directory: 'data_task2.csv'"
     ]
    }
   ],
   "source": [
    "from sklearn.decomposition import PCA\n",
    "from sklearn.model_selection import cross_val_score as cv_score\n",
    "\n",
    "def plot_variances(d_variances):\n",
    "    n_components = np.arange(1,d_variances.size+1)\n",
    "    plt.plot(n_components, d_variances, 'b', label='Component variances')\n",
    "    plt.xlim(n_components[0], n_components[-1])\n",
    "    plt.xlabel('n components')\n",
    "    plt.ylabel('variance')\n",
    "    plt.legend(loc='upper right')\n",
    "    plt.show()\n",
    "    \n",
    "def write_answer_2(optimal_d):\n",
    "    with open(\"pca_answer2.txt\", \"w\") as fout:\n",
    "        fout.write(str(optimal_d))\n",
    "        \n",
    "data = pd.read_csv('data_task2.csv')\n",
    "\n",
    "d=data.shape[1]\n",
    "model_2 = PCA(n_components=d)\n",
    "model_2.fit(data)\n",
    "data_2a = model_2.transform(data)\n",
    "std_value = np.std(data_2a, axis=0)\n",
    "print(std_value.shape)\n",
    "razn = (0,0)\n",
    "for x in range(1, std_value.shape[0]):\n",
    "    razn = (abs(std_value[x] - std_value[x-1]), x) if abs(std_value[x] - std_value[x-1])>razn[0] else razn\n",
    "\n",
    "plot_variances(std_value)\n",
    "write_answer_2(razn[1])"
   ]
  },
  {
   "cell_type": "markdown",
   "metadata": {},
   "source": [
    "## Інтерпретація основних компонентів\n",
    "\n",
    "<p id='part6'></p>\n",
    "Як головні компоненти ми отримуємо лінійні комбінації вихідних призанків, тому резонно виникає питання їх інтерпретації.\n",
    "\n",
    "Для цього є кілька підходів, ми розглянемо два:\n",
    "- розрахувати взаємозв'язки основних компонентів з вихідними ознаками\n",
    "- розрахувати вклади кожного конкретного спостереження до основних компонентів\n",
    "\n",
    "Перший спосіб підходить у тому випадку, коли всі об'єкти з набору даних не несуть нам жодної семантичної інформації, яка вже не відображена в наборі ознак.\n",
    "\n",
    "Другий спосіб підходить для випадку, коли дані мають складнішу структуру. Наприклад, особи для людини мають більший семантичний зміст, ніж вектор значень пікселів, які аналізує PCA.\n",
    "\n",
    "Розглянемо докладніше спосіб 1: він полягає у підрахунку коефіцієнтів кореляцій між вихідними ознаками та набором основних компонентів.\n",
    "\n",
    "Оскільки метод основних компонентів є лінійним, то пропонується для аналізу використовувати кореляцію Пірсона, вибірковий аналог якої має таку формулу:\n",
    "\n",
    "$$r_{jk} = \\frac{\\sum_{i=1}^N (x_{ij} - \\bar{x}_j) (y_{ik} - \\bar{y}_k)}{\\sqrt{ \\sum_{i=1}^N (x_{ij} - \\bar{x}_j)^2 \\sum_{i=1}^N (y_{ik} - \\bar{y}_k)^2}} $$\n",
    "\n",
    "де:\n",
    "- $\\bar{x}_j$ -- середнє значення j-ї ознаки,\n",
    "- $\\bar{y}_k$ - середнє значення проекції на k-ю головну компоненту.\n",
    "\n",
    "Кореляція Пірсона є мірою лінійної залежності. Вона дорівнює 0 у разі, коли величини незалежні, і $ pm 1 $, якщо вони лінійно залежні. З ступеня кореляції нової компоненти з вихідними ознаками, можна будувати її семантичну інтерпретацію, т.к. сенс вихідних ознак ми знаємо."
   ]
  },
  {
   "cell_type": "markdown",
   "metadata": {},
   "source": [
    "## Завдання 3. Аналіз основних компонентів з допомогою кореляцій з вихідними ознаками.\n",
    "\n",
    "<p id='part7'></p>\n",
    "1. Навчіть метод основних компонентів на датасеті iris, отримайте перетворені дані.\n",
    "2. Порахуйте кореляції вихідних ознак зі своїми проекціями перші дві основні компоненти.\n",
    "3. Для кожної ознаки знайдіть компонент (з двох побудованих), з яким він корелює найбільше.\n",
    "4. На підставі п.3 згрупуйте ознаки компонентів. Складіть два списки: список номерів ознак, які сильніше корелюють із першою компонентою, і такий самий список для другої. Нумерацію розпочинати з одиниці. Передайте обидва списки write_answer_3.\n",
    "\n",
    "Набір даних складається із 4 ознак, порахованих для 150 ірисів. Кожен із них належить одному з трьох видів. Візуалізацію проекції датасета на два компоненти, які описують найбільшу дисперсію даних, можна отримати за допомогою функції\n",
    "\n",
    "    plot_iris(transformed_data, target, target_names)\n",
    "    \n",
    "на вхід якої потрібно передати дані, перетворені за допомогою PCA, а також інформацію про класи. Колір крапок відповідає одному з трьох видів ірису.\n",
    "\n",
    "Щоб отримати імена вихідних ознак, використовуйте наступний список:\n",
    "\n",
    "    iris.feature_names\n",
    "    \n",
    "При підрахунку кореляцій не забудьте центрувати ознаки та проекції на головні компоненти (віднімати їх середнє)."
   ]
  },
  {
   "cell_type": "code",
   "execution_count": 144,
   "metadata": {
    "collapsed": true
   },
   "outputs": [],
   "source": [
    "import itertools"
   ]
  },
  {
   "cell_type": "code",
   "execution_count": 5,
   "metadata": {},
   "outputs": [],
   "source": [
    "from sklearn import datasets\n",
    "\n",
    "def plot_iris(transformed_data, target, target_names):\n",
    "    plt.figure()\n",
    "    for c, i, target_name in zip(\"rgb\", [0, 1, 2], target_names):\n",
    "        plt.scatter(transformed_data[target == i, 0],\n",
    "                    transformed_data[target == i, 1], c=c, label=target_name)\n",
    "    plt.legend()\n",
    "    plt.show()\n",
    "    \n",
    "def write_answer_3(list_pc1, list_pc2):\n",
    "    with open(\"pca_answer3.txt\", \"w\") as fout:\n",
    "        fout.write(\" \".join([str(num) for num in list_pc1]))\n",
    "        fout.write(\" \")\n",
    "        fout.write(\" \".join([str(num) for num in list_pc2]))\n",
    "\n",
    "# завантажимо датасет iris\n",
    "iris = datasets.load_iris()\n",
    "data = iris.data\n",
    "target = iris.target\n",
    "target_names = iris.target_names\n",
    "\n",
    "# Навчимо модель, перетворимо дані\n",
    "model_3 = PCA()\n",
    "model_3.fit(data)\n",
    "data_3a = model_3.transform(data)"
   ]
  },
  {
   "cell_type": "code",
   "execution_count": 416,
   "metadata": {},
   "outputs": [
    {
     "data": {
      "image/png": "[encoded data removed]",
      "text/plain": [
       "<matplotlib.figure.Figure at 0x7f0c7bf44470>"
      ]
     },
     "metadata": {},
     "output_type": "display_data"
    }
   ],
   "source": [
    "# Графік проекцій на компоненти\n",
    "plot_iris(data_3a, target, target_names)"
   ]
  },
  {
   "cell_type": "code",
   "execution_count": 423,
   "metadata": {
    "collapsed": true
   },
   "outputs": [],
   "source": [
    "scaler_1 = StandardScaler()\n",
    "data_scaled = scaler_1.fit_transform(data)"
   ]
  },
  {
   "cell_type": "code",
   "execution_count": 424,
   "metadata": {
    "collapsed": true
   },
   "outputs": [],
   "source": [
    "scaler_2 = StandardScaler()\n",
    "data3a_scaled = scaler_2.fit_transform(data_3a)"
   ]
  },
  {
   "cell_type": "code",
   "execution_count": 446,
   "metadata": {},
   "outputs": [
    {
     "data": {
      "text/html": [
       "<div>\n",
       "<style>\n",
       "    .dataframe thead tr:only-child th {\n",
       "        text-align: right;\n",
       "    }\n",
       "\n",
       "    .dataframe thead th {\n",
       "        text-align: left;\n",
       "    }\n",
       "\n",
       "    .dataframe tbody tr th {\n",
       "        vertical-align: top;\n",
       "    }\n",
       "</style>\n",
       "<table border=\"1\" class=\"dataframe\">\n",
       "  <thead>\n",
       "    <tr style=\"text-align: right;\">\n",
       "      <th></th>\n",
       "      <th>0</th>\n",
       "      <th>1</th>\n",
       "    </tr>\n",
       "  </thead>\n",
       "  <tbody>\n",
       "    <tr>\n",
       "      <th>0</th>\n",
       "      <td>0.897545</td>\n",
       "      <td>0.390231</td>\n",
       "    </tr>\n",
       "    <tr>\n",
       "      <th>1</th>\n",
       "      <td>-0.389993</td>\n",
       "      <td>0.828313</td>\n",
       "    </tr>\n",
       "    <tr>\n",
       "      <th>2</th>\n",
       "      <td>0.997854</td>\n",
       "      <td>-0.049030</td>\n",
       "    </tr>\n",
       "    <tr>\n",
       "      <th>3</th>\n",
       "      <td>0.966484</td>\n",
       "      <td>-0.048180</td>\n",
       "    </tr>\n",
       "  </tbody>\n",
       "</table>\n",
       "</div>"
      ],
      "text/plain": [
       "          0         1\n",
       "0  0.897545  0.390231\n",
       "1 -0.389993  0.828313\n",
       "2  0.997854 -0.049030\n",
       "3  0.966484 -0.048180"
      ]
     },
     "execution_count": 446,
     "metadata": {},
     "output_type": "execute_result"
    }
   ],
   "source": [
    "# кореляції вихідних ознак зі своїми проекціями перші дві основні компоненти.\n",
    "\n",
    "xj_ave, yk_ave = data.mean(0), data_3a.mean(0)\n",
    "cor_m = [[sum(data_scaled[:,j]*data3a_scaled[:,k])/(sum(data_scaled[:,j]**2)*sum((data3a_scaled[:,k])**2))**0.5 for k in range(2)] for j in range(data.shape[1])]     \n",
    "df = pd.DataFrame(cor_m)\n",
    "df"
   ]
  },
  {
   "cell_type": "code",
   "execution_count": 453,
   "metadata": {},
   "outputs": [
    {
     "name": "stdout",
     "output_type": "stream",
     "text": [
      "[1, 3, 4] [2]\n"
     ]
    }
   ],
   "source": [
    "# 3. Для кожної ознаки знайдіть компонент (з двох побудованих), з яким він корелює найбільше.\n",
    "# 4. З п.3 згрупуйте ознаки по компонентам. Складіть два списки: список номерів ознак, які сильніше \n",
    "#корелюють із першою компонентою, і такий самий список для другої. Нумерацію розпочинати з одиниці. \n",
    "#Передайте обидва списки write_answer_3.\n",
    "\n",
    "arr1,arr2 = [],[]\n",
    "for index, x in enumerate(cor_m):\n",
    "    arr1.append(index+1) if (x[0]>x[1]) else arr2.append(index+1)\n",
    "print(arr1, arr2)\n",
    "write_answer_3(arr1, arr2)"
   ]
  },
  {
   "cell_type": "markdown",
   "metadata": {},
   "source": [
    "### info\n",
    "- aMasked = np.ma.array(a, mask = (a < -9998), copy=True)\n",
    "\n",
    "- np.info(np.true_divide)\n",
    "\n",
    "- itertools.chain()\n",
    "\n",
    "- itertools.product(*iterables, repeat=1) - аналог вкладених циклів"
   ]
  },
  {
   "cell_type": "markdown",
   "metadata": {},
   "source": [
    "## Інтерпретація головних компонентів з використанням даних\n",
    "<p id='part8'></p>\n",
    "Розглянемо тепер величину, яку можна проінтерпретувати, як квадрат косинуса кута між об'єктом вибірки та головною компонентою:\n",
    "\n",
    "$$cos^2_{ik} = \\frac{f_{ik}^2}{\\sum_{\\ell=1}^d f_{i\\ell}^2} $$\n",
    "\n",
    "де\n",
    "- i - номер об'єкта\n",
    "- k - номер головного компонента\n",
    "- $f_{ik}$ -- модуль центрованої проекції об'єкта на компоненту\n",
    "\n",
    "Очевидно, що\n",
    "\n",
    "$$ \\sum_{k=1}^d cos^2_{ik} = 1 $$\n",
    "\n",
    "Це означає, що кожного об'єкта ми у вигляді даної величини отримали ваги, пропорційні вкладу, яку вносить даний об'єкт у дисперсію кожної компоненти. Чим більший внесок, тим більше значимий об'єкт для опису конкретної головної компоненти."
   ]
  },
  {
   "cell_type": "markdown",
   "metadata": {},
   "source": [
    "## Завдання 4. Аналіз головних компонент за допомогою вкладів у їх дисперсію окремих об'єктів\n",
    "<p id='part9'></p>\n",
    "1. Завантажте датасет осіб Olivetti Faces та навчіть на ньому модель RandomizedPCA (використовується при великій кількості ознак і працює швидше, ніж звичайний PCA). Отримайте проекції ознак на 10 перших основних компонентів.\n",
    "2. Порахуйте для кожного об'єкта його відносний внесок у дисперсію кожної з 10 компонентів, використовуючи формулу з попереднього розділу (d = 10).\n",
    "3. Для кожної компоненти знайдіть і візуалізуйте особу, яка робить найбільший відносний внесок у неї. Для візуалізації використовуйте функцію\n",
    "\n",
    "        plt.imshow(image.reshape(image_shape))\n",
    "        \n",
    "4. Передайте у функцію write_answer_4 список номерів осіб з найбільшим відносним вкладом у дисперсію кожної з компонентів, список починається з 0."
   ]
  },
  {
   "cell_type": "code",
   "execution_count": 13,
   "metadata": {
    "collapsed": true
   },
   "outputs": [],
   "source": [
    "from sklearn.datasets import fetch_olivetti_faces\n",
    "from sklearn.decomposition import RandomizedPCA\n",
    "\n",
    "def write_answer_4(list_pc):\n",
    "    with open(\"pca_answer4.txt\", \"w\") as fout:\n",
    "        fout.write(\" \".join([str(num) for num in list_pc]))\n",
    "\n",
    "data = fetch_olivetti_faces(shuffle=True, random_state=0).data\n",
    "image_shape = (64, 64)"
   ]
  },
  {
   "cell_type": "code",
   "execution_count": 3,
   "metadata": {},
   "outputs": [
    {
     "data": {
      "text/html": [
       "<div>\n",
       "<style>\n",
       "    .dataframe thead tr:only-child th {\n",
       "        text-align: right;\n",
       "    }\n",
       "\n",
       "    .dataframe thead th {\n",
       "        text-align: left;\n",
       "    }\n",
       "\n",
       "    .dataframe tbody tr th {\n",
       "        vertical-align: top;\n",
       "    }\n",
       "</style>\n",
       "<table border=\"1\" class=\"dataframe\">\n",
       "  <thead>\n",
       "    <tr style=\"text-align: right;\">\n",
       "      <th></th>\n",
       "      <th>0</th>\n",
       "      <th>1</th>\n",
       "      <th>2</th>\n",
       "      <th>3</th>\n",
       "      <th>4</th>\n",
       "      <th>5</th>\n",
       "      <th>6</th>\n",
       "      <th>7</th>\n",
       "      <th>8</th>\n",
       "      <th>9</th>\n",
       "      <th>...</th>\n",
       "      <th>4086</th>\n",
       "      <th>4087</th>\n",
       "      <th>4088</th>\n",
       "      <th>4089</th>\n",
       "      <th>4090</th>\n",
       "      <th>4091</th>\n",
       "      <th>4092</th>\n",
       "      <th>4093</th>\n",
       "      <th>4094</th>\n",
       "      <th>4095</th>\n",
       "    </tr>\n",
       "  </thead>\n",
       "  <tbody>\n",
       "    <tr>\n",
       "      <th>0</th>\n",
       "      <td>0.669421</td>\n",
       "      <td>0.636364</td>\n",
       "      <td>0.648760</td>\n",
       "      <td>0.685950</td>\n",
       "      <td>0.710744</td>\n",
       "      <td>0.760331</td>\n",
       "      <td>0.768595</td>\n",
       "      <td>0.805785</td>\n",
       "      <td>0.793388</td>\n",
       "      <td>0.809917</td>\n",
       "      <td>...</td>\n",
       "      <td>0.227273</td>\n",
       "      <td>0.223140</td>\n",
       "      <td>0.219008</td>\n",
       "      <td>0.115702</td>\n",
       "      <td>0.090909</td>\n",
       "      <td>0.090909</td>\n",
       "      <td>0.095041</td>\n",
       "      <td>0.086777</td>\n",
       "      <td>0.082645</td>\n",
       "      <td>0.074380</td>\n",
       "    </tr>\n",
       "    <tr>\n",
       "      <th>1</th>\n",
       "      <td>0.768595</td>\n",
       "      <td>0.756198</td>\n",
       "      <td>0.743802</td>\n",
       "      <td>0.743802</td>\n",
       "      <td>0.752066</td>\n",
       "      <td>0.747934</td>\n",
       "      <td>0.735537</td>\n",
       "      <td>0.702479</td>\n",
       "      <td>0.714876</td>\n",
       "      <td>0.747934</td>\n",
       "      <td>...</td>\n",
       "      <td>0.157025</td>\n",
       "      <td>0.061983</td>\n",
       "      <td>0.152893</td>\n",
       "      <td>0.247934</td>\n",
       "      <td>0.417355</td>\n",
       "      <td>0.533058</td>\n",
       "      <td>0.504132</td>\n",
       "      <td>0.483471</td>\n",
       "      <td>0.628099</td>\n",
       "      <td>0.652893</td>\n",
       "    </tr>\n",
       "    <tr>\n",
       "      <th>2</th>\n",
       "      <td>0.371901</td>\n",
       "      <td>0.347107</td>\n",
       "      <td>0.367769</td>\n",
       "      <td>0.380165</td>\n",
       "      <td>0.417355</td>\n",
       "      <td>0.438017</td>\n",
       "      <td>0.462810</td>\n",
       "      <td>0.553719</td>\n",
       "      <td>0.636364</td>\n",
       "      <td>0.685950</td>\n",
       "      <td>...</td>\n",
       "      <td>0.590909</td>\n",
       "      <td>0.640496</td>\n",
       "      <td>0.669421</td>\n",
       "      <td>0.652893</td>\n",
       "      <td>0.685950</td>\n",
       "      <td>0.714876</td>\n",
       "      <td>0.723140</td>\n",
       "      <td>0.706612</td>\n",
       "      <td>0.681818</td>\n",
       "      <td>0.549587</td>\n",
       "    </tr>\n",
       "    <tr>\n",
       "      <th>3</th>\n",
       "      <td>0.280992</td>\n",
       "      <td>0.359504</td>\n",
       "      <td>0.404959</td>\n",
       "      <td>0.446281</td>\n",
       "      <td>0.549587</td>\n",
       "      <td>0.578512</td>\n",
       "      <td>0.607438</td>\n",
       "      <td>0.652893</td>\n",
       "      <td>0.665289</td>\n",
       "      <td>0.719008</td>\n",
       "      <td>...</td>\n",
       "      <td>0.500000</td>\n",
       "      <td>0.847107</td>\n",
       "      <td>0.888430</td>\n",
       "      <td>0.607438</td>\n",
       "      <td>0.438017</td>\n",
       "      <td>0.690083</td>\n",
       "      <td>0.611570</td>\n",
       "      <td>0.537190</td>\n",
       "      <td>0.260331</td>\n",
       "      <td>0.144628</td>\n",
       "    </tr>\n",
       "    <tr>\n",
       "      <th>4</th>\n",
       "      <td>0.376033</td>\n",
       "      <td>0.475207</td>\n",
       "      <td>0.574380</td>\n",
       "      <td>0.640496</td>\n",
       "      <td>0.661157</td>\n",
       "      <td>0.698347</td>\n",
       "      <td>0.723140</td>\n",
       "      <td>0.747934</td>\n",
       "      <td>0.772727</td>\n",
       "      <td>0.780992</td>\n",
       "      <td>...</td>\n",
       "      <td>0.326446</td>\n",
       "      <td>0.347107</td>\n",
       "      <td>0.355372</td>\n",
       "      <td>0.355372</td>\n",
       "      <td>0.293388</td>\n",
       "      <td>0.185950</td>\n",
       "      <td>0.305785</td>\n",
       "      <td>0.380165</td>\n",
       "      <td>0.363636</td>\n",
       "      <td>0.417355</td>\n",
       "    </tr>\n",
       "  </tbody>\n",
       "</table>\n",
       "<p>5 rows × 4096 columns</p>\n",
       "</div>"
      ],
      "text/plain": [
       "       0         1         2         3         4         5         6     \\\n",
       "0  0.669421  0.636364  0.648760  0.685950  0.710744  0.760331  0.768595   \n",
       "1  0.768595  0.756198  0.743802  0.743802  0.752066  0.747934  0.735537   \n",
       "2  0.371901  0.347107  0.367769  0.380165  0.417355  0.438017  0.462810   \n",
       "3  0.280992  0.359504  0.404959  0.446281  0.549587  0.578512  0.607438   \n",
       "4  0.376033  0.475207  0.574380  0.640496  0.661157  0.698347  0.723140   \n",
       "\n",
       "       7         8         9       ...         4086      4087      4088  \\\n",
       "0  0.805785  0.793388  0.809917    ...     0.227273  0.223140  0.219008   \n",
       "1  0.702479  0.714876  0.747934    ...     0.157025  0.061983  0.152893   \n",
       "2  0.553719  0.636364  0.685950    ...     0.590909  0.640496  0.669421   \n",
       "3  0.652893  0.665289  0.719008    ...     0.500000  0.847107  0.888430   \n",
       "4  0.747934  0.772727  0.780992    ...     0.326446  0.347107  0.355372   \n",
       "\n",
       "       4089      4090      4091      4092      4093      4094      4095  \n",
       "0  0.115702  0.090909  0.090909  0.095041  0.086777  0.082645  0.074380  \n",
       "1  0.247934  0.417355  0.533058  0.504132  0.483471  0.628099  0.652893  \n",
       "2  0.652893  0.685950  0.714876  0.723140  0.706612  0.681818  0.549587  \n",
       "3  0.607438  0.438017  0.690083  0.611570  0.537190  0.260331  0.144628  \n",
       "4  0.355372  0.293388  0.185950  0.305785  0.380165  0.363636  0.417355  \n",
       "\n",
       "[5 rows x 4096 columns]"
      ]
     },
     "execution_count": 3,
     "metadata": {},
     "output_type": "execute_result"
    }
   ],
   "source": [
    "(pd.DataFrame(data)).head()"
   ]
  },
  {
   "cell_type": "markdown",
   "metadata": {},
   "source": [
    "f¯k - середня проекція об'єктів вибірки на k-у компоненту.\n",
    "\n",
    "f¯k=∑li=1xikl ,\n",
    "\n",
    "де xik – проекція i-ого об'єкта на k-у компоненту.\n",
    "\n",
    "Можливо, автори вважали це очевидним чи забули написати."
   ]
  },
  {
   "cell_type": "code",
   "execution_count": 18,
   "metadata": {},
   "outputs": [
    {
     "data": {
      "text/plain": [
       "array([[  8.15799952e-01,   4.14403677e+00,   2.48326373e+00, ...,\n",
       "          7.35507580e-03,   8.77822097e-03,   1.87801561e-08],\n",
       "       [  3.86336565e+00,   1.33456612e+00,   5.42396498e+00, ...,\n",
       "          6.49461348e-04,   6.52124267e-03,   2.74586455e-07],\n",
       "       [  4.86993599e+00,   5.58655977e-01,   8.84198487e-01, ...,\n",
       "          5.98023273e-03,   1.35436216e-02,   3.72375325e-07],\n",
       "       ..., \n",
       "       [  2.00346923e+00,   1.84495437e+00,   5.75458956e+00, ...,\n",
       "          7.61447661e-03,   3.66862048e-03,   1.75242349e-07],\n",
       "       [  1.97052526e+00,   3.37870979e+00,   2.06998301e+00, ...,\n",
       "          1.53094176e-02,   1.57024097e-02,   2.86693648e-07],\n",
       "       [  4.10523558e+00,   1.99171817e+00,   5.97197674e-02, ...,\n",
       "          3.57078179e-03,   3.71854454e-02,   1.15563125e-07]], dtype=float32)"
      ]
     },
     "execution_count": 18,
     "metadata": {},
     "output_type": "execute_result"
    }
   ],
   "source": [
    "data_4a"
   ]
  },
  {
   "cell_type": "code",
   "execution_count": 17,
   "metadata": {},
   "outputs": [
    {
     "data": {
      "text/plain": [
       "array([[ 0.81579995,  4.14403677,  2.48326373, ...,  2.16425037,\n",
       "         0.25087184,  0.60279912],\n",
       "       [ 3.86336565,  1.33456612,  5.42396498, ...,  0.40704846,\n",
       "         1.07055593,  0.48819274],\n",
       "       [ 4.86993599,  0.55865598,  0.88419849, ...,  1.26946938,\n",
       "         2.12874317,  1.61979187],\n",
       "       ..., \n",
       "       [ 2.00346923,  1.84495437,  5.75458956, ...,  0.65327519,\n",
       "         1.54342091,  1.48301995],\n",
       "       [ 1.97052526,  3.37870979,  2.06998301, ...,  0.71892405,\n",
       "         0.81432712,  1.00475895],\n",
       "       [ 4.10523558,  1.99171817,  0.05971977, ...,  0.93031937,\n",
       "         0.6827603 ,  1.26282108]], dtype=float32)"
      ]
     },
     "execution_count": 17,
     "metadata": {},
     "output_type": "execute_result"
    }
   ],
   "source": [
    "np.array([[x[k] for k in range(10)] for x in data_4a])"
   ]
  },
  {
   "cell_type": "code",
   "execution_count": 1,
   "metadata": {
    "collapsed": true
   },
   "outputs": [],
   "source": [
    "import pdb"
   ]
  },
  {
   "cell_type": "code",
   "execution_count": null,
   "metadata": {},
   "outputs": [
    {
     "name": "stdout",
     "output_type": "stream",
     "text": [
      "--Return--\n",
      "> <ipython-input-2-224e4c56e002>(1)<module>()->None\n",
      "-> pdb.set_trace()\n",
      "(Pdb) args\n",
      "(Pdb) next\n",
      "> /home/utk/.local/lib/python3.5/site-packages/IPython/core/interactiveshell.py(2865)run_code()\n",
      "-> sys.excepthook = old_excepthook\n",
      "(Pdb) next\n",
      "> /home/utk/.local/lib/python3.5/site-packages/IPython/core/interactiveshell.py(2881)run_code()\n",
      "-> outflag = False\n",
      "(Pdb) b 9\n",
      "*** Blank or comment\n",
      "(Pdb) b 10\n",
      "*** Blank or comment\n"
     ]
    }
   ],
   "source": [
    "pdb.set_trace()\n",
    "model_4 = RandomizedPCA()\n",
    "model_4.fit(data)\n",
    "data_4a = model_4.transform(data)\n",
    "\n",
    "#2. Порахуйте для кожного об'єкта його відносний внесок у дисперсію кожної з 10 компонентів,\n",
    "# Використовуючи формулу з попереднього розділу (d = 10).\n",
    "\n",
    "means = data_4a.sum(axis=0)/data_4a.shape[0] # ср-ие значения столбцов\n",
    "data_4a = np.abs(data_4a - means)\n",
    "\n",
    "res = np.array([[x[k]**2/sum(x**2) for k in range(10)] for x in data_4a])\n",
    "        \n",
    "#3.Для кожної компоненти знайдіть та візуалізуйте особу, яка вносить найбільший\n",
    "#відносний внесок у неї. Для візуалізації використовуйте функцію plt.imshow(..)\n",
    "\n",
    "most_important_faces = res.argmax(0)\n",
    "most_important_faces.sort()\n",
    "# Drawing subplots\n",
    "fig = plt.figure(figsize=(25, 19))\n",
    "for ix, f in enumerate(most_important_faces):\n",
    "    plt.subplot(3, 4, ix+1)\n",
    "    plt.imshow(data[f].reshape(image_shape)) #, cmap=cm.gray)\n",
    "write_answer_4(most_important_faces)"
   ]
  },
  {
   "cell_type": "markdown",
   "metadata": {},
   "source": [
    "## Аналіз основних недоліків методу основних компонентів\n",
    "<p id='part10'></p>\n",
    "Розглянуті вище завдання, безумовно, є модельними, тому що дані для них були згенеровані відповідно до припущень методу головних компонент. Насправді ці припущення, природно, виконуються які завжди. Розглянемо типові помилки PCA, які слід пам'ятати перед тим, як його застосовувати."
   ]
  },
  {
   "cell_type": "markdown",
   "metadata": {},
   "source": [
    "### Напрямки з максимальною дисперсією в даних неортогональні\n",
    "\n",
    "Розглянемо випадок вибірки, яка згенерована із двох витягнутих нормальних розподілів:"
   ]
  },
  {
   "cell_type": "code",
   "execution_count": 556,
   "metadata": {},
   "outputs": [
    {
     "name": "stderr",
     "output_type": "stream",
     "text": [
      "/home/utk/.local/lib/python3.5/site-packages/ipykernel_launcher.py:7: RuntimeWarning: covariance is not positive-semidefinite.\n",
      "  import sys\n"
     ]
    },
    {
     "data": {
      "image/png": "[encoded data removed]",
      "text/plain": [
       "<matplotlib.figure.Figure at 0x7f0c78cc90f0>"
      ]
     },
     "metadata": {},
     "output_type": "display_data"
    }
   ],
   "source": [
    "C1 = np.array([[10,0],[0,0.5]])\n",
    "phi = np.pi/3\n",
    "C2 = np.dot(C1, np.array([[np.cos(phi), np.sin(phi)],\n",
    "                          [-np.sin(phi),np.cos(phi)]]))\n",
    "\n",
    "data = np.vstack([np.random.multivariate_normal(mu, C1, size=50),\n",
    "                  np.random.multivariate_normal(mu, C2, size=50)])\n",
    "plt.scatter(data[:,0], data[:,1])\n",
    "# построим истинные интересующие нас компоненты\n",
    "plt.plot(data[:,0], np.zeros(data[:,0].size), color=\"g\")\n",
    "plt.plot(data[:,0], 3**0.5*data[:,0], color=\"g\")\n",
    "# обучим модель pca и построим главные компоненты\n",
    "model = PCA(n_components=2)\n",
    "model.fit(data)\n",
    "plot_principal_components(data, model, scatter=False, legend=False)\n",
    "c_patch = mpatches.Patch(color='c', label='Principal components')\n",
    "plt.legend(handles=[g_patch, c_patch])\n",
    "plt.draw()"
   ]
  },
  {
   "cell_type": "markdown",
   "metadata": {},
   "source": [
    "У чому проблема, чому PC тут працює погано? Відповідь проста: цікаві для нас компоненти в даних кореловані між собою (або неортогональні, залежно від того, якою термінологією користуватися). Для пошуку подібних перетворень потрібні складніші методи, які вже виходять за рамки методу основних компонентів.\n",
    "\n",
    "Для тих, хто цікавиться: те, що можна застосувати безпосередньо до виходу методу головних компонентів, для отримання подібних неортогональних перетворень, називається методами ротації. Почитати про них можна у зв'язку з іншим методом зменшення розмірності, який називається Factor Analysis (FA), але нічого не заважає застосовувати і до головних компонентів."
   ]
  },
  {
   "cell_type": "markdown",
   "metadata": {},
   "source": [
    "### Цікавий напрямок даних не збігається з напрямком максимальної дисперсії\n",
    "\n",
    "Розглянемо приклад, коли дисперсії не відображають цікавих для нас напрямків у даних:"
   ]
  },
  {
   "cell_type": "code",
   "execution_count": 557,
   "metadata": {},
   "outputs": [
    {
     "data": {
      "image/png": "[encoded data removed]",
      "text/plain": [
       "<matplotlib.figure.Figure at 0x7f0c78cc96a0>"
      ]
     },
     "metadata": {},
     "output_type": "display_data"
    }
   ],
   "source": [
    "C = np.array([[0.5,0],[0,10]])\n",
    "mu1 = np.array([-2,0])\n",
    "mu2 = np.array([2,0])\n",
    "\n",
    "data = np.vstack([np.random.multivariate_normal(mu1, C, size=50),\n",
    "                  np.random.multivariate_normal(mu2, C, size=50)])\n",
    "plt.scatter(data[:,0], data[:,1])\n",
    "# навчимо модель pca та побудуємо головні компоненти\n",
    "model = PCA(n_components=2)\n",
    "model.fit(data)\n",
    "plot_principal_components(data, model)\n",
    "plt.draw()"
   ]
  },
  {
   "cell_type": "markdown",
   "metadata": {},
   "source": [
    "Вочевидь, що у разі метод основних компонент вважатиме вертикальну компоненту значимішою для опису набору даних, ніж горизонтальну.\n",
    "\n",
    "Але, наприклад, у випадку, коли дані з лівого та правого кластера відносяться до різних класів, для їхньої лінійної роздільності вертикальна компонента є шумовою. Незважаючи на це, її метод головних компонентів ніколи шумової не визнає, і є ймовірність, що відбір ознак з його допомогою викине з ваших даних значущі для задачі, що вирішується, компоненти просто тому, що вздовж них значення мають низьку дисперсію.\n",
    "\n",
    "Справлятися з такими ситуаціями можуть деякі інші методи зменшення розмірності даних, наприклад метод незалежних компонент (ICA)."
   ]
  },
  {
   "cell_type": "code",
   "execution_count": null,
   "metadata": {},
   "outputs": [],
   "source": []
  }
 ],
 "metadata": {
  "celltoolbar": "Raw Cell Format",
  "kernelspec": {
   "display_name": "Python 3 (ipykernel)",
   "language": "python",
   "name": "python3"
  },
  "language_info": {
   "codemirror_mode": {
    "name": "ipython",
    "version": 3
   },
   "file_extension": ".py",
   "mimetype": "text/x-python",
   "name": "python",
   "nbconvert_exporter": "python",
   "pygments_lexer": "ipython3",
   "version": "3.10.5"
  },
  "toc": {
   "nav_menu": {},
   "number_sections": true,
   "sideBar": true,
   "skip_h1_title": false,
   "toc_cell": false,
   "toc_position": {
    "height": "653px",
    "left": "0px",
    "right": "878.92px",
    "top": "131px",
    "width": "212px"
   },
   "toc_section_display": "block",
   "toc_window_display": true
  },
  "varInspector": {
   "cols": {
    "lenName": 16,
    "lenType": 16,
    "lenVar": 40
   },
   "kernels_config": {
    "python": {
     "delete_cmd_postfix": "",
     "delete_cmd_prefix": "del ",
     "library": "var_list.py",
     "varRefreshCmd": "print(var_dic_list())"
    },
    "r": {
     "delete_cmd_postfix": ") ",
     "delete_cmd_prefix": "rm(",
     "library": "var_list.r",
     "varRefreshCmd": "cat(var_dic_list()) "
    }
   },
   "oldHeight": 158,
   "position": {
    "height": "40px",
    "left": "860.672px",
    "right": "20px",
    "top": "77.9531px",
    "width": "350px"
   },
   "types_to_exclude": [
    "module",
    "function",
    "builtin_function_or_method",
    "instance",
    "_Feature"
   ],
   "varInspector_section_display": "none",
   "window_display": true
  }
 },
 "nbformat": 4,
 "nbformat_minor": 2
}
