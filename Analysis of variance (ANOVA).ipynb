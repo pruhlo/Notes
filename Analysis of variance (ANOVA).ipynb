{
 "cells": [
  {
   "cell_type": "markdown",
   "id": "8115e48c",
   "metadata": {},
   "source": [
    "<p id=\"part0\"></p>\n",
    "\n",
    "<p style=\"font-family: Arials; line-height: 2; font-size: 24px; font-weight: bold; letter-spacing: 2px; text-align: center; color: #FF8C00;\"> <a href=\"#part0\" style=\"color:#FF8C00; text-decoration:none;\">TABLE OF CONTENT</a></p>\n",
    "\n",
    "\n",
    "<p style=\"font-family: Arials; font-size: 16px; font-style: normal; font-weight: bold; letter-spacing: 2px; color: #0099FF; line-height:1.3\"><a href=\"#part1\" style=\"color:#808080; text-decoration:none;\">Importing libraries</a></p>\n",
    "\n",
    "<p style=\"font-family: Arials; font-size: 16px; font-style: normal; font-weight: bold; letter-spacing: 2px; color: #808080; line-height:1.3\"><a href=\"#part2\" style=\"color:#808080; text-decoration:none;\">Однофакторний дисперсійний аналіз (ONE-WAY ANOVA)</a></p>\n",
    "\n",
    "<p style=\"font-family: Arials; font-size: 16px; font-style: normal; font-weight: bold; letter-spacing: 2px; color: #808080; line-height:1.3\"><a href=\"#part3\" style=\"color:#808080; text-decoration:none;\">Багатофакторний ANOVA</a></p>\n"
   ]
  },
  {
   "cell_type": "markdown",
   "id": "62c1a78e",
   "metadata": {},
   "source": [
    "<p id=\"part1\"></p>\n",
    "<p style=\"font-family: Arials; font-size: 16px; font-style: normal; font-weight: normal; letter-spacing: 3px; color: #FF8C00; line-height:1.0\">Importing libraries</p>\n",
    "\n",
    "<p style=\"text-align: right;\"><a href=\"#part0\" style=\"color:#FF8C00; text-decoration:none;\">зміст</a></p>"
   ]
  },
  {
   "cell_type": "code",
   "execution_count": 153,
   "id": "d10912ce",
   "metadata": {},
   "outputs": [],
   "source": [
    "import pandas as pd\n",
    "import numpy as np\n",
    "from scipy import stats\n",
    "import statsmodels.api as sm\n",
    "from statsmodels.formula.api import ols\n",
    "from statsmodels.stats.multicomp import (pairwise_tukeyhsd, MultiComparison)\n",
    "import matplotlib.pyplot as plt"
   ]
  },
  {
   "cell_type": "markdown",
   "id": "d42a4c10",
   "metadata": {},
   "source": [
    "<p id=\"part2\"></p>\n",
    "<p style=\"font-family: Arials; font-size: 16px; font-style: normal; font-weight: normal; letter-spacing: 3px; color: #FF8C00; line-height:1.0\">Однофакторний дисперсійний аналіз (ONE-WAY ANALYSIS OF VARIANCE)</p>\n",
    "\n",
    "<p style=\"text-align: right;\"><a href=\"#part0\" style=\"color:#FF8C00; text-decoration:none;\">зміст</a></p>"
   ]
  },
  {
   "cell_type": "markdown",
   "id": "53add93f",
   "metadata": {},
   "source": [
    "Дуже часто в експериментах та дослідженнях виникає необхідність порівняти кілька груп між собою. У такому разі ми можемо застосовувати однофакторний дисперсійний аналіз. Та змінна, яка розділятиме наших випробуваних чи спостереження на групи (номінативна змінна з кількома градаціями) називається **незалежною змінною**. А та кількісна змінна, за рівнем вираженості якої ми порівнюємо групи, називається **залежна змінна**.\n",
    "\n",
    "> Відобразимо незалежну та залежну перемінні у функції\n",
    "це *залежність* змінної $у$ від перемінної $х$, якщо кожному значенню $X$ відповідає єдине значення $у$.\n",
    "\n",
    "$x$: - **незалежна** змінна чи аргумент -  **номінативна** змінна з кількома градаціями\n",
    "\n",
    "$y$ - **залежна** змінна чи значення функції  - це та **кількісна** змінна, за рівнем вираженості якої ми порівнюємо групи\n",
    "\n",
    "\n",
    "\n",
    ">Приклад 1. Ми маємо 3 типи лікування, ми хочемо зрозуміти, чи є між ними різниця. Тут незалежна змінна – тип лікування (тип1, тип2, тип3). Залежна змінна - певна величина, у кожного випробуваного, яка покаже вам наскільки успішно було лікування (тривалість симптомів, середня температура протягом тижня після лікування, рівень речовини в крові і т.д.)\n",
    "\n",
    ">Приклад 2. Хочемо з'ясувати, як різні добрива впливають на зростання помідорів, знову ж таки у нас є 3 добрива. Незалежна змінна – добрива. Залежна змінна – вага отриманих томатів (або висота рослини через Х днів).\n",
    "\n",
    ">Загалом ми дивимося як щось НЕЗАЛЕЖНЕ, впливає на щось інше, тому щось інше (на яке ми впливаємо) називають ЗАЛЕЖНОЮ змінною. Показник, що цікавить нас, залежить від чогось, ми намагаємося з'ясувати природу цієї залежності."
   ]
  },
  {
   "cell_type": "code",
   "execution_count": 78,
   "id": "39a1eb33",
   "metadata": {},
   "outputs": [],
   "source": [
    "data = pd.DataFrame({\n",
    "           'a': [3, 1, 2],\n",
    "           'b': [5, 3, 4],\n",
    "           'c': [7, 6, 5]\n",
    "          })"
   ]
  },
  {
   "cell_type": "markdown",
   "id": "8d40f235",
   "metadata": {},
   "source": [
    "$$ data = \\begin{bmatrix}3 & 5 & 7 \\\\1 & 3 & 6 \\\\2 & 4 & 5 \\end{bmatrix}$$\n",
    "<br>\n",
    "$$ grand\\_mean = \\frac{3+ 1+ 2+ 5+ 3+ 4+ 7+ 6+ 5}{9}=\\frac{36}{9}=4$$\n",
    "<br>\n",
    "$$ grand\\_mean = \\frac{3+ 1+ 2+ 5+ 3+ 4+ 7+ 6+ 5}{9}=\\frac{sum(data.T.values.flatten())}{data.size}=4$$\n",
    "$$ grand\\_mean = data.values.flatten().mean()$$\n",
    "#### total sum of squares (SST)\n",
    "$$ SST = {(3-4)^2+ (1-4)^2+ (2-4)^2+ (5-4)^2+ (3-4)^2+ (4-4)^2+ (7-4)^2+ (6-4)^2+ (5-4)^2} = 30 $$\n",
    "<br>\n",
    "$$ SS_{total} = \\sum_{j=1}^{p}{\\sum_{i=1}^{n_j}{(x_{ij} - \\bar{x})^2}} = SS_{between} + SS_{within} $$\n",
    "#### SS(Between) is the sum of squares between the group means\n",
    "#### SS(Between) — сума квадратів між середніми значеннями групи\n",
    "$$ SS_{between} = \\sum_{j=1}^{p}{n_j{(\\bar{x}_j - \\bar{x})^2}} $$\n",
    "#### Сума внутрішніх квадратів, SSW\n",
    "$$ SS_{within} = \\sum_{j=1}^{p}{\\sum_{i=1}^{n_j}{(x_{ij} - \\bar{x}_j)^2}} $$\n",
    "\n",
    "<br>\n",
    "$$ SSW = (3-2)^2+(1-2)^2+(2-2)^2 + (5-4)^2+(3-4)^2+(4-4)^2 + (7-6)^2+(6-6)^2+(5-6)^2 = 6$$\n",
    "<br>\n",
    "$$ SSB = 3(2-4)^2 +  3(4-4)^2 + 3(6-4)^2 = 24$$\n",
    "$$ SST = SSW + SSB = 6 + 24 = 30 $$\n",
    "$$ SSB > SSW => Відмінності\\ присутні $$\n",
    "<br>\n",
    "$$ Кількість\\ ступенів\\ свободи\\ (degrees\\ of\\ freedom) $$\n",
    "Якщо всього зібрано n точок даних, то є всього n−1 ступенів свободи (SST) <br>\n",
    "dfSST = 9 - 1 = 8<br>\n",
    "Якщо порівнюються m груп, то існує m-1 ступінь свободи, пов'язана з фактором, що цікавить. (SSB)<br>\n",
    "dfSSB = 3 - 1 = 2<br>\n",
    "Якщо всього зібрано n точок даних і порівнюються m груп, то є n-m ступенів свободи помилки. (SSW)<br>\n",
    "dfSSW = 9 - 3 = 6<br>\n",
    "<br>\n",
    "$$F = \\frac{\\frac{SSB}{dfSSB}}{\\frac{SSW}{dfSSW}} = \\frac{\\frac{24}{2}}{\\frac{6}{6}} = 12$$"
   ]
  },
  {
   "cell_type": "code",
   "execution_count": 3,
   "id": "203c7735",
   "metadata": {},
   "outputs": [
    {
     "data": {
      "text/plain": [
       "(24.0, 0.008049893100837719)"
      ]
     },
     "execution_count": 3,
     "metadata": {},
     "output_type": "execute_result"
    }
   ],
   "source": [
    "def one_way_anova(DataFrame):\n",
    "    grand_mean = DataFrame.values.flatten().mean()\n",
    "    SSB = sum(DataFrame[group].size * (group_mean - grand_mean)**2  for group, group_mean in DataFrame.mean().items())\n",
    "    SSW = sum(sum((x - group_mean)**2 for x in DataFrame[group]) for group, group_mean in DataFrame.mean().items())\n",
    "    groups = DataFrame.shape[1]\n",
    "    dfSSB = groups - 1\n",
    "    dfSSW = DataFrame.size - groups\n",
    "    mSSB = SSB/dfSSB\n",
    "    mSSW = SSW/dfSSW\n",
    "    F = mSSB/mSSW\n",
    "    p = stats.f.sf(F, dfSSB, dfSSW)\n",
    "    return F, p\n",
    "\n",
    "one_way_anova(data[['a','c']])"
   ]
  },
  {
   "cell_type": "code",
   "execution_count": 4,
   "id": "95798781",
   "metadata": {},
   "outputs": [
    {
     "name": "stdout",
     "output_type": "stream",
     "text": [
      "24.0 0.008049893100837719\n"
     ]
    }
   ],
   "source": [
    "fvalue, pvalue = stats.f_oneway(*[data[i] for i in data[['a','c']]])\n",
    "print(fvalue, pvalue)"
   ]
  },
  {
   "cell_type": "markdown",
   "id": "dff224e8",
   "metadata": {},
   "source": [
    "### Завдання\n",
    "##### Перевірити чи є відмінності терапії A, B, C, D за допомогою дисперсійного аналізу\n",
    "Генотерапія дозволяє коригувати роботу дефективного гена, відповідального за розвиток захворювання. В експерименті порівнювалася ефективність чотирьох різних типів терапії. Результати дослідження представлені у [таблиці](https://stepik.org/media/attachments/lesson/8083/genetherapy.csv)"
   ]
  },
  {
   "cell_type": "code",
   "execution_count": 11,
   "id": "8590beee",
   "metadata": {},
   "outputs": [],
   "source": [
    "URL = 'https://stepik.org/media/attachments/lesson/8083/genetherapy.csv'\n",
    "genetherapy = pd.read_csv(URL)\n",
    "lm = ols('expr ~ Therapy', data=genetherapy).fit()\n",
    "table = sm.stats.anova_lm(lm)"
   ]
  },
  {
   "cell_type": "code",
   "execution_count": 12,
   "id": "5c143ef9",
   "metadata": {},
   "outputs": [
    {
     "data": {
      "text/html": [
       "<div>\n",
       "<style scoped>\n",
       "    .dataframe tbody tr th:only-of-type {\n",
       "        vertical-align: middle;\n",
       "    }\n",
       "\n",
       "    .dataframe tbody tr th {\n",
       "        vertical-align: top;\n",
       "    }\n",
       "\n",
       "    .dataframe thead th {\n",
       "        text-align: right;\n",
       "    }\n",
       "</style>\n",
       "<table border=\"1\" class=\"dataframe\">\n",
       "  <thead>\n",
       "    <tr style=\"text-align: right;\">\n",
       "      <th></th>\n",
       "      <th>df</th>\n",
       "      <th>sum_sq</th>\n",
       "      <th>mean_sq</th>\n",
       "      <th>F</th>\n",
       "      <th>PR(&gt;F)</th>\n",
       "    </tr>\n",
       "  </thead>\n",
       "  <tbody>\n",
       "    <tr>\n",
       "      <th>Therapy</th>\n",
       "      <td>3.0</td>\n",
       "      <td>560.716667</td>\n",
       "      <td>186.905556</td>\n",
       "      <td>8.037302</td>\n",
       "      <td>0.000152</td>\n",
       "    </tr>\n",
       "    <tr>\n",
       "      <th>Residual</th>\n",
       "      <td>56.0</td>\n",
       "      <td>1302.266667</td>\n",
       "      <td>23.254762</td>\n",
       "      <td>NaN</td>\n",
       "      <td>NaN</td>\n",
       "    </tr>\n",
       "  </tbody>\n",
       "</table>\n",
       "</div>"
      ],
      "text/plain": [
       "            df       sum_sq     mean_sq         F    PR(>F)\n",
       "Therapy    3.0   560.716667  186.905556  8.037302  0.000152\n",
       "Residual  56.0  1302.266667   23.254762       NaN       NaN"
      ]
     },
     "execution_count": 12,
     "metadata": {},
     "output_type": "execute_result"
    }
   ],
   "source": [
    "# https://habr.com/ru/post/556856/\n",
    "def ssdev( xs ):\n",
    "    '''Сума квадратів відхилень між\n",
    "        кожним елементом та середнім за вибіркою'''\n",
    "    mu = xs.mean() \n",
    "    square_deviation = lambda x : (x - mu) ** 2 \n",
    "    return sum( map(square_deviation, xs) )\n",
    "\n",
    "# ssw - внутрішньогрупова сума квадратів відхилень \n",
    "# sst - повна сума квадратів по всьому набору\n",
    "# ssb = sst - ssw міжгрупова сума квадратів відхилень\n",
    "\n",
    "SSW = sum(genetherapy.groupby('Therapy').apply(lambda g: ssdev(np.array(g)))) # Out: 1302.2666666666669\n",
    "SST = ssdev(genetherapy.expr) # Out: 1862.9833333333331\n",
    "SSB = SST - SSW # Out: 560.7166666666662\n",
    "\n",
    "# dfSSB - міжгрупові ступені свободи: m-1\n",
    "# dfSSW - внутрішньогрупові ступені свободи: n-m\n",
    "# MSw  внутрішньогрупова дисперсія\n",
    "# MSb  міжгрупова дисперсія\n",
    "# F  критерій Фішера\n",
    "\n",
    "dfSSB = len(genetherapy.Therapy.unique())-1 # Out: 3\n",
    "dfSSW = len(genetherapy.expr) - len(genetherapy.Therapy.unique()) # Out: 56\n",
    "MSw = SSW/dfSSW # Out: 186.90555556\n",
    "MSb = SSB/dfSSB # Out: 23.2547619\n",
    "F = MSb/MSw # Out: 8.03730248\n",
    "p_value = 1-stats.f.cdf(F, dfn=dfSSB, dfd=dfSSW) # Out: 0.0001525\n",
    "table"
   ]
  },
  {
   "cell_type": "markdown",
   "id": "5a58214e",
   "metadata": {},
   "source": [
    "p_value < 0.05 тобто нульову гіпотезу A=B=C=D відхиляємо і можемо сказати що між різних типів терапії є різниця, а щоб дізнатись саме для яких, потрібно провести множинні порівняння (Multiple Comparisons)"
   ]
  },
  {
   "cell_type": "markdown",
   "id": "ff7565cc",
   "metadata": {},
   "source": [
    "<p id=\"part3\"></p>\n",
    "<p style=\"font-family: Arials; font-size: 16px; font-style: normal; font-weight: normal; letter-spacing: 3px; color: #FF8C00; line-height:1.0\">Багатофакторний ANOVA (Multivariate ANOVA)</p>\n",
    "\n",
    "<p style=\"text-align: right;\"><a href=\"#part0\" style=\"color:#FF8C00; text-decoration:none;\">зміст</a></p>"
   ]
  },
  {
   "cell_type": "markdown",
   "id": "a8580020",
   "metadata": {},
   "source": [
    "<p style=\"color:#d910e0; text-align: center;\">Двофакторний дисперсійний аналіз</p>\n",
    "<p style=\"color:#d910e0; text-align: center;\">Two-way ANOVA</p>"
   ]
  },
  {
   "cell_type": "markdown",
   "id": "02d35313",
   "metadata": {},
   "source": [
    "#### Завдання\n",
    "Атеросклероз досить небезпечне захворювання – причина ішемічної хвороби серця та інсультів. Аналіз експресії генів лейкоцитів дозволяє передбачити можливість розвитку цього захворювання. В експерименті досліджувався (ЗАЛЕЖНА ЗМІННА) **рівень експресії** залежно від **віку** пацієнтів та **дозування** (НЕЗАЛЕЖНІ ЗМІННІ) ліків аторвастатину."
   ]
  },
  {
   "cell_type": "code",
   "execution_count": 161,
   "id": "cc2c446b",
   "metadata": {},
   "outputs": [
    {
     "data": {
      "text/html": [
       "<div>\n",
       "<style scoped>\n",
       "    .dataframe tbody tr th:only-of-type {\n",
       "        vertical-align: middle;\n",
       "    }\n",
       "\n",
       "    .dataframe tbody tr th {\n",
       "        vertical-align: top;\n",
       "    }\n",
       "\n",
       "    .dataframe thead th {\n",
       "        text-align: right;\n",
       "    }\n",
       "</style>\n",
       "<table border=\"1\" class=\"dataframe\">\n",
       "  <thead>\n",
       "    <tr style=\"text-align: right;\">\n",
       "      <th></th>\n",
       "      <th>df</th>\n",
       "      <th>sum_sq</th>\n",
       "      <th>mean_sq</th>\n",
       "      <th>F</th>\n",
       "      <th>PR(&gt;F)</th>\n",
       "    </tr>\n",
       "  </thead>\n",
       "  <tbody>\n",
       "    <tr>\n",
       "      <th>dose</th>\n",
       "      <td>1.0</td>\n",
       "      <td>16.912241</td>\n",
       "      <td>16.912241</td>\n",
       "      <td>0.648351</td>\n",
       "      <td>0.423830</td>\n",
       "    </tr>\n",
       "    <tr>\n",
       "      <th>age</th>\n",
       "      <td>1.0</td>\n",
       "      <td>197.452754</td>\n",
       "      <td>197.452754</td>\n",
       "      <td>7.569592</td>\n",
       "      <td>0.007804</td>\n",
       "    </tr>\n",
       "    <tr>\n",
       "      <th>Residual</th>\n",
       "      <td>61.0</td>\n",
       "      <td>1591.184501</td>\n",
       "      <td>26.084992</td>\n",
       "      <td>NaN</td>\n",
       "      <td>NaN</td>\n",
       "    </tr>\n",
       "  </tbody>\n",
       "</table>\n",
       "</div>"
      ],
      "text/plain": [
       "            df       sum_sq     mean_sq         F    PR(>F)\n",
       "dose       1.0    16.912241   16.912241  0.648351  0.423830\n",
       "age        1.0   197.452754  197.452754  7.569592  0.007804\n",
       "Residual  61.0  1591.184501   26.084992       NaN       NaN"
      ]
     },
     "execution_count": 161,
     "metadata": {},
     "output_type": "execute_result"
    }
   ],
   "source": [
    "URL = 'https://stepik.org/media/attachments/lesson/9250/atherosclerosis.csv'\n",
    "atherosclerosis = pd.read_csv(URL)\n",
    "lm = ols('expr ~ age + dose', data=atherosclerosis).fit()\n",
    "table = sm.stats.anova_lm(lm)\n",
    "table"
   ]
  },
  {
   "cell_type": "code",
   "execution_count": 156,
   "id": "3ea70c8b",
   "metadata": {},
   "outputs": [],
   "source": [
    "atherosclerosis['age'] = atherosclerosis.age.mask(atherosclerosis.age==2, 'old').mask(atherosclerosis.age==1, 'yang')\n",
    "atherosclerosis['group'] = atherosclerosis.age+atherosclerosis.dose"
   ]
  },
  {
   "cell_type": "code",
   "execution_count": 157,
   "id": "51d506b2",
   "metadata": {},
   "outputs": [
    {
     "data": {
      "text/html": [
       "<table class=\"simpletable\">\n",
       "<caption>Multiple Comparison of Means - Tukey HSD, FWER=0.05</caption>\n",
       "<tr>\n",
       "  <th>group1</th> <th>group2</th> <th>meandiff</th>  <th>p-adj</th>  <th>lower</th>   <th>upper</th> <th>reject</th>\n",
       "</tr>\n",
       "<tr>\n",
       "   <td>oldD1</td>  <td>oldD2</td>  <td>1.2688</td>  <td>0.8978</td> <td>-3.541</td>  <td>6.0787</td>  <td>False</td>\n",
       "</tr>\n",
       "<tr>\n",
       "   <td>oldD1</td> <td>yangD1</td>  <td>3.7537</td>  <td>0.1774</td> <td>-1.0562</td> <td>8.5635</td>  <td>False</td>\n",
       "</tr>\n",
       "<tr>\n",
       "   <td>oldD1</td> <td>yangD2</td>  <td>4.5411</td>   <td>0.071</td> <td>-0.2688</td> <td>9.3509</td>  <td>False</td>\n",
       "</tr>\n",
       "<tr>\n",
       "   <td>oldD2</td> <td>yangD1</td>  <td>2.4848</td>  <td>0.5259</td> <td>-2.325</td>  <td>7.2947</td>  <td>False</td>\n",
       "</tr>\n",
       "<tr>\n",
       "   <td>oldD2</td> <td>yangD2</td>  <td>3.2722</td>  <td>0.2845</td> <td>-1.5376</td> <td>8.0821</td>  <td>False</td>\n",
       "</tr>\n",
       "<tr>\n",
       "  <td>yangD1</td> <td>yangD2</td>  <td>0.7874</td>  <td>0.9726</td> <td>-4.0225</td> <td>5.5973</td>  <td>False</td>\n",
       "</tr>\n",
       "</table>"
      ],
      "text/plain": [
       "<class 'statsmodels.iolib.table.SimpleTable'>"
      ]
     },
     "execution_count": 157,
     "metadata": {},
     "output_type": "execute_result"
    }
   ],
   "source": [
    "MultiComp = MultiComparison(atherosclerosis.expr, atherosclerosis['group'])\n",
    "MultiComp.tukeyhsd().summary()"
   ]
  },
  {
   "cell_type": "code",
   "execution_count": 163,
   "id": "b3807127",
   "metadata": {},
   "outputs": [
    {
     "data": {
      "text/html": [
       "<table class=\"simpletable\">\n",
       "<caption>Multiple Comparison of Means - Tukey HSD, FWER=0.05</caption>\n",
       "<tr>\n",
       "  <th>group1</th> <th>group2</th> <th>meandiff</th>  <th>p-adj</th>  <th>lower</th>   <th>upper</th>  <th>reject</th>\n",
       "</tr>\n",
       "<tr>\n",
       "     <td>1</td>      <td>2</td>    <td>-3.5129</td> <td>0.0076</td> <td>-6.0581</td> <td>-0.9678</td>  <td>True</td> \n",
       "</tr>\n",
       "</table>"
      ],
      "text/plain": [
       "<class 'statsmodels.iolib.table.SimpleTable'>"
      ]
     },
     "execution_count": 163,
     "metadata": {},
     "output_type": "execute_result"
    }
   ],
   "source": [
    "MultiComp1 = MultiComparison(atherosclerosis.expr, atherosclerosis['age'])\n",
    "MultiComp1.tukeyhsd().summary()"
   ]
  },
  {
   "cell_type": "code",
   "execution_count": 164,
   "id": "6a8ddb9d",
   "metadata": {},
   "outputs": [
    {
     "data": {
      "text/html": [
       "<table class=\"simpletable\">\n",
       "<caption>Multiple Comparison of Means - Tukey HSD, FWER=0.05</caption>\n",
       "<tr>\n",
       "  <th>group1</th> <th>group2</th> <th>meandiff</th>  <th>p-adj</th>  <th>lower</th>   <th>upper</th> <th>reject</th>\n",
       "</tr>\n",
       "<tr>\n",
       "    <td>D1</td>     <td>D2</td>    <td>1.0281</td>  <td>0.4468</td> <td>-1.6561</td> <td>3.7123</td>  <td>False</td>\n",
       "</tr>\n",
       "</table>"
      ],
      "text/plain": [
       "<class 'statsmodels.iolib.table.SimpleTable'>"
      ]
     },
     "execution_count": 164,
     "metadata": {},
     "output_type": "execute_result"
    }
   ],
   "source": [
    "MultiComp2 = MultiComparison(atherosclerosis.expr, atherosclerosis['dose'])\n",
    "MultiComp2.tukeyhsd().summary()"
   ]
  },
  {
   "cell_type": "code",
   "execution_count": 158,
   "id": "2bb81f9c",
   "metadata": {},
   "outputs": [
    {
     "data": {
      "text/plain": [
       "Text(0.5, 1.0, '95% family-wise confidence level')"
      ]
     },
     "execution_count": 158,
     "metadata": {},
     "output_type": "execute_result"
    },
    {
     "data": {
      "image/png": "[encoded data removed]",
      "text/plain": [
       "<Figure size 432x288 with 1 Axes>"
      ]
     },
     "metadata": {
      "needs_background": "light"
     },
     "output_type": "display_data"
    }
   ],
   "source": [
    "data = MultiComp.tukeyhsd()._results_table.data\n",
    "df = pd.DataFrame(data[1:], columns=data[0])\n",
    "\n",
    "df['category'] = df['group1'] + ['-'] * len(df) + df['group2']\n",
    "df['orderby'] = range(len(df), 0, -1)\n",
    "\n",
    "for lower, upper, meandiff, y in zip(df['lower'], df['upper'], df['meandiff'], df['orderby']):\n",
    "    plt.plot((lower, upper),(y, y), '|-', color='black')\n",
    "    plt.plot(meandiff, y ,'|-', color='black')\n",
    "    \n",
    "plt.yticks(df['orderby'], df['category'])\n",
    "plt.vlines(0, df['orderby'].min() - 0.5, df['orderby'].max() + 0.5, linestyles='dashed', color='gray')\n",
    "plt.title('95% family-wise confidence level')"
   ]
  },
  {
   "cell_type": "code",
   "execution_count": 165,
   "id": "5092acd3",
   "metadata": {},
   "outputs": [
    {
     "data": {
      "image/png": "[encoded data removed]",
      "text/plain": [
       "<Figure size 720x432 with 1 Axes>"
      ]
     },
     "execution_count": 165,
     "metadata": {},
     "output_type": "execute_result"
    },
    {
     "data": {
      "image/png": "[encoded data removed]",
      "text/plain": [
       "<Figure size 720x432 with 1 Axes>"
      ]
     },
     "metadata": {
      "needs_background": "light"
     },
     "output_type": "display_data"
    }
   ],
   "source": [
    "MultiComp.tukeyhsd().plot_simultaneous()"
   ]
  },
  {
   "cell_type": "markdown",
   "id": "a7485ca6",
   "metadata": {},
   "source": [
    "Тест Левена це логічна статистика, що використовується для оцінки рівності дисперсій для змінної, розрахованої для двох або більше груп. Деякі поширені статистичні процедури припускають, що дисперсії популяцій, у тому числі взяті різні вибірки, рівні. Тест Левена оцінює це припущення. Він перевіряє нульову гіпотезу у тому, що дисперсії популяції рівні. Якщо результуюче p-значення тесту Левена менше деякого рівня значущості (зазвичай 0.05), отримані відмінності у вибіркових дисперсіях навряд чи мали місце на основі випадкової вибірки з популяції з рівними дисперсіями. Таким чином, нульова гіпотеза рівних дисперсій відкидається і робиться висновок про наявність різниці між дисперсіями у популяції."
   ]
  },
  {
   "cell_type": "code",
   "execution_count": 159,
   "id": "1de59213",
   "metadata": {},
   "outputs": [],
   "source": [
    "def test_leven(*data1):\n",
    "    test_leven, p = stats.levene(*data1)\n",
    "    print('Statistics=%.3f, p-value=%.3f' % (test_leven, p))\n",
    "    alpha = 0.05\n",
    "    if p < alpha:\n",
    "        print('Відхилити гіпотезу про рівність дисперсій')\n",
    "    else:\n",
    "        print('Прийняти гіпотезу про рівність дисперсій')"
   ]
  },
  {
   "cell_type": "code",
   "execution_count": 162,
   "id": "0ce9d06a",
   "metadata": {},
   "outputs": [
    {
     "name": "stdout",
     "output_type": "stream",
     "text": [
      "Statistics=0.236, p-value=0.871\n",
      "Прийняти гіпотезу про рівність дисперсій\n"
     ]
    }
   ],
   "source": [
    "test_leven(atherosclerosis.query('age == 1').expr, \n",
    "           atherosclerosis.query('age == 2').expr, \n",
    "           atherosclerosis.query('dose == \"D1\"').expr,\n",
    "           atherosclerosis.query('dose == \"D1\"').expr)"
   ]
  },
  {
   "cell_type": "code",
   "execution_count": null,
   "id": "da299d95",
   "metadata": {},
   "outputs": [],
   "source": []
  }
 ],
 "metadata": {
  "kernelspec": {
   "display_name": "Python 3 (ipykernel)",
   "language": "python",
   "name": "python3"
  },
  "language_info": {
   "codemirror_mode": {
    "name": "ipython",
    "version": 3
   },
   "file_extension": ".py",
   "mimetype": "text/x-python",
   "name": "python",
   "nbconvert_exporter": "python",
   "pygments_lexer": "ipython3",
   "version": "3.10.5"
  }
 },
 "nbformat": 4,
 "nbformat_minor": 5
}
