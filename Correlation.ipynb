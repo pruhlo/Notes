{
 "cells": [
  {
   "cell_type": "markdown",
   "id": "7d902238",
   "metadata": {},
   "source": [
    "<p style=\"font-family: Arials; line-height: 2; font-size: 24px; font-weight: bold; letter-spacing: 2px; text-align: center; color: #10e02c;\"> <a href=\"#part0\" style=\"color:#d910e0; text-decoration:none;\">Correlation</a></p>\n",
    "<p style=\"font-family: Arials; line-height: 2; font-size: 24px; font-weight: bold; letter-spacing: 2px; text-align: center; color: #FF8C00;\"> <a href=\"#part-1\" style=\"color:#0bcfe0; text-decoration:none;\">TABLE OF CONTENT</a></p>\n",
    "<p id=\"part-1\"></p>\n",
    "\n",
    "\n",
    "<p style=\"font-family: Arials; font-size: 16px; font-style: normal; font-weight: bold; letter-spacing: 2px; color: #808080; line-height:1.3\"><a href=\"#part1\" style=\"color:#r05837; text-decoration:none;\">Коваріація</a></p>\n",
    "\n",
    "<p style=\"font-family: Arials; font-size: 16px; font-style: normal; font-weight: bold; letter-spacing: 2px; color: #808080; line-height:1.3\"><a href=\"#part2\" style=\"color:#r05837; text-decoration:none;\">Умови застосування коефіцієнта кореляції</a></p>\n",
    "\n",
    "<p style=\"text-align:right\"><a href=\"https://latexeditor.lagrida.com/\">Редактор latex</a></p>"
   ]
  },
  {
   "cell_type": "code",
   "execution_count": 40,
   "id": "f35f2a89",
   "metadata": {},
   "outputs": [],
   "source": [
    "import pandas as pd\n",
    "import matplotlib.pyplot as plt\n",
    "import numpy as np\n",
    "from matplotlib import pyplot\n",
    "from scipy.stats import spearmanr,kendalltau"
   ]
  },
  {
   "cell_type": "markdown",
   "id": "2ea4e63d",
   "metadata": {},
   "source": [
    "[Кореляція](https://uk.wikipedia.org/wiki/Кореляція) це будь-який статистичний взаємозв'язок, причинний чи ні, між двома випадковими змінними або двовимірними даними. У найширшому сенсі кореля́ція — це будь-яка статистична пов'язаність, хоча насправді вона стосується ступеню **лінійності** взаємозв'язку пари змінних. \n",
    "\n",
    "Якщо представити, що всі $x$ ми помістили до матриці $X$, а усі $y$ ми помістили до матриці $Y$, то кожному значенню $x$ буде відповідати значення $y$.\n",
    "\n",
    "$$ X = \\begin{bmatrix}x_1 \\\\ x_2 \\\\ . \\\\ . \\\\ x_n\\end{bmatrix} Y = \\begin{bmatrix}y_1 \\\\ y_2 \\\\ . \\\\ . \\\\ y_n \\end{bmatrix}$$\n",
    "\n",
    "Тепер нам хочеться подивитись, а на скільки вони співпадають і самий простий спосіб це поглянути на кут між ними. Для цього нам знадобиться [скалярний добуток](https://uk.wikipedia.org/wiki/Скалярний_добуток).\n",
    "\n",
    "В евклідовому просторі виконується така рівність:\n",
    "$\\displaystyle {\\vec {x}}\\cdot {\\vec {y}}=|{\\vec {x}}||{\\vec {y}}|\\cos \\measuredangle \\left({\\vec {x}},{\\vec {y}}\\right)$.\n",
    "На основі цього можна обчислити кут між векторами:\n",
    "$\\displaystyle \\measuredangle \\left({\\vec {x}},{\\vec {y}}\\right)=\\arccos {\\frac {{\\vec {x}}\\cdot {\\vec {y}}}{\\left|{\\vec {x}}\\right|\\,\\left|{\\vec {y}}\\right|}}$.\n",
    "\n",
    "$$X\\cdot Y =\\sum_{i=0}^{n}x_{j}y_{j}\\hspace{20mm} \\left| X \\right| = \\sqrt{\\sum_{i=0}^{n}{x^{2}}_j} \\hspace{20mm}\\left| Y \\right| = \\sqrt{\\sum_{i=0}^{n}{y^{2}}_j}$$\n",
    "\n",
    "$$x_j = (x_i - \\bar{X}) \\hspace{20mm} y_j = (y_i - \\bar{Y})$$\n",
    "Тож для малюнка:\n",
    "<img src='https://upload.wikimedia.org/wikipedia/commons/thumb/3/3e/Dot_Product.svg/220px-Dot_Product.svg.png'>\n",
    "$$cos(\\theta) = \\frac{A\\cdot B}{\\left| A \\right|\\cdot \\left| B \\right|} = \\frac{\\sum_{i=0}^{n}A_{i}B_{i}}{\\sqrt{\\sum_{i=0}^{n}{A^{2}}_i \\times  \\sum_{i=0}^{n}{B^{2}}_i}}$$\n",
    "\n",
    "Таким чином, ми отримали формулу для коефіцієнта кореляції, яку часто можна зустріти у підручниках:\n",
    "\n",
    "$$r_{xy} = \\frac{\\sum{(x_i - \\bar{X})(y_i - \\bar{Y})}}{ \\sqrt{\\sum(x_i - \\bar{X})^2\\sum(y_i - \\bar{Y})^2}}$$"
   ]
  },
  {
   "cell_type": "markdown",
   "id": "84fc169d",
   "metadata": {},
   "source": [
    "<p id=\"part1\"></p>\n",
    "<p style=\"font-family: Arials; line-height: 2; font-size: 24px; font-weight: bold; letter-spacing: 2px; text-align: center; color: #10e02c;\"> <a href=\"#part1\" style=\"color:#10e02c; text-decoration:none;\">Коваріація</a></p>\n",
    "\n",
    "\n",
    "(Ко - спільна, варіація - мінливість). Міра **лінійної** залежності двох випадкових величин.\n",
    "\n",
    "Якщо коваріація позитивна, то зі зростанням значень однієї випадкової величини значення другої мають тенденцію зростати, а якщо знак негативний — то убувати.\n",
    "\n",
    "$$ cov(X, Y) = \\frac{\\sum{(x_i - \\bar{x})(y_i - \\bar{y})}}{N - 1} $$\n",
    "де N – кількість випадкових величин, а одиниця – кількість ступенів свободи.\n",
    "\n",
    "\n",
    "Квадратна за формою і симетрична матриця, яка використовується для опису коваріації між двома або більш ніж двома наборами змінних, називається **коваріаційною матрицею**.\n",
    "\n",
    "\n",
    "$X = [0, 1, 2]$ $Y = [1, 2, 4]$ $Z = [3, 4, 5]$\n",
    "\n",
    "$ \\bar{x} = \\frac{0+1+2}{3}=1  \\hspace{20mm} \\bar{y} = \\frac{1+2+4}{3}=2.(3) \\hspace{20mm} \\bar{z} = \\frac{3+4+5}{3}=4$ \n",
    "\n",
    "$$ \\begin{bmatrix}cov(x,x) & cov(x,y) & cov(x,z) \\\\cov(y,x) & cov(y,y) & cov(y,z) \\\\cov(z,x) & cov(z,y) & cov(z,z) \\end{bmatrix}$$\n",
    "\n",
    "$cov(x,x) = \\frac {\\sum([0, 1, 2]-\\bar{x})*([0, 1, 2]-\\bar{x})}{3-1} = \\frac {\\sum([-1, 0, 1]*[-1, 0, 1])}{2} = \\frac {\\sum[1,0,1]}{2}=1$\n",
    "\n",
    "$cov(y,y) = \\frac {\\sum([1, 2, 4]-\\bar{y})*([1, 2, 4]-\\bar{y})}{3-1} = \\frac {\\sum([-1.(3), 0.(3),1.(6)7]*[-1.(3), 0.(3),1.(6)7])}{2} = \\frac {\\sum[1.(7)8, 0.(1), 2.(7)8]}{2}=2.(3)$\n",
    "\n",
    "$cov(z,z) = \\frac {\\sum([3, 4, 5]-\\bar{z})*([3, 4, 5]-\\bar{z})}{3-1} = \\frac {\\sum([-1, 0, 1]*[-1, 0, 1])}{2} = \\frac {\\sum[1,0,1]}{2}=1$\n",
    "\n",
    "$cov(x,y) = \\frac {\\sum([0, 1, 2]-\\bar{x})*([1, 2, 4]-\\bar{y})}{3-1} = \\frac {\\sum([-1, 0, 1]*[-1.(3), 0.(3),1.(6)7])}{2} = \\frac {\\sum[1.(3),1.(3),0.(3)]}{2}=1.5$\n",
    "\n",
    "$cov(x,z) = \\frac {\\sum([0, 1, 2]-\\bar{x})*([3, 4, 5]-\\bar{z})}{3-1} = \\frac {\\sum([-1, 0, 1]*[-1, 0, 1])}{2} = \\frac {\\sum[1,0,1]}{2}=1$\n",
    "\n",
    "$cov(y,z) = \\frac {\\sum([1, 2, 4]-\\bar{y})*([3, 4, 5]-\\bar{z})}{3-1} = \\frac {\\sum([-1.(3), 0.(3),1.(6)7]*[-1, 0, 1])}{2} = \\frac {\\sum[1.(3),1.(3),0.(3)]}{2}=1.5$\n",
    "\n",
    "$$ \\begin{bmatrix}1 & 1.5 & 1 \\\\1.5 & 2.(3) & 1.5 \\\\1 & 1.5 & 1 \\end{bmatrix}$$\n",
    "\n",
    "В бібліотеці Numpy функція cov () є мірою сили кореляції між двома або більш ніж двома наборами змінних і називається коваріацією.\n",
    "Елемент коварійної матриці $C_{ij}$ є коваріацією $x_i$ і $x_j$. Елемент $C_{ii}$ це дисперсія $x_i$.\n",
    "\n",
    "Якщо COV(xi, то змінні називаються некорельованими\n",
    "Якщо COV(xi, xj) > 0, то кажуть, що змінні позитивно корельовані\n",
    "а якщо COV(xi, xj) < 0, то кажуть, що змінні негативно корельовані\n",
    "\n",
    "\n",
    "$\\color{blue}{numpy.}\\color{green}{cov}(\\color{blue}{m},\\color{blue}{y=}\\color{purple}{None}, \n",
    "\\color{blue}{rowvar=}\\color{purple}{True},\n",
    "\\color{blue}{bias=}\\color{purple}{False},\n",
    "\\color{blue}{ddof=}\\color{purple}{None},\n",
    "\\color{blue}{fweights=}\\color{purple}{None},\n",
    "\\color{blue}{aweights=}\\color{purple}{None},\n",
    "\\color{blue}{dtype=}\\color{purple}{None})\n",
    "$\n",
    "\n",
    "* $\\color{blue}{m}$: Це масивний вхід. Це 1D чи 2D масив, який має кілька змінних. У розділі змінні це стовпці.\n",
    "* $\\color{blue}{y=}$: Це масивний необов'язковий вхід. Це додатковий набір з якого має ту саму форму, що і m.\n",
    "* $\\color{blue}{rowvar=}$: Це логічне значення, яке є необов'язковим входом. Якщо логічне значення row var дорівнює True, кожен рядок представляє змінну зі спостереженнями в стовпцях. Інакше стосунки стають транспонованими. За промовчанням значення row var дорівнює True.\n",
    "* $\\color{blue}{bias=}$: Це логічне значення, яке є обов'язковим входом. За промовчанням нормалізація має значення false; якщо встановлено значення True, вона нормалізує точки даних.\n",
    "* $\\color{blue}{ddof=}$: Це ціле значення, яке є необов'язковим входом. Якщо значення за замовчуванням дорівнює not None, зміщення перевизначається. Якщо, він поверне неупереджену оцінку, навіть якщо зазначені як fweights, і aweights.\n",
    "* $\\color{blue}{fweights=}$: Це масивне ціле чисельне значення та необов'язкове введення. Це масив 1D, який говорить нам про частотні ваги.\n",
    "* $\\color{blue}{aweights=}$: Це масивне ціле чисельне значення та необов'язкове введення. Це 1D-масив, який дає спостереження за векторною вагою.\n",
    "* $\\color{blue}{dtype=}$: Це тип даних, який не є обов'язковим входом.\n",
    "\n",
    "\n",
    "```Python\n",
    "import numpy as np\n",
    "  \n",
    "arr = np.array([[0, 1, 2], [1, 2, 4], [3, 4, 5]])\n",
    "  \n",
    "print(\"Covarinace matrix of arr: \\n\", np.cov(arr))\n",
    "#Out:\n",
    "Covarinace matrix of arr: \n",
    "[[1.         1.5        1.        ]\n",
    " [1.5        2.33333333 1.5       ]\n",
    " [1.         1.5        1.        ]]\n",
    "```\n",
    "\n",
    "Однак тільки за **абсолютним** значенням коваріації **не можна судити** про те, **наскільки сильно величини взаємопов'язані**, тому що масштаб коваріації залежить від їх дисперсій. Значення коваріації можна нормувати, поділивши її на [добуток](https://uk.wikipedia.org/wiki/Добуток) середньоквадратичних відхилень (квадратного коріння з дисперсій) випадкових величин. Отримана величина називається коефіцієнтом кореляції Пірсона, який завжди знаходиться в інтервалі від -1 до 1:\n",
    "### Докладніше про формулу кореляції\n",
    "Зупинімося на формулі коефіцієнта кореляції, яку ми отримали:\n",
    "$$ r(x, y) = \\frac{cov(x, y)}{\\sigma_x\\sigma_y}$$\n",
    "запишемо формулу трохи докладніше і здійснимо можливі перетворення:\n",
    "\n",
    "$$ r(x, y) = \\frac{\\sum{(x_i - \\bar{x})(y_i - \\bar{y})}}{(N - 1)\\sqrt{\\sum{\\frac{ (x_i - \\bar{x})^2}{N-1}}}\\sqrt{\\sum{\\frac{(y_i - \\bar{y})^2}{N-1}}}} $$\n",
    "\n",
    "тепер винесемо 1/ (N - 1) з-під коріння\n",
    "\n",
    "$$ r(x, y) = \\frac{\\sum{(x_i - \\bar{x})(y_i - \\bar{y})}}{(N - 1)\\frac{1}{(N- 1)}\\sqrt{\\sum{(x_i - \\bar{x})^2}}\\sqrt{\\sum{(y_i - \\bar{y})^2}}} $$\n",
    "\n",
    "і скоротимо (N - 1)\n",
    "\n",
    "$$ r(x, y) = \\frac{\\sum{(x_i - \\bar{x})(y_i - \\bar{y})}}{\\sqrt{\\sum{(x_i - \\bar{x})^2}}\\sqrt{\\sum{(y_i - \\bar{y})^2}}} $$"
   ]
  },
  {
   "cell_type": "markdown",
   "id": "a4d63946",
   "metadata": {},
   "source": [
    "<div style=\"outline: 1px solid\">\n",
    "    <p>Кумедна <a href=\"http://guessthecorrelation.com/\"> гра </a> в 8-бітному стилі, в якій необхідно за розподілом на графіку вгадати коефіцієнт кореляції. Є ще й режим дуелі, щоб поборотися з другом, хто краще відчуває кореляцію за графіком. </p>\n",
    "    <p>Але не все так просто - автор гри Омар Вагіх збирає всі результати гравців, щоб вивчити особливості сприйняття людьми графіків та залежностей. Джерело: канал \"Logic, please\" в Телеграмі</p>\n",
    "</p>Ще можна потренуватися на <a href='https://rpsychologist.com/correlation/'>ресурсі</a></p>\n",
    "</div>"
   ]
  },
  {
   "cell_type": "code",
   "execution_count": 41,
   "id": "34dcfc82",
   "metadata": {},
   "outputs": [],
   "source": [
    "# Демонстрація роботи коваріації та кореляції\n",
    "import numpy as np\n",
    "import random as r\n",
    "\n",
    "def cov(x, y):\n",
    "    assert x.size == y.size\n",
    "    return ((x - x.mean()) * (y - y.mean())).sum()/(x.size - 1)\n",
    "\n",
    "def cor(x, y):\n",
    "    return cov(x, y)/(np.std(x, ddof=1)*np.std(y, ddof=1))\n",
    "\n",
    "# функція, що імітує випадкові фактори\n",
    "# р - настільки суттєвим буде випадковий фактор\n",
    "def randomize(arr, p):\n",
    "    alpha = np.max(arr) - np.min(arr)\n",
    "    res = np.zeros(arr.shape)\n",
    "    for i, v in enumerate(arr):\n",
    "        sign = 1 if r.choice([True, False]) else -1\n",
    "        res[i] = v + sign*alpha*r.random()*p\n",
    "    return res"
   ]
  },
  {
   "cell_type": "code",
   "execution_count": 42,
   "id": "5f29bb4c",
   "metadata": {},
   "outputs": [],
   "source": [
    "x = np.array(range(30))\n",
    "y = randomize(x, 0.1)\n",
    "y1 = randomize(x, 0.5)\n",
    "y2 = randomize(x, 1)"
   ]
  },
  {
   "cell_type": "code",
   "execution_count": 43,
   "id": "22048b56",
   "metadata": {},
   "outputs": [
    {
     "data": {
      "image/png": "[encoded data removed]",
      "text/plain": [
       "<Figure size 1152x216 with 3 Axes>"
      ]
     },
     "metadata": {
      "needs_background": "light"
     },
     "output_type": "display_data"
    }
   ],
   "source": [
    "fig, (ax1, ax2, ax3) = plt.subplots(1, 3, figsize=(16, 3))\n",
    "ax1.scatter(x, y)\n",
    "ax2.scatter(x, y1)\n",
    "ax3.scatter(x, y2)\n",
    "ax1.set_title('висока кореляція')\n",
    "ax2.set_title('середня кореляція')\n",
    "ax3.set_title('низька кореляція')\n",
    "plt.show()"
   ]
  },
  {
   "cell_type": "code",
   "execution_count": 44,
   "id": "263c46a6",
   "metadata": {},
   "outputs": [
    {
     "name": "stdout",
     "output_type": "stream",
     "text": [
      "\n",
      "cov1: 77.07\n",
      "cov2: 94.84\n",
      "cov3: 81.84\n",
      "\n",
      "cor1: 0.98\n",
      "cor2: 0.80\n",
      "cor3: 0.51\n",
      "\n"
     ]
    }
   ],
   "source": [
    "print(f'''\n",
    "cov1: {cov(x, y):.2f}\n",
    "cov2: {cov(x, y1):.2f}\n",
    "cov3: {cov(x, y2):.2f}\n",
    "\n",
    "cor1: {cor(x, y):.2f}\n",
    "cor2: {cor(x, y1):.2f}\n",
    "cor3: {cor(x, y2):.2f}\n",
    "''')"
   ]
  },
  {
   "cell_type": "code",
   "execution_count": 45,
   "id": "13a4d8e1",
   "metadata": {},
   "outputs": [
    {
     "data": {
      "image/png": "[encoded data removed]",
      "text/plain": [
       "<Figure size 432x288 with 1 Axes>"
      ]
     },
     "metadata": {
      "needs_background": "light"
     },
     "output_type": "display_data"
    },
    {
     "name": "stdout",
     "output_type": "stream",
     "text": [
      "Коефіцієнт кореляції Спірмена: 0.242\n",
      "Змінні не корелюють (приймаємо нульову гіпотезу) p=0.449\n",
      "Коефіцієнт кореляції Кендала:0.290\n",
      "Змінні не корелюють (приймаємо нульову гіпотезу) p=0.192\n"
     ]
    }
   ],
   "source": [
    "# обчислити кореляцію між двома вибірками\n",
    "# підготуємо дані\n",
    "data1 = [3.7, 5.8, 7.1, 9.1, 10.5, 11.4, 11.6, 12.5, 14.3, 17.5, 30.0, 32.0]\n",
    "data2 = [-0.3, 4.1, 4.3, 8.3, 12.9, 8.1, 9.5, 9.5, 18.2, 17.5, 1.0, 2.0]\n",
    "# графік\n",
    "pyplot.scatter(data1, data2)\n",
    "pyplot.show()\n",
    "# обчислимо кореляцію Спірмена\n",
    "coef, p = spearmanr(data1, data2)\n",
    "print('Коефіцієнт кореляції Спірмена: %.3f' % coef)\n",
    "# интерпретируем значение\n",
    "alpha = 0.05\n",
    "if p > alpha:\n",
    "    print('Змінні не корелюють (приймаємо нульову гіпотезу) p=%.3f' % p)\n",
    "else:\n",
    "    print('Змінні корелюють (відкидаємо нульову гіпотезу) p=%.3f' % p)\n",
    "# вычислим корреляцию Кендалла    \n",
    "coef, p = kendalltau(data1, data2)\n",
    "print('Коефіцієнт кореляції Кендала:%.3f' % coef)\n",
    "\n",
    "if p > alpha:\n",
    "    print('Змінні не корелюють (приймаємо нульову гіпотезу) p=%.3f' % p)\n",
    "else:\n",
    "    print('Змінні корелюють (відкидаємо нульову гіпотезу) p=%.3f' % p)"
   ]
  },
  {
   "cell_type": "markdown",
   "id": "4b504384",
   "metadata": {},
   "source": [
    "Парадокс Симпсона для кількісних даних: позитивна тенденція виникає для двох окремих груп, тоді як негативний тренд виникає при об'єднанні груп."
   ]
  },
  {
   "cell_type": "code",
   "execution_count": 46,
   "id": "4a56e1ef",
   "metadata": {},
   "outputs": [
    {
     "data": {
      "text/html": [
       "<div>\n",
       "<style scoped>\n",
       "    .dataframe tbody tr th:only-of-type {\n",
       "        vertical-align: middle;\n",
       "    }\n",
       "\n",
       "    .dataframe tbody tr th {\n",
       "        vertical-align: top;\n",
       "    }\n",
       "\n",
       "    .dataframe thead th {\n",
       "        text-align: right;\n",
       "    }\n",
       "</style>\n",
       "<table border=\"1\" class=\"dataframe\">\n",
       "  <thead>\n",
       "    <tr style=\"text-align: right;\">\n",
       "      <th></th>\n",
       "      <th>group</th>\n",
       "      <th>x</th>\n",
       "      <th>y</th>\n",
       "    </tr>\n",
       "  </thead>\n",
       "  <tbody>\n",
       "    <tr>\n",
       "      <th>group</th>\n",
       "      <td>1.000000</td>\n",
       "      <td>-0.952579</td>\n",
       "      <td>0.912871</td>\n",
       "    </tr>\n",
       "    <tr>\n",
       "      <th>x</th>\n",
       "      <td>-0.952579</td>\n",
       "      <td>1.000000</td>\n",
       "      <td>-0.745356</td>\n",
       "    </tr>\n",
       "    <tr>\n",
       "      <th>y</th>\n",
       "      <td>0.912871</td>\n",
       "      <td>-0.745356</td>\n",
       "      <td>1.000000</td>\n",
       "    </tr>\n",
       "  </tbody>\n",
       "</table>\n",
       "</div>"
      ],
      "text/plain": [
       "          group         x         y\n",
       "group  1.000000 -0.952579  0.912871\n",
       "x     -0.952579  1.000000 -0.745356\n",
       "y      0.912871 -0.745356  1.000000"
      ]
     },
     "execution_count": 46,
     "metadata": {},
     "output_type": "execute_result"
    }
   ],
   "source": [
    "df = pd.DataFrame(columns=['group', 'x','y'])\n",
    "df['group'] = [1,1,1,1,0,0,0,0]\n",
    "df['x'] = [1,2,3,4,8,9,10,11]\n",
    "df['y'] = [6,7,8,9,1,2,3,4]\n",
    "corr = df.corr()\n",
    "corr"
   ]
  },
  {
   "cell_type": "code",
   "execution_count": 47,
   "id": "6bc6977c",
   "metadata": {},
   "outputs": [
    {
     "data": {
      "text/html": [
       "<style type=\"text/css\">\n",
       "#T_7a1a0_row0_col0, #T_7a1a0_row1_col1, #T_7a1a0_row2_col2 {\n",
       "  background-color: #b40426;\n",
       "  color: #f1f1f1;\n",
       "}\n",
       "#T_7a1a0_row0_col1, #T_7a1a0_row1_col0, #T_7a1a0_row1_col2 {\n",
       "  background-color: #3b4cc0;\n",
       "  color: #f1f1f1;\n",
       "}\n",
       "#T_7a1a0_row0_col2 {\n",
       "  background-color: #c53334;\n",
       "  color: #f1f1f1;\n",
       "}\n",
       "#T_7a1a0_row2_col0 {\n",
       "  background-color: #c43032;\n",
       "  color: #f1f1f1;\n",
       "}\n",
       "#T_7a1a0_row2_col1 {\n",
       "  background-color: #5b7ae5;\n",
       "  color: #f1f1f1;\n",
       "}\n",
       "</style>\n",
       "<table id=\"T_7a1a0\">\n",
       "  <thead>\n",
       "    <tr>\n",
       "      <th class=\"blank level0\" >&nbsp;</th>\n",
       "      <th id=\"T_7a1a0_level0_col0\" class=\"col_heading level0 col0\" >group</th>\n",
       "      <th id=\"T_7a1a0_level0_col1\" class=\"col_heading level0 col1\" >x</th>\n",
       "      <th id=\"T_7a1a0_level0_col2\" class=\"col_heading level0 col2\" >y</th>\n",
       "    </tr>\n",
       "  </thead>\n",
       "  <tbody>\n",
       "    <tr>\n",
       "      <th id=\"T_7a1a0_level0_row0\" class=\"row_heading level0 row0\" >group</th>\n",
       "      <td id=\"T_7a1a0_row0_col0\" class=\"data row0 col0\" >1.000000</td>\n",
       "      <td id=\"T_7a1a0_row0_col1\" class=\"data row0 col1\" >-0.952579</td>\n",
       "      <td id=\"T_7a1a0_row0_col2\" class=\"data row0 col2\" >0.912871</td>\n",
       "    </tr>\n",
       "    <tr>\n",
       "      <th id=\"T_7a1a0_level0_row1\" class=\"row_heading level0 row1\" >x</th>\n",
       "      <td id=\"T_7a1a0_row1_col0\" class=\"data row1 col0\" >-0.952579</td>\n",
       "      <td id=\"T_7a1a0_row1_col1\" class=\"data row1 col1\" >1.000000</td>\n",
       "      <td id=\"T_7a1a0_row1_col2\" class=\"data row1 col2\" >-0.745356</td>\n",
       "    </tr>\n",
       "    <tr>\n",
       "      <th id=\"T_7a1a0_level0_row2\" class=\"row_heading level0 row2\" >y</th>\n",
       "      <td id=\"T_7a1a0_row2_col0\" class=\"data row2 col0\" >0.912871</td>\n",
       "      <td id=\"T_7a1a0_row2_col1\" class=\"data row2 col1\" >-0.745356</td>\n",
       "      <td id=\"T_7a1a0_row2_col2\" class=\"data row2 col2\" >1.000000</td>\n",
       "    </tr>\n",
       "  </tbody>\n",
       "</table>\n"
      ],
      "text/plain": [
       "<pandas.io.formats.style.Styler at 0x213162a5c60>"
      ]
     },
     "execution_count": 47,
     "metadata": {},
     "output_type": "execute_result"
    }
   ],
   "source": [
    "corr.style.background_gradient(cmap='coolwarm')"
   ]
  },
  {
   "cell_type": "code",
   "execution_count": 48,
   "id": "0a65de01",
   "metadata": {},
   "outputs": [
    {
     "name": "stdout",
     "output_type": "stream",
     "text": [
      "          group         x         y\n",
      "group  1.000000 -0.952579  0.912871\n",
      "x     -0.952579  1.000000 -0.745356\n",
      "y      0.912871 -0.745356  1.000000\n",
      "          group         x         y\n",
      "group  1.000000 -0.872872  0.872872\n",
      "x     -0.872872  1.000000 -0.523810\n",
      "y      0.872872 -0.523810  1.000000\n",
      "          group         x         y\n",
      "group  1.000000 -0.755929  0.755929\n",
      "x     -0.755929  1.000000 -0.142857\n",
      "y      0.755929 -0.142857  1.000000\n"
     ]
    }
   ],
   "source": [
    "x0 = df.query('group == 0')['x']\n",
    "y0 = df.query('group == 0')['y']\n",
    "x1 = df.query('group == 1')['x']\n",
    "y1 = df.query('group == 1')['y']\n",
    "x = df['x']\n",
    "y = df['y']\n",
    "# Пірсон\n",
    "print(df.corr())\n",
    "# Спірман \n",
    "print(df.corr('spearman'))\n",
    "# Кендал \n",
    "print(df.corr('kendall'))"
   ]
  },
  {
   "cell_type": "code",
   "execution_count": 49,
   "id": "d71505eb",
   "metadata": {},
   "outputs": [
    {
     "data": {
      "text/plain": [
       "[<matplotlib.lines.Line2D at 0x213165cd150>]"
      ]
     },
     "execution_count": 49,
     "metadata": {},
     "output_type": "execute_result"
    },
    {
     "data": {
      "image/png": "[encoded data removed]",
      "text/plain": [
       "<Figure size 432x288 with 1 Axes>"
      ]
     },
     "metadata": {
      "needs_background": "light"
     },
     "output_type": "display_data"
    }
   ],
   "source": [
    "plt.scatter(x,y)\n",
    "m, b = np.polyfit(x, y, 1)\n",
    "plt.plot(x, m*x+b)\n",
    "k, c = np.polyfit(x1, y1, 1)\n",
    "plt.plot(x1, k*x1+c)\n",
    "plt.scatter(df.query('group == 1')['x'], df.query('group == 1')['y'])\n",
    "plt.scatter(x, y)\n",
    "\n",
    "w, d = np.polyfit(x, y, 1)\n",
    "plt.plot(x, w*x+d)"
   ]
  },
  {
   "cell_type": "markdown",
   "id": "f2a7a094",
   "metadata": {},
   "source": [
    "Парадокс Симпсона для кількісних даних: позитивна тенденція виникає для двох окремих груп, тоді як негативний тренд виникає при об'єднанні груп."
   ]
  },
  {
   "cell_type": "markdown",
   "id": "0d6521c7",
   "metadata": {},
   "source": [
    "<p id=\"part2\"></p>\n",
    "<p style=\"font-family: Arials; line-height: 2; font-size: 24px; font-weight: bold; letter-spacing: 2px; text-align: center; color: #10e02c;\"> <a href=\"#part2\" style=\"color:#10e02c; text-decoration:none;\">Умови застосування коефіцієнта кореляції</a></p>"
   ]
  },
  {
   "cell_type": "markdown",
   "id": "2d93e6b0",
   "metadata": {},
   "source": [
    "Для застосування коефіцієнта кореляції дані повинні володіти:\n",
    "<li style='color:green'>Лінійним та монотонним характером взаємозв'язку двох змінних</li>\n",
    "<li style='color:green'>Мати нормальний розподіл двох досліджуваних змінних</li>\n",
    "Негативно позначається на адекватності використання середнього значення як деякого показника, що характеризує нашу вибірку:\n",
    "<li style='color:red'>Викиди</li>\n",
    "<li style='color:red'>Асиметрія</li>\n",
    "<li style='color:red'>Бімодальність</li>"
   ]
  },
  {
   "cell_type": "code",
   "execution_count": null,
   "id": "0b5649fb",
   "metadata": {},
   "outputs": [],
   "source": []
  }
 ],
 "metadata": {
  "kernelspec": {
   "display_name": "Python 3 (ipykernel)",
   "language": "python",
   "name": "python3"
  },
  "language_info": {
   "codemirror_mode": {
    "name": "ipython",
    "version": 3
   },
   "file_extension": ".py",
   "mimetype": "text/x-python",
   "name": "python",
   "nbconvert_exporter": "python",
   "pygments_lexer": "ipython3",
   "version": "3.10.5"
  }
 },
 "nbformat": 4,
 "nbformat_minor": 5
}
