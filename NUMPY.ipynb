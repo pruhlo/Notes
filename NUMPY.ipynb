{
 "cells": [
  {
   "cell_type": "markdown",
   "metadata": {},
   "source": [
    "# ЗАДАЧА\n",
    "Подсчитать средний возраст пасажиров титаника"
   ]
  },
  {
   "cell_type": "code",
   "execution_count": 1,
   "metadata": {},
   "outputs": [],
   "source": [
    "import pandas as pd"
   ]
  },
  {
   "cell_type": "code",
   "execution_count": 2,
   "metadata": {},
   "outputs": [],
   "source": [
    "df = pd.read_csv('https://raw.githubusercontent.com/bykov-alexei/data-science-course/master/Python3/titanic_train_simplified.csv')"
   ]
  },
  {
   "cell_type": "code",
   "execution_count": 3,
   "metadata": {},
   "outputs": [
    {
     "data": {
      "text/plain": [
       "30.0"
      ]
     },
     "execution_count": 3,
     "metadata": {},
     "output_type": "execute_result"
    }
   ],
   "source": [
    "round(df.Age.mean(),0)"
   ]
  },
  {
   "cell_type": "markdown",
   "metadata": {},
   "source": [
    "# ЗАДАЧА\n",
    "Подсчитать количество пассажиров каждого из классов"
   ]
  },
  {
   "cell_type": "code",
   "execution_count": 4,
   "metadata": {},
   "outputs": [
    {
     "data": {
      "text/plain": [
       "Index(['PassengerId', 'Survived', 'Pclass', 'Name', 'Sex', 'Age', 'SibSp',\n",
       "       'Parch', 'Ticket', 'Fare', 'Cabin', 'Embarked'],\n",
       "      dtype='object')"
      ]
     },
     "execution_count": 4,
     "metadata": {},
     "output_type": "execute_result"
    }
   ],
   "source": [
    "df.columns"
   ]
  },
  {
   "cell_type": "code",
   "execution_count": 5,
   "metadata": {},
   "outputs": [
    {
     "data": {
      "text/plain": [
       "Pclass\n",
       "1    216\n",
       "2    184\n",
       "3    491\n",
       "Name: PassengerId, dtype: int64"
      ]
     },
     "execution_count": 5,
     "metadata": {},
     "output_type": "execute_result"
    }
   ],
   "source": [
    "df.groupby('Pclass').count()[ 'PassengerId']"
   ]
  },
  {
   "cell_type": "markdown",
   "metadata": {},
   "source": [
    "# ЗАДАЧА"
   ]
  },
  {
   "cell_type": "code",
   "execution_count": 6,
   "metadata": {},
   "outputs": [
    {
     "data": {
      "text/plain": [
       "True"
      ]
     },
     "execution_count": 6,
     "metadata": {},
     "output_type": "execute_result"
    }
   ],
   "source": [
    "# проверить на четность\n",
    "def is_even(n):\n",
    "    if n%2==0:\n",
    "        return True\n",
    "    else:\n",
    "        return False\n",
    "is_even(2)"
   ]
  },
  {
   "cell_type": "code",
   "execution_count": 7,
   "metadata": {},
   "outputs": [
    {
     "data": {
      "text/plain": [
       "False"
      ]
     },
     "execution_count": 7,
     "metadata": {},
     "output_type": "execute_result"
    }
   ],
   "source": [
    "is_even(7)"
   ]
  },
  {
   "cell_type": "markdown",
   "metadata": {},
   "source": [
    "# ЗАДАЧА"
   ]
  },
  {
   "cell_type": "code",
   "execution_count": 8,
   "metadata": {},
   "outputs": [
    {
     "name": "stdout",
     "output_type": "stream",
     "text": [
      "True\n"
     ]
    }
   ],
   "source": [
    "# проверить на простоту\n",
    "def is_simple(k):\n",
    "    if k==2 or k==3: return True\n",
    "    if k > 1:\n",
    "        for i in range(2, int(k/2)+1):\n",
    "            if (k % i) == 0:\n",
    "                return False\n",
    "                break\n",
    "            else:\n",
    "                return True\n",
    "    else:\n",
    "        return False\n",
    "    \n",
    "print(is_simple(2))"
   ]
  },
  {
   "cell_type": "code",
   "execution_count": 9,
   "metadata": {},
   "outputs": [
    {
     "name": "stdout",
     "output_type": "stream",
     "text": [
      "False\n"
     ]
    }
   ],
   "source": [
    "is_simple = lambda n: __import__('sympy').isprime(n)\n",
    "print(is_simple(50))"
   ]
  },
  {
   "cell_type": "markdown",
   "metadata": {},
   "source": [
    "# ЗАДАЧА"
   ]
  },
  {
   "cell_type": "code",
   "execution_count": 10,
   "metadata": {},
   "outputs": [
    {
     "name": "stdout",
     "output_type": "stream",
     "text": [
      "False\n"
     ]
    }
   ],
   "source": [
    "# Реализуйте функцию проверки числа на совершенность\n",
    "def num_perfect(num):\n",
    "    sum_n = 0 \n",
    "    for i in range(1, num):\n",
    "        if num % i == 0:\n",
    "            sum_n=sum_n+i \n",
    "    return sum_n == num \n",
    "print(num_perfect(25))\n"
   ]
  },
  {
   "cell_type": "code",
   "execution_count": 11,
   "metadata": {},
   "outputs": [],
   "source": [
    "is_perfect = lambda n: __import__('sympy').is_perfect(n)"
   ]
  },
  {
   "cell_type": "markdown",
   "metadata": {},
   "source": [
    "# ЗАДАЧА"
   ]
  },
  {
   "cell_type": "code",
   "execution_count": 12,
   "metadata": {},
   "outputs": [
    {
     "data": {
      "text/plain": [
       "[2, 16, 2, 6]"
      ]
     },
     "execution_count": 12,
     "metadata": {},
     "output_type": "execute_result"
    }
   ],
   "source": [
    "#Допишите код так, чтобы в списке lst, округлились числа.\n",
    "lst = [1.67, 16.27, 2.17, 6.31]\n",
    "import math\n",
    "\n",
    "def rnd(n):\n",
    "    if n%1 >= 0.5:\n",
    "        return math.ceil(n)\n",
    "    else:\n",
    "        return math.floor(n)\n",
    "\n",
    "lst = list(map(rnd, lst))\n",
    "lst"
   ]
  },
  {
   "cell_type": "code",
   "execution_count": 13,
   "metadata": {},
   "outputs": [
    {
     "name": "stdout",
     "output_type": "stream",
     "text": [
      "1.0 0.6699999999999999\n",
      "16.0 0.2699999999999996\n",
      "2.0 0.16999999999999993\n",
      "6.0 0.3099999999999996\n"
     ]
    },
    {
     "data": {
      "text/plain": [
       "[2, 16, 2, 6]"
      ]
     },
     "execution_count": 13,
     "metadata": {},
     "output_type": "execute_result"
    }
   ],
   "source": [
    "lst = [1.67, 16.27, 2.17, 6.31]\n",
    "def rnd(n):\n",
    "    i, f = divmod(n, 1)\n",
    "    print(i,f)\n",
    "    return int(i) + int(f >= .5)\n",
    "\n",
    "list(map(rnd, lst))"
   ]
  },
  {
   "cell_type": "code",
   "execution_count": 14,
   "metadata": {},
   "outputs": [],
   "source": [
    "# import sys\n",
    "# print(sys.path)\n",
    "# import sympy\n",
    "# print(sympy.__file__)\n",
    "# print(__import__('sympy'). __version__)\n",
    "# lst = [1.67, 16.27, 2.17, 6.31]\n",
    "\n",
    "# is_perfect = lambda n: __import__('sympy').is_perfect(n)\n",
    "# is_perfect = lambda n: sympy.is_perfect(n)\n",
    "# lst = list(filter(is_perfect, lst))\n",
    "# lst"
   ]
  },
  {
   "cell_type": "markdown",
   "metadata": {},
   "source": [
    "# ЗАДАЧА\n",
    "НАйти число фибоначи"
   ]
  },
  {
   "cell_type": "code",
   "execution_count": 15,
   "metadata": {},
   "outputs": [
    {
     "data": {
      "text/plain": [
       "13"
      ]
     },
     "execution_count": 15,
     "metadata": {},
     "output_type": "execute_result"
    }
   ],
   "source": [
    "# from sympy import fibonacci\n",
    "__import__('sympy').fibonacci(7)"
   ]
  },
  {
   "cell_type": "code",
   "execution_count": 16,
   "metadata": {},
   "outputs": [
    {
     "data": {
      "text/plain": [
       "[1, 2, 3, 5, 8, 13]"
      ]
     },
     "execution_count": 16,
     "metadata": {},
     "output_type": "execute_result"
    }
   ],
   "source": [
    "n=7\n",
    "[__import__('sympy').fibonacci(x) for x in range(2,n+1)]"
   ]
  },
  {
   "cell_type": "markdown",
   "metadata": {},
   "source": [
    "# ЗАДАЧА\n",
    "Посчитайте кол-во файлов и папок внутри директории, имя которой приходит на вход программе. Выведите через пробел кол-во файлов, затем кол-во папок (учитывая вложеные)"
   ]
  },
  {
   "cell_type": "code",
   "execution_count": 17,
   "metadata": {},
   "outputs": [
    {
     "name": "stdout",
     "output_type": "stream",
     "text": [
      "1\n",
      "0 0\n"
     ]
    }
   ],
   "source": [
    "import os\n",
    "total_1 = 0\n",
    "total_2 = 0\n",
    "total_3 = 0\n",
    "for root, dirs, files in os.walk(input()):\n",
    "    total_3 += len(files)\n",
    "    total_2 += len(dirs)\n",
    "    \n",
    "print(total_3, total_2)"
   ]
  },
  {
   "cell_type": "code",
   "execution_count": 20,
   "metadata": {},
   "outputs": [
    {
     "name": "stdout",
     "output_type": "stream",
     "text": [
      "\n",
      "6 1\n"
     ]
    }
   ],
   "source": [
    "import os\n",
    "\n",
    "def fcount(path):\n",
    "    \"\"\" Counts the number of files in a directory \"\"\"\n",
    "    count = 0\n",
    "    for f in os.listdir(path):\n",
    "        if os.path.isfile(os.path.join(path, f)):\n",
    "            count += 1\n",
    "\n",
    "    return count\n",
    "\n",
    "foo = 0\n",
    "path = os.getcwd()\n",
    "src =  os.path.join(path, input())\n",
    "papki = []\n",
    "count=0\n",
    "for dir_name, dirs, files in os.walk(src):\n",
    "    foo += len(dirs)\n",
    "    papki.append(dir_name)\n",
    "\n",
    "for p in papki:\n",
    "    count += fcount(p)\n",
    "print(count, foo)"
   ]
  },
  {
   "cell_type": "markdown",
   "metadata": {},
   "source": [
    "# ЗАДАЧА"
   ]
  },
  {
   "cell_type": "markdown",
   "metadata": {},
   "source": [
    "Представьте, что вы стали участником игры, в которой вам нужно выбрать одну из трёх дверей. За одной из дверей находится автомобиль, за двумя другими дверями — козы. Вы выбираете одну из дверей, например, номер 1, после этого ведущий, который знает, где находится автомобиль, а где — козы, открывает одну из оставшихся дверей, например, номер 3, за которой находится коза. После этого он спрашивает вас — не желаете ли вы изменить свой выбор и выбрать дверь номер 2? Увеличатся ли ваши шансы выиграть автомобиль, если вы примете предложение ведущего и измените свой выбор? \n",
    "\n",
    "В качестве решения нужно написать код, который будет симулировать огромное кол-во игр и выдавать вероятность выигрыша при заданных условиях. На вход программе передается слово Yes либо слово No, означающее меняет ли человек свой выбор.\n",
    "\n",
    "Вероятность округлите до второго знака после запятой"
   ]
  },
  {
   "cell_type": "code",
   "execution_count": 22,
   "metadata": {},
   "outputs": [],
   "source": [
    "import random as rnd"
   ]
  },
  {
   "cell_type": "code",
   "execution_count": 23,
   "metadata": {},
   "outputs": [
    {
     "name": "stdout",
     "output_type": "stream",
     "text": [
      "0.33169\n"
     ]
    }
   ],
   "source": [
    "import random as rnd\n",
    "def no_answer():\n",
    "    var = ['car', 'goat', 'goat']\n",
    "    win_loss = []\n",
    "    n = 100000\n",
    "    while n>0:\n",
    "        door = [1,2,3]\n",
    "        answer = rnd.choice(door)\n",
    "        if answer == 1:\n",
    "            win_loss.append(1)\n",
    "        else:\n",
    "            win_loss.append(0)\n",
    "        n -=1\n",
    "    return win_loss\n",
    "\n",
    "NO = no_answer()\n",
    "print(sum(NO)/len(NO))"
   ]
  },
  {
   "cell_type": "code",
   "execution_count": 24,
   "metadata": {},
   "outputs": [
    {
     "name": "stdout",
     "output_type": "stream",
     "text": [
      "0.66706\n"
     ]
    }
   ],
   "source": [
    "import random as rnd\n",
    "def yes_answer():\n",
    "    var = ['car', 'goat', 'goat']\n",
    "    win_loss = []\n",
    "    n = 100000\n",
    "    while n>0:\n",
    "        door = [1,2,3]\n",
    "        answer = rnd.choice(door)\n",
    "        door.remove(answer)\n",
    "        answer = rnd.choice(door)\n",
    "        if answer == 1:\n",
    "            win_loss.append(0)\n",
    "        else:\n",
    "            win_loss.append(1)\n",
    "        n -=1\n",
    "    return win_loss\n",
    "\n",
    "YES = yes_answer()\n",
    "print(sum(YES)/len(YES))"
   ]
  },
  {
   "cell_type": "code",
   "execution_count": 25,
   "metadata": {},
   "outputs": [
    {
     "name": "stdout",
     "output_type": "stream",
     "text": [
      "0.67\n"
     ]
    }
   ],
   "source": [
    "import random as rnd\n",
    "def answer(aggry):\n",
    "    if aggry=='Yes':\n",
    "        n = 0\n",
    "        o = 1\n",
    "    else:\n",
    "        n = 1\n",
    "        o = 0\n",
    "    var = ['car', 'goat', 'goat']\n",
    "    win_loss = []\n",
    "    for i in range(100000):\n",
    "        door = [1,2,3]\n",
    "        answer = rnd.choice(door)\n",
    "        door.remove(answer)\n",
    "        answer = rnd.choice(door)\n",
    "        if answer == 1:\n",
    "            win_loss.append(n)\n",
    "        else:\n",
    "            win_loss.append(o)\n",
    "    \n",
    "    return win_loss\n",
    "\n",
    "YES = answer('Yes')\n",
    "print(round(sum(YES)/len(YES),2))"
   ]
  },
  {
   "cell_type": "markdown",
   "metadata": {},
   "source": [
    "# Задача\n",
    "На вход программе дано число n (n > 2), посчитайте среднее арифметическое простых чисел от 1 до n включительно. \n",
    "\n",
    "Ответ округлите до 2-х знаков после запятой.\n",
    "\n",
    "Sample Input:\n",
    "\n",
    "10\n",
    "\n",
    "Sample Output:\n",
    "\n",
    "4.25"
   ]
  },
  {
   "cell_type": "code",
   "execution_count": 26,
   "metadata": {},
   "outputs": [
    {
     "name": "stdout",
     "output_type": "stream",
     "text": [
      "4.25\n"
     ]
    }
   ],
   "source": [
    "import numpy as np\n",
    "\n",
    "is_simple = lambda n: __import__('sympy').isprime(n)\n",
    "n = 10\n",
    "x = np.arange(2,n)[np.array([is_simple(i) for i in range(2,n)])].mean()\n",
    "i, f = divmod(x, 1)\n",
    "print(i + int(f*100+0.5)/100)"
   ]
  },
  {
   "cell_type": "code",
   "execution_count": 27,
   "metadata": {},
   "outputs": [
    {
     "name": "stdout",
     "output_type": "stream",
     "text": [
      "10\n",
      "4.25\n"
     ]
    }
   ],
   "source": [
    "my_list = [i for i in range(2, int(input())+1) if all([i % j for j in range(2, i // 2 + 1)])]\n",
    "print(round(sum(my_list)/len(my_list) + 0.00001, 2))"
   ]
  },
  {
   "cell_type": "markdown",
   "metadata": {},
   "source": [
    "# Задача\n",
    "На вход программе передается число n, затем данные о n городах: их название и кол-во населения. Ваша задача отсортировать эти города по возрастанию населения и вывести в том же формате.\n",
    "\n",
    "Sample Input:<br>\n",
    "\n",
    "4<br>\n",
    "Иркутск 601993<br>\n",
    "Бохан 5132<br>\n",
    "Братск 242604<br>\n",
    "Ангарск 231944<br>\n",
    "Sample Output:<br>\n",
    "\n",
    "Бохан 5132<br>\n",
    "Ангарск 231944<br>\n",
    "Братск 242604<br>\n",
    "Иркутск 601993<br>"
   ]
  },
  {
   "cell_type": "code",
   "execution_count": null,
   "metadata": {},
   "outputs": [],
   "source": [
    "n = int(input())\n",
    "d = {}\n",
    "for i in range(n):\n",
    "    key, value = input().split()\n",
    "    d[key]= int(value)\n",
    "# --> d = {'Иркутск': 601993, 'Бохан': 5132, 'Братск': 242604, 'Ангарск': 231944}\n",
    "sorted_x = sorted(d.items(), key=lambda kv: kv[1])\n",
    "for i in sorted_x:\n",
    "    print(i[0], i[1])"
   ]
  },
  {
   "cell_type": "code",
   "execution_count": null,
   "metadata": {},
   "outputs": [],
   "source": [
    "# ss = [input().split() for _ in range(int(input()))]\n",
    "# ss.sort(key=lambda x: int(x[1]))\n",
    "# [print(*st) for st in ss]"
   ]
  },
  {
   "cell_type": "code",
   "execution_count": null,
   "metadata": {},
   "outputs": [],
   "source": [
    "# ls = [input().split() for _ in range(int(input()))]\n",
    "# [print(*s) for s in sorted(ls, key = lambda x: int(x[1]))]"
   ]
  },
  {
   "cell_type": "markdown",
   "metadata": {},
   "source": [
    "# ЗАДАЧА\n",
    "Проанализируйте данные о некоторых землетрясениях и найдите дату и время самого мощного среди представленных.\n",
    "\n",
    "В файле лежат две колонки date (время землетрясения) и magnitude (значения силы землетрясения по шкале Рихтера)."
   ]
  },
  {
   "cell_type": "code",
   "execution_count": 28,
   "metadata": {},
   "outputs": [
    {
     "data": {
      "text/html": [
       "<div>\n",
       "<style scoped>\n",
       "    .dataframe tbody tr th:only-of-type {\n",
       "        vertical-align: middle;\n",
       "    }\n",
       "\n",
       "    .dataframe tbody tr th {\n",
       "        vertical-align: top;\n",
       "    }\n",
       "\n",
       "    .dataframe thead th {\n",
       "        text-align: right;\n",
       "    }\n",
       "</style>\n",
       "<table border=\"1\" class=\"dataframe\">\n",
       "  <thead>\n",
       "    <tr style=\"text-align: right;\">\n",
       "      <th></th>\n",
       "      <th>date</th>\n",
       "      <th>magnitude</th>\n",
       "    </tr>\n",
       "  </thead>\n",
       "  <tbody>\n",
       "    <tr>\n",
       "      <th>0</th>\n",
       "      <td>08/07/1966 17:36:12</td>\n",
       "      <td>6.35</td>\n",
       "    </tr>\n",
       "    <tr>\n",
       "      <th>1</th>\n",
       "      <td>11/22/1974 16:25:34</td>\n",
       "      <td>5.55</td>\n",
       "    </tr>\n",
       "    <tr>\n",
       "      <th>2</th>\n",
       "      <td>02/26/1975 08:00:05</td>\n",
       "      <td>5.50</td>\n",
       "    </tr>\n",
       "    <tr>\n",
       "      <th>3</th>\n",
       "      <td>08/01/1975 20:20:05</td>\n",
       "      <td>5.70</td>\n",
       "    </tr>\n",
       "    <tr>\n",
       "      <th>4</th>\n",
       "      <td>11/26/1976 11:19:32</td>\n",
       "      <td>6.30</td>\n",
       "    </tr>\n",
       "  </tbody>\n",
       "</table>\n",
       "</div>"
      ],
      "text/plain": [
       "                  date  magnitude\n",
       "0  08/07/1966 17:36:12       6.35\n",
       "1  11/22/1974 16:25:34       5.55\n",
       "2  02/26/1975 08:00:05       5.50\n",
       "3  08/01/1975 20:20:05       5.70\n",
       "4  11/26/1976 11:19:32       6.30"
      ]
     },
     "execution_count": 28,
     "metadata": {},
     "output_type": "execute_result"
    }
   ],
   "source": [
    "import pandas as pd\n",
    "df = pd.read_csv('https://raw.githubusercontent.com/bykov-alexei/data-science-course/master/Python3/earthquakes.csv')\n",
    "df.head()"
   ]
  },
  {
   "cell_type": "code",
   "execution_count": null,
   "metadata": {},
   "outputs": [],
   "source": [
    "# save csv\n",
    "#df.to_csv('earthquakes.csv') # --> earthquakes.csv"
   ]
  },
  {
   "cell_type": "code",
   "execution_count": 29,
   "metadata": {},
   "outputs": [
    {
     "data": {
      "text/plain": [
       "date         05/02/1983 23:42:38\n",
       "magnitude                    6.7\n",
       "Name: 19, dtype: object"
      ]
     },
     "execution_count": 29,
     "metadata": {},
     "output_type": "execute_result"
    }
   ],
   "source": [
    "df.iloc[df.magnitude.idxmax()]"
   ]
  },
  {
   "cell_type": "markdown",
   "metadata": {},
   "source": [
    "# ЗАДАЧА\n",
    "По файлу посчитайте кол-во победителей финальных олимпиад (stage = 4) по математике"
   ]
  },
  {
   "cell_type": "code",
   "execution_count": 30,
   "metadata": {},
   "outputs": [
    {
     "data": {
      "text/plain": [
       "46"
      ]
     },
     "execution_count": 30,
     "metadata": {},
     "output_type": "execute_result"
    }
   ],
   "source": [
    "url = 'https://raw.githubusercontent.com/bykov-alexei/data-science-course/master/Python3/moscow%20schools%20-%20winners.csv'\n",
    "#winners.csv\n",
    "df = pd.read_csv(url)\n",
    "df.query('Stage == \"4\" & Status == \"победитель\" & Subject == \"Математика\"').shape[0]"
   ]
  },
  {
   "cell_type": "code",
   "execution_count": null,
   "metadata": {},
   "outputs": [],
   "source": [
    "# save csv\n",
    "# df.to_csv('winners.csv') # --> winners.csv\n"
   ]
  },
  {
   "cell_type": "markdown",
   "metadata": {},
   "source": [
    "На вход программе передается число n, необходимо<br>\n",
    "\n",
    "Создать двумерный квадратный массив нулей с помощью np.zeros((n, n))<br>\n",
    "В этом массиве заполнить побочную диагональ единицами<br>\n",
    "Вывести этот массив<br>\n",
    "Sample Input:<br>\n",
    "\n",
    "3<br>\n",
    "Sample Output:<br>\n",
    "\n",
    "0 0 1 <br>\n",
    "0 1 0 <br>\n",
    "1 0 0 <br>"
   ]
  },
  {
   "cell_type": "code",
   "execution_count": 48,
   "metadata": {},
   "outputs": [
    {
     "name": "stdout",
     "output_type": "stream",
     "text": [
      "3\n",
      "0 0 1 \n",
      "0 1 0 \n",
      "1 0 0 \n"
     ]
    }
   ],
   "source": [
    "import numpy as np\n",
    "a= np.eye(int(input())).tolist()\n",
    "\n",
    "list.reverse\n",
    "for i in a:\n",
    "    lst = [str(int(_)) for _ in i]\n",
    "    lst.reverse()\n",
    "    print(*lst, end=' \\n')"
   ]
  },
  {
   "cell_type": "code",
   "execution_count": null,
   "metadata": {},
   "outputs": [],
   "source": [
    "# import numpy as np\n",
    "\n",
    "# A = np.eye(int(input()))\n",
    "# [print(*el, end=' \\n') for el in np.rot90(A.astype(int))]"
   ]
  },
  {
   "cell_type": "markdown",
   "metadata": {},
   "source": [
    "На вход программе передается число n, необходимо<br>\n",
    "\n",
    "Создать двумерный квадратный массив нулей с помощью np.zeros((n, n))<br>\n",
    "В этом массиве заполнить главную диагональ единицами<br>\n",
    "Вывести этот массив<br>\n",
    "Sample Input:<br>\n",
    "\n",
    "3<br>\n",
    "Sample Output:<br>\n",
    "\n",
    "1 0 0 <br>\n",
    "0 1 0 <br>\n",
    "0 0 1 <br>"
   ]
  },
  {
   "cell_type": "code",
   "execution_count": 34,
   "metadata": {},
   "outputs": [
    {
     "name": "stdout",
     "output_type": "stream",
     "text": [
      "3\n",
      "1 0 0 \n",
      "0 1 0 \n",
      "0 0 1 \n"
     ]
    }
   ],
   "source": [
    "import numpy as np\n",
    "a= np.eye(int(input())).tolist()\n",
    "\n",
    "\n",
    "for i in a:\n",
    "    print(*[str(int(_)) for _ in i], end=' \\n')"
   ]
  },
  {
   "cell_type": "markdown",
   "metadata": {},
   "source": [
    "# ЗАДАЧА\n",
    "В переменной arr записан numpy-массив, Ваша задача вывести из него только те числа, которые при умножении на 3 дают остаток от деления на 6 число 3\n",
    "\n",
    "Sample Input:\n",
    "\n",
    "1 2 3 4 5 6 7 8 9 10 11 12 13 14 15 16 17 18 19 20 21\n",
    "Sample Output:\n",
    "\n",
    "1 3 5 7 9 11 13 15 17 19 21"
   ]
  },
  {
   "cell_type": "code",
   "execution_count": null,
   "metadata": {},
   "outputs": [],
   "source": [
    "arr = np.array([1, 2, 3, 4, 5, 6, 7, 8, 9, 10, 11, 12, 13, 14, 15, 16, 17, 18, 19, 20, 21])\n",
    "\n",
    "print(*arr[arr*3%6==3].tolist())"
   ]
  },
  {
   "cell_type": "markdown",
   "metadata": {},
   "source": [
    "# ЗАДАЧА\n",
    "На вход программе дано число n, затем в n строках записан двумерный массив. Ваша задача найти сумму чисел в каждой колонке массива.\n",
    "\n",
    "Sample Input:<br>\n",
    "\n",
    "3<br>\n",
    "1 2 3<br>\n",
    "1 2 3<br>\n",
    "10 20 30<br>\n",
    "Sample Output:<br>\n",
    "\n",
    "12 24 36<br>"
   ]
  },
  {
   "cell_type": "code",
   "execution_count": 104,
   "metadata": {},
   "outputs": [
    {
     "name": "stdout",
     "output_type": "stream",
     "text": [
      "12 24 36\n"
     ]
    }
   ],
   "source": [
    "n = '3'\n",
    "m = '1 2 3'\n",
    "o = '1 2 3'\n",
    "p = '10 20 30'\n",
    "l = [m, o, p]\n",
    "lst = []\n",
    "for i in l:\n",
    "    lst.append(i.split())\n",
    "array = np.array(lst, int).sum(axis=0)\n",
    "print(*array)"
   ]
  },
  {
   "cell_type": "code",
   "execution_count": null,
   "metadata": {},
   "outputs": [],
   "source": [
    "import numpy as np\n",
    "lst = []\n",
    "for i in range(int(input())):\n",
    "    lst.append(input().split())\n",
    "    \n",
    "array = np.array(lst, int).sum(axis=0)\n",
    "print(*array)"
   ]
  },
  {
   "cell_type": "code",
   "execution_count": 106,
   "metadata": {},
   "outputs": [],
   "source": [
    "# n, *s = map(int, open(0).read().split())"
   ]
  },
  {
   "cell_type": "code",
   "execution_count": null,
   "metadata": {},
   "outputs": [],
   "source": [
    "import numpy as np\n",
    "\n",
    "lst = [input().split() for _ in range(int(input()))]\n",
    "    \n",
    "array = np.array(lst, int).sum(axis=1)\n",
    "\n",
    "print(*array)"
   ]
  },
  {
   "cell_type": "markdown",
   "metadata": {},
   "source": [
    "На вход программе дан ряд чисел, чисел может быть сколько угодно. Ваша задача найти среднее арифметическое для данного ряда\n",
    "\n",
    "Ответ округлите до 1 знака после запятой (можно использовать np.round)\n",
    "\n",
    "Sample Input:\n",
    "\n",
    "1 4 3 2 5\n",
    "Sample Output:\n",
    "\n",
    "3.0"
   ]
  },
  {
   "cell_type": "code",
   "execution_count": null,
   "metadata": {},
   "outputs": [],
   "source": [
    "import numpy as np\n",
    "array  = np.array(input().split(), int)\n",
    "print(np.round(array.mean(), 1))"
   ]
  },
  {
   "cell_type": "markdown",
   "metadata": {},
   "source": [
    "На вход программе дан ряд чисел, чисел может быть сколько угодно. Ваша задача найти медиану для данного ряда\n",
    "\n",
    "Ответ округлите до 1 знака после запятой (можно использовать np.round)\n",
    "\n",
    "Sample Input:\n",
    "\n",
    "1000 2 1 1 3 5 1 1000 1000\n",
    "Sample Output:\n",
    "\n",
    "3.0"
   ]
  },
  {
   "cell_type": "code",
   "execution_count": null,
   "metadata": {},
   "outputs": [],
   "source": [
    "import numpy as np\n",
    "array  = np.array(input().split(), int)\n",
    "print(np.round(np.median(array), 1))"
   ]
  },
  {
   "cell_type": "markdown",
   "metadata": {},
   "source": [
    "На вход программе дано число n, затем в n строках записан двумерный массив. Ваша задача найти средние арифметические чисел в каждой строчке массива, затем на второй строчке вывести средние арифметические в каждой колонке массива<br>\n",
    "\n",
    "Числа нужно округлить до 1-го знака после запятой<br>\n",
    "\n",
    "Sample Input:<br>\n",
    "\n",
    "3<br>\n",
    "1 2 3<br>\n",
    "1 2 3<br>\n",
    "1 2 3<br>\n",
    "Sample Output:<br>\n",
    "\n",
    "2.0 2.0 2.0<br>\n",
    "1.0 2.0 3.0<br>"
   ]
  },
  {
   "cell_type": "code",
   "execution_count": null,
   "metadata": {},
   "outputs": [],
   "source": [
    "from IPython.display import display, HTML\n",
    "display(HTML(df.to_html()))"
   ]
  },
  {
   "cell_type": "markdown",
   "metadata": {},
   "source": [
    "На вход программе дан ряд чисел, чисел может быть сколько угодно. Ваша задача найти <u><i><b>моду</b></i></u> для данного ряда<br>\n",
    "\n",
    "Sample Input:<br>\n",
    "\n",
    "1 1 2 2 3 3 3<br>\n",
    "Sample Output:<br>\n",
    "\n",
    "3<br>"
   ]
  },
  {
   "cell_type": "code",
   "execution_count": null,
   "metadata": {},
   "outputs": [],
   "source": [
    "import numpy as np\n",
    "\n",
    "array  = np.array(input().split(), int)\n",
    "\n",
    "vals,counts = np.unique(array, return_counts=True)\n",
    "index = np.argmax(counts)\n",
    "print(vals[index])"
   ]
  },
  {
   "cell_type": "code",
   "execution_count": null,
   "metadata": {},
   "outputs": [],
   "source": [
    "import pandas as pd\n",
    "\n",
    "numbers = pd.Series([int(i) for i in input().split()])\n",
    "print(numbers.mode()[0])"
   ]
  },
  {
   "cell_type": "code",
   "execution_count": null,
   "metadata": {},
   "outputs": [],
   "source": [
    "from statistics import mode\n",
    "print(mode(input().split()))"
   ]
  },
  {
   "cell_type": "markdown",
   "metadata": {},
   "source": [
    "На вход программе дан ряд чисел, чисел может быть сколько угодно. Ваша задача найти размах для данного ряда<br>\n",
    "\n",
    "Sample Input:<br>\n",
    "\n",
    "1 3 2<br>\n",
    "Sample Output:<br>\n",
    "\n",
    "2<br>"
   ]
  },
  {
   "cell_type": "code",
   "execution_count": null,
   "metadata": {},
   "outputs": [],
   "source": [
    "import numpy as np\n",
    "array  = np.array(input().split(), int)\n",
    "print(array.max()-array.min())"
   ]
  },
  {
   "cell_type": "code",
   "execution_count": null,
   "metadata": {},
   "outputs": [],
   "source": [
    "A = np.array(input().split(), int)\n",
    "print(np.ptp(A))"
   ]
  },
  {
   "cell_type": "markdown",
   "metadata": {},
   "source": [
    "На вход программе дан ряд чисел, чисел может быть сколько угодно. Ваша задача найти среднеквадратичное отклонение для данного ряда\n",
    "\n",
    "Ответ округлите до 1 знака после запятой (можно использовать np.round)<br>\n",
    "\n",
    "Sample Input:<br>\n",
    "\n",
    "5 5 5 10 10 10 0 0 0<br>\n",
    "Sample Output:<br>\n",
    "<br>\n",
    "4.1"
   ]
  },
  {
   "cell_type": "code",
   "execution_count": 111,
   "metadata": {},
   "outputs": [
    {
     "name": "stdout",
     "output_type": "stream",
     "text": [
      "4.1\n"
     ]
    }
   ],
   "source": [
    "# array  = np.array(input().split(), int)\n",
    "array = '5 5 5 10 10 10 0 0 0'\n",
    "array  = np.array(array.split(), int)\n",
    "import numpy as np\n",
    "array  = np.array(input().split(), int)\n",
    "print(np.round(array.std(),1))"
   ]
  },
  {
   "cell_type": "code",
   "execution_count": null,
   "metadata": {},
   "outputs": [],
   "source": [
    "from statistics import pstdev\n",
    "print(round(pstdev(map(int,input().split())), 1))"
   ]
  },
  {
   "cell_type": "markdown",
   "metadata": {},
   "source": [
    "В переменную arr записан двумерный numpy-массив. Выведите элементы из второй строчки.\n",
    "\n",
    "Чтобы вывести список можно воспользоваться такой конструкцией:\n",
    "\n",
    "print(*lst)\n",
    "Sample Input:\n",
    "\n",
    "1 2 3 4\n",
    "5 6 7 8\n",
    "9 10 11 12\n",
    "13 14 15 16\n",
    "Sample Output:\n",
    "\n",
    "5 6 7 8"
   ]
  },
  {
   "cell_type": "code",
   "execution_count": 115,
   "metadata": {},
   "outputs": [
    {
     "name": "stdout",
     "output_type": "stream",
     "text": [
      "5 6 7 8\n"
     ]
    }
   ],
   "source": [
    "lst = [[ 1,  2,  3,  4], [ 5,  6,  7,  8],  [ 9, 10, 11, 12],  [13, 14, 15, 16]]\n",
    "print(*lst[1])"
   ]
  },
  {
   "cell_type": "markdown",
   "metadata": {},
   "source": [
    "В переменную arr записан двумерный numpy-массив. Выведите элементы из второй колонки.\n",
    "\n",
    "Чтобы вывести список можно воспользоваться такой конструкцией:\n",
    "\n",
    "print(*lst)\n",
    "Sample Input:\n",
    "\n",
    "1 2 3 4\n",
    "5 6 7 8\n",
    "9 10 11 12\n",
    "13 14 15 16\n",
    "Sample Output:\n",
    "\n",
    "2 6 10 14"
   ]
  },
  {
   "cell_type": "code",
   "execution_count": 124,
   "metadata": {},
   "outputs": [
    {
     "name": "stdout",
     "output_type": "stream",
     "text": [
      "2 6 10 14\n"
     ]
    }
   ],
   "source": [
    "array = np.array(lst).T[1]\n",
    "print(*array)"
   ]
  },
  {
   "cell_type": "markdown",
   "metadata": {},
   "source": [
    "В переменную arr записан двумерный numpy-массив. Выведите элементы находящиеся на диагонали.\n",
    "\n",
    "Чтобы вывести список можно воспользоваться такой конструкцией:\n",
    "\n",
    "print(*lst)\n",
    "Sample Input:\n",
    "\n",
    "1 2 3 4\n",
    "5 6 7 8\n",
    "9 10 11 12\n",
    "13 14 15 16\n",
    "Sample Output:\n",
    "\n",
    "1 6 11 16"
   ]
  },
  {
   "cell_type": "code",
   "execution_count": 137,
   "metadata": {},
   "outputs": [
    {
     "data": {
      "text/plain": [
       "array([1, 1])"
      ]
     },
     "execution_count": 137,
     "metadata": {},
     "output_type": "execute_result"
    }
   ],
   "source": [
    "arr = [[1, 2, 4], [0, 1, 1]]\n",
    "import numpy as np\n",
    "arr = np.array(arr)\n",
    "np.diagonal(arr)"
   ]
  },
  {
   "cell_type": "markdown",
   "metadata": {},
   "source": [
    "В переменную arr записан двумерный массив, выведите все элементы, которые больше 20                         \n",
    "\n",
    "Sample Input:\n",
    "\n",
    "1 20 31\n",
    "21 2 44\n",
    "21 21 21\n",
    "Sample Output:\n",
    "\n",
    "31 21 44 21 21 21"
   ]
  },
  {
   "cell_type": "code",
   "execution_count": null,
   "metadata": {},
   "outputs": [],
   "source": [
    "import numpy as np\n",
    "print(*arr[arr>20])"
   ]
  },
  {
   "cell_type": "markdown",
   "metadata": {},
   "source": [
    "В переменную arr записан двумерный массив, выведите все элементы, которые больше 20 и меньше 30\n",
    "\n",
    "Sample Input:\n",
    "\n",
    "1 20 31\n",
    "21 2 44\n",
    "21 21 21\n",
    "Sample Output:\n",
    "\n",
    "21 21 21 21"
   ]
  },
  {
   "cell_type": "code",
   "execution_count": null,
   "metadata": {},
   "outputs": [],
   "source": [
    "import numpy as np\n",
    "print(*arr[(arr>20)&(arr<30)])"
   ]
  },
  {
   "cell_type": "markdown",
   "metadata": {},
   "source": [
    "В переменную arr записан двумерный массив, посчитайте сумму чисел в каждой строчке \n",
    "\n",
    "Sample Input:\n",
    "\n",
    "1 2 3\n",
    "3 4 5\n",
    "6 7 8\n",
    "Sample Output:\n",
    "\n",
    "6 12 21"
   ]
  },
  {
   "cell_type": "code",
   "execution_count": null,
   "metadata": {},
   "outputs": [],
   "source": [
    "import numpy as np\n",
    "array = np.array(arr)\n",
    "print(*array.sum(axis=1))"
   ]
  },
  {
   "cell_type": "markdown",
   "metadata": {},
   "source": [
    "В переменную arr записан двумерный массив, посчитайте сумму чисел в каждой колонке \n",
    "\n",
    "Sample Input:\n",
    "\n",
    "1 2 3\n",
    "3 4 5\n",
    "6 7 8\n",
    "Sample Output:\n",
    "\n",
    "10 13 16"
   ]
  },
  {
   "cell_type": "code",
   "execution_count": null,
   "metadata": {},
   "outputs": [],
   "source": [
    "import numpy as np\n",
    "array = np.array(arr)\n",
    "print(*array.sum(axis=0))"
   ]
  },
  {
   "cell_type": "markdown",
   "metadata": {},
   "source": [
    "В переменную arr записан двумерный массив, посчитайте среднее арифметическое чисел в массиве. Ответ округлите с помощью np.round()\n",
    "\n",
    "Sample Input:\n",
    "\n",
    "4 0 3\n",
    "7 16 10\n",
    "6 6 12\n",
    "Sample Output:\n",
    "\n",
    "7.0"
   ]
  },
  {
   "cell_type": "code",
   "execution_count": 17,
   "metadata": {},
   "outputs": [
    {
     "data": {
      "text/plain": [
       "7.0"
      ]
     },
     "execution_count": 17,
     "metadata": {},
     "output_type": "execute_result"
    }
   ],
   "source": [
    "import numpy as np\n",
    "array = np.array([[4, 0, 3 ],[7, 16, 10], [6, 6, 12]])\n",
    "i, f = divmod(array.mean(), 1)\n",
    "float(i)\n",
    "import numpy as np\n",
    "array = np.array(arr)\n",
    "print(np.round(array.mean(), 0))"
   ]
  },
  {
   "cell_type": "markdown",
   "metadata": {},
   "source": [
    "В переменную arr записан двумерный массив, посчитайте среднее арифметическое чисел в каждой колонке. Ответ округлите с помощью np.round()\n",
    "\n",
    "Sample Input:\n",
    "\n",
    "18 6 1\n",
    "8 19 1\n",
    "10 9 12\n",
    "Sample Output:\n",
    "\n",
    "12.0 11.0 5.0"
   ]
  },
  {
   "cell_type": "code",
   "execution_count": null,
   "metadata": {},
   "outputs": [],
   "source": [
    "import numpy as np\n",
    "array = np.array(arr)\n",
    "print(*array.mean(axis=0).round(0))"
   ]
  },
  {
   "cell_type": "markdown",
   "metadata": {},
   "source": [
    "По файлу определите среднее арифметическое в первой, двадцатой и последней колонке. Числа округлите до целого и запишите через пробел"
   ]
  },
  {
   "cell_type": "code",
   "execution_count": 38,
   "metadata": {},
   "outputs": [
    {
     "data": {
      "text/plain": [
       "0      48.803\n",
       "19     50.439\n",
       "998    49.077\n",
       "dtype: float64"
      ]
     },
     "execution_count": 38,
     "metadata": {},
     "output_type": "execute_result"
    }
   ],
   "source": [
    "url = 'https://raw.githubusercontent.com/bykov-alexei/data-science-course/master/Numpy/array.txt'\n",
    "import pandas as pd\n",
    "df = pd.read_table(url, ' ')\n",
    "df.iloc[[0,19,-1],].T.apply('mean')"
   ]
  },
  {
   "cell_type": "code",
   "execution_count": 76,
   "metadata": {},
   "outputs": [],
   "source": [
    "import numpy\n",
    "url = 'https://raw.githubusercontent.com/bykov-alexei/data-science-course/master/Numpy/array.txt'\n",
    "a = numpy.loadtxt(url)\n",
    "print(a.T[[0,19,-1]].mean(axis=1).astype(int))"
   ]
  },
  {
   "cell_type": "code",
   "execution_count": 88,
   "metadata": {},
   "outputs": [
    {
     "name": "stdout",
     "output_type": "stream",
     "text": [
      "[49 49 50]\n"
     ]
    }
   ],
   "source": []
  },
  {
   "cell_type": "code",
   "execution_count": 89,
   "metadata": {},
   "outputs": [
    {
     "name": "stdout",
     "output_type": "stream",
     "text": [
      "49 49 50\n"
     ]
    }
   ],
   "source": [
    "url = 'https://raw.githubusercontent.com/bykov-alexei/data-science-course/master/Numpy/array.txt'\n",
    "data = np.loadtxt(url, usecols=(0, 19, -1), delimiter=' ', dtype=float)\n",
    "print(*data.mean(axis=0).astype(int))"
   ]
  },
  {
   "cell_type": "markdown",
   "metadata": {},
   "source": [
    "По файлу определите среднее арифметическое в первой, тридцатой и последней строчке. Числа округлите до целого и запишите через пробел"
   ]
  },
  {
   "cell_type": "code",
   "execution_count": 97,
   "metadata": {},
   "outputs": [
    {
     "name": "stdout",
     "output_type": "stream",
     "text": [
      "50 49 49\n"
     ]
    }
   ],
   "source": [
    "arr = numpy.load('array2.npy')\n",
    "print(*arr[[0,29,-1]].mean(axis=1).astype(int))"
   ]
  },
  {
   "cell_type": "code",
   "execution_count": 98,
   "metadata": {},
   "outputs": [
    {
     "name": "stdout",
     "output_type": "stream",
     "text": [
      "50 49 49\n"
     ]
    }
   ],
   "source": [
    "import numpy as np\n",
    "from urllib.request import urlopen\n",
    "from io import BytesIO\n",
    "\n",
    "url = 'https://github.com/bykov-alexei/data-science-course/blob/master/Numpy/array2.npy?raw=true'\n",
    "raw = BytesIO(urlopen(url).read())\n",
    "arr = np.load(raw)\n",
    "print(*(arr[x].mean().astype(int) for x in (0, 29, -1)))"
   ]
  },
  {
   "cell_type": "markdown",
   "metadata": {},
   "source": [
    "В файле содержится информация о избирателях некоторого округа, записанные в три массива names, surnames и ages. Определите кол-во уникальных имён содержащихся в файле"
   ]
  },
  {
   "cell_type": "code",
   "execution_count": 136,
   "metadata": {},
   "outputs": [
    {
     "data": {
      "text/html": [
       "<div>\n",
       "<style scoped>\n",
       "    .dataframe tbody tr th:only-of-type {\n",
       "        vertical-align: middle;\n",
       "    }\n",
       "\n",
       "    .dataframe tbody tr th {\n",
       "        vertical-align: top;\n",
       "    }\n",
       "\n",
       "    .dataframe thead th {\n",
       "        text-align: right;\n",
       "    }\n",
       "</style>\n",
       "<table border=\"1\" class=\"dataframe\">\n",
       "  <thead>\n",
       "    <tr style=\"text-align: right;\">\n",
       "      <th></th>\n",
       "      <th>names</th>\n",
       "      <th>surnames</th>\n",
       "      <th>ages</th>\n",
       "    </tr>\n",
       "  </thead>\n",
       "  <tbody>\n",
       "    <tr>\n",
       "      <th>0</th>\n",
       "      <td>Taylor</td>\n",
       "      <td>Smith</td>\n",
       "      <td>18</td>\n",
       "    </tr>\n",
       "    <tr>\n",
       "      <th>1</th>\n",
       "      <td>John</td>\n",
       "      <td>Johnson</td>\n",
       "      <td>40</td>\n",
       "    </tr>\n",
       "    <tr>\n",
       "      <th>2</th>\n",
       "      <td>Ann</td>\n",
       "      <td>Smith</td>\n",
       "      <td>48</td>\n",
       "    </tr>\n",
       "    <tr>\n",
       "      <th>3</th>\n",
       "      <td>Ann</td>\n",
       "      <td>Davis</td>\n",
       "      <td>33</td>\n",
       "    </tr>\n",
       "    <tr>\n",
       "      <th>4</th>\n",
       "      <td>Alex</td>\n",
       "      <td>Swift</td>\n",
       "      <td>18</td>\n",
       "    </tr>\n",
       "    <tr>\n",
       "      <th>...</th>\n",
       "      <td>...</td>\n",
       "      <td>...</td>\n",
       "      <td>...</td>\n",
       "    </tr>\n",
       "    <tr>\n",
       "      <th>995</th>\n",
       "      <td>Taylor</td>\n",
       "      <td>Brown</td>\n",
       "      <td>27</td>\n",
       "    </tr>\n",
       "    <tr>\n",
       "      <th>996</th>\n",
       "      <td>John</td>\n",
       "      <td>Davis</td>\n",
       "      <td>64</td>\n",
       "    </tr>\n",
       "    <tr>\n",
       "      <th>997</th>\n",
       "      <td>John</td>\n",
       "      <td>Davis</td>\n",
       "      <td>72</td>\n",
       "    </tr>\n",
       "    <tr>\n",
       "      <th>998</th>\n",
       "      <td>Robert</td>\n",
       "      <td>Johnson</td>\n",
       "      <td>40</td>\n",
       "    </tr>\n",
       "    <tr>\n",
       "      <th>999</th>\n",
       "      <td>Francois</td>\n",
       "      <td>Brown</td>\n",
       "      <td>58</td>\n",
       "    </tr>\n",
       "  </tbody>\n",
       "</table>\n",
       "<p>1000 rows × 3 columns</p>\n",
       "</div>"
      ],
      "text/plain": [
       "        names surnames  ages\n",
       "0      Taylor    Smith    18\n",
       "1        John  Johnson    40\n",
       "2         Ann    Smith    48\n",
       "3         Ann    Davis    33\n",
       "4        Alex    Swift    18\n",
       "..        ...      ...   ...\n",
       "995    Taylor    Brown    27\n",
       "996      John    Davis    64\n",
       "997      John    Davis    72\n",
       "998    Robert  Johnson    40\n",
       "999  Francois    Brown    58\n",
       "\n",
       "[1000 rows x 3 columns]"
      ]
     },
     "execution_count": 136,
     "metadata": {},
     "output_type": "execute_result"
    }
   ],
   "source": [
    "url = 'https://github.com/bykov-alexei/data-science-course/blob/master/Numpy/data.npz?raw=true'\n",
    "from urllib.request import urlopen\n",
    "from io import BytesIO\n",
    "import pandas as pd\n",
    "load = BytesIO(urlopen(url).read())\n",
    "npz = np.load(load)\n",
    "df= pd.DataFrame.from_dict({item: npz[item] for item in npz.files}, orient='columns')\n",
    "len(df.names.unique())"
   ]
  },
  {
   "cell_type": "markdown",
   "metadata": {},
   "source": [
    "В файле содержится информация о избирателях некоторого округа, записанные в три массива names, surnames и ages. Определите кол-во избирателей старше 50 лет"
   ]
  },
  {
   "cell_type": "code",
   "execution_count": 142,
   "metadata": {},
   "outputs": [
    {
     "data": {
      "text/plain": [
       "535"
      ]
     },
     "execution_count": 142,
     "metadata": {},
     "output_type": "execute_result"
    }
   ],
   "source": [
    "url ='https://github.com/bykov-alexei/data-science-course/blob/master/Numpy/data.npz?raw=true'\n",
    "from urllib.request import urlopen\n",
    "from io import BytesIO\n",
    "import pandas as pd\n",
    "load = BytesIO(urlopen(url).read())\n",
    "npz = np.load(load)\n",
    "df= pd.DataFrame.from_dict({item: npz[item] for item in npz.files}, orient='columns')\n",
    "len(df[df.ages>50])"
   ]
  },
  {
   "cell_type": "code",
   "execution_count": 144,
   "metadata": {},
   "outputs": [
    {
     "name": "stdout",
     "output_type": "stream",
     "text": [
      "535\n"
     ]
    }
   ],
   "source": [
    "print(len(npz['ages'][npz['ages'] > 50]))"
   ]
  },
  {
   "cell_type": "markdown",
   "metadata": {},
   "source": [
    "В файле содержится информация о избирателях некоторого округа, записанные в три массива names, surnames и ages. Определите кол-во избирателей c фамилией Smith, именем John и возрастом младше 40."
   ]
  },
  {
   "cell_type": "code",
   "execution_count": 147,
   "metadata": {},
   "outputs": [
    {
     "data": {
      "text/plain": [
       "names       3\n",
       "surnames    3\n",
       "ages        3\n",
       "dtype: int64"
      ]
     },
     "execution_count": 147,
     "metadata": {},
     "output_type": "execute_result"
    }
   ],
   "source": [
    "url = 'https://github.com/bykov-alexei/data-science-course/blob/master/Numpy/data.npz?raw=true'\n",
    "from io import BytesIO\n",
    "import pandas as pd\n",
    "load = BytesIO(urlopen(url).read())\n",
    "npz = np.load(load)\n",
    "df.query('ages < 40 & names == \"John\" & surnames == \"Smith\"').count()\n",
    "# print(len(npz['ages'][npz['ages'] < 40][npz['names'] == 'John']))"
   ]
  },
  {
   "cell_type": "code",
   "execution_count": 148,
   "metadata": {},
   "outputs": [
    {
     "name": "stdout",
     "output_type": "stream",
     "text": [
      "3\n"
     ]
    }
   ],
   "source": [
    "print(sum((npz['names'] == 'John') & (npz['surnames'] == 'Smith') & (npz['ages'] < 40)))"
   ]
  },
  {
   "cell_type": "markdown",
   "metadata": {},
   "source": [
    "Напишите функцию перемножения двух матриц по следующем алгоритму:<br>\n",
    "\n",
    "1. Проверяем что кол-во колонок в первой матрице равно кол-ву строчек во второй<br>\n",
    "\n",
    "2. Считаем размер матрицы с результатом -> (кол-во строк первой, кол-во колонок второй)<br>\n",
    "\n",
    "3. Создаем матрицу с результатом из нулей<br>\n",
    "\n",
    "4. Перебираем строчки первой матрицы (i)<br>\n",
    "\n",
    "5. Внутри перебираем колонки второй матрицы (j)<br>\n",
    "\n",
    "6. перемножаем i-ую строку и j-ую колонку. Результат ставим на место (i, j)<br>\n",
    "\n",
    "7. Должна получиться верная матрица<br>\n",
    "\n",
    "Ввод/Вывод делать не нужно<br>\n",
    "\n",
    "Sample Input:<br>\n",
    "\n",
    "3 2 3<br>\n",
    "2 1<br>\n",
    "3 3<br>\n",
    "-1 2<br>\n",
    "-5 1 1<br>\n",
    "3 -2 1<br>\n",
    "Sample Output:<br>\n",
    "\n",
    "-7 0 3 <br>\n",
    "-6 -3 6 <br>\n",
    "11 -5 1 <br>"
   ]
  },
  {
   "cell_type": "markdown",
   "metadata": {},
   "source": [
    "# НЕ РЕШЕННАЯ\n",
    "//https://stepik.org/lesson/617019/step/1?unit=612487\n",
    "import numpy as np\n",
    "o = np.array([[2, 1], [3, 3], [-1, 2]])\n",
    "t = np. array([[3, 2, 3], [-5, 1, 1], [3, -2, 1]])\n",
    "o.T"
   ]
  },
  {
   "cell_type": "markdown",
   "metadata": {},
   "source": [
    "Дополнительная задача<br>\n",
    "\n",
    "На вход программе передается число n, затем в n строчках матрица. Вам необходимо посчитать ее определитель. Алгоритм можно посмотреть тут. (http://mathprofi.ru/kak_vychislit_opredelitel.html)<br>\n",
    "\n",
    "Sample Input:<br>\n",
    "\n",
    "4<br>\n",
    "1 2 3 4<br>\n",
    "8 10 11 12<br>\n",
    "7 1 9 8<br>\n",
    "3 5 1 -2<br>\n",
    "Sample Output:<br>\n",
    "\n",
    "218<br>"
   ]
  },
  {
   "cell_type": "code",
   "execution_count": 13,
   "metadata": {},
   "outputs": [
    {
     "data": {
      "text/plain": [
       "217.99999999999977"
      ]
     },
     "execution_count": 13,
     "metadata": {},
     "output_type": "execute_result"
    }
   ],
   "source": [
    "import numpy as np\n",
    "from numpy import linalg as LA\n",
    " \n",
    "lst = [input().split() for _ in range(int(input()))]\n",
    "array = np.array(lst, int)\n",
    "print(int(np.round(LA.det(array))))"
   ]
  },
  {
   "cell_type": "code",
   "execution_count": null,
   "metadata": {},
   "outputs": [],
   "source": []
  }
 ],
 "metadata": {
  "kernelspec": {
   "display_name": "Python 3",
   "language": "python",
   "name": "python3"
  },
  "language_info": {
   "codemirror_mode": {
    "name": "ipython",
    "version": 3
   },
   "file_extension": ".py",
   "mimetype": "text/x-python",
   "name": "python",
   "nbconvert_exporter": "python",
   "pygments_lexer": "ipython3",
   "version": "3.7.0"
  }
 },
 "nbformat": 4,
 "nbformat_minor": 2
}
