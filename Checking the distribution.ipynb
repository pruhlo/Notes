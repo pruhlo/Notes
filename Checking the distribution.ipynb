{
 "cells": [
  {
   "cell_type": "markdown",
   "id": "e24f38ab",
   "metadata": {},
   "source": [
    "<p style=\"font-family: Arials; line-height: 2; font-size: 24px; font-weight: bold; letter-spacing: 2px; text-align: center; color: #10e02c;\"> <a href=\"#part0\" style=\"color:#d910e0; text-decoration:none;\">Checking the Distribution Data for Normality</a></p>"
   ]
  },
  {
   "cell_type": "markdown",
   "id": "499274aa",
   "metadata": {},
   "source": [
    "<p id=\"part0\"></p>\n",
    "<p style=\"font-family: Arials; line-height: 2; font-size: 24px; font-weight: bold; letter-spacing: 2px; text-align: center; color: #FF8C00;\"> <a href=\"#part0\" style=\"color:#FF8C00; text-decoration:none;\">TABLE OF CONTENT</a></p>\n",
    "\n",
    "\n",
    "<p style=\"font-family: Arials; font-size: 16px; font-style: normal; font-weight: bold; letter-spacing: 2px; color: #0099FF; line-height:1.3\"><a href=\"#part1\" style=\"color:#808080; text-decoration:none;\">Importing libraries</a></p>\n",
    "\n",
    "<p style=\"font-family: Arials; font-size: 16px; font-style: normal; font-weight: bold; letter-spacing: 2px; color: #808080; line-height:1.3\"><a href=\"#part2\" style=\"color:#808080; text-decoration:none;\">Перевірка розподілу на нормальність</a></p>\n",
    "\n",
    "<p style=\"font-family: Arials; font-size: 16px; font-style: normal; font-weight: bold; letter-spacing: 2px; color: #808080; line-height:1.3\"><a href=\"#part3\" style=\"color:#808080; text-decoration:none;\">QQ-Plot</a></p>\n",
    "\n",
    "<p style=\"font-family: Arials; font-size: 16px; font-style: normal; font-weight: bold; letter-spacing: 2px; color: #808080; line-height:1.3\"><a href=\"#part4\" style=\"color:#808080; text-decoration:none;\">Критерій Хі-квадрат Пірсона</a></p>\n"
   ]
  },
  {
   "cell_type": "markdown",
   "id": "bc7d3d57",
   "metadata": {},
   "source": [
    "<p id=\"part1\"></p>\n",
    "<p style=\"font-family: Arials; font-size: 16px; font-style: normal; font-weight: normal; letter-spacing: 3px; color: #FF8C00; line-height:1.0\">Importing libraries</p>\n",
    "\n",
    "<p style=\"text-align: right;\"><a href=\"#part0\" style=\"color:lime; text-decoration:none;\">зміст</a></p>"
   ]
  },
  {
   "cell_type": "code",
   "execution_count": 35,
   "id": "d915cc6e",
   "metadata": {},
   "outputs": [],
   "source": [
    "import warnings\n",
    "warnings.filterwarnings('ignore')\n",
    "import numpy as np\n",
    "import pandas as pd\n",
    "import pylab \n",
    "import math\n",
    "import matplotlib.pyplot as plt\n",
    "\n",
    "import scipy.stats as stats\n",
    "from scipy.stats import anderson, kstest, shapiro, chisquare\n",
    "from statsmodels.stats.diagnostic import lilliefors\n"
   ]
  },
  {
   "cell_type": "code",
   "execution_count": 36,
   "id": "ede68c10",
   "metadata": {},
   "outputs": [],
   "source": [
    "# https://stackoverflow.com/questions/20124877/css-styling-of-html-in-ipython-notebook-output\n",
    "# CSS стилі для HTML верстки блокноту:"
   ]
  },
  {
   "cell_type": "code",
   "execution_count": 37,
   "id": "42daf2af",
   "metadata": {},
   "outputs": [
    {
     "data": {
      "text/html": [
       "<style>\n",
       "    a:hover {\n",
       "      background-color: #0099FF;\n",
       "    }\n",
       "</style>\n"
      ],
      "text/plain": [
       "<IPython.core.display.HTML object>"
      ]
     },
     "metadata": {},
     "output_type": "display_data"
    }
   ],
   "source": [
    "%%html\n",
    "<style>\n",
    "    a:hover {\n",
    "      background-color: #0099FF;\n",
    "    }\n",
    "</style>"
   ]
  },
  {
   "cell_type": "markdown",
   "id": "a6ddb895",
   "metadata": {},
   "source": [
    "<p id=\"part2\"></p>\n",
    "<p style=\"font-family: Arials; font-size: 16px; font-style: normal; font-weight: normal; letter-spacing: 3px; color: #FF8C00; line-height:1.0\">Перевірка розподілу на нормальність</p>\n",
    "\n",
    "<p style=\"text-align: right;\"><a href=\"#part0\" style=\"color:lime; text-decoration:none;\">зміст</a></p>"
   ]
  },
  {
   "cell_type": "markdown",
   "id": "10163bab",
   "metadata": {},
   "source": [
    "(K-S test) - *Критерій Колмогорова-Смирнова* обчислюється при\n",
    "відомому середньому і середньоквадратичному відхиленні генеральної\n",
    "сукупності. Якщо обчислена D-статистика значуща, то гіпотеза про те, що дані\n",
    "мають нормальний розподіл, відкидається.\n",
    "\n",
    "*Критерій Ліллієфорса* ([Lilliefors test](https://en.wikipedia.org/wiki/Lilliefors_test)) - обчислюється при невідомому середньому і середньоквадратичному відхиленні (оцінюються за наявними\n",
    "даними). Якщо обчислена D-статистика значуща, то гіпотеза про те, що дані\n",
    "мають нормальний розподіл, відкидається. Даний критерій - модифікація критерію Колмогорова-Смирнова\n",
    "\n",
    "*Критерій Шапіро-Уїлка* (Shapiro – Wilk’s) W test –W - за даними спостережень\n",
    "обчислюється W-статистика, і якщо вона значуща, гіпотеза про нормальний\n",
    "характер розподілу відкидається, інакше – приймається.\n",
    "\n",
    "*Критерій Андерсона — Дарлінга* ([Anderson–Darling](https://uk.wikipedia.org/wiki/Критерій_Андерсона_—_Дарлінга)) - класичний непараметричний критерій узгодженості призначений для перевірки простих гіпотез про належність аналізованої вибірки повністю відомому закону (про узгодженість емпіричного розподілення $\\displaystyle F_{n}(x)$ і теоретичного закону $\\displaystyle F(x,\\theta )$) , тобто для перевірки гіпотези вигляду $\\displaystyle H_{0}:F_{n}(x)=F(x,\\theta )$ з відомим вектором параметрів теоретичного закону.\n",
    "\n",
    "[Порівняння тестів на нормальність](http://mathpsy.com/2015/11/15/normality_testing/)\n"
   ]
  },
  {
   "cell_type": "code",
   "execution_count": 38,
   "id": "8646a9e5",
   "metadata": {},
   "outputs": [],
   "source": [
    "# Сгенеруємо вибірку нормального розподілу з математичним очікуванням та стандартним відхиленням\n",
    "mean = 0  # математичним очікування\n",
    "sd = 1    # стандартне відхилення\n",
    "\n",
    "sample = np.random.normal(loc=mean, scale=sd, size=50)\n",
    "\n",
    "# Створимо іншу вибірку на основі першої бутстрап методом\n",
    "sample_two = []\n",
    "for i in range(len(sample)):\n",
    "    frac_sample = pd.Series(sample).sample(frac=0.9)\n",
    "    sample_two.append(frac_sample.mean())"
   ]
  },
  {
   "cell_type": "code",
   "execution_count": 39,
   "id": "6b06b0bc",
   "metadata": {},
   "outputs": [],
   "source": [
    "# Нульова гіпотеза свідчить про те що вибірки не відрізняються за розподілом з нормальним\n",
    "# Тож при значенні p value < 0.05 - розподіл не схожий на нормальний\n",
    "\n",
    "def conclusions(test):\n",
    "    def wraper(sample):\n",
    "        statistic, pvalue = test(sample)\n",
    "        if pvalue < 0.05:\n",
    "            print(f'{statistic=} {pvalue=} < 0.05, data does NOT look NORMAL (reject H0)')\n",
    "            print('!!!')\n",
    "        else:\n",
    "            print(f'{statistic=:0.2f} {pvalue=:0.2f} > 0.05, data looks NORMAL (fail to reject H0)')\n",
    "    return wraper\n",
    "\n",
    "# Критерій Шапіро-Уїлка        \n",
    "@conclusions        \n",
    "def Shapiro(sample):\n",
    "    print('ShapiroResult')\n",
    "    statistic, pvalue = stats.shapiro(sample)\n",
    "    return statistic, pvalue\n",
    "\n",
    "# Критерій Колмогорова-Смирнова \n",
    "@conclusions\n",
    "def KS(sample):\n",
    "    print('KstestResult')\n",
    "    statistic, pvalue = stats.kstest(sample, 'norm')\n",
    "    return statistic, pvalue\n",
    "\n",
    "# Критерій Лілієфорса\n",
    "@conclusions\n",
    "def Lilliefors_test(sample):\n",
    "    print('LillieforsResult')\n",
    "    statistic, pvalue = lilliefors(sample)\n",
    "    return statistic, pvalue\n",
    "    \n",
    "# Критерій Андерсона-Дарлінга\n",
    "def Anderson_Darling_test(sample):\n",
    "    print('AndersonDarlingResult')\n",
    "    result = anderson(sample)\n",
    "    print('Statistic: %.3f' % result.statistic)\n",
    "    for i in range(len(result.critical_values)):\n",
    "        sl, cv = result.significance_level[i], result.critical_values[i]\n",
    "        if result.statistic < result.critical_values[i]:\n",
    "            print('%.3f: %.3f, data looks normal (fail to reject H0)' % (sl, cv))\n",
    "        else:\n",
    "            print('%.3f: %.3f, data does not look normal (reject H0)' % (sl, cv))\n",
    "            print('!!!')"
   ]
  },
  {
   "cell_type": "code",
   "execution_count": 40,
   "id": "7f12eeeb",
   "metadata": {},
   "outputs": [
    {
     "name": "stdout",
     "output_type": "stream",
     "text": [
      "=========================A=========================\n",
      "KstestResult\n",
      "statistic=1.0 pvalue=0.0 < 0.05, data does NOT look NORMAL (reject H0)\n",
      "!!!\n",
      "LillieforsResult\n",
      "statistic=0.15 pvalue=0.49 > 0.05, data looks NORMAL (fail to reject H0)\n",
      "ShapiroResult\n",
      "statistic=0.89 pvalue=0.06 > 0.05, data looks NORMAL (fail to reject H0)\n",
      "AndersonDarlingResult\n",
      "Statistic: 0.559\n",
      "15.000: 0.498, data does not look normal (reject H0)\n",
      "!!!\n",
      "10.000: 0.568, data looks normal (fail to reject H0)\n",
      "5.000: 0.681, data looks normal (fail to reject H0)\n",
      "2.500: 0.794, data looks normal (fail to reject H0)\n",
      "1.000: 0.945, data looks normal (fail to reject H0)\n",
      "=========================B=========================\n",
      "KstestResult\n",
      "statistic=1.0 pvalue=0.0 < 0.05, data does NOT look NORMAL (reject H0)\n",
      "!!!\n",
      "LillieforsResult\n",
      "statistic=0.18 pvalue=0.21 > 0.05, data looks NORMAL (fail to reject H0)\n",
      "ShapiroResult\n",
      "statistic=0.93 pvalue=0.24 > 0.05, data looks NORMAL (fail to reject H0)\n",
      "AndersonDarlingResult\n",
      "Statistic: 0.396\n",
      "15.000: 0.498, data looks normal (fail to reject H0)\n",
      "10.000: 0.568, data looks normal (fail to reject H0)\n",
      "5.000: 0.681, data looks normal (fail to reject H0)\n",
      "2.500: 0.794, data looks normal (fail to reject H0)\n",
      "1.000: 0.945, data looks normal (fail to reject H0)\n",
      "=========================C=========================\n",
      "KstestResult\n",
      "statistic=1.0 pvalue=0.0 < 0.05, data does NOT look NORMAL (reject H0)\n",
      "!!!\n",
      "LillieforsResult\n",
      "statistic=0.15 pvalue=0.44 > 0.05, data looks NORMAL (fail to reject H0)\n",
      "ShapiroResult\n",
      "statistic=0.93 pvalue=0.26 > 0.05, data looks NORMAL (fail to reject H0)\n",
      "AndersonDarlingResult\n",
      "Statistic: 0.345\n",
      "15.000: 0.498, data looks normal (fail to reject H0)\n",
      "10.000: 0.568, data looks normal (fail to reject H0)\n",
      "5.000: 0.681, data looks normal (fail to reject H0)\n",
      "2.500: 0.794, data looks normal (fail to reject H0)\n",
      "1.000: 0.945, data looks normal (fail to reject H0)\n",
      "=========================D=========================\n",
      "KstestResult\n",
      "statistic=1.0 pvalue=0.0 < 0.05, data does NOT look NORMAL (reject H0)\n",
      "!!!\n",
      "LillieforsResult\n",
      "statistic=0.09 pvalue=0.97 > 0.05, data looks NORMAL (fail to reject H0)\n",
      "ShapiroResult\n",
      "statistic=0.99 pvalue=1.00 > 0.05, data looks NORMAL (fail to reject H0)\n",
      "AndersonDarlingResult\n",
      "Statistic: 0.110\n",
      "15.000: 0.498, data looks normal (fail to reject H0)\n",
      "10.000: 0.568, data looks normal (fail to reject H0)\n",
      "5.000: 0.681, data looks normal (fail to reject H0)\n",
      "2.500: 0.794, data looks normal (fail to reject H0)\n",
      "1.000: 0.945, data looks normal (fail to reject H0)\n"
     ]
    }
   ],
   "source": [
    "patients = pd.read_csv('https://stepik.org/media/attachments/lesson/8083/genetherapy.csv')\n",
    "for therapy, group in patients.groupby('Therapy'):\n",
    "    print(f'========================={therapy}=========================')\n",
    "    KS(group.expr)\n",
    "    Lilliefors_test(group.expr)\n",
    "    Shapiro(group.expr)\n",
    "    Anderson_Darling_test(group.expr)"
   ]
  },
  {
   "cell_type": "markdown",
   "id": "4662a6b0",
   "metadata": {},
   "source": [
    "<p id=\"part3\"></p>\n",
    "<p style=\"font-family: Arials; font-size: 16px; font-style: normal; font-weight: normal; letter-spacing: 3px; color: #FF8C00; line-height:1.0\">QQ-Plot</p>\n",
    "\n",
    "<p style=\"text-align: right;\"><a href=\"#part0\" style=\"color:lime; text-decoration:none;\">зміст</a></p>"
   ]
  },
  {
   "cell_type": "markdown",
   "id": "741949cd",
   "metadata": {},
   "source": [
    "<a href='https://habr.com/ru/post/578754/'>Q-Q Plots. Від \"чайника\" до професіонала за один гайд</a>\n",
    "\n",
    "<a href='https://www.statisticshowto.com/q-q-plots/'>Як будуються графіки QQ</a>\n",
    "\n",
    "Графік QQ (або квантиль-квантиль графік: Quantile-Quantile plots) малює кореляцію між даною вибіркою та нормальним розподілом. Також наноситься опорна лінія з точки 45 градусів. Графіки QQ використовують для візуальної перевірки нормальності даних.\n"
   ]
  },
  {
   "cell_type": "code",
   "execution_count": 41,
   "id": "a6258d4a",
   "metadata": {},
   "outputs": [
    {
     "data": {
      "image/png": "[encoded data removed]",
      "text/plain": [
       "<Figure size 921.6x345.6 with 2 Axes>"
      ]
     },
     "metadata": {
      "needs_background": "light"
     },
     "output_type": "display_data"
    },
    {
     "data": {
      "image/png": "[encoded data removed]",
      "text/plain": [
       "<Figure size 921.6x345.6 with 2 Axes>"
      ]
     },
     "metadata": {
      "needs_background": "light"
     },
     "output_type": "display_data"
    }
   ],
   "source": [
    "def QQ_and_hist(sample):\n",
    "    plt.figure(figsize = [6.4*2, 4.8])  # Створюємо фігуру qq_plot\n",
    "    plt.subplot(1, 2, 1)\n",
    "    stats.probplot(sample, dist=\"norm\", plot=plt)  # Створюємо графік QQ-plot за допомогою функції пошуку \n",
    "    #квантелів значень нашого розподілу\n",
    "\n",
    "    plt.title('QQ-plot / Квантиль-квантиль')  # Заголовок\n",
    "    plt.xlabel('Квантилі Z-розподілу')  # Підпис по осі X\n",
    "    plt.ylabel('Квантилі фактичного розподілу')  # Підпис по осі Y\n",
    "    plt.grid(True)  # Увімкнути сітку\n",
    "\n",
    "\n",
    "    # Побудуємо гістограму\n",
    "    plt.subplot(1, 2, 2)\n",
    "    n, bins, patches = plt.hist(sample, 5, density=True, facecolor='g', alpha=0.75, label='Гістограма')  # Cтроим гистограмму\n",
    "    plt.title('Гістограма розподілу')  # Заголовок\n",
    "    plt.xlabel('Проміжки спостережень')  # Підпис по осі X\n",
    "    plt.ylabel('Щільність спостережень')  # Підпис по осі Y\n",
    "    plt.text(-3, 0.35, r'$\\mu=0,\\ \\sigma=1$')  # Текстовий підпис\n",
    "    plt.grid(True)  # Увімкнути сітку\n",
    "\n",
    "\n",
    "    # Побудуємо поверх гістограми графік Z-розподілу\n",
    "    x = np.linspace(mean - 3*sd, mean + 3*sd, 1000)  # Створюємо масив значень Z-розподілу\n",
    "    plt.plot(x, stats.norm.pdf(x, mean, sd), color='red', label='Z-розподіл')  # Будуємо графік Z-розподілу\n",
    "    plt.legend()  # Показати легенду\n",
    "    plt.show()\n",
    "    \n",
    "QQ_and_hist(sample)\n",
    "QQ_and_hist(sample_two)"
   ]
  },
  {
   "cell_type": "markdown",
   "id": "abea9407",
   "metadata": {},
   "source": [
    "<p id=\"part4\"></p>\n",
    "\n",
    "<p style=\"font-family: Arials; font-size: 16px; font-style: normal; font-weight: normal; letter-spacing: 3px; color: #FF8C00; line-height:1.0\">Критерій Хі-квадрат Пірсона. Перевірка  відповідності розподілу даних до нормального розподілу</p>\n",
    "\n",
    "<p style=\"text-align: right;\"><a href=\"#part0\" style=\"color:lime; text-decoration:none;\">зміст</a></p>\n"
   ]
  },
  {
   "cell_type": "code",
   "execution_count": 42,
   "id": "c0df9a68",
   "metadata": {},
   "outputs": [],
   "source": [
    "# Розрахунки теоретичних частот нормального розподілу\n",
    "# http://mathhelpplanet.com/static.php?p=kriterii-soglasiya\n",
    "# http://mathprofi.ru/kriteriy_soglasiya.html\n",
    "# https://studfile.net/preview/5716282/page:7/\n",
    "#https://math.semestr.ru/group/hypothesis-testing.php"
   ]
  },
  {
   "cell_type": "markdown",
   "id": "c2e99171",
   "metadata": {},
   "source": [
    "# Приклад\n",
    "\n",
    "При рівні значимості 0,05 перевірити гіпотезу про нормальний розподіл генеральної сукупності, якщо відомі емпіричні та теоретичні частоти:\n",
    "\n",
    "Емпіричні частоти: 6 13 38 74 106 85 30 14\n",
    "\n",
    "Теоретичні частоти: 3 14 42 82 99 76 37 13\n",
    "\n",
    "Розрахуємо $\\chi^2$ = 7,19, Оскільки pvalue >0.05, немає підстав відкидати нульову гіпотезу. Дані спостережень узгоджуються з гіпотезою про нормальний розподіл генеральної сукупності."
   ]
  },
  {
   "cell_type": "code",
   "execution_count": 43,
   "id": "646f315a",
   "metadata": {},
   "outputs": [
    {
     "data": {
      "text/plain": [
       "Power_divergenceResult(statistic=7.194855127140108, pvalue=0.40887768586437173)"
      ]
     },
     "execution_count": 43,
     "metadata": {},
     "output_type": "execute_result"
    }
   ],
   "source": [
    "chisquare([6, 13, 38, 74, 106, 85, 30, 14], f_exp=[3, 14, 42, 82, 99, 76, 37, 13])"
   ]
  },
  {
   "cell_type": "markdown",
   "id": "5d2a60eb",
   "metadata": {},
   "source": [
    "# Розрахуємо теоретичні частоти нормального розподілу"
   ]
  },
  {
   "cell_type": "code",
   "execution_count": 44,
   "id": "e8a5fe27",
   "metadata": {},
   "outputs": [],
   "source": [
    "class FrequencyDistributionNormal():\n",
    "    \n",
    "    def __init__(self, sample):\n",
    "        self.sample = np.array(sample)\n",
    "        self.std = self.sample.std()\n",
    "        self.average = self.sample.mean()\n",
    "        self.num_intervals = self.get_num_intervals()#\n",
    "        self.min_value = self.sample.min()\n",
    "        self.max_value = self.sample.max()\n",
    "        self.step_intervals = self.get_step_intervals()\n",
    "        self.groups_intervals = self.get_groups_intervals()\n",
    "        self.index = self.groups_intervals.index\n",
    "        self.count_into_intervals, self.mean_into_intervals = self.get_counts_and_means_list()\n",
    "        self.z_score = self.get_z_score()\n",
    "        self.f_from_z_score = self.get_f_from_z_score()\n",
    "        self.frequencies = self.get_frequencies()\n",
    "        self.corrected_frequency = self.get_corrected_frequency()\n",
    "     \n",
    "         \n",
    "    def get_num_intervals(self):\n",
    "        \"\"\" кількість (m) інтервалів, яка розраховується за формулою:\n",
    "                                  m = (10 * n)^1/3, \n",
    "            де n - обсяг вибірки (кількість елементів сокупності)\"\"\"\n",
    "        return math.ceil((len(self.sample)*10)**(1/3))\n",
    "    \n",
    "    def get_step_intervals(self):\n",
    "        \"\"\" крок (h) від інтервалу до наступного інтервалу розраховується інтервал\n",
    "        за формулою                h = min - max / (m - 1),\n",
    "        де min, max - мінімальне та максимальне значення елементів виборочної сукупності\n",
    "        m - кількість інтервалів\n",
    "        \"\"\"\n",
    "        return (self.max_value - self.min_value)/(self.num_intervals-1)\n",
    "    \n",
    "    @property\n",
    "    def amount_of_intervals(self): # get amount_of_intervals value\n",
    "        return self.num_intervals\n",
    "           \n",
    "    @amount_of_intervals.setter\n",
    "    def set_amount_of_intervals(self, value): # set up amount_of_intervals value\n",
    "        if value == None:\n",
    "            self.num_intervals = self.get_amount_of_intervals()\n",
    "        else:\n",
    "            self.num_intervals = value\n",
    "    \n",
    "    @property\n",
    "    def sequence_step(self):\n",
    "        return self.step_intervals\n",
    "    \n",
    "    @sequence_step.setter\n",
    "    def set_sequence_step(self, value):\n",
    "        if not isinstance(value, (int, float, None)):\n",
    "            self.step_intervals = self.get_step_intervals()\n",
    "            raise TypeError('value is not a int or float')\n",
    "        else:\n",
    "            self.step_intervals = value\n",
    "\n",
    "    def get_groups_intervals(self):\n",
    "        \"\"\"повертає список з нижньою та верхньою границею кожного інтервала\"\"\"\n",
    "        bins = np.concatenate(([-np.inf], np.arange(self.min_value, self.max_value,\n",
    "                                                    self.step_intervals), [np.inf]))\n",
    "        pandas_series = pd.Series(self.sample)\n",
    "        return pandas_series.groupby(pd.cut(self.sample, bins), observed=True).\\\n",
    "            apply(lambda x: x.to_list())\n",
    "\n",
    "    def get_counts_and_means_list(self):\n",
    "        \"\"\"повертае список з підрахованою кількістю елементів вибіркової сукупності\n",
    "        в кожному з інтервалів\"\"\"\n",
    "        mean_groups = []\n",
    "        count_groups = []\n",
    "        for i in  self.groups_intervals.array:\n",
    "            mean_groups.append(np.mean(i))\n",
    "            count_groups.append(len(i))\n",
    "        return np.array(count_groups), np.array(mean_groups)\n",
    "        \n",
    "    def get_z_score(self):\n",
    "        return (self.mean_into_intervals-self.average)/self.std\n",
    "    \n",
    "    def get_f_from_z_score(self):\n",
    "        f = lambda z, sd: (1/(2*math.pi)**0.5)*math.e**(-((z)**2/(2)))\n",
    "        return f(self.z_score, self.std)\n",
    "    \n",
    "    def get_frequencies(self):\n",
    "        return (self.f_from_z_score*self.step_intervals/self.std)*self.count_into_intervals.sum()\n",
    "    \n",
    "    def get_corrected_frequency(self):\n",
    "        return (self.count_into_intervals.sum()*self.frequencies)/self.frequencies.sum()\n",
    "    \n",
    "    def get_summary_dataframe(self):\n",
    "        df = pd.DataFrame(index=self.index) \n",
    "        df['std'] = self.std\n",
    "        df['average'] = self.average\n",
    "        df['m'] = self.num_intervals\n",
    "        df['h'] = self.step_intervals\n",
    "        df['mean_group'] = self.mean_into_intervals\n",
    "        df['count'] = self.count_into_intervals\n",
    "        df['z'] = self.z_score\n",
    "        df['f(z)'] = self.f_from_z_score\n",
    "        df['frequencies'] = self.frequencies\n",
    "        df['corrected_frequency'] = self.corrected_frequency\n",
    "       \n",
    "        return df"
   ]
  },
  {
   "cell_type": "code",
   "execution_count": 45,
   "id": "00253409",
   "metadata": {},
   "outputs": [
    {
     "data": {
      "text/html": [
       "<div>\n",
       "<style scoped>\n",
       "    .dataframe tbody tr th:only-of-type {\n",
       "        vertical-align: middle;\n",
       "    }\n",
       "\n",
       "    .dataframe tbody tr th {\n",
       "        vertical-align: top;\n",
       "    }\n",
       "\n",
       "    .dataframe thead th {\n",
       "        text-align: right;\n",
       "    }\n",
       "</style>\n",
       "<table border=\"1\" class=\"dataframe\">\n",
       "  <thead>\n",
       "    <tr style=\"text-align: right;\">\n",
       "      <th></th>\n",
       "      <th>std</th>\n",
       "      <th>average</th>\n",
       "      <th>m</th>\n",
       "      <th>h</th>\n",
       "      <th>mean_group</th>\n",
       "      <th>count</th>\n",
       "      <th>z</th>\n",
       "      <th>f(z)</th>\n",
       "      <th>frequencies</th>\n",
       "      <th>corrected_frequency</th>\n",
       "    </tr>\n",
       "  </thead>\n",
       "  <tbody>\n",
       "    <tr>\n",
       "      <th>(-inf, 0.0]</th>\n",
       "      <td>1.448716</td>\n",
       "      <td>3.928962</td>\n",
       "      <td>16</td>\n",
       "      <td>0.466667</td>\n",
       "      <td>0.0</td>\n",
       "      <td>6</td>\n",
       "      <td>-2.712030</td>\n",
       "      <td>0.010087</td>\n",
       "      <td>1.189251</td>\n",
       "      <td>2.566017</td>\n",
       "    </tr>\n",
       "    <tr>\n",
       "      <th>(0.933, 1.4]</th>\n",
       "      <td>1.448716</td>\n",
       "      <td>3.928962</td>\n",
       "      <td>16</td>\n",
       "      <td>0.466667</td>\n",
       "      <td>1.0</td>\n",
       "      <td>13</td>\n",
       "      <td>-2.021764</td>\n",
       "      <td>0.051679</td>\n",
       "      <td>6.092831</td>\n",
       "      <td>13.146350</td>\n",
       "    </tr>\n",
       "    <tr>\n",
       "      <th>(1.867, 2.333]</th>\n",
       "      <td>1.448716</td>\n",
       "      <td>3.928962</td>\n",
       "      <td>16</td>\n",
       "      <td>0.466667</td>\n",
       "      <td>2.0</td>\n",
       "      <td>38</td>\n",
       "      <td>-1.331497</td>\n",
       "      <td>0.164412</td>\n",
       "      <td>19.383737</td>\n",
       "      <td>41.823803</td>\n",
       "    </tr>\n",
       "    <tr>\n",
       "      <th>(2.8, 3.267]</th>\n",
       "      <td>1.448716</td>\n",
       "      <td>3.928962</td>\n",
       "      <td>16</td>\n",
       "      <td>0.466667</td>\n",
       "      <td>3.0</td>\n",
       "      <td>74</td>\n",
       "      <td>-0.641231</td>\n",
       "      <td>0.324806</td>\n",
       "      <td>38.293813</td>\n",
       "      <td>82.625601</td>\n",
       "    </tr>\n",
       "    <tr>\n",
       "      <th>(3.733, 4.2]</th>\n",
       "      <td>1.448716</td>\n",
       "      <td>3.928962</td>\n",
       "      <td>16</td>\n",
       "      <td>0.466667</td>\n",
       "      <td>4.0</td>\n",
       "      <td>106</td>\n",
       "      <td>0.049035</td>\n",
       "      <td>0.398463</td>\n",
       "      <td>46.977780</td>\n",
       "      <td>101.362778</td>\n",
       "    </tr>\n",
       "    <tr>\n",
       "      <th>(4.667, 5.133]</th>\n",
       "      <td>1.448716</td>\n",
       "      <td>3.928962</td>\n",
       "      <td>16</td>\n",
       "      <td>0.466667</td>\n",
       "      <td>5.0</td>\n",
       "      <td>85</td>\n",
       "      <td>0.739302</td>\n",
       "      <td>0.303546</td>\n",
       "      <td>35.787315</td>\n",
       "      <td>77.217393</td>\n",
       "    </tr>\n",
       "    <tr>\n",
       "      <th>(5.6, 6.067]</th>\n",
       "      <td>1.448716</td>\n",
       "      <td>3.928962</td>\n",
       "      <td>16</td>\n",
       "      <td>0.466667</td>\n",
       "      <td>6.0</td>\n",
       "      <td>30</td>\n",
       "      <td>1.429568</td>\n",
       "      <td>0.143593</td>\n",
       "      <td>16.929281</td>\n",
       "      <td>36.527885</td>\n",
       "    </tr>\n",
       "    <tr>\n",
       "      <th>(6.533, inf]</th>\n",
       "      <td>1.448716</td>\n",
       "      <td>3.928962</td>\n",
       "      <td>16</td>\n",
       "      <td>0.466667</td>\n",
       "      <td>7.0</td>\n",
       "      <td>14</td>\n",
       "      <td>2.119834</td>\n",
       "      <td>0.042181</td>\n",
       "      <td>4.973025</td>\n",
       "      <td>10.730172</td>\n",
       "    </tr>\n",
       "  </tbody>\n",
       "</table>\n",
       "</div>"
      ],
      "text/plain": [
       "                     std   average   m         h  mean_group  count         z  \\\n",
       "(-inf, 0.0]     1.448716  3.928962  16  0.466667         0.0      6 -2.712030   \n",
       "(0.933, 1.4]    1.448716  3.928962  16  0.466667         1.0     13 -2.021764   \n",
       "(1.867, 2.333]  1.448716  3.928962  16  0.466667         2.0     38 -1.331497   \n",
       "(2.8, 3.267]    1.448716  3.928962  16  0.466667         3.0     74 -0.641231   \n",
       "(3.733, 4.2]    1.448716  3.928962  16  0.466667         4.0    106  0.049035   \n",
       "(4.667, 5.133]  1.448716  3.928962  16  0.466667         5.0     85  0.739302   \n",
       "(5.6, 6.067]    1.448716  3.928962  16  0.466667         6.0     30  1.429568   \n",
       "(6.533, inf]    1.448716  3.928962  16  0.466667         7.0     14  2.119834   \n",
       "\n",
       "                    f(z)  frequencies  corrected_frequency  \n",
       "(-inf, 0.0]     0.010087     1.189251             2.566017  \n",
       "(0.933, 1.4]    0.051679     6.092831            13.146350  \n",
       "(1.867, 2.333]  0.164412    19.383737            41.823803  \n",
       "(2.8, 3.267]    0.324806    38.293813            82.625601  \n",
       "(3.733, 4.2]    0.398463    46.977780           101.362778  \n",
       "(4.667, 5.133]  0.303546    35.787315            77.217393  \n",
       "(5.6, 6.067]    0.143593    16.929281            36.527885  \n",
       "(6.533, inf]    0.042181     4.973025            10.730172  "
      ]
     },
     "execution_count": 45,
     "metadata": {},
     "output_type": "execute_result"
    }
   ],
   "source": [
    "observed_freq = [6, 13, 38, 74, 106, 85, 30, 14]\n",
    "array = np.repeat(range(len(observed_freq)), observed_freq) # сгенеруємо сукупність с експериментальними частотами\n",
    "FDN = FrequencyDistributionNormal(array)\n",
    "df = FDN.get_summary_dataframe()\n",
    "df"
   ]
  },
  {
   "cell_type": "markdown",
   "id": "ae9bb6ce",
   "metadata": {},
   "source": [
    "порівняємо теоретичні частоти з прикладу $[3, 14, 42, 82, 99, 76, 37, 13]$ та розраховані округлені до цілого $[3, 13, 42, 83, 101, 77, 37, 11]$"
   ]
  },
  {
   "cell_type": "code",
   "execution_count": 46,
   "id": "63566a23",
   "metadata": {},
   "outputs": [],
   "source": [
    "theor_freq_from_examp = [3, 14, 42, 82, 99, 76, 37, 13]"
   ]
  },
  {
   "cell_type": "code",
   "execution_count": 47,
   "id": "72e94a12",
   "metadata": {},
   "outputs": [
    {
     "data": {
      "text/plain": [
       "Power_divergenceResult(statistic=0.6948327786068427, pvalue=0.9983751250620732)"
      ]
     },
     "execution_count": 47,
     "metadata": {},
     "output_type": "execute_result"
    }
   ],
   "source": [
    "chisquare(theor_freq_from_examp, f_exp=df['corrected_frequency'])"
   ]
  },
  {
   "cell_type": "markdown",
   "id": "a33e3628",
   "metadata": {},
   "source": [
    "як бачимо $p \\approx 1 $ тобто приймаємо нульову гіпотезу про належність вибіркових сукупностей до однієї генеральної сукупності (з нормальним розподілом)"
   ]
  },
  {
   "cell_type": "code",
   "execution_count": null,
   "id": "de9f869e",
   "metadata": {},
   "outputs": [],
   "source": []
  }
 ],
 "metadata": {
  "kernelspec": {
   "display_name": "Python 3 (ipykernel)",
   "language": "python",
   "name": "python3"
  },
  "language_info": {
   "codemirror_mode": {
    "name": "ipython",
    "version": 3
   },
   "file_extension": ".py",
   "mimetype": "text/x-python",
   "name": "python",
   "nbconvert_exporter": "python",
   "pygments_lexer": "ipython3",
   "version": "3.10.5"
  }
 },
 "nbformat": 4,
 "nbformat_minor": 5
}
