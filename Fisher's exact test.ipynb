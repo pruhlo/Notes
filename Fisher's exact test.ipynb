{
 "cells": [
  {
   "cell_type": "markdown",
   "id": "bedcda87",
   "metadata": {},
   "source": [
    "# Точний критерій Фішера\n",
    "#### (Fisher's exact test)"
   ]
  },
  {
   "cell_type": "markdown",
   "id": "aba29363",
   "metadata": {},
   "source": [
    "[Точний тест Фішера](https://ru.wikipedia.org/wiki/Точный_тест_Фишера) - тест статистичної значущості, що використовується в аналізі таблиць сполученості для вибірок невеликих розмірів. Належить до точних тестів значущості, оскільки не використовує наближення великої вибірки (асимптотики при розмірі вибірки що прагне нескінченності)."
   ]
  },
  {
   "cell_type": "markdown",
   "id": "d0dc725d",
   "metadata": {},
   "source": [
    "Точні тести дозволяють отримувати акуратніший аналіз для маленьких вибірок або даних, які є рідкісними. Точні тести непараметричних досліджень - відповідний статистичний інструмент для роботи з неврівноваженими даними. Неврівноважені дані, проаналізовані асимптотичними методами, мають тенденцію до ненадійних результатів. Для великих і добре врівноважених наборів даних точні та асимптотичні оцінки ймовірностей дуже схожі. Але для маленьких, рідкісних, або виведених з рівноваги даних, точні та асимптотичні оцінки можуть бути дуже різними і навіть призвести до протилежних висновків щодо гіпотези, що розробляється\n",
    "\n",
    "Потреба у тесті Фішера виникає, коли є дані, поділені на дві категорії двома окремими способами. Наприклад, вибірка підлітків може бути розділена на категорії з одного боку за ознакою статі (юнаки та дівчата), а з іншого боку – за ознакою перебування на дієті чи ні. Можна висунути гіпотезу, про те, що частка людей, які перебувають на дієті, вища серед дівчат, ніж серед юнаків, і ми хочемо переконатися, чи спостерігається якась статистично значуща різниця пропорцій.\n",
    "\n",
    "Дані могли б бути схожими на такі:\n",
    "\n",
    "групи|юнаки | дівчата | всього\n",
    "----- |:-------:|:-------:|--------\n",
    "на дієті| 1 |9 |10\n",
    "не на дієті| 11 |3 |14\n",
    "всього |12 |12 |24\n",
    "\n",
    "\n",
    "Такі дані не підходять для аналізу методом $\\chi^2$, тому що математичні очікування в таблиці все нижче 10, а в факторній таблиці розміру число ступенів свободи завжди дорівнює одному.\n",
    "\n",
    "Питання, яке ми ставимо про ці дані: знаючи, що 10 із 24 підлітків — люди, які сидять на дієті, і що 12 із цих 24 — дівчата, яка ймовірність, що 10 дієтиків так нерівноцінно розподілені між статями? Якби ми вибрали 10 підлітків навмання, яка ймовірність, що 9 з них виявилися взятими з набору 12 осіб жіночої статі і лише 1 з 12 юнаків?\n",
    "\n",
    "Перш ніж продовжити дослідження тесту Фішера, запровадимо необхідну нотацію. Позначимо числа в осередках літерами $\\displaystyle a$, $\\displaystyle b$, $\\displaystyle c$ і $\\displaystyle d$ відповідно, назвемо підсумки підсумовування рядками і стовпцями маргінальними (граничними) підсумками і представимо загальний підсумок літерою $\\displaystyle n$.\n",
    "\n",
    "групи|юнаки | дівчата | всього\n",
    "----- |:-------:|:-------:|--------\n",
    "на дієті| $a$ |$b$ |$a+b$\n",
    "не на дієті| $c$ |$d$ |$c+d$\n",
    "всього |$a + c$ |$b+d$ |$n$\n",
    "\n",
    "Фішер показав, що можливість отримання будь-якого такого набору величин задається гіпергеометричним розподілом:\n",
    "\n",
    "$$\\displaystyle p={{{a+b} \\choose {a}}{{c+d} \\choose {c}}}\\left/{{n} \\choose {a+c}}\\right.={\\frac {(a+b)!\\,(c+d)!\\,(a+c)!\\,(b+d)!}{n!\\,a!\\,b!\\,c!\\,d!}}$$"
   ]
  },
  {
   "cell_type": "markdown",
   "id": "30ad509f",
   "metadata": {},
   "source": [
    "#### import librarries:"
   ]
  },
  {
   "cell_type": "code",
   "execution_count": 20,
   "id": "1888652c",
   "metadata": {},
   "outputs": [],
   "source": [
    "from statsmodels.graphics.mosaicplot import mosaic\n",
    "import pandas as pd\n",
    "import numpy as np\n",
    "from scipy.stats import fisher_exact\n",
    "import math"
   ]
  },
  {
   "cell_type": "code",
   "execution_count": 21,
   "id": "456b8710",
   "metadata": {},
   "outputs": [
    {
     "data": {
      "text/plain": [
       "0.0013460761879122358"
      ]
     },
     "execution_count": 21,
     "metadata": {},
     "output_type": "execute_result"
    }
   ],
   "source": [
    "f = lambda x: math.factorial(x)\n",
    "a=1\n",
    "b=9\n",
    "c=11\n",
    "d=3\n",
    "n = a+b+c+d\n",
    "p = (f(a+b)*f(c+d)*f(a+c)*f(b+d))/(f(n)*(f(a)*f(b)*f(c)*f(d)))\n",
    "p"
   ]
  },
  {
   "cell_type": "code",
   "execution_count": 22,
   "id": "547ee899",
   "metadata": {},
   "outputs": [
    {
     "data": {
      "text/plain": [
       "(0.030303030303030304, 0.0013797280926100418)"
      ]
     },
     "execution_count": 22,
     "metadata": {},
     "output_type": "execute_result"
    }
   ],
   "source": [
    "table = np.array([[1, 9], [11, 3]])\n",
    "fisher_exact(table, alternative='less')"
   ]
  },
  {
   "cell_type": "markdown",
   "id": "bf3e5529",
   "metadata": {},
   "source": [
    "атрибут \"alternative\" визначає альтернативну гіпотезу. \n",
    "Доступні такі параметри :\n",
    "\n",
    "* «two-sided»:(за замовчуванням) відношення шансів основної популяції не дорівнює одиниці.\n",
    "\n",
    "* «less»: відношення шансів основної популяції менше одиниці.\n",
    "\n",
    "* «greater»: відношення шансів основної популяції більше за одиницю"
   ]
  },
  {
   "cell_type": "code",
   "execution_count": 23,
   "id": "839770ed",
   "metadata": {},
   "outputs": [
    {
     "name": "stdout",
     "output_type": "stream",
     "text": [
      "(0.030303030303030304, 0.0013797280926100418)\n",
      "(0.030303030303030304, 0.0013797280926100418)\n"
     ]
    },
    {
     "data": {
      "image/png": "[encoded data removed]",
      "text/plain": [
       "<Figure size 432x288 with 3 Axes>"
      ]
     },
     "metadata": {
      "needs_background": "light"
     },
     "output_type": "display_data"
    }
   ],
   "source": [
    "data = {('diet', 'Male'): 1,\n",
    "             ('diet', 'Female'): 9,\n",
    "             ('not a diet', 'Male'): 11,\n",
    "             ('not a diet', 'Female'): 3,\n",
    "            }\n",
    "my_plot =  mosaic(data, gap=.009)\n",
    "compare_diet = np.array([[data[('diet', 'Male')], data[('diet', 'Female')]],\n",
    "                  [data[('not a diet', 'Male')], data[('not a diet', 'Female')]]])\n",
    "compare_sex = np.array([[data[('diet', 'Male')], data[('not a diet', 'Male')]],\n",
    "                  [data[('diet', 'Female')], data[('not a diet', 'Female')]]])\n",
    "print(fisher_exact(compare_diet, alternative='less'))\n",
    "print(fisher_exact(compare_sex, alternative='less')) # alternative='two-sided', ='greater', ='less'"
   ]
  },
  {
   "cell_type": "markdown",
   "id": "b4b0deaf",
   "metadata": {},
   "source": [
    "# Приклад\n",
    "Припустимо тестується деякий засіб:\n",
    "взято 2 дослідні групи по 8 піддослідних в кожній, яких випробувували в певному тесті і отримали наступні результати: плацебо = (2,3,4,5,6,7,8,9) дослід = (7,8,9,10,11,12,13,14). \n",
    "припустимо, що при значенні <9 засіб не працює:\n",
    "\n",
    "Group|Control | Drug | Total\n",
    "----- |:-------:|:-------:|--------\n",
    "Effective| $1$ |$6$ |$7$\n",
    "Ineffective| $7$ |$2$ |$9$\n",
    "Total |$8$ |$8$ |$16$"
   ]
  },
  {
   "cell_type": "code",
   "execution_count": 24,
   "id": "5767b1b5",
   "metadata": {},
   "outputs": [
    {
     "name": "stdout",
     "output_type": "stream",
     "text": [
      "odds_ratio=0.047619047619047616 p_value=0.040559440559440565\n"
     ]
    },
    {
     "data": {
      "text/plain": [
       "(0.047619047619047616, 0.040559440559440565)"
      ]
     },
     "execution_count": 24,
     "metadata": {},
     "output_type": "execute_result"
    },
    {
     "data": {
      "image/png": "[encoded data removed]",
      "text/plain": [
       "<Figure size 432x288 with 3 Axes>"
      ]
     },
     "metadata": {
      "needs_background": "light"
     },
     "output_type": "display_data"
    }
   ],
   "source": [
    "experiment = {('Effective', 'Control'): 1,\n",
    "             ('Effective', 'Drug'): 6,\n",
    "             ('Ineffective', 'Control'): 7,\n",
    "             ('Ineffective', 'Drug'): 2,\n",
    "            }\n",
    "my_plot =  mosaic(experiment, gap=.009)\n",
    "compare_effect = np.array([[experiment[('Effective', 'Control')], experiment[('Effective', 'Drug')]],\n",
    "                  [experiment[('Ineffective', 'Control')], experiment[('Ineffective', 'Drug')]]])\n",
    "compare_group = np.array([[experiment[('Effective', 'Control')], experiment[('Ineffective', 'Control')]],\n",
    "                  [experiment[('Effective', 'Drug')], experiment[('Ineffective', 'Drug')]]])\n",
    "odds_ratio, p_value = fisher_exact(compare_effect, alternative='two-sided')\n",
    "print(f'{odds_ratio=} {p_value=}')\n",
    "fisher_exact(compare_group, alternative='two-sided') # if 'less' Out: (odds_ratio=0.047619, p_value=0.0202797)"
   ]
  },
  {
   "cell_type": "markdown",
   "id": "349bef4e",
   "metadata": {},
   "source": [
    "Відношення шансів (**odds_ratio**) - характеристика, що застосовується  для кількісного опису тісноти зв'язку ознаки А з ознакою Б в деякій статистичній популяції"
   ]
  }
 ],
 "metadata": {
  "kernelspec": {
   "display_name": "Python 3 (ipykernel)",
   "language": "python",
   "name": "python3"
  },
  "language_info": {
   "codemirror_mode": {
    "name": "ipython",
    "version": 3
   },
   "file_extension": ".py",
   "mimetype": "text/x-python",
   "name": "python",
   "nbconvert_exporter": "python",
   "pygments_lexer": "ipython3",
   "version": "3.10.5"
  }
 },
 "nbformat": 4,
 "nbformat_minor": 5
}
