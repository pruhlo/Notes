{
 "cells": [
  {
   "cell_type": "markdown",
   "id": "4f569d5e",
   "metadata": {},
   "source": [
    "<p id=\"part0\"></p>\n",
    "\n",
    "<p style=\"font-family: Arials; line-height: 2; font-size: 24px; font-weight: bold; letter-spacing: 2px; text-align: center; color: #FF8C00;\"> <a href=\"#part0\" style=\"color:#FF8C00; text-decoration:none;\">Відстань Пірсона, Розподіл Хі-квадрат Пірсона</a></p>\n",
    "\n",
    "\n",
    "<p style=\"font-family: Arials; font-size: 16px; font-style: normal; font-weight: bold; letter-spacing: 2px; color: #0099FF; line-height:1.3\"><a href=\"#part2\" style=\"color:#808080; text-decoration:none;\">Критерій Хі-квадрат Пірсона з корекцією безперервності Єйтса</a></p>\n",
    "\n",
    "<p style=\"font-family: Arials; font-size: 16px; font-style: normal; font-weight: bold; letter-spacing: 2px; color: #808080; line-height:1.3\"><a href=\"#part3\" style=\"color:#808080; text-decoration:none;\">Перевірка  відповідності розподілу даних до нормального розподілу</a></p>\n"
   ]
  },
  {
   "cell_type": "markdown",
   "id": "44fd7941",
   "metadata": {},
   "source": [
    "[Ланкастер](https://uk.wikipedia.org/wiki/Розподіл_хі-квадрат) показав зв'язок між біноміальним, нормальним і $\\chi^2$ розподілами, як показано нижче. Де Муавр і Лаплас встановили, що біноміальний розподіл можна наблизити через нормальний розподіл. Точніше вони показали асимптотичну нормальність випадкової величини\n",
    "\n",
    "$\\displaystyle \\chi ={m-Np \\over {\\sqrt {(Npq)}}},$\n",
    "де m — це спостережена кількість успіхів в N спробах, де ймовірність успіху p, а q = 1 − p.\n",
    "\n",
    "Підносимо до квадрату обидві частини рівняння\n",
    "\n",
    "$\\displaystyle \\chi ^{2}={(m-Np)^{2} \\over (Npq)}$\n",
    "Використовуючи N = Np + N(1 − p), N = m + (N − m), та q = 1 − p, це рівняння спрощується до\n",
    "\n",
    "$\\displaystyle \\chi ^{2}={(m-Np)^{2} \\over (Np)}+{((N-m)-Nq)^{2} \\over (Nq)}$\n",
    "Вираз праворуч має форму яку Пірсон узагальнив до:\n",
    "\n",
    "$\\displaystyle \\chi ^{2}=\\sum _{i=1}^{n}{\\frac {(O_{i}-E_{i})^{2}}{E_{i}}},$\n",
    "де\n",
    "\n",
    "$\\displaystyle \\chi ^{2}$ — кумулятивна тестова статистика Пірсона, яка асимптотично наближується до $\\displaystyle \\chi ^{2}$ розподілу.\n",
    "$\\displaystyle O_{i}$ — кількість спостережень типу i.\n",
    "$\\displaystyle E_{i}-Np_{i}$ — очікувана (теоретична) частота типу i, згідно з нульовою гіпотезою, яка стверджує, що частка типу i в популяції становить ${\\displaystyle p_{i}}p_{i}\n",
    "{\\displaystyle n}n$ — кількість комірок в таблиці.\n",
    "У випадку біноміального виходу (підкидання монети), біноміальний розподіл можна апроксимувати через нормальний (для досить великих n). З того, що квадрат нормального розподілу — це розподіл хі-квадрат з одним ступенем вільності, ймовірність результату як-от 1 аверс з 10 спроб, можна апроксимувати через нормальний розподіл чи розподіл хі-квадрат. Однак, багато задач потребують більше ніж два виходи як у біноміальному випадку, натомість вони потребують 3 або більше категорій, що призводить до поліноміального розподілу. Просто де Муавр і Лаплас шукали і знайшли нормальне наближення до біноміального, Пірсон шукав і знайшов багатовимірне нормальне наближення до поліноміального розподілу. Пірсон показав, що розподіл хі-квадрат, сума багатьох нормальних розподілів, був таким наближенням до поліноміального розподілу"
   ]
  },
  {
   "cell_type": "markdown",
   "id": "defa13c7",
   "metadata": {},
   "source": [
    "<p id=\"part1\"></p>\n",
    "<p style=\"font-family: Arials; font-size: 16px; font-style: normal; font-weight: normal; letter-spacing: 3px; color: #FF8C00; line-height:1.0\">Importing libraries</p>\n",
    "\n",
    "<p style=\"text-align: right;\"><a href=\"#part0\" style=\"color:#FF8C00; text-decoration:none;\">зміст</a></p>"
   ]
  },
  {
   "cell_type": "code",
   "execution_count": 36,
   "id": "ac13d490",
   "metadata": {},
   "outputs": [],
   "source": [
    "# import warnings\n",
    "# warnings.filterwarnings('ignore')\n",
    "import matplotlib.pyplot as plt\n",
    "from scipy import stats\n",
    "import numpy as np\n",
    "import pandas as pd\n",
    "import math\n",
    "import seaborn as sns\n",
    "from scipy.stats import chisquare"
   ]
  },
  {
   "cell_type": "markdown",
   "id": "464dfb51",
   "metadata": {},
   "source": [
    "[latex ](https://latexeditor.lagrida.com/)"
   ]
  },
  {
   "cell_type": "markdown",
   "id": "178cc745",
   "metadata": {},
   "source": [
    "# Приклад\n",
    "Підкинимо монетку N разів та зафіксуємо отримані показники: n випадків події - решка або N-n випадків події орел (tail, eagle)\n",
    "\n",
    "нульова гіпотеза $H_0 = 0.5$, тобто $\\frac{1}{2}$ це вірогідність того що випаде орел до решки (тобто очікуваний (expected) розподіл становить 1:1), а $n = N-n$\n",
    "\n",
    "альтернативна гіпотеза $H_1 \\neq  0.5$ , тобто вірогідність того що випаде орел до решки не відповідає вірогідності $\\frac{1}{2}$ або розподіл який спостерігається (observed) ВІДМІННИЙ від 1:1, а $n \\neq N-n$\n",
    "\n",
    "Є $N=60$ єкспериментальних випадків підкидання монети, з яких 20 разів випала решка 40 разів орел\n",
    "\n",
    "O - observed (спостерігається)\n",
    "\n",
    "E - expected (очікується)\n",
    "\n",
    "\n",
    "Efect                     | Орел          | Решка\n",
    "--------------------------|:--------------:|:--------------:\n",
    "P                         |$$\\frac{1}{2}$$|$$\\frac{1}{2}$$\n",
    "Observed                  |20             |40\n",
    "Expected                  |30             |30\n",
    "$$\\chi^2 $$ |$$\\frac{(20-30)^2}{30} + \\frac{(40-30)^2}{30} \\approx 6.7$$\n",
    "\n",
    "$$\\chi^2 = \\sum_{i=1}^{n}\\frac{(Observed_i-Expected_i)^2}{Expected_i}$$"
   ]
  },
  {
   "cell_type": "code",
   "execution_count": 37,
   "id": "4da7a256",
   "metadata": {},
   "outputs": [
    {
     "data": {
      "text/plain": [
       "Power_divergenceResult(statistic=array([6.66666667]), pvalue=array([0.00982327]))"
      ]
     },
     "execution_count": 37,
     "metadata": {},
     "output_type": "execute_result"
    }
   ],
   "source": [
    "tail_eagle=[[40], [20]]\n",
    "stats.chisquare(tail_eagle) # решка 40 орел 20 або stats.chisquare([40,20])"
   ]
  },
  {
   "cell_type": "code",
   "execution_count": 38,
   "id": "d8d4d0df",
   "metadata": {},
   "outputs": [
    {
     "data": {
      "text/plain": [
       "Power_divergenceResult(statistic=array([6.66666667]), pvalue=array([0.00982327]))"
      ]
     },
     "execution_count": 38,
     "metadata": {},
     "output_type": "execute_result"
    }
   ],
   "source": [
    "stats.chisquare(tail_eagle, f_exp=[[30],[30]])"
   ]
  },
  {
   "cell_type": "markdown",
   "id": "58c23ea8",
   "metadata": {},
   "source": [
    "<p id=\"part2\"></p>\n",
    "\n",
    "# Критерій Хі-квадрат Пірсона з корекцією безперервності Єйтса\n",
    "\n",
    "<p style=\"text-align: right;\"><a href=\"#part0\" style=\"color:#FF8C00; text-decoration:none;\">зміст</a></p>\n",
    "\n",
    "(Pearson\"s Chi-squared test with Yates\" continuity correction)\n",
    "\n",
    "При проведенні тесту хі-квадрат перевіряється взаємна незалежність двох змінних таблиці сполученості та завдяки цьому опосередковано з'ясовується залежність обох змінних. Дві змінні вважаються взаємно незалежними, якщо частоти (fo), що спостерігаються, в осередках збігаються з очікуваними частотами (fe).\n",
    "\n",
    "> Якщо таблиця сполучення має чотири поля (таблиця 2 x 2) і очікувана ймовірність менше 5, додатково виконується точний **тест Фішера.**\n",
    "\n",
    "**Коректність проведеннятесту хі-квадрат визначається двома умовами:**\n",
    "\n",
    "* очікувані частоти< 5 повинні зустрічатися не більш ніж у 20% полів таблиці;\n",
    "* суми за рядками та стовпцями завжди повинні бути більшими за нуль.\n",
    "\n",
    "Слід зазначити, що наведена вище формула критерію ($\\chi^2$) дає кілька завищені значення під час роботи з таблицями спряженості розміром 2х2. Причина полягає в тому, що розподіл самого критерію \\($\\chi^2$) є безперервним, тоді як частоти бінарних ознак (\"загинув\"/\"вижив\") за визначенням дискретні. У зв'язку з цим при розрахунку критерію прийнято запроваджувати т.зв. поправку на безперервність, або поправку Єтса :\n",
    "\n",
    "$$\\chi^2_{Yates} = \\sum^{k}\\frac{(|f_o - f_e| - 0.5)^2}{f_e}$$\n",
    "\n",
    "**Розрахунок ступенів свобод:** $df=(n-1)(m-1)$ де n-кількість стовбчиків, m - кількість строк\n",
    "якщо ж в таблиці лише 1 строка (m=1) то $df=n-1$\n",
    "# Приклад:\n",
    "\n",
    "Чи є взаємозв'язок між професією та статтю: $H_0$-взаємозв'язок відсутній $H_1$ - наявний певний взаємозв'язок\n",
    "\n",
    "\n",
    "\n",
    "<center> Фактичні дані\n",
    "\n",
    "Професія/Стать |Чоловіча |Жіноча |Взагалом\n",
    "---------------:|:---------:|:-------:|:---------:\n",
    "Біологи|15|9|$$\\bbox[red, 8px]{24}$$\n",
    "Інформатики|11|6|$$\\bbox[lightpink, 8px]{17}$$\n",
    "Сума|$$\\bbox[lime, 8px]{26}$$|$$\\bbox[lightblue, 8px]{15}$$|$$\\bbox[purple, 8px]{41}$$\n",
    "\n",
    "<center> Очікувані дані\n",
    "\n",
    "Професія/Стать |Чоловіча |Жіноча |Взагалом\n",
    "---------------:|:---------:|:-------:|:---------:\n",
    "Біологи|$$15.2\\approx\\frac{\\bbox[lime, 8px]{26}*\\bbox[red, 8px]{24}}{\\bbox[purple, 8px]{41}}$$|$$8.8\\approx\\frac{\\bbox[red, 8px]{24}*\\bbox[lightblue, 8px]{15}}{\\bbox[purple, 8px]{41}}$$|24\n",
    "Інформатики|$$10.8\\approx\\frac{\\bbox[lime, 8px]{26}*\\bbox[lightpink, 8px]{17}}{\\bbox[purple, 8px]{41}}$$|$$6.2\\approx\\frac{\\bbox[lightpink, 8px]{17}*\\bbox[lightblue, 8px]{15}}{\\bbox[purple, 8px]{41}}$$|17\n",
    "Сума|26|15|41\n",
    "\n",
    "$$\\chi^2 = \\frac{(15-15.2)^2}{15.2}+\\frac{(9-8.8)^2}{8.8}+\\frac{(11-10.8)^2}{10.8}+\\frac{(6-6.2)^2}{6.2}=0.0173323$$\n",
    "\n",
    "$$\\chi^2_{Yates} = \\frac{(|15-15.2|-0.5)^2}{15.2}+\\frac{(|9-8.8|-0.5)^2}{8.8}+\\frac{(|11-10.8|-0.5)^2}{10.8}+\\frac{(|6-6.2|-0.5)^2}{6.2}=0.0389977877$$"
   ]
  },
  {
   "cell_type": "code",
   "execution_count": 39,
   "id": "669cf61d",
   "metadata": {},
   "outputs": [
    {
     "data": {
      "text/plain": [
       "Power_divergenceResult(statistic=0.01733235009975241, pvalue=0.9993962628484344)"
      ]
     },
     "execution_count": 39,
     "metadata": {},
     "output_type": "execute_result"
    }
   ],
   "source": [
    "𝑂𝑏𝑠𝑒𝑟𝑣𝑒𝑑 = [15,11,9,6] # отримані частоти в експерименті\n",
    "𝐸𝑥𝑝𝑒𝑐𝑡𝑒𝑑 = [15.2,10.8,8.8,6.2] # розраховані очікувані частоти fij = fi*fj/N \n",
    "stats.chisquare(Observed, f_exp=Expected) #ddof= вказує на кількість ступенів свобод, та використовується для розрахунку p_value "
   ]
  },
  {
   "cell_type": "code",
   "execution_count": 40,
   "id": "eaecaf4b",
   "metadata": {},
   "outputs": [
    {
     "data": {
      "text/plain": [
       "array([[15.2195122, 10.7804878],\n",
       "       [ 8.7804878,  6.2195122]])"
      ]
     },
     "execution_count": 40,
     "metadata": {},
     "output_type": "execute_result"
    }
   ],
   "source": [
    "# Отримаємо очікувані результати розполілу частот\n",
    "tab_data = [[15,11], [9,6]]\n",
    "g, p, dof, expctd = stats.chi2_contingency(tab_data)# g = G test, p = probability,dof = degree of fredom, expctd = 𝐸𝑥𝑝𝑒𝑐𝑡𝑒𝑑 frequency \n",
    "expctd"
   ]
  },
  {
   "cell_type": "code",
   "execution_count": 41,
   "id": "6f1b7131",
   "metadata": {},
   "outputs": [
    {
     "data": {
      "text/plain": [
       "Power_divergenceResult(statistic=0.020871040723981833, pvalue=0.999203075215488)"
      ]
     },
     "execution_count": 41,
     "metadata": {},
     "output_type": "execute_result"
    }
   ],
   "source": [
    "E = expctd.flatten() # Out: [15.2195122, 10.7804878, 8.7804878,  6.2195122]\n",
    "O = sum(tab_data,[]) # Out: [15, 11, 9, 6]\n",
    "stats.chisquare(O, f_exp=E)"
   ]
  },
  {
   "cell_type": "code",
   "execution_count": 42,
   "id": "542c12c0",
   "metadata": {},
   "outputs": [
    {
     "data": {
      "text/plain": [
       "Power_divergenceResult(statistic=4.170731707317072, pvalue=0.2436085811399053)"
      ]
     },
     "execution_count": 42,
     "metadata": {},
     "output_type": "execute_result"
    }
   ],
   "source": [
    "uniform = [sum(sum(tab_data,[]))/len(sum(tab_data,[]))]*len(sum(tab_data,[]))\n",
    "stats.chisquare(Observed, f_exp=uniform) # p>0.05 частоти з 95% вірогідністю відповідають рівномірному розподілу"
   ]
  },
  {
   "cell_type": "code",
   "execution_count": 43,
   "id": "c0a78d25",
   "metadata": {},
   "outputs": [
    {
     "data": {
      "text/plain": [
       "Power_divergenceResult(statistic=4.232367493216871, pvalue=0.2374411987083843)"
      ]
     },
     "execution_count": 43,
     "metadata": {},
     "output_type": "execute_result"
    }
   ],
   "source": [
    "stats.chisquare(E, f_exp=uniform)"
   ]
  },
  {
   "cell_type": "markdown",
   "id": "8aa813ef",
   "metadata": {},
   "source": [
    "# Знову про монетку"
   ]
  },
  {
   "cell_type": "code",
   "execution_count": 44,
   "id": "70e0d603",
   "metadata": {},
   "outputs": [
    {
     "name": "stdout",
     "output_type": "stream",
     "text": [
      "Розподіл рівномірний\n"
     ]
    },
    {
     "data": {
      "text/plain": [
       "(          Орел  Решка\n",
       " observed  59.0   41.0\n",
       " expected  50.0   50.0,\n",
       " 3.24,\n",
       " 0.07186063822585143)"
      ]
     },
     "execution_count": 44,
     "metadata": {},
     "output_type": "execute_result"
    },
    {
     "data": {
      "image/png": "[encoded data removed]",
      "text/plain": [
       "<Figure size 432x288 with 1 Axes>"
      ]
     },
     "metadata": {
      "needs_background": "light"
     },
     "output_type": "display_data"
    }
   ],
   "source": [
    "def monet(size=60, tail = None, eagle = None):\n",
    "    if tail == None or eagle == None:\n",
    "        arr = [np.random.randint(2) for _ in range(size)]\n",
    "        tail, eagle = 0, 0\n",
    "        for i in arr:\n",
    "            if i == 0:\n",
    "                tail += 1\n",
    "            else:\n",
    "                eagle += 1\n",
    "    expected_num = size / 2            \n",
    "    df = pd.DataFrame({'Орел': [eagle, expected_num],\n",
    "                      'Решка': [tail, expected_num]}, index = ['observed','expected'])\n",
    "    df.loc['observed'].to_frame().plot(kind='bar')\n",
    "\n",
    "    chi_2, p_2 = stats.chisquare([tail,eagle])\n",
    "    if p_2 < 0.05:\n",
    "        print(f'Відхиляємо H0, {p_2} < 0.05. Наш розподіл нерівномірний')\n",
    "    else:\n",
    "        print('Розподіл рівномірний')\n",
    "    return df, chi_2, p_2\n",
    "\n",
    "# monet(tail=20, eagle=40)\n",
    "monet(100)"
   ]
  },
  {
   "cell_type": "markdown",
   "id": "ffde0d3d",
   "metadata": {},
   "source": [
    "Змоделюємо на Python:\n",
    "\n",
    "Напишемо функцію підкидання монети 60 разів, що вважає скільки разів випав орел, скільки решка і повертає обчислену відстані хі-квадрат для результату даних підкидань:"
   ]
  },
  {
   "cell_type": "code",
   "execution_count": 45,
   "id": "a9b46d3c",
   "metadata": {},
   "outputs": [],
   "source": [
    "import random\n",
    "from math import sqrt\n",
    "\n",
    "def distance_chi_square_from_toss_coin():\n",
    "    eagles = 0\n",
    "    tails = 0\n",
    "    # підкидання монети 60 раз\n",
    "    for i in range(60):\n",
    "        if random.randint(0,1):\n",
    "            eagles += 1\n",
    "        else:\n",
    "            tails += 1\n",
    "    # розраховуємо відстань хі-квадрат Пірсона: \n",
    "    # ((O1 - E1)|sqrt(E1))^2 + ... + ((On - En)|sqrt(En))^2\n",
    "    return (\n",
    "        (eagles-30)**2/30 + (tails-30)**2/30\n",
    "    )"
   ]
  },
  {
   "cell_type": "markdown",
   "id": "b6a0251e",
   "metadata": {},
   "source": [
    "Проведемо експеримент 10 тис. разів:"
   ]
  },
  {
   "cell_type": "code",
   "execution_count": 46,
   "id": "b1614f7f",
   "metadata": {},
   "outputs": [],
   "source": [
    "# робимо експеримент 10 тис. разів,\n",
    "# у кожному з яких по 60 разів будемо підкидати монету\n",
    "# і зберігати значення відстані хі-квадрат, що повертається\n",
    "list_of_chi_square = []\n",
    "for i in range(10000):\n",
    "    list_of_chi_square.append(distance_chi_square_from_toss_coin())"
   ]
  },
  {
   "cell_type": "markdown",
   "id": "adab9e7a",
   "metadata": {},
   "source": [
    "Подивимося на отриманий розподіл:"
   ]
  },
  {
   "cell_type": "code",
   "execution_count": 47,
   "id": "00bd24d2",
   "metadata": {},
   "outputs": [
    {
     "name": "stderr",
     "output_type": "stream",
     "text": [
      "C:\\Users\\GbreH\\Desktop\\jupyter\\lib\\site-packages\\seaborn\\distributions.py:2619: FutureWarning: `distplot` is a deprecated function and will be removed in a future version. Please adapt your code to use either `displot` (a figure-level function with similar flexibility) or `histplot` (an axes-level function for histograms).\n",
      "  warnings.warn(msg, FutureWarning)\n"
     ]
    },
    {
     "data": {
      "text/plain": [
       "<AxesSubplot:ylabel='Density'>"
      ]
     },
     "execution_count": 47,
     "metadata": {},
     "output_type": "execute_result"
    },
    {
     "data": {
      "image/png": "[encoded data removed]",
      "text/plain": [
       "<Figure size 432x288 with 1 Axes>"
      ]
     },
     "metadata": {
      "needs_background": "light"
     },
     "output_type": "display_data"
    }
   ],
   "source": [
    "import seaborn as sns\n",
    "\n",
    "sns.distplot(list_of_chi_square)"
   ]
  },
  {
   "cell_type": "code",
   "execution_count": 48,
   "id": "fd8f8cd7",
   "metadata": {},
   "outputs": [
    {
     "data": {
      "text/plain": [
       "(array([8.406e+03, 1.088e+03, 2.320e+02, 1.940e+02, 4.300e+01, 2.300e+01,\n",
       "        9.000e+00, 4.000e+00, 0.000e+00, 1.000e+00]),\n",
       " array([ 0.        ,  1.70666667,  3.41333333,  5.12      ,  6.82666667,\n",
       "         8.53333333, 10.24      , 11.94666667, 13.65333333, 15.36      ,\n",
       "        17.06666667]),\n",
       " <BarContainer object of 10 artists>)"
      ]
     },
     "execution_count": 48,
     "metadata": {},
     "output_type": "execute_result"
    },
    {
     "data": {
      "image/png": "[encoded data removed]",
      "text/plain": [
       "<Figure size 432x288 with 1 Axes>"
      ]
     },
     "metadata": {
      "needs_background": "light"
     },
     "output_type": "display_data"
    }
   ],
   "source": [
    "import matplotlib.pyplot as plt\n",
    "\n",
    "plt.hist(list_of_chi_square)"
   ]
  },
  {
   "cell_type": "markdown",
   "id": "1c3c1f52",
   "metadata": {},
   "source": [
    "Згадаймо про наш експеримент у попередньому степу і який розподіл вийшов там, коли отримали 40 орлів!"
   ]
  },
  {
   "cell_type": "code",
   "execution_count": 49,
   "id": "eff59fe8",
   "metadata": {},
   "outputs": [
    {
     "name": "stdout",
     "output_type": "stream",
     "text": [
      "6.666666666666667\n"
     ]
    }
   ],
   "source": [
    "#подивимося ще раз на значення, яке ми отримували в нашому\n",
    "#конкретному спостереженні з випаданням орла і решки (коли отримали 40 орлів!):\n",
    "exp_eagles = 40\n",
    "exp_tails = 20\n",
    "# розраховуємо відстань хі-квадрат Пірсона:\n",
    "# ((O1 - E1)|sqrt(E1))^2 + ... + ((On - En)|sqrt(En))^2\n",
    "res_of_exp_chi_2 = (exp_eagles-30)**2/30 + (exp_tails-30)**2/30\n",
    "print(res_of_exp_chi_2)"
   ]
  },
  {
   "cell_type": "markdown",
   "id": "aeeaaa99",
   "metadata": {},
   "source": [
    "Як бачимо на графіку є як 6.67, так і більш екстремальні значення справа (навіть он 14 є!), але нам цікаво, яка частина всіх експериментів показує подібні або навіть великі значення відстані хі-квадрат (тобто яка частка всіх експериментів з 10 тис. разів показали такі або більше виражені відмінності в спостережуваних і очікуваних результатах випадання орла і решки):"
   ]
  },
  {
   "cell_type": "code",
   "execution_count": 50,
   "id": "79ab8be3",
   "metadata": {},
   "outputs": [
    {
     "name": "stdout",
     "output_type": "stream",
     "text": [
      "161\n"
     ]
    }
   ],
   "source": [
    "# подивимося % значень з рівним або великим значенням нашого конкретного спостереження:\n",
    "count_of_result_or_more_like_we_see = 0\n",
    "for i in list_of_chi_square:\n",
    "    if i >= res_of_exp_chi_2:\n",
    "        count_of_result_or_more_like_we_see += 1;\n",
    "print(count_of_result_or_more_like_we_see)"
   ]
  },
  {
   "cell_type": "markdown",
   "id": "7c658af5",
   "metadata": {},
   "source": [
    "Бачимо, що 138 із 10 тисяч наших експериментів випадково дали таке чи більше значення відстані хі-квадрат.\n",
    "\n",
    "Яка можливість отримати таке спостереження випадково?"
   ]
  },
  {
   "cell_type": "code",
   "execution_count": 51,
   "id": "82b01d83",
   "metadata": {},
   "outputs": [
    {
     "name": "stdout",
     "output_type": "stream",
     "text": [
      "0.0161\n"
     ]
    }
   ],
   "source": [
    "# % ймовірності отримати такі розбіжності\n",
    "print(count_of_result_or_more_like_we_see / len(list_of_chi_square))"
   ]
  },
  {
   "cell_type": "markdown",
   "id": "602481ae",
   "metadata": {},
   "source": [
    "Або з ймовірністю 1.38% ми могли отримати таке (40 разів!) випадання орла у 60-ти підкиданнях чесної монети.\n",
    "\n",
    "ps:\n",
    "\n",
    "стало цікаво, а яка можливість випадання всіх орлів?"
   ]
  },
  {
   "cell_type": "code",
   "execution_count": 52,
   "id": "cb1fc4a1",
   "metadata": {},
   "outputs": [
    {
     "name": "stdout",
     "output_type": "stream",
     "text": [
      "60.0\n"
     ]
    }
   ],
   "source": [
    "res_of_exp_chi_2_60 = (60-30)**2/30 + (0-30)**2/30\n",
    "print(res_of_exp_chi_2_60)"
   ]
  },
  {
   "cell_type": "code",
   "execution_count": 53,
   "id": "53486ead",
   "metadata": {},
   "outputs": [
    {
     "name": "stdout",
     "output_type": "stream",
     "text": [
      "0\n"
     ]
    }
   ],
   "source": [
    "count_of_result_60 = 0\n",
    "for i in list_of_chi_square:\n",
    "    if i >= res_of_exp_chi_2_60:\n",
    "        count_of_result_60 += 1;\n",
    "print(count_of_result_60)"
   ]
  },
  {
   "cell_type": "markdown",
   "id": "406fb7d5",
   "metadata": {},
   "source": [
    "У нашому випадковому моделюванні із 10 тис. разів - такої ситуації не зустрілося. Не знайдемо ми її серед 1 млн. експериментів. Але, звичайно, ймовірність є)"
   ]
  },
  {
   "cell_type": "markdown",
   "id": "0b1292aa",
   "metadata": {},
   "source": [
    "<p id=\"part3\"></p>\n",
    "\n",
    "# Перевірка  відповідності розподілу даних до нормального розподілу"
   ]
  },
  {
   "cell_type": "markdown",
   "id": "6574899b",
   "metadata": {},
   "source": [
    "# Приклад\n",
    "\n",
    "При рівні значимості 0,05 перевірити гіпотезу про нормальний розподіл генеральної сукупності, якщо відомі емпіричні та теоретичні частоти:\n",
    "\n",
    "Емпіричні частоти: 6 13 38 74 106 85 30 14\n",
    "\n",
    "Теоретичні частоти: 3 14 42 82 99 76 37 13\n",
    "\n",
    "Розрахуємо $\\chi^2$ = 7,19, Оскільки pvalue >0.05, немає підстав відкидати нульову гіпотезу. Дані спостережень узгоджуються з гіпотезою про нормальний розподіл генеральної сукупності."
   ]
  },
  {
   "cell_type": "code",
   "execution_count": 54,
   "id": "a60352a4",
   "metadata": {},
   "outputs": [
    {
     "data": {
      "text/plain": [
       "Power_divergenceResult(statistic=7.194855127140108, pvalue=0.40887768586437173)"
      ]
     },
     "execution_count": 54,
     "metadata": {},
     "output_type": "execute_result"
    }
   ],
   "source": [
    "stats.chisquare([6, 13, 38, 74, 106, 85, 30, 14], f_exp=[3, 14, 42, 82, 99, 76, 37, 13])"
   ]
  },
  {
   "cell_type": "code",
   "execution_count": 55,
   "id": "294731d1",
   "metadata": {},
   "outputs": [],
   "source": [
    "# https://kineziolog.su/content/proverka-vyborki-na-normalnost-raspredeleniya-khi-kvadrat\n"
   ]
  },
  {
   "cell_type": "code",
   "execution_count": 56,
   "id": "55a03680",
   "metadata": {},
   "outputs": [],
   "source": [
    "# Розрахунки теоретичних частот нормального розподілу\n",
    "# http://mathhelpplanet.com/static.php?p=kriterii-soglasiya\n",
    "# http://mathprofi.ru/kriteriy_soglasiya.html\n",
    "# https://studfile.net/preview/5716282/page:7/"
   ]
  },
  {
   "cell_type": "markdown",
   "id": "af87a217",
   "metadata": {},
   "source": [
    "# Розрахуємо теоретичні частоти нормального розподілу"
   ]
  },
  {
   "cell_type": "code",
   "execution_count": 57,
   "id": "d4c423d2",
   "metadata": {},
   "outputs": [],
   "source": [
    "class FrequencyDistributionNormal():\n",
    "    \n",
    "    def __init__(self, sample):\n",
    "        self.sample = np.array(sample)\n",
    "        self.std = self.sample.std()\n",
    "        self.average = self.sample.mean()\n",
    "        self.num_intervals = self.get_num_intervals()#\n",
    "        self.min_value = self.sample.min()\n",
    "        self.max_value = self.sample.max()\n",
    "        self.step_intervals = self.get_step_intervals()\n",
    "        self.groups_intervals = self.get_groups_intervals()\n",
    "        self.index = self.groups_intervals.index\n",
    "        self.count_into_intervals, self.mean_into_intervals = self.get_counts_and_means_list()\n",
    "        self.z_score = self.get_z_score()\n",
    "        self.f_from_z_score = self.get_f_from_z_score()\n",
    "        self.frequencies = self.get_frequencies()\n",
    "        self.corrected_frequency = self.get_corrected_frequency()\n",
    "     \n",
    "         \n",
    "    def get_num_intervals(self):\n",
    "        \"\"\" кількість (m) інтервалів, яка розраховується за формулою:\n",
    "                                  m = (10 * n)^1/3, \n",
    "            де n - обсяг вибірки (кількість елементів сокупності)\"\"\"\n",
    "        return math.ceil((len(self.sample)*10)**(1/3))\n",
    "    \n",
    "    def get_step_intervals(self):\n",
    "        \"\"\" крок (h) від інтервалу до наступного інтервалу розраховується інтервал\n",
    "        за формулою                h = min - max / (m - 1),\n",
    "        де min, max - мінімальне та максимальне значення елементів виборочної сукупності\n",
    "        m - кількість інтервалів\n",
    "        \"\"\"\n",
    "        return (self.max_value - self.min_value)/(self.num_intervals-1)\n",
    "    \n",
    "    @property\n",
    "    def amount_of_intervals(self): # get amount_of_intervals value\n",
    "        return self.num_intervals\n",
    "           \n",
    "    @amount_of_intervals.setter\n",
    "    def set_amount_of_intervals(self, value): # set up amount_of_intervals value\n",
    "        if value == None:\n",
    "            self.num_intervals = self.get_amount_of_intervals()\n",
    "        else:\n",
    "            self.num_intervals = value\n",
    "    \n",
    "    @property\n",
    "    def sequence_step(self):\n",
    "        return self.step_intervals\n",
    "    \n",
    "    @sequence_step.setter\n",
    "    def set_sequence_step(self, value):\n",
    "        if not isinstance(value, (int, float, None)):\n",
    "            self.step_intervals = self.get_step_intervals()\n",
    "            raise TypeError('value is not a int or float')\n",
    "        else:\n",
    "            self.step_intervals = value\n",
    "\n",
    "    def get_groups_intervals(self):\n",
    "        \"\"\"повертає список з нижньою та верхньою границею кожного інтервала\"\"\"\n",
    "        bins = np.concatenate(([-np.inf], np.arange(self.min_value, self.max_value,\n",
    "                                                    self.step_intervals), [np.inf]))\n",
    "        pandas_series = pd.Series(self.sample)\n",
    "        return pandas_series.groupby(pd.cut(self.sample, bins), observed=True).\\\n",
    "            apply(lambda x: x.to_list())\n",
    "\n",
    "    def get_counts_and_means_list(self):\n",
    "        \"\"\"повертае список з підрахованою кількістю елементів вибіркової сукупності\n",
    "        в кожному з інтервалів\"\"\"\n",
    "        mean_groups = []\n",
    "        count_groups = []\n",
    "        for i in  self.groups_intervals.array:\n",
    "            mean_groups.append(np.mean(i))\n",
    "            count_groups.append(len(i))\n",
    "        return np.array(count_groups), np.array(mean_groups)\n",
    "        \n",
    "    def get_z_score(self):\n",
    "        return (self.mean_into_intervals-self.average)/self.std\n",
    "    \n",
    "    def get_f_from_z_score(self):\n",
    "        f = lambda z, sd: (1/(2*math.pi)**0.5)*math.e**(-((z)**2/(2)))\n",
    "        return f(self.z_score, self.std)\n",
    "    \n",
    "    def get_frequencies(self):\n",
    "        return (self.f_from_z_score*self.step_intervals/self.std)*self.count_into_intervals.sum()\n",
    "    \n",
    "    def get_corrected_frequency(self):\n",
    "        return (self.count_into_intervals.sum()*self.frequencies)/self.frequencies.sum()\n",
    "    \n",
    "    def get_summary_dataframe(self):\n",
    "        df = pd.DataFrame(index=self.index) \n",
    "        df['std'] = self.std\n",
    "        df['average'] = self.average\n",
    "        df['m'] = self.num_intervals\n",
    "        df['h'] = self.step_intervals\n",
    "        df['mean_group'] = self.mean_into_intervals\n",
    "        df['count'] = self.count_into_intervals\n",
    "        df['z'] = self.z_score\n",
    "        df['f(z)'] = self.f_from_z_score\n",
    "        df['frequencies'] = self.frequencies\n",
    "        df['corrected_frequency'] = self.corrected_frequency\n",
    "       \n",
    "        return df"
   ]
  },
  {
   "cell_type": "markdown",
   "id": "1c1d2aff",
   "metadata": {},
   "source": [
    "#### Сгенеруємо 1000 вибіркових сукупностей із нормального розподілу та підрахуємо кількість відкинутих нульових гіпотез за $\\chi^2$ при p<0.05, p<0.01 та p<0.001"
   ]
  },
  {
   "cell_type": "code",
   "execution_count": 58,
   "id": "05ffcd49",
   "metadata": {},
   "outputs": [
    {
     "data": {
      "image/png": "[encoded data removed]",
      "text/plain": [
       "<Figure size 1440x288 with 4 Axes>"
      ]
     },
     "metadata": {},
     "output_type": "display_data"
    },
    {
     "data": {
      "image/png": "[encoded data removed]",
      "text/plain": [
       "<Figure size 1440x288 with 4 Axes>"
      ]
     },
     "metadata": {},
     "output_type": "display_data"
    },
    {
     "data": {
      "image/png": "[encoded data removed]",
      "text/plain": [
       "<Figure size 1440x288 with 4 Axes>"
      ]
     },
     "metadata": {},
     "output_type": "display_data"
    }
   ],
   "source": [
    "def result(alpha):\n",
    "    coun = []\n",
    "    for i in range(1000):\n",
    "        sample = np.random.normal(loc=0, scale=1, size=100)\n",
    "        fdn  = FrequencyDistributionNormal(sample)\n",
    "        df = fdn.get_summary_dataframe()\n",
    "        stat, p_value = stats.chisquare(df['count'], f_exp=df['corrected_frequency'])\n",
    "        if p_value < alpha:\n",
    "            coun.append(1)\n",
    "        else:\n",
    "            coun.append(0)\n",
    "    return {'NORMAL':coun.count(0), \"not normal\":coun.count(1)}\n",
    "\n",
    "def ploting_pie(ax, n, alpha):\n",
    "    res = result(alpha)\n",
    "    ax.pie([float(res[v]) for v in res], labels=[str(k) for k in res], autopct='%1.1f%%')\n",
    "    ax.set_title(f'{n} experiment')\n",
    "    \n",
    "def main_pie_plot(alpha):    \n",
    "    fig, axs = plt.subplots(ncols=4, figsize=(20, 4))\n",
    "    n_experiment = ['first', 'second', 'third', 'fourth']\n",
    "    fig.suptitle(f'Гіпотеза про нормальність розподілу даних при р<{alpha}')\n",
    "    for n, ax in zip(n_experiment, axs):\n",
    "        ploting_pie(ax, n, alpha)\n",
    "\n",
    "for alpha in [0.05,0.01,0.001]:\n",
    "    main_pie_plot(alpha)"
   ]
  },
  {
   "cell_type": "markdown",
   "id": "76b47dad",
   "metadata": {},
   "source": [
    "Таким чином при 95% довірчому значенні р<0,05 кількість хибно відкинутих нульових гіпотез була в інтервалі від 9,5 до 12%, при р<0,01 (5.1-6.3%) а при р<0,001 (1.9-3.4%)"
   ]
  },
  {
   "cell_type": "markdown",
   "id": "5bba42c3",
   "metadata": {},
   "source": [
    "\"При застосуванні критеріїв згоди типу $\\chi^2$ неоднозначність при побудові та обчисленні статистик пов'язана з вибором кількості інтервалів та тим, яким чином область визначення випадкової величини розбивається на інтервали. Таке свавілля відбивається на статистичних властивостях застосовуваних критеріїв, зокрема, з їхньої потужності при розрізненні близьких конкуруючих гіпотез. Очевидно, що вибір числа інтервалів та способу розбиття на інтервали слід здійснювати з позицій забезпечення максимальної потужності критерію, що застосовується.\" - [стаття де досліджена залежність потужності від кількості інтервалів(МАКСИМИЗАЦИЯ МОЩНОСТИ КРИТЕРИЕВ ТИПА $\\chi^2$  Б.Ю. Лемешко,. Е.В. Чимитова)](https://ami.nstu.ru/~headrd/seminar/publik_html/DAN_SOAN_1.htm)\n",
    "\n",
    "в нашому випадку кількість (m) інтервалів розраховується за формулою:\n",
    "                                  m = (10 * n)^1/3, \n",
    "            де n - обсяг вибірки (кількість елементів сокупності) \n",
    "\n",
    "зменшивши кількість інтервалів на 1 результати були такими р<0,05(8,9-11,7)\n",
    "р<0,01 (4,7-6,5) р<0,001(2,8-3,5)\n",
    "зменшивши кількість інтервалів на 5 результати були такими р<0,05(9,6-11,9)\n",
    "р<0,01 (4,4-5,9) р<0,001(3-3,3)\n",
    "зменшивши кількість інтервалів на 20 результати були такими р<0,05(6,9-9,7)\n",
    "р<0,01 (3,6-5,2) р<0,001(2,5-3,5)\n",
    "збільшивши кількість інтервалів на 1 результати були такими р<0,05(8,9-11,7)\n",
    "р<0,01 (4,1-6,0) р=0,001(1,9-3,0)\n",
    "збільшивши кількість інтервалів на 5 результати були такими р<0,05(9,4-10,2)\n",
    "р<0,01 (4,5-6,6) р<0,001(2,4-3,9)\n",
    "збільшивши кількість інтервалів на 20 результати були такими р<0,05(9,9-10,8)\n",
    "р<0,01 (4,8-5,6) р<0,001(2,2-3,8)"
   ]
  },
  {
   "cell_type": "code",
   "execution_count": null,
   "id": "1aaf1a8c",
   "metadata": {},
   "outputs": [],
   "source": []
  },
  {
   "cell_type": "code",
   "execution_count": null,
   "id": "2fe3e744",
   "metadata": {},
   "outputs": [],
   "source": []
  }
 ],
 "metadata": {
  "kernelspec": {
   "display_name": "Python 3 (ipykernel)",
   "language": "python",
   "name": "python3"
  },
  "language_info": {
   "codemirror_mode": {
    "name": "ipython",
    "version": 3
   },
   "file_extension": ".py",
   "mimetype": "text/x-python",
   "name": "python",
   "nbconvert_exporter": "python",
   "pygments_lexer": "ipython3",
   "version": "3.10.5"
  }
 },
 "nbformat": 4,
 "nbformat_minor": 5
}
