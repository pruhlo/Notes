{
 "cells": [
  {
   "cell_type": "markdown",
   "id": "77cf2ba8",
   "metadata": {},
   "source": [
    "# Власні значення (числа) та власні вектори.\n",
    "## Eigenvalues and eigenvectors"
   ]
  },
  {
   "cell_type": "markdown",
   "id": "0061ebc5",
   "metadata": {},
   "source": [
    "[Знаходимо власні значення та власні вектори матриці](#part1)\n",
    "\n",
    "[Канонічне розкладання матриці](#part2)"
   ]
  },
  {
   "cell_type": "markdown",
   "id": "019e5f05",
   "metadata": {},
   "source": [
    "Розглянемо довільну квадратну матрицю, наприклад $$A = \\begin{bmatrix}-1 & -6 \\\\2 & 6 \\end{bmatrix}$$\n",
    "І помножимо цю матрицю праворуч на який-небудь відповідний стовпець. Мені спало на думку вектор :\n",
    "$$\\bar{b} = \\begin{bmatrix}-1 \\\\1 \\end{bmatrix}$$\n",
    "\n",
    "$$A*\\bar{b} = \\begin{bmatrix}-1 & -6 \\\\2 & 6 \\end{bmatrix} * \\begin{bmatrix}-1 \\\\1 \\end{bmatrix} = \\begin{bmatrix}-1*(-1) & -6*(1) \\\\2*(-1) & 6*(1) \\end{bmatrix}=\\begin{bmatrix}-5 \\\\4 \\end{bmatrix}=\\bar{c}$$"
   ]
  },
  {
   "cell_type": "code",
   "execution_count": 1,
   "id": "1322760f",
   "metadata": {},
   "outputs": [
    {
     "data": {
      "text/plain": [
       "array([-5,  4])"
      ]
     },
     "execution_count": 1,
     "metadata": {},
     "output_type": "execute_result"
    }
   ],
   "source": [
    "# помножимо цю матрицю на вектор за допомогою numpy \n",
    "import numpy as np\n",
    "A = np.array([[-1,-6],[2,6]])\n",
    "b = np.array([-1,1])\n",
    "np.dot(A,b) # Out: array([-5,  4])"
   ]
  },
  {
   "cell_type": "markdown",
   "id": "83bc8d92",
   "metadata": {},
   "source": [
    "Начебто нічого примітного - помножили матрицю $A = \\begin{bmatrix}-1 & -6 \\\\2 & 6 \\end{bmatrix}$ на вектор-стовпець $\\bar{b} = \\begin{bmatrix}-1 \\\\1 \\end{bmatrix}$ і отримали інший вектор-стовпець $\\bar{c} = \\begin{bmatrix}-5 \\\\4 \\end{bmatrix}$. Звичайне векторне життя. Але в суспільстві таких векторів існують особливі представники, які мають внутрішній стрижень і не бажають змінювати собі у важкі хвилини."
   ]
  },
  {
   "cell_type": "markdown",
   "id": "4810a60f",
   "metadata": {},
   "source": [
    "Помножимо ту ж матрицю на вектор $\\bar{u} = \\bbox[orange, 8px]{\\begin{bmatrix}2 \\\\-1 \\end{bmatrix}}$\n",
    "\n",
    "$$A*\\bar{u} = \\begin{bmatrix}-1 & -6 \\\\2 & 6 \\end{bmatrix} * \\begin{bmatrix}2 \\\\-1 \\end{bmatrix} = \\begin{bmatrix}-1*(2) & -6*(-1) \\\\2*(2) & 6*(-1) \\end{bmatrix}=\\begin{bmatrix}4 \\\\-2 \\end{bmatrix}=2*\\bbox[orange, 8px]{\\begin{bmatrix}2 \\\\-1 \\end{bmatrix}}$$"
   ]
  },
  {
   "cell_type": "markdown",
   "id": "e3c73e39",
   "metadata": {},
   "source": [
    ">На останньому кроці винесли константу. Що сталося? В результаті множення матриці на вектор, даний вектор відродився з числовим коефіцієнтом $\\lambda=2$: $A\\bar{u}=\\lambda\\bar{u}$\n",
    "\n",
    ">**Визначення:** ненульовий вектор $\\bar{u}$, який при множенні на деяку квадратну матрицю $A$ перетворюється на самого себе з числовим коефіцієнтом $\\lambda$, називається **власним вектором** матриці. Число $\\lambda$ називають **власним значенням** чи **власним числом** цієї матриці."
   ]
  },
  {
   "cell_type": "code",
   "execution_count": 2,
   "id": "14e58651",
   "metadata": {},
   "outputs": [
    {
     "data": {
      "text/plain": [
       "array([ 4, -2])"
      ]
     },
     "execution_count": 2,
     "metadata": {},
     "output_type": "execute_result"
    }
   ],
   "source": [
    "u = np.array([2,-1])\n",
    "np.dot(A,u) # Out: array([4,  -2])"
   ]
  },
  {
   "cell_type": "markdown",
   "id": "2892ba36",
   "metadata": {},
   "source": [
    "# Власні значення та власні вектори матриці\n",
    "\n",
    "<p id='part1'></p>\n",
    "    \n",
    "Проведемо дослідження та отримаємо алгоритм, яким потрібно вирішувати це завдання. Люди, які не дуже добре розуміються на математиці (та й які добре) зазвичай у страху чи огиді закривають підручник, коли мова заходить про якийсь доказ чи виведення якоїсь формули. Але це не той випадок – все буде зрозуміло навіть повному чайнику:\n",
    "\n",
    "##### Приклад\n",
    "\n",
    "Знайти власні числа та власні вектори матриці $A = \\begin{bmatrix}-1 & -6 \\\\2 & 6 \\end{bmatrix}$ Перед вами та сама матриця, у якої я вже отримане одне власне значення та один власний вектор. Давайте навчимося добувати їх самостійно:\n",
    "\n",
    "Позначимо через $\\bar{u} = {\\begin{bmatrix}x \\\\y \\end{bmatrix}}$ невідомий власний вектор. Тоді матричне рівняння $\\lambda=2$: $A\\bar{u}=\\lambda\\bar{u}$ запишеться так:\n",
    "\n",
    "$$A*\\bar{u} = \\begin{bmatrix}-1 & -6 \\\\2 & 6 \\end{bmatrix} * \\begin{bmatrix}x \\\\y \\end{bmatrix} =\\lambda *{\\begin{bmatrix}x \\\\y \\end{bmatrix}}$$\n",
    "У лівій частині за звичайним правилом проведемо матричне множення, у правій частині – внесемо «лямбду»:\n",
    "$$\\begin{bmatrix}-1*(x) & -6*(y) \\\\2*(x) & 6*(y) \\end{bmatrix}={\\begin{bmatrix}\\lambda *x \\\\\\lambda *y \\end{bmatrix}}$$\n",
    "\n",
    "Дві матриці рівні, якщо рівні відповідні їх елементи. Прирівнюємо відповідні елементи векторів-стовпців та отримуємо однорідну систему лінійних рівнянь:\n",
    "$$ \\left\\{ \\begin{array}{cl}\n",
    "-x & -& 6y&=\\lambda{x} \\\\\n",
    "2x & +& 6y&=\\lambda{y}\n",
    "\\end{array} \\right.$$\n",
    "Перенесемо все наліво:\n",
    "$$ \\left\\{ \\begin{array}{cl}\n",
    "-x & -& 6y&-\\lambda{x}&=0 \\\\\n",
    "2x & +& 6y&-\\lambda{y}&=0\n",
    "\\end{array} \\right.$$\n",
    "За визначенням, власний вектор не може бути нульовим $\\bar{u} = {\\begin{bmatrix}x \\\\y \\end{bmatrix}}\\neq{\\begin{bmatrix}0 \\\\0 \\end{bmatrix}}$, тому нас не влаштовує тривіальне рішення системи. Якщо ж однорідна система має ненульове рішення, її рівняння лінійно залежні і визначник матриці дорівнює нулю:\n",
    "$$\\begin{bmatrix}-1-\\lambda & -6 \\\\2 & 6- \\lambda \\end{bmatrix}=0$$\n",
    "Це так зване характеристичне рівняння матриці, коріння якого є власними числами цієї матриці.\n",
    "\n",
    "Насправді, зазвичай, потрібно розписувати докладний висновок формули – цілком достатньо керуватися формальним алгоритмом, і розв'язання завдання можна розпочати приблизно так:\n",
    "\n",
    ">Спочатку **знайдемо власні значення**\n",
    "Складемо характеристичне рівняння. Дивимося на вихідну матрицю та записуємо її визначник, віднімаючи при цьому «лямбду» з чисел головної діагоналі:\n",
    "$$\\begin{bmatrix}-1-\\lambda & -6 \\\\2 & 6- \\lambda \\end{bmatrix}=0$$\n",
    "Розкриємо визначник і розв'яжемо квадратне рівняння:\n",
    "$$(-1-\\lambda)*(6-\\lambda)-2*(-6)=0$$\n",
    "$$\\lambda^2 - 5\\lambda -6+12=0$$\n",
    "$$\\lambda^2 - 5\\lambda +6=0$$\n",
    "$$D=25-24=1; \\sqrt{D}=1$$\n",
    "$$\\lambda_{1} = \\frac{5-1}{2}=2$$\n",
    "$$\\lambda_{2} = \\frac{5+1}{2}=3$$\n",
    "\n",
    "Таким чином, власні значення $\\lambda_{1} =2, \\lambda_{2} =3$. Бажано розташовувати їх у порядку зростання, хоча це не важливо.\n",
    "\n",
    ">Тепер **знайдемо власні вектори**\n",
    "У цьому прикладі отримані різні власні числа і кожному їх відповідає свої власні вектори.\n",
    "Розглянемо власне число $\\lambda_{1} =2$ і підставимо значення  $\\lambda_{1} =2\\lambda = 2$ однорідну систему рівнянь\n",
    "$$ \\left\\{ \\begin{array}{cl}\n",
    "(-1-\\lambda)x & -& 6y=0 \\\\\n",
    "2x & +& (6-\\lambda)y=0\n",
    "\\end{array} \\right. \\implies   \\left\\{ \\begin{array}{cl}\n",
    "-3x & -& 6y=0 \\\\\n",
    "2x & +& 4y=0\n",
    "\\end{array} \\right.$$\n",
    "Для запису системи доцільно запам'ятати формальний прийом: подумки або на чернетці підставляємо $\\lambda_{1} =2\\lambda = 2$ у визначник \n",
    "$$\\begin{bmatrix}-1-\\lambda & -6 \\\\2 & 6- \\lambda \\end{bmatrix}=0 \\implies  \\begin{bmatrix}-3 & -6 \\\\2 & 4 \\end{bmatrix}=0$$\n",
    "Це і є коефіцієнти системи. З обох рівнянь випливає:\n",
    "$$\\left\\{ \\begin{array}{cl}\n",
    "-3x & -& 6y=0 \\\\\n",
    "2x & +& 4y=0\n",
    "\\end{array} \\right. \\implies x = -2y$$\n",
    "Отже, у нашому розпорядженні є вираз , і, надаючи змінної $y$ (або $x$) довільні значення, ми отримуємо безліч **власних векторів**\n",
    "Всі вони будуть колінеарними один одному, і тому нам достатньо вказати один із них. Зазвичай намагаються вибрати «красивий» вектор – щоб його «іксова» координата була позитивною, цілою та мінімальною, а $y$ не дробовим."
   ]
  },
  {
   "cell_type": "code",
   "execution_count": 3,
   "id": "b7b2f1fe",
   "metadata": {},
   "outputs": [
    {
     "data": {
      "text/plain": [
       "array([-1.53112887,  6.53112887])"
      ]
     },
     "metadata": {},
     "output_type": "display_data"
    },
    {
     "data": {
      "text/plain": [
       "array([[-0.96649965,  0.25666794],\n",
       "       [ 0.25666794,  0.96649965]])"
      ]
     },
     "execution_count": 3,
     "metadata": {},
     "output_type": "execute_result"
    }
   ],
   "source": [
    "# знайдемо власні значення та власні вектори за допомогою numpy:\n",
    " \n",
    "# Обчислення власних значень та власних векторів ермітової або речової симетричної матриці.\n",
    "eigh_val, eigh_vec = np.linalg.eigh(A)\n",
    "\n",
    "display(eigh_val) # власні значення\n",
    "eigh_vec # власні вектори"
   ]
  },
  {
   "cell_type": "markdown",
   "id": "0365f035",
   "metadata": {},
   "source": [
    "# Канонічне розкладання матриці\n",
    "## (Спектральне розкладання матриці)\n",
    "\n",
    "<p id='part2'></p>\n",
    "    \n",
    "Що це таке?\n",
    "\n",
    "Якщо власні вектори матриці $A$ утворюють базис, то її можна відобразити як: $A = UDU^{-1}$, де $U$ – матриця складена з координат власних векторів, $D$– діагональна матриця з відповідними власними числами. $U^{-1}$- зворотна матриця $U$\n",
    "Таке розкладання матриці називають **канонічним чи діагональним**."
   ]
  },
  {
   "cell_type": "code",
   "execution_count": 4,
   "id": "a5eabe3f",
   "metadata": {},
   "outputs": [],
   "source": [
    "U = eigh_vec # власні вектори\n",
    "U_1 = np.linalg.inv(eigh_vec) # - зворотна матриця\n",
    "D = np.diag(eigh_val) # діагональна матриця з відповідними власними числами"
   ]
  },
  {
   "cell_type": "code",
   "execution_count": 5,
   "id": "2648510f",
   "metadata": {},
   "outputs": [
    {
     "data": {
      "text/plain": [
       "array([[-1.,  2.],\n",
       "       [ 2.,  6.]])"
      ]
     },
     "execution_count": 5,
     "metadata": {},
     "output_type": "execute_result"
    }
   ],
   "source": [
    "np.dot(U, np.dot(D, U_1)) # A"
   ]
  },
  {
   "cell_type": "code",
   "execution_count": 6,
   "id": "15e4b1f5",
   "metadata": {},
   "outputs": [
    {
     "data": {
      "text/plain": [
       "array([[-1, -6],\n",
       "       [ 2,  6]])"
      ]
     },
     "execution_count": 6,
     "metadata": {},
     "output_type": "execute_result"
    }
   ],
   "source": [
    "A # не відповідає !!! ?"
   ]
  },
  {
   "cell_type": "code",
   "execution_count": 7,
   "id": "ed7bdefb",
   "metadata": {},
   "outputs": [],
   "source": [
    "# Обчислення власних значень та правих власних векторів.\n",
    "eigh_vals, eigh_vecs = np.linalg.eig(A)"
   ]
  },
  {
   "cell_type": "code",
   "execution_count": 8,
   "id": "e12cbbac",
   "metadata": {},
   "outputs": [
    {
     "data": {
      "text/plain": [
       "array([[-1., -6.],\n",
       "       [ 2.,  6.]])"
      ]
     },
     "execution_count": 8,
     "metadata": {},
     "output_type": "execute_result"
    }
   ],
   "source": [
    "np.dot(eigh_vecs, np.dot(np.diag(eigh_vals), np.linalg.inv(eigh_vecs))) # Відповідає!!!!"
   ]
  },
  {
   "cell_type": "markdown",
   "id": "0d3efe14",
   "metadata": {},
   "source": [
    "# Приклад 2"
   ]
  },
  {
   "cell_type": "code",
   "execution_count": 9,
   "id": "bff79322",
   "metadata": {},
   "outputs": [
    {
     "data": {
      "text/plain": [
       "array([[ 1,  2, -1],\n",
       "       [ 2,  2,  5],\n",
       "       [-1,  5, -3]])"
      ]
     },
     "execution_count": 9,
     "metadata": {},
     "output_type": "execute_result"
    }
   ],
   "source": [
    "X = np.array([\n",
    "    [1,2,-1],\n",
    "    [2,2,5],\n",
    "    [-1,5,-3],])\n",
    "X"
   ]
  },
  {
   "cell_type": "code",
   "execution_count": 10,
   "id": "15b19fcd",
   "metadata": {},
   "outputs": [],
   "source": [
    "v, w = np.linalg.eigh(X)"
   ]
  },
  {
   "cell_type": "code",
   "execution_count": 11,
   "id": "5cca0433",
   "metadata": {},
   "outputs": [
    {
     "data": {
      "text/plain": [
       "array([[-0.24709   ,  0.5304425 , -0.81091139],\n",
       "       [ 0.92927297, -0.10742791, -0.3534275 ],\n",
       "       [-0.27458749, -0.84088643, -0.46638151]])"
      ]
     },
     "execution_count": 11,
     "metadata": {},
     "output_type": "execute_result"
    }
   ],
   "source": [
    "S = w.T\n",
    "S"
   ]
  },
  {
   "cell_type": "code",
   "execution_count": 12,
   "id": "f9f31dbf",
   "metadata": {},
   "outputs": [
    {
     "data": {
      "text/plain": [
       "array([[-0.24709   ,  0.92927297, -0.27458749],\n",
       "       [ 0.5304425 , -0.10742791, -0.84088643],\n",
       "       [-0.81091139, -0.3534275 , -0.46638151]])"
      ]
     },
     "execution_count": 12,
     "metadata": {},
     "output_type": "execute_result"
    }
   ],
   "source": [
    "S.T"
   ]
  },
  {
   "cell_type": "code",
   "execution_count": 13,
   "id": "2c442cf1",
   "metadata": {},
   "outputs": [
    {
     "data": {
      "text/plain": [
       "array([[-6.5753629 ,  0.        ,  0.        ],\n",
       "       [ 0.        ,  1.14911837,  0.        ],\n",
       "       [ 0.        ,  0.        ,  5.42624453]])"
      ]
     },
     "execution_count": 13,
     "metadata": {},
     "output_type": "execute_result"
    }
   ],
   "source": [
    "D = np.diag(v)\n",
    "D"
   ]
  },
  {
   "cell_type": "code",
   "execution_count": 14,
   "id": "eac297df",
   "metadata": {},
   "outputs": [
    {
     "data": {
      "text/plain": [
       "array([[ 1.,  2., -1.],\n",
       "       [ 2.,  2.,  5.],\n",
       "       [-1.,  5., -3.]])"
      ]
     },
     "execution_count": 14,
     "metadata": {},
     "output_type": "execute_result"
    }
   ],
   "source": [
    "np.dot(np.dot(S.T, D),S)"
   ]
  }
 ],
 "metadata": {
  "kernelspec": {
   "display_name": "Python 3 (ipykernel)",
   "language": "python",
   "name": "python3"
  },
  "language_info": {
   "codemirror_mode": {
    "name": "ipython",
    "version": 3
   },
   "file_extension": ".py",
   "mimetype": "text/x-python",
   "name": "python",
   "nbconvert_exporter": "python",
   "pygments_lexer": "ipython3",
   "version": "3.10.5"
  }
 },
 "nbformat": 4,
 "nbformat_minor": 5
}
