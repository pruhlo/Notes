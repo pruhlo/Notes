{
 "cells": [
  {
   "cell_type": "markdown",
   "metadata": {},
   "source": [
    "<h1 style='text-align:center'> <a id='Сontents'>ЗМІСТ</a></h1>\n",
    "\n",
    "\n",
    "[$\\mathbb{\\mathfrak{\\color{lime}{\\text {import librarries}}}}$](#imports)<br>\n",
    "[Генеральна та вибіркова сукупності](#Генеральна_сукупність)<br>\n",
    "[Як розрахувати обсяг вибірки](#Обсяг_вибірки)<br>\n",
    "[Типи вибірок](#Типи_вибірок)<br>\n",
    "\n",
    "[Типи змінних](#Variables)<br>\n",
    "[Міри центральної тенденції](#Measures_of_central_tendency)<br>\n",
    "[Міри мінливості ознак](#measures_of_variability)<br>\n",
    "[Нормальний розподіл](#Normal_distribution)<br>\n",
    "[]()<br>\n",
    "[Центральна гранична теорема](#Central_limit_theorem)<br>\n",
    "[Довірчі інтервали для середнього](#Confidence_intervals_for_the_mean)<br>\n",
    "[t-розподіл Стьюдента](#t-distribution)<br>\n",
    "[Порівняння середніх (t-критерій Стьюдента)](#t-score)<br>\n",
    "[]()<br>\n",
    "[]()<br>\n",
    "[]()<br>\n",
    "[]()<br>\n",
    "[]()<br>\n",
    "\n",
    "<p style=\"text-align:right\"><a href=\"https://latexeditor.lagrida.com/\">Редактор latex</a></p>\n",
    "<p style=\"text-align:right\"><a href=\"https://g.co/kgs/n2Rtdg\">Google палітра</a></p>"
   ]
  },
  {
   "cell_type": "markdown",
   "metadata": {},
   "source": [
    "<h1 style=\"text-align:center\"> <a id=\"Генеральна_сукупність\">Генеральна та вибіркова сукупності</a>  </h1>\n",
    "<p style=\"text-align:right\"><a href=\"#Сontents\">зміст</a></p>"
   ]
  },
  {
   "cell_type": "markdown",
   "metadata": {},
   "source": [
    "Генеральна сукупність (від лат. generis — спільний, родовий; англ. statistical population) — вся множина однорідних за певною ознакою об'єктів чи подій, які є предметом інтересу або дослідження[1]. Є одним із основних понять математичної статистики.<br>\n",
    "[Генеральна сукупність, Підсукупність, Вибірка із генеральної сукупності](https://uk.wikipedia.org/wiki/%D0%93%D0%B5%D0%BD%D0%B5%D1%80%D0%B0%D0%BB%D1%8C%D0%BD%D0%B0_%D1%81%D1%83%D0%BA%D1%83%D0%BF%D0%BD%D1%96%D1%81%D1%82%D1%8C)<br>\n",
    "Наприклад: Якщо ми проводимо дослідження якоїсь людської хвороби, то ГЕНЕРАЛЬНОЮ сукупність будуть УСІ люди які страждають на даний недуг<br>\n",
    "Оскільки часто дослідити ВСЮ генеральну сукупність НЕМОЖЛИВО, вибрана підмножина (статистична вибірка) для статистичних висновків має представляти всю генеральну сукупність, тобто бути <u>репрезентативною</u>"
   ]
  },
  {
   "cell_type": "markdown",
   "metadata": {},
   "source": [
    "<h3 style=\"text-align:center\"> <a id=\"Обсяг_вибірки\">Як розрахувати обсяг вибірки</a> </h3><br>\n",
    "<p style=\"text-align:right\"><a href=\"#Сontents\">зміст</a></p>\n",
    "Достатній розмір вибірки залежить від таких складових:<br>\n",
    "* <i>мінливість ознаки</i> (чим різноманітнішими показання, тим більше спостережень потрібно, щоб це вловити);<br>\n",
    "* <i>розмір ефекту</i> (що менші ефекти ми прагнемо зафіксувати, то більше спостережень необхідно);<br>\n",
    "* <i>рівень довіри</i> (рівень ймовірності при якому ми готові відкинути нульову гіпотезу)<br>"
   ]
  },
  {
   "cell_type": "markdown",
   "metadata": {},
   "source": [
    "<p style=\"text-align:right\"><a href=\"https://latexeditor.lagrida.com/\">Редактор latex</a></p>\n",
    "Формули для розрахунку обсягу вибірки:\n",
    "$$\\bbox[yellow, 8px]{n=(\\frac{z\\times \\sigma}{H})^{2}} \\text{  - для середнього значення}$$\n",
    "$$\\bbox[green, 8px]{n=(\\frac{z\\times \\sqrt{p (1-p)}}{H})^{2}} \\text{  - для оцінки долі}$$\n",
    "де, H - допустима похибка(для середнього значення в натуральних одиницях виміру, а для оцінки в долях у відсотках)<br>\n",
    "z - довірчий рівень (1.96 при р=0.05)<br>\n",
    "р - частка ознаки (максимальне значення невизначеності досягається при р = 0.5)"
   ]
  },
  {
   "cell_type": "markdown",
   "metadata": {},
   "source": [
    "$$\\bbox[orange, 8px]{\\text{sample size} = \\frac{2 \\times SD^{2}\\times (Z_{\\alpha/2} + Z_{\\beta})^{2}}{d^{2}}}$$\n",
    "Where, <br>\n",
    "$$\\boxed{\n",
    " \\text{ SD = Standard deviation = from previous studies or pilot study} \\\\\n",
    " Z_{\\alpha/2} = Z_{0.05/2} = Z_{0.025}=1.96 \\text{(From Z table) at type 1 error of 5%} \\\\\n",
    "Z_{\\beta} = Z_{0.20} = 0.842 \\text{(From Z table) at 80% power} \\\\\n",
    " \\text{d = effect size = difference between mean values}}$$\n",
    " \n",
    "[Стаття](https://www.ncbi.nlm.nih.gov/pmc/articles/PMC3826013/)\n",
    "[pdf](https://www.ncbi.nlm.nih.gov/pmc/articles/PMC3826013/pdf/JPP-4-303.pdf)"
   ]
  },
  {
   "cell_type": "markdown",
   "metadata": {},
   "source": [
    "<p style=\"text-align:right\"><a href=\"https://www.statology.org/z-critical-value-python/\">Як знайти критичне значення Z в Python</a></p>\n",
    "\n",
    "\n",
    "```Python\n",
    "import scipy.stats as st\n",
    "```\n",
    "знайти критичне значення Z [Лівобічний тест]\n",
    "```Python\n",
    "scipy.stats.norm.ppf(0.8) # Out: 0.842\n",
    "```\n",
    "знайти критичне значення Z [Правосторонній тест]\n",
    "```Python\n",
    "scipy.stats.norm.ppf(1-.05) # Out: 1,64485\n",
    "```\n",
    "знайти критичне значення Z [Двосторонній тест]\n",
    "```Python\n",
    "scipy.stats.norm.ppf(1-.05/2) # Out: 1,95996\n",
    "```\n",
    "У цьому випадку критичні значення Z становлять 1,95996 і -1,95996. Отже, якщо статистика тесту менше -1,95996 чи більше 1,95996, результати тесту є статистично значимими."
   ]
  },
  {
   "cell_type": "markdown",
   "metadata": {},
   "source": [
    "Помилка вибірки значно зростає, коли спостережень менше ста. Для досліджень, у яких використовується 30-100 об'єктів, застосовується особлива статистична методологія: критерії, засновані на розподілі Стьюдента або бутстреп-аналіз. І, нарешті, статистика дуже слабка, коли спостережень менше 30.\n",
    "Чим більша невизначеність, тим більша помилка. Максимальна невизначеність в оцінці частки — 50% (наприклад, 50% респондентів вважають концепцію доброю, інші 50% поганою). Якщо 90% опитаних концепція сподобається, це, навпаки, приклад узгодженості. У такому разі оцінити частку ознаки по вибірці простіше.\n"
   ]
  },
  {
   "cell_type": "markdown",
   "metadata": {},
   "source": [
    "Ідеальна вибірка - це коли кожна людина має рівну ймовірність потрапити до числа опитаних. Цілком випадковий відбір важко досяжний (це дуже дорого), але до нього потрібно прагнути. Сам метод збору даних може деформувати вибірку (опитування відсікають пенсіонерів, опитування по стаціонарних телефонах — економічних активних чоловіків). Уявіть, як відрізнятимуться рейтинги, якщо провести електоральне опитування у «Вконтакті» та у паперовій газеті «Лікувальні листи».<br>\n",
    "<h1 style='text-align: center'><a id=\"Типи_вибірок\"> Типи вибірок <a></h1>\n",
    "<p style=\"text-align:right\"><a href=\"#Сontents\">зміст</a></p>\n",
    "    \n",
    "[Проста вибірка](#Simple_Sampl)<br>\n",
    "[Стратифікована вибірка](#Stratified_Sample)<br>\n",
    "[Кластерна вибірка (Групова вибірка)](#Cluster_Sampl)<br>\n",
    "\n",
    "Існує методологія, яка дозволяє скоротити детермінованість при формуванні вибірки та наблизитися до випадкового відбору.\n",
    "\n",
    "Стратифікована вибірка. Виділяються об'єктивно існуючі страти і з кожної страти відбираються одиниці пропорційно їх частці у генеральній сукупності. Наприклад, для опитування росіян страти може бути визначено пропорцією населення регіонах. Після цього респонденти всередині кожного регіону відбираються випадково.\n",
    "\n",
    "Механічний відбір. Усі об'єкти сортуються за порядковими номерами, після чого здійснюється відбір із кроком n. Наприклад, можна відсортувати телефонні номери потенційних учасників дослідження та дзвонити кожному 100-му.\n",
    "\n",
    "Серійна вибірка (гніздова, кластерна). Об'єктивно існуючі групи відбираються випадково. Об'єкти всередині групи обстежуються повністю. Наприклад, розкривається один контейнер продукції і кожен товар перевіряється на шлюб.\n",
    "\n",
    "Спосіб снігового кома. Кожен респондент запитує контакти його знайомих, які підходять під умови відбору. Умови випадковості відбору грубо порушується, але це один із способів провести дослідження серед важкодосяжних груп. Як бути інакше, якщо ваша мета - опитати любителів сталевих гоночних велосипедів, випущених не пізніше 1987 року.\n",
    "\n",
    "Стихійна вибірка (вибірка за зручністю). Застосовується, коли низька ціна на отримання даних — це головний пріоритет. Для підвищення якості стихійної вибірки на неї накладаються квоти. Заздалегідь розраховуються пропорції ознак у вибірці те щоб вони відповідали структурі генеральної сукупності. У соціології такими ознаками є стать, вік, професія, сімейний статус, регіон проживання...\n",
    "<p style=\"text-align:right\"><a href=\"https://www.tidydata.ru/sample-size\">Посилання на статтю</a></p>"
   ]
  },
  {
   "cell_type": "markdown",
   "metadata": {},
   "source": [
    "<h3 style=\"text-align:center\"><a id=\"Simple_Sampl\">Проста випадкова вибірка</a></h3>\n",
    "<p style=\"text-align:right\"><a href=\"#Сontents\">зміст</a></p>\n",
    "<h3 style=\"text-align:center\">Simple Random Sampl</h3>\n",
    "<img src='https://cdn.educba.com/academy/wp-content/uploads/2020/05/Simple-Random-Sample.jpg'>\n",
    "\n",
    "<p style=\"text-align:right\"><a href=\"https://russianblogs.com/article/2903938891/\">Випадкова вибірка у python, pandas</a></p>\n",
    "\n",
    "\n",
    "<p style=\"text-align:right\"><a href=\"https://www.geeksforgeeks.org/python-random-sample-function/\">Python | random.sample()</a></p>\n",
    "\n",
    "\n",
    "Створити зразок даних: <br>\n",
    "```Python\n",
    "import pandas as pd\n",
    "import numpy as np\n",
    "df=pd.DataFrame(np.arange(600).reshape(100,6),   # 100 рядків 6 стовбчиків\n",
    "                columns=['A','B','C','D','E','F'])\n",
    "```\n",
    "\n",
    "Встановити випадкове початкове число\n",
    "\n",
    "```Python\n",
    "np.random.seed(10)\n",
    "```\n",
    "Якщо випадкове початкове число не задано, результат кожної вибірки буде відрізнятися\n",
    "\n",
    "\n",
    "<p style=\"text-align:center\">Вибірка за номером, а не зворотно</p>\n",
    "\n",
    "```Python\n",
    "df.sample(n=10)# Вилучаємо 10 даних, ці 10 даних безперечно різні, тому що вони не замінюються\n",
    "```\n",
    "\n",
    "\n",
    "<p style=\"text-align:center\">Вибірка за номером, із заміщувальною вибіркою</p>\n",
    "\n",
    "```Python\n",
    "df.sample(n=20,replace=True) # Вилучити 20 даних, у цих 20 даних можуть бути ті ж дані, тому що вони замінені вибіркою\n",
    "```\n",
    "\n",
    "<p style=\"text-align:center\">Вибірка у відсотках, без повернення</p>\n",
    "\n",
    "```Python\n",
    "df.sample(frac=0.2) # Вилучити 20% даних\n",
    "```\n",
    "\n",
    "<p style=\"text-align:center\">Відсоткова вибірка, із заміною</p>\n",
    "\n",
    "```Python\n",
    "df.sample(frac=0.2,replace=True) # Вилучити 20% даних\n",
    "```\n",
    "\n",
    "\n"
   ]
  },
  {
   "cell_type": "markdown",
   "metadata": {},
   "source": [
    "<h3 style=\"text-align:center\"><a id=\"Stratified_Sample\">Стратифікована вибірка</a></h3>\n",
    "<p style=\"text-align:right\"><a href=\"#Сontents\">зміст</a></p>\n",
    "\n",
    "<img src=\"https://www.scribbr.com/wp-content/uploads/2020/09/stratified-sample-7.png\">\n",
    "\n",
    "<p style=\"text-align:right\"><a href=\"https://www.geeksforgeeks.org/stratified-sampling-in-pandas/\">Stratified Sampling in Pandas</a></p>\n",
    "\n",
    "Example:\n",
    "<p style='color:white' id='imports'>imports</p>"
   ]
  },
  {
   "cell_type": "code",
   "execution_count": 1,
   "metadata": {},
   "outputs": [],
   "source": [
    "import pandas as pd\n",
    "import warnings\n",
    "import numpy as np\n",
    "import seaborn as sns\n",
    "from plotnine import *\n",
    "from scipy import stats\n",
    "import scipy.stats as st\n",
    "import matplotlib.pyplot as plt\n",
    "from sklearn.preprocessing import StandardScaler\n",
    "from scipy.stats import t, norm\n",
    "from ipywidgets import *\n",
    "import ipywidgets as wg\n",
    "from IPython.display import display\n",
    "\n",
    "\n",
    "\n",
    "warnings.filterwarnings('ignore')"
   ]
  },
  {
   "cell_type": "markdown",
   "metadata": {},
   "source": [
    "<p style=\"text-align:right\"><a href=\"#Сontents\">зміст</a></p>"
   ]
  },
  {
   "cell_type": "code",
   "execution_count": 2,
   "metadata": {},
   "outputs": [],
   "source": [
    "# Create a dictionary of students\n",
    "students = {\n",
    "    'Name': ['Lisa', 'Kate', 'Ben', 'Kim', 'Josh',\n",
    "             'Alex', 'Evan', 'Greg', 'Sam', 'Ella'],\n",
    "    'ID': ['001', '002', '003', '004', '005', '006', \n",
    "           '007', '008', '009', '010'],\n",
    "    'Grade': ['A', 'A', 'C', 'B', 'B', 'B', 'C', \n",
    "              'A', 'A', 'A'],\n",
    "    \n",
    "    'Category': [2, 3, 1, 3, 2, 3, 3, 1, 2, 1]\n",
    "}\n",
    "  \n",
    "# Create dataframe from students dictionary\n",
    "df = pd.DataFrame(students)"
   ]
  },
  {
   "cell_type": "markdown",
   "metadata": {},
   "source": [
    "Зверніть увагу, що є 50% учнів класу A, 30% учнів класу B та 20% учнів класу C.\n",
    "\n",
    "Крок 2: Створіть вибірку з 6 учнів непропорційно (рівна кількість учнів із кожної страти класів)\n",
    "\n",
    "Непропорційна вибірка: використовуючи групу pandas, розділіть учнів на групи залежно від їхньої оцінки, тобто A, B, C, і випадково виберіть 2 учнів з кожної групи оцінок, використовуючи функцію вибірки."
   ]
  },
  {
   "cell_type": "code",
   "execution_count": 3,
   "metadata": {},
   "outputs": [
    {
     "data": {
      "text/html": [
       "<div>\n",
       "<style scoped>\n",
       "    .dataframe tbody tr th:only-of-type {\n",
       "        vertical-align: middle;\n",
       "    }\n",
       "\n",
       "    .dataframe tbody tr th {\n",
       "        vertical-align: top;\n",
       "    }\n",
       "\n",
       "    .dataframe thead th {\n",
       "        text-align: right;\n",
       "    }\n",
       "</style>\n",
       "<table border=\"1\" class=\"dataframe\">\n",
       "  <thead>\n",
       "    <tr style=\"text-align: right;\">\n",
       "      <th></th>\n",
       "      <th>Name</th>\n",
       "      <th>ID</th>\n",
       "      <th>Grade</th>\n",
       "      <th>Category</th>\n",
       "    </tr>\n",
       "  </thead>\n",
       "  <tbody>\n",
       "    <tr>\n",
       "      <th>1</th>\n",
       "      <td>Kate</td>\n",
       "      <td>002</td>\n",
       "      <td>A</td>\n",
       "      <td>3</td>\n",
       "    </tr>\n",
       "    <tr>\n",
       "      <th>7</th>\n",
       "      <td>Greg</td>\n",
       "      <td>008</td>\n",
       "      <td>A</td>\n",
       "      <td>1</td>\n",
       "    </tr>\n",
       "    <tr>\n",
       "      <th>3</th>\n",
       "      <td>Kim</td>\n",
       "      <td>004</td>\n",
       "      <td>B</td>\n",
       "      <td>3</td>\n",
       "    </tr>\n",
       "    <tr>\n",
       "      <th>5</th>\n",
       "      <td>Alex</td>\n",
       "      <td>006</td>\n",
       "      <td>B</td>\n",
       "      <td>3</td>\n",
       "    </tr>\n",
       "    <tr>\n",
       "      <th>6</th>\n",
       "      <td>Evan</td>\n",
       "      <td>007</td>\n",
       "      <td>C</td>\n",
       "      <td>3</td>\n",
       "    </tr>\n",
       "    <tr>\n",
       "      <th>2</th>\n",
       "      <td>Ben</td>\n",
       "      <td>003</td>\n",
       "      <td>C</td>\n",
       "      <td>1</td>\n",
       "    </tr>\n",
       "  </tbody>\n",
       "</table>\n",
       "</div>"
      ],
      "text/plain": [
       "   Name   ID Grade  Category\n",
       "1  Kate  002     A         3\n",
       "7  Greg  008     A         1\n",
       "3   Kim  004     B         3\n",
       "5  Alex  006     B         3\n",
       "6  Evan  007     C         3\n",
       "2   Ben  003     C         1"
      ]
     },
     "execution_count": 3,
     "metadata": {},
     "output_type": "execute_result"
    }
   ],
   "source": [
    "# отримаємо по 2 елемента з кожної групи 'Grade'\n",
    "df.groupby('Grade', group_keys=False).apply(lambda x: x.sample(2))"
   ]
  },
  {
   "cell_type": "markdown",
   "metadata": {},
   "source": [
    "Крок 3: Пропорційно відберіть 60% учнів (створіть пропорційні вибірки з кожної страти на основі її частки у популяції)\n",
    "\n",
    "Пропорційна вибірка: за допомогою групи панд розділіть учнів на групи залежно від їхньої оцінки, тобто A, B, C і випадкову вибірку з кожної групи на основі частки населення. Загальний обсяг вибірки становить 60% (0,6) населення."
   ]
  },
  {
   "cell_type": "code",
   "execution_count": 4,
   "metadata": {},
   "outputs": [
    {
     "data": {
      "text/html": [
       "<div>\n",
       "<style scoped>\n",
       "    .dataframe tbody tr th:only-of-type {\n",
       "        vertical-align: middle;\n",
       "    }\n",
       "\n",
       "    .dataframe tbody tr th {\n",
       "        vertical-align: top;\n",
       "    }\n",
       "\n",
       "    .dataframe thead th {\n",
       "        text-align: right;\n",
       "    }\n",
       "</style>\n",
       "<table border=\"1\" class=\"dataframe\">\n",
       "  <thead>\n",
       "    <tr style=\"text-align: right;\">\n",
       "      <th></th>\n",
       "      <th>Name</th>\n",
       "      <th>ID</th>\n",
       "      <th>Grade</th>\n",
       "      <th>Category</th>\n",
       "    </tr>\n",
       "  </thead>\n",
       "  <tbody>\n",
       "    <tr>\n",
       "      <th>9</th>\n",
       "      <td>Ella</td>\n",
       "      <td>010</td>\n",
       "      <td>A</td>\n",
       "      <td>1</td>\n",
       "    </tr>\n",
       "    <tr>\n",
       "      <th>1</th>\n",
       "      <td>Kate</td>\n",
       "      <td>002</td>\n",
       "      <td>A</td>\n",
       "      <td>3</td>\n",
       "    </tr>\n",
       "    <tr>\n",
       "      <th>7</th>\n",
       "      <td>Greg</td>\n",
       "      <td>008</td>\n",
       "      <td>A</td>\n",
       "      <td>1</td>\n",
       "    </tr>\n",
       "    <tr>\n",
       "      <th>3</th>\n",
       "      <td>Kim</td>\n",
       "      <td>004</td>\n",
       "      <td>B</td>\n",
       "      <td>3</td>\n",
       "    </tr>\n",
       "    <tr>\n",
       "      <th>4</th>\n",
       "      <td>Josh</td>\n",
       "      <td>005</td>\n",
       "      <td>B</td>\n",
       "      <td>2</td>\n",
       "    </tr>\n",
       "    <tr>\n",
       "      <th>2</th>\n",
       "      <td>Ben</td>\n",
       "      <td>003</td>\n",
       "      <td>C</td>\n",
       "      <td>1</td>\n",
       "    </tr>\n",
       "  </tbody>\n",
       "</table>\n",
       "</div>"
      ],
      "text/plain": [
       "   Name   ID Grade  Category\n",
       "9  Ella  010     A         1\n",
       "1  Kate  002     A         3\n",
       "7  Greg  008     A         1\n",
       "3   Kim  004     B         3\n",
       "4  Josh  005     B         2\n",
       "2   Ben  003     C         1"
      ]
     },
     "execution_count": 4,
     "metadata": {},
     "output_type": "execute_result"
    }
   ],
   "source": [
    "# отримаємо по 60% елементів від кожної групи 'Grade'\n",
    "df.groupby('Grade', group_keys=False).apply(lambda x: x.sample(frac=0.6))"
   ]
  },
  {
   "cell_type": "markdown",
   "metadata": {},
   "source": [
    "Зауважте, що навіть у вибірці 50% учнів А класу, 30% учнів Б класу та 20% учнів С класу."
   ]
  },
  {
   "cell_type": "markdown",
   "metadata": {},
   "source": [
    "<h3 style=\"text-align:center\"><a id=\"Cluster_Sampl\">Кластерна вибірка (Групова вибірка)</a></h3>\n",
    "<p style=\"text-align:right\"><a href=\"#Сontents\">зміст</a></p>\n",
    "<h3 style=\"text-align:center\">Cluster Sampl</h3>\n",
    "<img src='https://www.voxco.com/wp-content/uploads/2021/04/Stratified-Sampling-Vs-Cluster-Sampling3.jpg'>\n",
    "\n",
    "\n"
   ]
  },
  {
   "cell_type": "markdown",
   "metadata": {},
   "source": [
    "<p style=\"text-align:right\"><a href=\"https://www.geeksforgeeks.org/cluster-sampling-in-pandas/\">Cluster Sampling in Pandas</a></p>\n",
    "\n",
    "Example:"
   ]
  },
  {
   "cell_type": "code",
   "execution_count": 5,
   "metadata": {},
   "outputs": [
    {
     "name": "stdout",
     "output_type": "stream",
     "text": [
      "    employee_id     value\n",
      "1             2  0.438387\n",
      "3             4 -0.442935\n",
      "14           15  1.437345\n",
      "17           18  0.675688\n"
     ]
    }
   ],
   "source": [
    "#creating dictionary of data\n",
    "dic_data = {'employee_id':np.arange(1,21),\n",
    "                  'value':np.random.randn(20)}\n",
    "  \n",
    "# creating DataFrame from dictonary\n",
    "df = pd.DataFrame(dic_data)\n",
    "# creating samples\n",
    "samples = df.sample(4).sort_values(by='employee_id')\n",
    "  \n",
    "# show samples\n",
    "print(samples)"
   ]
  },
  {
   "cell_type": "markdown",
   "metadata": {},
   "source": [
    "<h1 style=\"text-align:center\"><a id=\"Variables\">Типи змінних. Кількісні та номінативні змінні</a>\n",
    "</h1>\n",
    "<p style=\"text-align: right;\"><a href=\"#Сontents\" style=\"color: #66FF00 ; font-weight: bold; font-size:8pt\">зміст</a></p>"
   ]
  },
  {
   "cell_type": "markdown",
   "metadata": {},
   "source": [
    "<table border=0 cellpadding=0 cellspacing=0 width=790 style='border-collapse:\n",
    " collapse;table-layout:fixed;width:592pt'>\n",
    " <col width=164 style='mso-width-source:userset;mso-width-alt:5997;width:123pt'>\n",
    " <col width=132 style='mso-width-source:userset;mso-width-alt:4827;width:99pt'>\n",
    " <col width=64 style='width:48pt'>\n",
    " <col width=168 style='mso-width-source:userset;mso-width-alt:6144;width:126pt'>\n",
    " <col width=159 style='mso-width-source:userset;mso-width-alt:5814;width:119pt'>\n",
    " <col width=103 style='mso-width-source:userset;mso-width-alt:3766;width:77pt'>\n",
    " <tr height=25 style='height:18.75pt'>\n",
    "  <td colspan=2 rowspan=2 height=51 class=xl786309 width=296 style='border-right:\n",
    "  1.0pt solid black;border-bottom:1.0pt solid black;height:38.25pt;width:222pt'>&nbsp;</td>\n",
    "  <td class=xl656309 width=64 style='width:48pt; color: OrangeRed'>Данні</td>\n",
    "  <td colspan=3 rowspan=2 class=xl786309 width=430 style='border-right:1.0pt solid black;\n",
    "  border-bottom:1.0pt solid black;width:322pt'>&nbsp;</td>\n",
    " </tr>\n",
    " <tr height=26 style='height:19.5pt'>\n",
    "  <td height=26 class=xl766309 width=64 style='height:19.5pt;width:48pt'>Data</td>\n",
    " </tr>\n",
    " <tr height=25 style='height:18.75pt'>\n",
    "  <td colspan=2 height=25 class=xl846309 width=296 style='height:18.75pt;\n",
    "  width:222pt; color: #98F516'>Кількісні (Числові)</td>\n",
    "  <td rowspan=2 class=xl776309 width=64 style='width:48pt'>&nbsp;</td>\n",
    "  <td colspan=3 class=xl866309 width=430 style='border-right:1.0pt solid black;\n",
    "  width:322pt; color: #98F516'>Якісні (Категорійні)</td>\n",
    " </tr>\n",
    " <tr height=26 style='height:19.5pt'>\n",
    "  <td colspan=2 height=26 class=xl886309 width=296 style='height:19.5pt;\n",
    "  width:222pt; color:#AB47BC '>Quantitative (Numerical)</td>\n",
    "  <td colspan=3 class=xl906309 width=430 style='border-right:1.0pt solid black;\n",
    "  width:322pt; color:#AB47BC'>Qualitative (Categorial)</td>\n",
    " </tr>\n",
    " <tr height=25 style='height:18.75pt'>\n",
    "  <td height=25 class=xl666309 width=164 style='height:18.75pt;width:123pt; color:#1976D2'>Дискретні</td>\n",
    "  <td class=xl756309 width=132 style='width:99pt; color:#1976D2'>Неприривні</td>\n",
    "  <td rowspan=2 class=xl776309 width=64 style='width:48pt'>&nbsp;</td>\n",
    "  <td class=xl686309 width=168 style='width:126pt; color:#1976D2'>Порядкові(Рангові)</td>\n",
    "  <td class=xl696309 width=159 style='width:119pt; color:#1976D2'>Номінативні</td>\n",
    "  <td class=xl706309 width=103 style='width:77pt; color:#1976D2'>Бінарні</td>\n",
    " </tr>\n",
    " <tr height=26 style='height:19.5pt'>\n",
    "  <td height=26 class=xl676309 width=164 style='height:19.5pt;width:123pt'>Discrete</td>\n",
    "  <td class=xl756309 width=132 style='width:99pt'>Continuous</td>\n",
    "  <td class=xl686309 width=168 style='width:126pt'>Ordinal</td>\n",
    "  <td class=xl696309 width=159 style='width:119pt'>Nominal</td>\n",
    "  <td class=xl706309 width=103 style='width:77pt'>Binary</td>\n",
    " </tr>\n",
    " <tr height=300 style='height:225.0pt'>\n",
    "  <td height=300 class=xl716309 width=164 style='height:225.0pt;width:123pt; color:#F06292'>Кількість\n",
    "  дітей у якійсь родині, кількість автомобільних аварій на певній території,\n",
    "  або кількість людей, що прочитали цей текст. Результат простого підрахунку\n",
    "  випадків настання певного явища, і тому є значеннями дискретних змінних.\n",
    "  Дискретною є змінна, значеннями якої можуть бути лише цілі числа.</td>\n",
    "  <td class=xl726309 width=132 style='width:99pt; color:#FF5722'>Довжина, вага, температура,\n",
    "  вік&nbsp;— можуть бути виміряні достатньо точно, і не мають мінімальної\n",
    "  неподільної одиниці виміру. Вага може бути виміряна з точністю до грама, а\n",
    "  може — й до мікрограма, а вік — з точністю до днів, годин, хвилин, секунд.</td>\n",
    "  <td class=xl746309 width=64 style='width:48pt'></td>\n",
    "  <td class=xl726309 width=168 style='width:126pt; color:#66FF00'>Змінна, значення якої за\n",
    "  означенням впорядковані (наприклад «слабо», «помірно», «сильно»).<span\n",
    "  style='mso-spacerun:yes'> </span></td>\n",
    "  <td class=xl736309 width=159 style='border-left:none;width:119pt; color:#0000CC'>Змінна,\n",
    "  значення якої не можуть бути впорядковані – наприклад ім’я людини. Єдина\n",
    "  операція, яку можна застосовувати до змінних з номінальною шкалою — це\n",
    "  перелік, підрахунок частоти появи того чи іншого значення в масиві.</td>\n",
    "  <td class=xl726309 width=103 style='border-left:none;width:77pt; color:#0099FF'>Приймають\n",
    "  лише два значення, наприклад стать: чоловіча або жіноча; на монеті орел чи\n",
    "  решка</td>\n",
    " </tr>\n",
    "\n",
    "</table>\n",
    "\n"
   ]
  },
  {
   "cell_type": "markdown",
   "metadata": {},
   "source": [
    "<h1 style=\"text-align:center\"><a id=\"Measures_of_central_tendency\">Міри центральної тенденції</a>\n",
    "</h1>\n",
    "<p style=\"text-align: right;\"><a href=\"#Сontents\" style=\"color: #66FF00 ; font-weight: bold; font-size:8pt\">зміст</a></p>\n",
    "<a href=\"https://uk.wikipedia.org/wiki/%D0%A6%D0%B5%D0%BD%D1%82%D1%80%D0%B0%D0%BB%D1%8C%D0%BD%D0%B0_%D1%82%D0%B5%D0%BD%D0%B4%D0%B5%D0%BD%D1%86%D1%96%D1%8F\">Стаття</a>"
   ]
  },
  {
   "cell_type": "markdown",
   "metadata": {},
   "source": [
    "* Середнє арифметичне значення (або просто, середнє арифметичне) — це сума всіх значень, поділена на кількість елементів в наборі даних.\n",
    "* Медіана — це середня величина, яка відокремлює вищу половину від нижньої в наборі даних. Медіана і мода є єдиними мірами центральної тенденції, які можуть бути використані для порядкових даних, в яких значення ранжуються по відношенню один до одного, але не вимірюються.\n",
    "* Мода — це значення, яке найбільш часто зустрічається в наборі даних. Це єдина міра центральної тенденції, яка може бути застосована для номінальних даних, які мають тільки сукупність числових даних."
   ]
  },
  {
   "cell_type": "code",
   "execution_count": 6,
   "metadata": {},
   "outputs": [
    {
     "data": {
      "image/png": "[encoded data removed]",
      "text/plain": [
       "<Figure size 432x288 with 1 Axes>"
      ]
     },
     "metadata": {},
     "output_type": "display_data"
    },
    {
     "data": {
      "text/plain": [
       "<ggplot: (203366158003)>"
      ]
     },
     "execution_count": 6,
     "metadata": {},
     "output_type": "execute_result"
    }
   ],
   "source": [
    "#https://plotnine.readthedocs.io/en/stable/api.html\n",
    "\n",
    "arr = np.array([185,175,170,169,171,172,175,157,170,172,167,173,168,167,166,\\\n",
    "        167,169,172,177,178,165,161,179,159,164,178,172,170,173,171]) # створюємо масив(вектор) даних\n",
    "df = pd.DataFrame.from_dict({'a':arr})\n",
    "mode = float(stats.mode(df.a)[0]) # розраховуємо моду\n",
    "mean = np.mean(df.a) # розраховуємо середнє арифметичне\n",
    "median = np.median(df.a) # розраховуємо медіану\n",
    "# будуємо діаграму\n",
    "ggplot(df, ) + geom_dotplot(aes(x = 'a'), binwidth = 1.5, fill = \"white\")+\\\n",
    "geom_vline(xintercept=mean, linetype=\"dashed\", color = \"blue\", size=0.5)+\\\n",
    "geom_vline(xintercept=median, color=\"red\", linetype=\"dotted\", size=0.5)+\\\n",
    "geom_vline(xintercept=mode, linetype=\"dashed\", color = \"green\", size=0.5)+\\\n",
    "labs(x = 'Зріст')"
   ]
  },
  {
   "cell_type": "markdown",
   "metadata": {},
   "source": [
    "Для прикладу: на графіку вибірка даних зросту людей з частотним розподілом аналізуючих даних, на якому синім та чевоним зображені середнє арифметичне та медіана відповідно, а зеленим мода. Які становлять:"
   ]
  },
  {
   "cell_type": "code",
   "execution_count": 7,
   "metadata": {},
   "outputs": [
    {
     "data": {
      "text/plain": [
       "'mean=170.4 median= 170.5 mode=172.0'"
      ]
     },
     "execution_count": 7,
     "metadata": {},
     "output_type": "execute_result"
    }
   ],
   "source": [
    "f'{mean=} {median= } {mode=}'"
   ]
  },
  {
   "cell_type": "markdown",
   "metadata": {},
   "source": [
    "Як видно з діаграми середнє та медіана майже не відрізняються, а мода не сильно відмінна від вказаних показників, що характерно для данних з номальним частотним розподілом даних, що характеризується також низькою вареабільністю даних. Для наглядності згенеруємо вибірку з розрахованим середнім, але з більшою [варіабельністю](#measures_of_variability)  (збільшимо втричі  середнє квадратичне відхилення)."
   ]
  },
  {
   "cell_type": "code",
   "execution_count": 8,
   "metadata": {},
   "outputs": [
    {
     "data": {
      "text/plain": [
       "'new_arr_mean=170.43333333333334 new_arr_median=171.5 new_arr_mode=array([156])'"
      ]
     },
     "execution_count": 8,
     "metadata": {},
     "output_type": "execute_result"
    }
   ],
   "source": [
    "def create_sample(num_samples, desired_mean, desired_std_dev):\n",
    "    samples = np.random.normal(loc=0.0, scale=desired_std_dev, size=num_samples)\n",
    "    \n",
    "    actual_mean = np.mean(samples)\n",
    "    zero_mean_samples = samples - (actual_mean)\n",
    "    zero_mean_std = np.std(zero_mean_samples)\n",
    "    scaled_samples = zero_mean_samples * (desired_std_dev/zero_mean_std)\n",
    "    final_samples = scaled_samples + desired_mean\n",
    "\n",
    "    return final_samples\n",
    "\n",
    "new_arr = create_sample(len(arr), np.mean(arr), np.std(arr)*3) # збільшимо втричі середнєквадратичне відхилення\n",
    "# округлим до цілого числа\n",
    "new_arr = (divmod(new_arr, 1)[0]).astype(int) + (divmod(new_arr, 1)[1]>0.5).astype(int)\n",
    "# розрахуєм міри центрацьної тенденції\n",
    "new_arr_mean = new_arr.mean()\n",
    "new_arr_median = np.median(new_arr)\n",
    "new_arr_mode = stats.mode(new_arr)[0]\n",
    "f'{new_arr_mean=} {new_arr_median=} {new_arr_mode=}'"
   ]
  },
  {
   "cell_type": "markdown",
   "metadata": {},
   "source": [
    "Тепер накладемо діаграми одну на одну:"
   ]
  },
  {
   "cell_type": "code",
   "execution_count": 9,
   "metadata": {},
   "outputs": [
    {
     "data": {
      "image/png": "[encoded data removed]",
      "text/plain": [
       "<Figure size 640x480 with 1 Axes>"
      ]
     },
     "metadata": {},
     "output_type": "display_data"
    },
    {
     "data": {
      "text/plain": [
       "<ggplot: (203368392170)>"
      ]
     },
     "execution_count": 9,
     "metadata": {},
     "output_type": "execute_result"
    }
   ],
   "source": [
    "new_array = [197, 161, 170, 188, 161, 160, 178, 154, 140, 176, 177, 181, 150, 210,\n",
    " 158, 186, 205, 155, 162, 168, 146, 199, 178, 160, 166, 175, 186, 166, 154, 144]\n",
    "\n",
    "new_df = pd.DataFrame.from_dict({'new_array':new_array, 'array': arr})\n",
    "ggplot(new_df, ) + geom_dotplot(aes(x = 'array'), binwidth = 1.5, fill = \"white\", show_legend=True) +\\\n",
    "geom_dotplot(aes(x = 'new_array'), binwidth = 1.5, fill = \"black\", alpha=0.5) +\\\n",
    "geom_vline(xintercept=new_arr_mean, linetype=\"dashed\", color = \"blue\", size=0.5)+\\\n",
    "geom_vline(xintercept=new_arr_median, color=\"red\", linetype=\"dotted\", size=0.5)+\\\n",
    "geom_vline(xintercept=new_arr_mode, linetype=\"dashed\", color = \"green\", size=0.5)+\\\n",
    "geom_vline(xintercept=mean, linetype=\"dashed\", color = \"blue\", size=0.5)+\\\n",
    "geom_vline(xintercept=median, color=\"red\", linetype=\"dotted\", size=0.5)+\\\n",
    "geom_vline(xintercept=mode, linetype=\"dashed\", color = \"green\", size=0.5)+\\\n",
    "xlim(min(new_df.new_array), max(new_df.new_array))+\\\n",
    "labs(x = 'Зріст')"
   ]
  },
  {
   "cell_type": "markdown",
   "metadata": {},
   "source": [
    "Як видно із діаграми в першому випадку медіана та серднє майже не відрізнялось, то з вибіркою у якої середньоквадратичне відхилення більше у 3 рази медіана відхиляється приблизно на 3 одиниці а мода на 16."
   ]
  },
  {
   "cell_type": "code",
   "execution_count": 10,
   "metadata": {},
   "outputs": [
    {
     "data": {
      "text/plain": [
       "'new_arr_mean=170.43333333333334 new_arr_median=171.5 new_arr_mode=array([156])'"
      ]
     },
     "execution_count": 10,
     "metadata": {},
     "output_type": "execute_result"
    }
   ],
   "source": [
    "f'{new_arr_mean=} {new_arr_median=} {new_arr_mode=}'"
   ]
  },
  {
   "cell_type": "markdown",
   "metadata": {},
   "source": [
    "<h1 style=\"text-align:center\"><a id=\"measures_of_variability\">Міри мінливості ознак</a>\n",
    "</h1>\n",
    "<p style=\"text-align: right;\"><a href=\"#Сontents\" style=\"color: #66FF00 ; font-weight: bold; font-size:8pt\">зміст</a></p>"
   ]
  },
  {
   "cell_type": "markdown",
   "metadata": {},
   "source": [
    "<u>Розмах</u>\n",
    "Це різниця між максимальним та мінімальним значенням вибірки. Вкрай чутливий до викидів.\n",
    "\n",
    "<u>Дисперсія (**D**)</u>\n",
    "Це середній квадрат відхилень індивідуальних значень ознаки від їхньої середньої величини\n",
    "<center><u>Для генеральної сукупності</u>\n",
    "$$\\bbox[#0099FF, 8px]{D = \\frac{\\sum_{i=1}^{n} (x_{i} - M_{x})^2}{n}}$$\n",
    "\n",
    "<center><u>Для вибірки</u>\n",
    "$$\\bbox[#ffff00, 8px]{D = \\frac{\\sum_{i=1}^{n} (x_{i} - M_{x})^2}{n-1}}$$\n",
    "    \n",
    "де 1 це кількість ступенів свободи<br>\n",
    "    \n",
    "<u>**Cереднє квадратичне відхилення**</u>\n",
    "    За визначенням середнє квадратичне відхилення є додатнім квадратним коренем із дисперсії. Як і дисперсія характеризує розсіяння значень навколо центру розподілу: більшому значенню стандартного відхилення відповідає більший їх розкид.\n",
    "$$\\bbox[#10e02c, 8px]{ \\sigma ^*= \\sqrt{D}}$$\n",
    "\n",
    "\\*Важливо відмітити, що середньоквадратичне відхилення для вибірки позначають інакше, як **sd** - standart deviation\n",
    "    \n",
    "    \n",
    "<u>**Стандартна помилка середнього**</u> вказує наскільки велика розбіжність може бути у середньому показнику вибірки порівняно із середнім показником популяції\n",
    "  <img src='https://www.simplypsychology.org/Standard-error-formula.jpg' width=\"300\" height=\"400\">  \n",
    "    \n",
    "    \n",
    "<a href='https://uk.wikipedia.org/wiki/Коефіцієнт_варіації'>Коефіцієнт варіації</a>  (CV) відносна величина, що служить для характеристики розсіяння (мінливості) ознаки. Являє собою відношення середнього квадратичного відхилення до середнього арифметичного, виражається у відсотках:\n",
    "    $$\\bbox[#aa2ef2, 8px]{ \\text{CV} = \\frac{sd}{\\bar{X}}100\\%}$$\n",
    "Коефіцієнт варіації у статистиці застосовується порівняння розкиду двох випадкових величин з різними одиницями виміру щодо очікуваного значення. У результаті можна одержати порівняні результати. Показник наочно ілюструє однорідність даних. При СV ≤ 33% сукупність є однорідною, а середня є типовою та надійною її характеристикою.\n",
    "    \n",
    "<u>**Коефіцієнт осциляції**</u>(VR) – характеризує відносне коливання крайніх значень ознаки\n",
    "навколо середньої:\n",
    " $$\\bbox[#5c10e0, 8px]{VR = \\frac{x_{max} - x_{min}}{\\bar{X}}100\\%} $$   \n",
    "    \n",
    "Розрахуємо вищевказані показники для наших 2-ч вибіркових сукупностей \"array\"  та \"new_array\":"
   ]
  },
  {
   "cell_type": "code",
   "execution_count": 11,
   "metadata": {},
   "outputs": [
    {
     "data": {
      "text/plain": [
       "41.07981220657277"
      ]
     },
     "execution_count": 11,
     "metadata": {},
     "output_type": "execute_result"
    }
   ],
   "source": [
    "# Розмах\n",
    "range_array = max(arr) - min(arr) # out: 28\n",
    "range_array_new_array = max(new_array) - min(new_array) # out: 70\n",
    "\n",
    "# Дисперсія\n",
    "new_df.array.var() #  out: 36.04\n",
    "new_df.new_array.var() #  out: 326.93\n",
    "\n",
    "#  Cереднє квадратичне відхилення\n",
    "new_df.array.std() #  out: 6.00345\n",
    "new_df.new_array.std() #  out: 18.0812\n",
    "\n",
    "#  Стандартна помилка середнього\n",
    "new_df.array.sem(ddof=0) #  Out: 1.08\n",
    "new_df.new_array.sem(ddof=0) #  Out: 3.25\n",
    "\n",
    "# Коефіцієнт варіації\n",
    "new_df.array.std()/new_df.array.mean()*100 # Out: 3.52 %\n",
    "new_df.new_array.std()/new_df.new_array.mean()*100 # Out: 10.61 %\n",
    "\n",
    "# Коефіцієнт осциляції\n",
    "(new_df.array.max()-new_df.array.min())/new_df.array.mean()*100 # Out: 16.43 %\n",
    "(new_df.new_array.max()-new_df.new_array.min())/new_df.array.mean()*100 # Out: 41.08 %"
   ]
  },
  {
   "cell_type": "markdown",
   "metadata": {},
   "source": [
    "Розрахувавши такі міри мінливості як розмах, дисперсію, та середнє квадратичне відхилення видно, що розмах наших вибіркових сукупностей відрізняється більш ніж у двічі, диспесія більша у ~100 разів, а середнє квадратичне відхилення як і розраховувалось більше у три рази."
   ]
  },
  {
   "cell_type": "markdown",
   "metadata": {},
   "source": [
    "<u>Кванті́лі</u> - це значення ознаки, які ділять упорядковані дані на кілька рівних частин\n",
    "Медіана - на 2 рівні частини\n",
    "Квартілі розподілу - 3 точки, що ділять наші дані на 4 частини. На графіку boxplot вказані величини можна розглянути наглядніше. Уявіть, що box plot це вид зверху на гістограму."
   ]
  },
  {
   "cell_type": "code",
   "execution_count": 12,
   "metadata": {},
   "outputs": [
    {
     "data": {
      "image/png": "[encoded data removed]",
      "text/plain": [
       "<Figure size 640x480 with 2 Axes>"
      ]
     },
     "metadata": {},
     "output_type": "display_data"
    }
   ],
   "source": [
    "# set a grey background (use sns.set_theme() if seaborn version 0.11.0 or above) \n",
    "sns.set(style=\"darkgrid\")\n",
    "\n",
    "# creating a figure composed of two matplotlib.Axes objects (ax_box and ax_hist)\n",
    "f, (ax_box, ax_hist) = plt.subplots(2, sharex=True, gridspec_kw={\"height_ratios\": (.15, .85)})\n",
    "\n",
    "# assigning a graph to each ax\n",
    "#https://stackoverflow.com/questions/21300953/matplotlib-axvline-truth-ambiguous-or-list-issue\n",
    "d = {'new_arr_mean':['blue', new_arr_mean], 'new_arr_median':['red', new_arr_median], 'new_arr_mode':['green', new_arr_mode]}\n",
    "[sns.boxplot(new_df[\"new_array\"], ax=ax_box).axvline(d[key][1], c=d[key][0]) for key in d.keys()]\n",
    "[sns.histplot(data=new_df, x=\"new_array\", ax=ax_hist).axvline(d[key][1], c=d[key][0]) for key in d.keys()]\n",
    "\n",
    "# Remove x axis name for the boxplot\n",
    "ax_box.set(xlabel='boxplot')\n",
    "plt.show()"
   ]
  },
  {
   "cell_type": "code",
   "execution_count": 13,
   "metadata": {},
   "outputs": [
    {
     "data": {
      "image/png": "[encoded data removed]",
      "text/plain": [
       "<Figure size 640x480 with 2 Axes>"
      ]
     },
     "metadata": {},
     "output_type": "display_data"
    }
   ],
   "source": [
    "# creating a figure composed of two matplotlib.Axes objects (ax_box and ax_hist)\n",
    "f, (ax_box, ax_hist) = plt.subplots(2, sharex=True, gridspec_kw={\"height_ratios\": (.15, .85)})\n",
    "\n",
    "# assigning a graph to each ax\n",
    "d = {'mean':['blue', mean], 'median':['red', median], 'mode':['green', mode]}\n",
    "[sns.boxplot(new_df[\"array\"], ax=ax_box).axvline(d[key][1], c=d[key][0]) for key in d.keys()]\n",
    "[sns.histplot(data=new_df, x=\"array\", ax=ax_hist).axvline(d[key][1], c=d[key][0]) for key in d.keys()]\n",
    "\n",
    "# Remove x axis name for the boxplot\n",
    "ax_box.set(xlabel='boxplot')\n",
    "plt.show()"
   ]
  },
  {
   "cell_type": "markdown",
   "metadata": {},
   "source": [
    "<h1 style=\"text-align:center\"><a id=\"Normal_distribution\">Нормальний розподіл</a></h1>\n",
    "<img src='https://upload.wikimedia.org/wikipedia/commons/thumb/3/3a/Standard_deviation_diagram_micro.svg/320px-Standard_deviation_diagram_micro.svg.png'>\n",
    "$$\\bbox[#aa2ef2, 8px]{ f(x) = \\frac{1}{\\sigma \\sqrt{2\\pi}}e^{-\\frac{1}{2}(\\frac{x-\\mu}{\\sigma})^{2}}}$$\n",
    "<p style=\"text-align: right;\"><a href=\"#Сontents\" style=\"color: #66FF00 ; font-weight: bold; font-size:8pt\">зміст</a></p>\n",
    "\n",
    "```Python\n",
    "\n",
    "f = lambda x, sd, avg: 1/(sd*(2*math.pi)**0.5))*(math.e)**(-1/2*((x-avg)/sd)**2\n",
    "```"
   ]
  },
  {
   "cell_type": "markdown",
   "metadata": {},
   "source": [
    "Властивості для даних з нормальним розподілом:\n",
    "* Унімодально\n",
    "* Симетрично\n",
    "* Відхилення спостережень від середнього підпорядковуються певному закону ймовірності\n"
   ]
  },
  {
   "cell_type": "markdown",
   "metadata": {},
   "source": [
    "[Z-score](https://en.wikipedia.org/wiki/Standard_score)\n",
    "Дана стандартизація дозволяє перетворити вибірку на шкалу симетричну відносно нуля ($\\mu=0, \\sigma=1$)\n",
    "\n",
    "Z-оцінка (Z-тест) розглядає певну вибірку даного набору даних та <u>дозволяє визначити кількість [стандартних відхилень](https://www.youtube.com/watch?v=fGfihhoukCU)</u> від середнього значення. Щоб знайти Z-оцінку вибірки, потрібно обчислити середнє значення, дисперсію та стандартне відхилення вибірки. Щоб обчислити Z-оцінку, необхідно відняти середнє значення чисел вибірки, а потім отриманий результат розділити на стандартне відхилення.\n",
    "$$\\bbox[#3e2ef0, 8px]{ Z_{i}=\\frac{x_{i} - \\bar{X}}{sd}} $$"
   ]
  },
  {
   "cell_type": "code",
   "execution_count": 14,
   "metadata": {},
   "outputs": [],
   "source": [
    "# Отримаєм z-score з бібліотеки scikit-learn\n",
    "scaled_features = StandardScaler().fit_transform(df.values)\n",
    "scaled_features_df = pd.DataFrame(scaled_features, index=df.index, columns=df.columns)"
   ]
  },
  {
   "cell_type": "markdown",
   "metadata": {},
   "source": [
    " Z-оцінка дозволяє знайти відсоток спостережень який лежить в абсолютно будь-якому діапазоні, що цікавить нас."
   ]
  },
  {
   "cell_type": "markdown",
   "metadata": {},
   "source": [
    "Завдання:<br>\n",
    "Для середнього арфметичного з показником 150, sd=8, вирахувати яка вірогідність що значення будуть перевищувати показник x=154?\n",
    "\n",
    "$$ Z_{i}=\\frac{154 - \\bar{150}}{8} = 0,5 $$\n",
    "```Python\n",
    "\n",
    "Z_i = 0.5\n",
    "print(1 - st.norm.cdf(Z_i)) # Out: 0.3085375387259869\n",
    "```\n",
    "тобто віврогідність того, що ми зустрінемо значення більше 154 становить 30,85%"
   ]
  },
  {
   "cell_type": "markdown",
   "metadata": {},
   "source": [
    "Завдання:\n",
    "1. Вважається, що значення IQ (рівень інтелекту) у людей має нормальний розподіл із середнім значенням 100 і стандартним відхиленням 15 (M = 100, sd = 15). Який приблизно відсоток людей має IQ > 125?\n",
    "\n",
    "```Python\n",
    "IQ = 125\n",
    "M = 100\n",
    "sd = 15\n",
    "Zi = (IQ - M)/sd\n",
    "print(1 - st.norm.cdf(Zi)) # Out: 0.047790352272814696\n",
    "```\n",
    "\n",
    "Відповідь: Відсоток людей з IQ > 125 становить ~ 4.78%\n",
    "\n",
    "2. Вважається, що значення IQ (рівень інтелекту) у людей має нормальний розподіл із середнім значенням 100 і стандартним відхиленням 15 (M = 100, sd = 15). Який приблизно відсоток людей має IQ на проміжку від 70 до 112?\n",
    "\n",
    "```Python\n",
    "M, sd = 100, 15\n",
    "z2 = (112-M)/sd # Out: 0.8\n",
    "z1 = (70-M)/sd # Out: -2\n",
    "st.norm.cdf(z2) - st.norm.cdf(z1) # Out: 0.7653944694684242\n",
    "```\n",
    "\n",
    "Відповідь: Відсоток людей з IQ в проміжку від 70 до 112 становить ~ 76.54%"
   ]
  },
  {
   "cell_type": "markdown",
   "metadata": {},
   "source": [
    "<h1 style=\"text-align:center\"><a id=\"Central_limit_theorem\">Центральна гранична теорема</a></h1>\n",
    "\n",
    "<p style=\"text-align: right;\"><a href=\"#Сontents\" style=\"color: #66FF00 ; font-weight: bold; font-size:8pt\">зміст</a></p>"
   ]
  },
  {
   "cell_type": "markdown",
   "metadata": {},
   "source": [
    "[Центральна гранична теорема](https://uk.wikipedia.org/wiki/%D0%A6%D0%B5%D0%BD%D1%82%D1%80%D0%B0%D0%BB%D1%8C%D0%BD%D0%B0_%D0%B3%D1%80%D0%B0%D0%BD%D0%B8%D1%87%D0%BD%D0%B0_%D1%82%D0%B5%D0%BE%D1%80%D0%B5%D0%BC%D0%B0) — теорема теорії ймовірностей про збіжність розподілу суми незалежних однаково розподілених випадкових величин до нормального розподілу. Ця теорема підкреслює особливість нормального розподілу в теорії ймовірностей.\n",
    "\n",
    "Наприклад, отримано вибірку, яка містить велику кількість спостережень, кожне з яких було отримано випадковим чином і вони не залежать від інших спостережень, і на основі значень цих спостережень розраховують арифметичне середнє. Якщо цю процедуру повторити багато разів, центральна гранична теорема стверджує, що розраховані середні значення будуть мати нормальний розподіл.\n",
    "<img src='https://encrypted-tbn0.gstatic.com/images?q=tbn:ANd9GcQ9vkaaRw_iDm-7qNPrWtNnn98gDbuVRZFDlQ&usqp=CAU'>"
   ]
  },
  {
   "cell_type": "markdown",
   "metadata": {},
   "source": [
    "Якщо підкинути звичайну монетку 10000 разів і порахувати, скільки разів випаде решка. Інтуїтивно здається, що у середньому решка випаде приблизно 5000 раз, тобто. приблизно у половині випадків. Це інтуїтивне розуміння цілком розумно і підказує нам, що виконується <a href='https://uk.wikipedia.org/wiki/Закон_великих_чисел'>закон великих чисел</a>: якщо багато разів провести експеримент, в якому ймовірність успіху (в даному випадку - випадання решки) X%, то в середньому потрібно очікувати рівно X% успіхів.<br>\n",
    "Гаразд, в середньому ми отримаємо 5000 решок. Наскільки ми впевнені у цьому? Яка ймовірність того, що кількість решок буде від 4900 до 5100? Як вибрати такий діапазон навколо 5000, щоб кількість зросла та потрапила в нього з ймовірністю 99%? На ці та інші питання відповідає <u>центральна гранична теорема</u>, яка свідчить, що чим більше разів ми підкидаємо монету, тим сильніший розподіл ймовірності наближається до нормального розподілу.\n",
    "\n",
    "Наприклад, можна порахувати, що стандартна помилка (\"сигма\") у нашому прикладі дорівнює 50, і в інтервал від 4900 до 5100 (плюс-мінус дві \"сигми\") ми потрапимо з ймовірністю 95%, а в інтервал від 4850 до 5150 ( плюс-мінус три \"сигми\") - із ймовірністю більше 99%."
   ]
  },
  {
   "cell_type": "markdown",
   "metadata": {},
   "source": [
    "<h1 style=\"text-align:center\"><a id=\"Confidence_intervals_for_the_mean\">Довірчі інтервали для середнього</a></h1>\n",
    "\n",
    "<p style=\"text-align: right;\"><a href=\"#Сontents\" style=\"color: #66FF00 ; font-weight: bold; font-size:8pt\">зміст</a></p>"
   ]
  },
  {
   "cell_type": "markdown",
   "metadata": {},
   "source": [
    "<img src='https://upload.wikimedia.org/wikipedia/uk/5/50/Dovinterval.jpg'>\n",
    "<a href='https://uk.wikipedia.org/wiki/Довірчий_інтервал'> Довірчий інтервал</a> в математиці використовується для визначення <b>точності</b> оцінки між оцінками вибіркової та генеральної сукупності, а <b>надійність</b> встановлюється довірчою імовірністю.\n",
    "$$ \\boxed{\\overline{X} \\pm SE \\cdot t_\\text{critical value} \\\\\n",
    " SE = \\frac{\\sigma}{\\sqrt{n}}}$$"
   ]
  },
  {
   "cell_type": "markdown",
   "metadata": {},
   "source": [
    "Завдання:\n",
    "Проведено 20 дослідів над випадковою величиною $\\xi$ ('10.9 10.7 11.0 10.5 10.6 10.4 11.3 10.8 11.2 10.9 10.8 10.3 10.5 10.8 10.9 10.6 11.3 10.8 10.9 10.7'), знайти оцінку $\\overline{X}$ для математичного сподівання величини $\\xi$ і побудувати довірчий інтервал, який відповідає довірчій ймовірності β=0,86.\n"
   ]
  },
  {
   "cell_type": "code",
   "execution_count": 15,
   "metadata": {},
   "outputs": [
    {
     "data": {
      "text/plain": [
       "(10.702925238027438, 10.887074761972565)"
      ]
     },
     "execution_count": 15,
     "metadata": {},
     "output_type": "execute_result"
    }
   ],
   "source": [
    "string = '10.9 10.7 11.0 10.5 10.6 10.4 11.3 10.8 11.2 10.9 10.8 10.3 10.5 10.8 10.9 10.6 11.3 10.8 10.9 10.7'\n",
    "array =np.array(list(map(lambda x: float(x), string.split(' '))))\n",
    "\n",
    "beta = 0.86\n",
    "n = len(array)\n",
    "degrees_of_freedom = n - 1\n",
    "standart_error = stats.sem(array, ddof=0)\n",
    "\n",
    "stats.t.interval(beta, degrees_of_freedom, loc=np.mean(array), scale= standart_error)"
   ]
  },
  {
   "cell_type": "code",
   "execution_count": 16,
   "metadata": {},
   "outputs": [
    {
     "name": "stdout",
     "output_type": "stream",
     "text": [
      "10.702925238027438 10.887074761972565\n"
     ]
    }
   ],
   "source": [
    "SE = array.std()/(len(array)-0)**0.5 # standard error of the mean as stats.sem(array, ddof=0) function\n",
    "# To find the T critical value\n",
    "alpha = 1-beta\n",
    "probably = 1-alpha/2\n",
    "t_critical_value = stats.t.ppf(q=probably, df=degrees_of_freedom)  # Out: 1.5402049706018706\n",
    "delta_t = t_critical_value*SE\n",
    "print(np.mean(array) - delta_t, np.mean(array) + delta_t)"
   ]
  },
  {
   "cell_type": "code",
   "execution_count": 17,
   "metadata": {},
   "outputs": [
    {
     "name": "stdout",
     "output_type": "stream",
     "text": [
      "10.706775958242922 10.883224041757082\n"
     ]
    }
   ],
   "source": [
    "# Довірчий інтервал через Z оцінку(критерій)\n",
    "z_critical_value = stats.norm.ppf(probably)\n",
    "delta_z = z_critical_value*SE\n",
    "print(np.mean(array) - delta_z, np.mean(array) + delta_z)"
   ]
  },
  {
   "cell_type": "markdown",
   "metadata": {},
   "source": [
    "Завдання:\n",
    "\n",
    "У групі 64 хворих з деякою хворобою час на видужання після НОВОГО способу лікування склав в середньому 18,5 діб (sd=4), тоді як попередній протокол приводив до видужання у середньому за 20 діб. Яка вірогідність того, що дослідники отримають таке або більш відмінне значення тривалості лікування?\n",
    "\n",
    "Вирішення питання проведемо за допомогою <a href='https://uk.wikipedia.org/wiki/Z-критерій'> Z-критерію </a>\n",
    "\n",
    "```Python\n",
    "\n",
    "n, M, sd = 64, 20, 4\n",
    "se = sd/n**0.5\n",
    "z= (18.5-M)/se\n",
    "\n",
    "# find p-value for two-tailed test\n",
    "st.norm.sf(abs(z))*2 # Out: 0.0026997960632601866\n",
    "```\n",
    "<p style='text-align:right'><a href='https://www.statology.org/p-value-from-z-score-python/'> Розрахунок p-значення із z-score python</a></p>"
   ]
  },
  {
   "cell_type": "markdown",
   "metadata": {},
   "source": [
    "<h1 style=\"text-align:center\"><a id=\"t-distribution\">t-розподіл Стьюдента</a></h1>\n",
    "\n",
    "<p style=\"text-align: right;\"><a href=\"#Сontents\" style=\"color: #66FF00 ; font-weight: bold; font-size:8pt\">зміст</a></p>"
   ]
  },
  {
   "cell_type": "markdown",
   "metadata": {},
   "source": [
    "Важливе зауваження!!! Якщо об'єм вибірки <30 то згідно [центральної граничної теореми](#Central_limit_theorem) отримане вибіркове середнє квадратичне буде значно відмінне від cереднє квадратичного відхилення генеральної сукупності, а її розподіл не буде відповідати [нормальному розподілу](#Normal_distribution). Тому якщо кількість спостережень невелика і $\\sigma$  невідома (майже завжди), використовується розподіл Стьюдента (t-distribution)"
   ]
  },
  {
   "cell_type": "code",
   "execution_count": 18,
   "metadata": {},
   "outputs": [
    {
     "data": {
      "application/vnd.jupyter.widget-view+json": {
       "model_id": "16d8f6909be643748be612d03ad71814",
       "version_major": 2,
       "version_minor": 0
      },
      "text/plain": [
       "interactive(children=(IntSlider(value=1, description='df', max=30, min=1), Output()), _dom_classes=('widget-in…"
      ]
     },
     "metadata": {},
     "output_type": "display_data"
    }
   ],
   "source": [
    "# https://stepik.org/lesson/8081/step/4?discussion=5325929&unit=1360\n",
    "x = np.linspace(-5, 5, 100)\n",
    "\n",
    "def plot_solution(df=1): \n",
    "    y_norm = norm.pdf(x)\n",
    "    y_t_stud = t.pdf(x, df)    \n",
    "    plt.title('Графік t-розподілу Стьюдента з різними показниками ступенів свободи')\n",
    "    plt.plot(x, y_t_stud, 'r')\n",
    "    plt.plot(x, y_norm, 'b:')\n",
    "    plt.legend((f'degrees of freedom={df}', 'Normal distribution'))\n",
    "    plt.show()\n",
    "\n",
    "w = interactive(plot_solution, df = (1,30))\n",
    "display(w)"
   ]
  },
  {
   "cell_type": "markdown",
   "metadata": {},
   "source": [
    "\"Форма\" розподілу визначається числом ступенів свободи df (degrees of freedom). Зі збільшенням числа df розподіл прагне набути нормального розподілу.\n",
    "\n",
    "Давайте трохи докладніше зупинимося на теоретичній частині. T - розподіл - досить складна тема і детальніше ми розглянемо її у другому курсі, вивчивши розподіл Хі - квадрат. У попередніх лекціях я давав досить спрощене пояснення деяких тем, тепер давайте поринемо трохи глибше в тонкощі статистики!\n",
    "\n",
    "t – розподіл використовуємо у ситуації невеликого обсягу вибірки. Необхідно докладніше пояснити, навіщо це потрібно.\n",
    "\n",
    "Повернемося до граничної центральної теореми, ми вже дізналися, що якщо якась ознака в генеральній сукупності розподілена нормально (не обов'язково) із середнім μ і стандартним відхиленням σ, і ми будемо багаторазово вибирати вибірки однакового розміру n, і для кожної вибірки розраховувати, як далеко вибіркове середня $\\bar{X}$ відхилилося від середнього у генеральній сукупності в одиницях стандартної помилки середнього:\n",
    "$$\\bbox[orange, 8px]{ z = \\frac{\\bar{X}-\\mu}{\\frac{\\sigma}{\\sqrt{n}}}}$$\n",
    "то ця величина z матиме стандартний нормальний розподіл із середнім рівним нулю і стандартним відхиленням рівним одиниці.\n",
    "\n",
    "Зверніть увагу, що для розрахунку стандартної помилки ми використовуємо саме стандартне відхилення у генеральній сукупності - $\\sigma$. Раніше ми вже обговорювали, що на практиці нам практично ніколи не відома, і для розрахунку стандартної помилки ми використовуємо вибіркове стандартне відхилення.\n",
    "\n",
    "Так от, строго кажучи в такому разі розподіл відхилення вибіркового середнього та середнього в генеральній сукупності, поділеного на стандартну помилку, тепер описуватиметься саме за допомогою t-розподілу.\n",
    "\n",
    "$$ \\bbox[#0099FF, 8px]{ t = \\frac{\\bar{X}-\\mu}{\\frac{sd}{\\sqrt{n}}}}$$\n",
    "таким чином, у разі невідомої $\\sigma$ <b><u><i>ми завжди матимемо справу з t - розподілом</i></u></b>. На цьому етапі ви повинні з обуренням запитати мене, чому ми застосовували z - критерій у першому модулі курсу, для перевірки гіпотез, використовуючи вибіркове стандартне відхилення?\n",
    "\n",
    "Ми знаємо, що у досить великому обсязі вибірки (зазвичай у підручниках наводиться правило, n > 30) t - розподіл дуже близько підбирається до нормального розподілу.\n",
    "Тому іноді для простоти розрахунків говориться, що якщо n > 30, то ми будемо використовувати властивості нормального розподілу для наших цілей. Строго кажучи, це, звичайно, неправильний підхід, який часто критикують. У до комп'ютерну епоху цьому було деяке пояснення, щоб не розраховувати для кожного n більше 30 відповідне критичне значення t - розподілу, статистики як би округляли результат і використовували нормальний розподіл для цих цілей. Сьогодні, звичайно, з цим більше жодних проблем немає, і всі статистичні програми, зрозуміло, легко розрахують усі необхідні показники для t - розподілу з будь-яким числом ступенів свободи. Дійсно при вибірках дуже великого обсягу t - розподіл практично не відрізнятиметься від нормального, проте, хоч і дуже малі, але відмінності все одно будуть.\n",
    "> Тому правильніше буде сказати, що ми використовуємо t - розподіл не тому, що у нас маленькі вибірки, а тому, що ми не знаємо стандартне відхилення в генеральній сукупності.\n",
    "\n",
    "Надалі ми завжди будемо використовувати t - розподіл для перевірки гіпотез, якщо нам невідомо стандартне відхилення в генеральній сукупності, необхідне розрахунку стандартної помилки, навіть якщо обсяг вибірки більше 30.\n",
    "\n",
    "Таким чином, якщо ми порівнюємо дві вибірки за t-критерієм:\n",
    "\n",
    "$H_0$ нульова гіпотеза - вибірки належать до однієї ГС (відмінностей не має)\n",
    "\n",
    "$H_1$ альтернативна гіпотеза - вибірки належать різним ГС (відмінність є з вірогідністю $\\alpha$)"
   ]
  },
  {
   "cell_type": "markdown",
   "metadata": {},
   "source": [
    "> **ЗАВДАННЯ:**\n",
    "\n",
    ">Якщо на вибірці 15 спостережень за допомогою одновибіркового t-тесту перевіряється нульова гіпотеза: $\\mu$ =10\n",
    "\n",
    "і розраховане t-значення дорівнює -2 (t = -2), то p-рівень значущості (двосторонній) дорівнює:"
   ]
  },
  {
   "cell_type": "code",
   "execution_count": 19,
   "metadata": {},
   "outputs": [
    {
     "data": {
      "text/plain": [
       "0.06528795288911197"
      ]
     },
     "execution_count": 19,
     "metadata": {},
     "output_type": "execute_result"
    }
   ],
   "source": [
    "# https://www.statology.org/p-value-from-t-score-python/\n",
    "\n",
    "n, t = 15, -2\n",
    "df = n-1 # degrees of freedom\n",
    "\n",
    "#find p-value for two-tailed test\n",
    "stats.t.sf(abs(t), df)*2 # Out: 0.06528795288911197 it is p_value"
   ]
  },
  {
   "cell_type": "markdown",
   "metadata": {},
   "source": [
    "> t(14): площа правіше -2 = 0,967356\n",
    "(ліворуч: 0,032644)\n",
    "(двостороннє значення = 0,065288 = (0,032644*2); доповнювальне = 0,934712)"
   ]
  },
  {
   "cell_type": "markdown",
   "metadata": {},
   "source": [
    "<h1 style=\"text-align:center\"><a id=\"t-score\"> Порівняння середніх (t-критерій Стьюдента)</a></h1>\n",
    "\n",
    "<p style=\"text-align: right;\"><a href=\"#Сontents\" style=\"color: #66FF00 ; font-weight: bold; font-size:8pt\">зміст</a></p>"
   ]
  },
  {
   "cell_type": "markdown",
   "metadata": {},
   "source": [
    "**Двовибірковий <a href='https://uk.wikipedia.org/wiki/T-критерій_Стьюдента'>t-критерій</a> для незалежних вибірок**\n",
    "\n",
    "\n",
    "У разі якщо розміри вибірок відрізняються мало, застосовують спрощену формулу наближених розрахунків:\n",
    "$$\\displaystyle t={\\frac {|M_{1}-M_{2}|}{\\sqrt {{\\frac {\\sigma _{1}^{2}}{N_{1}}}+{\\frac {\\sigma _{2}^{2}}{N_{2}}}}}}$$\n",
    "\n",
    "Коли розміри вибірок відрізняється значно, застосовується складніша і точніша формула:\n",
    "$$\\displaystyle t={\\frac {|M_{1}-M_{2}|}{\\sqrt {{\\frac {(N_{1}-1)\\sigma _{1}^{2}+(N_{2}-1)\\sigma _{2}^{2}}{N_{1}+N_{2}-2}}({\\frac {1}{N_{1}}}+{\\frac {1}{N_{2}}})}}}$$ \n",
    "Де $\\displaystyle M_{1},M_{2}$  — середнє арифметичне, $\\displaystyle \\sigma _{1},\\sigma _{2}$  — стандартне відхилення, а $\\displaystyle N_{1},N_{2}$  — розміри вибірок.\n",
    "\n",
    "Кількість ступенів свободи розраховують як\n",
    "$\\displaystyle \\,df=N_{1}+N_{2}-2$\n",
    "\n",
    "\n",
    "**Двовибірковий t-критерій для залежних вибірок** \n",
    "Для обчислення емпіричного значення t-критерію в ситуації перевірки гіпотези про відмінності між двома залежними вибірками (наприклад, двома пробами одного і того ж тесту з часовим інтервалом) застосовують таку формулу:\n",
    "$$\\displaystyle t={\\frac {|M_{d}|}{\\sigma _{d}/{\\sqrt {N}}}}$$ \n",
    "де $\\displaystyle M_{d}$  — середня різниця значень, а $\\displaystyle \\sigma _{d}$  — стандартне відхилення різниць.\n",
    "Кількість ступенів свободи розраховують як\n",
    "$\\displaystyle \\,df=N-1$\n",
    "\n",
    "**Одновибірковий t-критерій** \n",
    "Застосовується для перевірки гіпотези про відмінність середнього значення $\\displaystyle \\,M_{x}$  від деякого відомо значення $\\displaystyle \\,A$ :\n",
    "$\\displaystyle t={\\frac {|M_{x}-A|}{\\sigma /{\\sqrt {N}}}}$ \n",
    "Кількість ступенів свободи розраховують як\n",
    "$\\displaystyle \\,df=N-1$\n"
   ]
  },
  {
   "cell_type": "markdown",
   "metadata": {},
   "source": [
    "Критерій Стьюдента (t-критерий) є найбільш часто використовуваним методом\n",
    "перевірки статистичної гіпотези про рівність середніх двох вибірок."
   ]
  },
  {
   "cell_type": "markdown",
   "metadata": {},
   "source": [
    "<div align=\"center\">\n",
    "\n",
    "<table class=\"MsoNormalTable\" border=\"0\" cellspacing=\"0\" cellpadding=\"0\" width=\"588\" style=\"width:441.0pt;border-collapse:collapse;mso-yfti-tbllook:1184;\n",
    " mso-padding-alt:0cm 5.4pt 0cm 5.4pt\">\n",
    " <tbody><tr style=\"mso-yfti-irow:0;mso-yfti-firstrow:yes;height:14.25pt\">\n",
    "  <td width=\"99\" nowrap=\"\" style=\"width:74.0pt;border:solid windowtext 1.0pt;\n",
    "  padding:0cm 5.4pt 0cm 5.4pt;height:14.25pt\">\n",
    "  <p class=\"MsoNormal\" align=\"center\" style=\"margin-bottom:0cm;text-align:center;\n",
    "  line-height:normal\"><span lang=\"UK\" style=\"font-family:&quot;Arial&quot;,sans-serif;\n",
    "  mso-fareast-font-family:&quot;Times New Roman&quot;;mso-ansi-language:UK;mso-fareast-language:\n",
    "  RU\">к<o:p></o:p></span></p>\n",
    "  </td>\n",
    "  <td width=\"231\" nowrap=\"\" style=\"width:173.0pt;border:solid windowtext 1.0pt;\n",
    "  border-left:none;padding:0cm 5.4pt 0cm 5.4pt;height:14.25pt\">\n",
    "  <p class=\"MsoNormal\" align=\"center\" style=\"margin-bottom:0cm;text-align:center;\n",
    "  line-height:normal\"><b><span lang=\"UK\" style=\"font-size:9.0pt;font-family:&quot;Arial&quot;,sans-serif;\n",
    "  mso-fareast-font-family:&quot;Times New Roman&quot;;mso-ansi-language:UK;mso-fareast-language:\n",
    "  RU\">Приймається<o:p></o:p></span></b></p>\n",
    "  </td>\n",
    "  <td width=\"259\" nowrap=\"\" style=\"width:194.0pt;border:solid windowtext 1.0pt;\n",
    "  border-left:none;padding:0cm 5.4pt 0cm 5.4pt;height:14.25pt\">\n",
    "  <p class=\"MsoNormal\" align=\"center\" style=\"margin-bottom:0cm;text-align:center;\n",
    "  line-height:normal\"><b><span lang=\"UK\" style=\"font-size:9.0pt;font-family:&quot;Arial&quot;,sans-serif;\n",
    "  mso-fareast-font-family:&quot;Times New Roman&quot;;mso-ansi-language:UK;mso-fareast-language:\n",
    "  RU\">Відкидається<o:p></o:p></span></b></p>\n",
    "  </td>\n",
    " </tr>\n",
    " <tr style=\"mso-yfti-irow:1;height:12.75pt\">\n",
    "  <td width=\"99\" nowrap=\"\" style=\"width:74.0pt;border:solid windowtext 1.0pt;\n",
    "  border-top:none;padding:0cm 5.4pt 0cm 5.4pt;height:12.75pt\">\n",
    "  <p class=\"MsoNormal\" align=\"center\" style=\"margin-bottom:0cm;text-align:center;\n",
    "  line-height:normal\"><b><span lang=\"UK\" style=\"font-size:9.0pt;font-family:&quot;Arial&quot;,sans-serif;\n",
    "  mso-fareast-font-family:&quot;Times New Roman&quot;;mso-ansi-language:UK;mso-fareast-language:\n",
    "  RU\">Вірна<o:p></o:p></span></b></p>\n",
    "  </td>\n",
    "  <td width=\"231\" nowrap=\"\" style=\"width:173.0pt;border-top:none;border-left:none;\n",
    "  border-bottom:solid windowtext 1.0pt;border-right:solid windowtext 1.0pt;\n",
    "  padding:0cm 5.4pt 0cm 5.4pt;height:12.75pt\">\n",
    "  <p class=\"MsoNormal\" align=\"center\" style=\"margin-bottom:0cm;text-align:center;\n",
    "  line-height:normal\"><b><span lang=\"UK\" style=\"font-size:9.0pt;font-family:&quot;Arial&quot;,sans-serif;\n",
    "  mso-fareast-font-family:&quot;Times New Roman&quot;;color:#00B050;mso-ansi-language:\n",
    "  UK;mso-fareast-language:RU\">Правильне рішення</span></b><b><span lang=\"UK\" style=\"font-size:9.0pt;font-family:&quot;Arial&quot;,sans-serif;mso-fareast-font-family:\n",
    "  &quot;Times New Roman&quot;;mso-ansi-language:UK;mso-fareast-language:RU\"><o:p></o:p></span></b></p>\n",
    "  </td>\n",
    "  <td width=\"259\" style=\"width:194.0pt;border-top:none;border-left:none;\n",
    "  border-bottom:solid windowtext 1.0pt;border-right:solid windowtext 1.0pt;\n",
    "  padding:0cm 5.4pt 0cm 5.4pt;height:12.75pt\">\n",
    "  <p class=\"MsoNormal\" align=\"center\" style=\"margin-bottom:0cm;text-align:center;\n",
    "  line-height:normal\"><b><span lang=\"UK\" style=\"font-size:9.0pt;font-family:&quot;Arial&quot;,sans-serif;\n",
    "  mso-fareast-font-family:&quot;Times New Roman&quot;;color:red;mso-ansi-language:UK;\n",
    "  mso-fareast-language:RU\">Неправильне рішення, помилка 1-го роду</span></b><b><span lang=\"UK\" style=\"font-size:9.0pt;font-family:&quot;Arial&quot;,sans-serif;mso-fareast-font-family:\n",
    "  &quot;Times New Roman&quot;;mso-ansi-language:UK;mso-fareast-language:RU\"><o:p></o:p></span></b></p>\n",
    "  </td>\n",
    " </tr>\n",
    " <tr style=\"mso-yfti-irow:2;mso-yfti-lastrow:yes;height:12.75pt\">\n",
    "  <td width=\"99\" nowrap=\"\" style=\"width:74.0pt;border:solid windowtext 1.0pt;\n",
    "  border-top:none;padding:0cm 5.4pt 0cm 5.4pt;height:12.75pt\">\n",
    "  <p class=\"MsoNormal\" align=\"center\" style=\"margin-bottom:0cm;text-align:center;\n",
    "  line-height:normal\"><b><span lang=\"UK\" style=\"font-size:9.0pt;font-family:&quot;Arial&quot;,sans-serif;\n",
    "  mso-fareast-font-family:&quot;Times New Roman&quot;;mso-ansi-language:UK;mso-fareast-language:\n",
    "  RU\">Не вірна<o:p></o:p></span></b></p>\n",
    "  </td>\n",
    "  <td width=\"231\" nowrap=\"\" style=\"width:173.0pt;border-top:none;border-left:none;\n",
    "  border-bottom:solid windowtext 1.0pt;border-right:solid windowtext 1.0pt;\n",
    "  padding:0cm 5.4pt 0cm 5.4pt;height:12.75pt\">\n",
    "  <p class=\"MsoNormal\" align=\"center\" style=\"margin-bottom:0cm;text-align:center;\n",
    "  line-height:normal\"><b><span lang=\"UK\" style=\"font-size:9.0pt;font-family:&quot;Arial&quot;,sans-serif;\n",
    "  mso-fareast-font-family:&quot;Times New Roman&quot;;color:red;mso-ansi-language:UK;\n",
    "  mso-fareast-language:RU\">Помилка 2-го роду</span></b><b><span lang=\"UK\" style=\"font-size:9.0pt;font-family:&quot;Arial&quot;,sans-serif;mso-fareast-font-family:\n",
    "  &quot;Times New Roman&quot;;mso-ansi-language:UK;mso-fareast-language:RU\"><o:p></o:p></span></b></p>\n",
    "  </td>\n",
    "  <td width=\"259\" nowrap=\"\" style=\"width:194.0pt;border-top:none;border-left:none;\n",
    "  border-bottom:solid windowtext 1.0pt;border-right:solid windowtext 1.0pt;\n",
    "  padding:0cm 5.4pt 0cm 5.4pt;height:12.75pt\">\n",
    "  <p class=\"MsoNormal\" align=\"center\" style=\"margin-bottom:0cm;text-align:center;\n",
    "  line-height:normal\"><b><span lang=\"UK\" style=\"font-size:9.0pt;font-family:&quot;Arial&quot;,sans-serif;\n",
    "  mso-fareast-font-family:&quot;Times New Roman&quot;;color:#00B050;mso-ansi-language:\n",
    "  UK;mso-fareast-language:RU\">Правильне рішення</span></b><b><span lang=\"UK\" style=\"font-size:9.0pt;font-family:&quot;Arial&quot;,sans-serif;mso-fareast-font-family:\n",
    "  &quot;Times New Roman&quot;;mso-ansi-language:UK;mso-fareast-language:RU\"><o:p></o:p></span></b></p>\n",
    "  </td>\n",
    " </tr>\n",
    "</tbody></table>\n",
    "\n",
    "</div>"
   ]
  },
  {
   "cell_type": "markdown",
   "metadata": {},
   "source": [
    "Ймовірність **α** зробити помилку 1-го роду, тобто відкинути гіпотезу, коли вона\n",
    "вірна, <u>називається рівнем значущості критерію</u>.\n",
    "\n",
    "Ймовірність **β** - не допустити помилку 2-го роду <u>називається потужністю\n",
    "критерію</u>.\n",
    "\n",
    "Рівень значущості **р** — це максимально прийнятна для дослідника\n",
    "ймовірність помилково відхилити нульову гіпотезу, коли насправді вона\n",
    "вірна, тобто ймовірність помилки першого роду, що допускається.\n",
    "\n",
    "Критерій Стьюдента (t-критерій) може застосовуватися, навіть якщо розміри\n",
    "вибірок дуже невеликі, змінні нормально розподілені (усередині груп), а дисперсії\n",
    "спостережень в групах не дуже різні.\n",
    "\n",
    "<img src='https://www.weibull.com/hotwire/issue88/rb88-16.gif'>"
   ]
  },
  {
   "cell_type": "markdown",
   "metadata": {},
   "source": [
    "Визначимо розмір вибірки, необхідний для експерименту, в якому потужність 80% є прийнятною з рівнем значимості 5% і очікуваним розміром ефекту 0,9, який визначається як великий розмір ефекту коефіцієнта Коена d"
   ]
  },
  {
   "cell_type": "code",
   "execution_count": 20,
   "metadata": {},
   "outputs": [
    {
     "name": "stdout",
     "output_type": "stream",
     "text": [
      "Required Sample Size: 20.38633053616276\n"
     ]
    }
   ],
   "source": [
    "# https://nickmccullum.com/power-analysis-in-python/\n",
    "import numpy as np\n",
    "\n",
    "from statsmodels.stats.power import TTestIndPower\n",
    "\n",
    "import matplotlib.pyplot as plt\n",
    "\n",
    "# variables for power analysis\n",
    "\n",
    "effect_size = 0.9\n",
    "\n",
    "alpha = 0.05\n",
    "\n",
    "power = 0.8\n",
    "\n",
    "p_analysis = TTestIndPower()\n",
    "\n",
    "sample_size = p_analysis.solve_power(effect_size=effect_size, alpha=alpha, power=power)\n",
    "\n",
    "print(\"Required Sample Size: \" + str(sample_size))"
   ]
  },
  {
   "cell_type": "markdown",
   "metadata": {},
   "source": [
    "Можна перевірити потужність, якщо змінити інші параметри. У наведеному нижче коді розмір вибірки збільшено з 50 до 200 за збережено рівень значущості та величини ефекту на рівні 0,2, 0,5, 0,8, які визначаються як малий, середній та великий рівні Коена d"
   ]
  },
  {
   "cell_type": "code",
   "execution_count": 21,
   "metadata": {},
   "outputs": [
    {
     "data": {
      "text/plain": [
       "<Figure size 640x480 with 0 Axes>"
      ]
     },
     "metadata": {},
     "output_type": "display_data"
    },
    {
     "data": {
      "image/png": "[encoded data removed]",
      "text/plain": [
       "<Figure size 640x480 with 1 Axes>"
      ]
     },
     "metadata": {},
     "output_type": "display_data"
    }
   ],
   "source": [
    "# power vs. number of observations\n",
    "\n",
    "fig = plt.figure()\n",
    "\n",
    "fig = TTestIndPower().plot_power(dep_var='nobs',\n",
    "\n",
    "                                nobs= np.arange(50, 200),\n",
    "\n",
    "                                effect_size=np.array([0.2, 0.5, 0.8]),\n",
    "\n",
    "                                alpha=0.01,\n",
    "\n",
    "                                title='Power of t-Test at variable effect sizes\\n' + r'$\\alpha = 0.01$')\n",
    "\n",
    "plt.show()"
   ]
  },
  {
   "cell_type": "markdown",
   "metadata": {},
   "source": [
    "<img src='https://medical-statistics.dk/MSDS/statistics/stata/graph/stataGraph/powerv1.png'>"
   ]
  },
  {
   "cell_type": "markdown",
   "metadata": {},
   "source": [
    "[$\\mathbb{\\mathfrak{\\color{lime}{\\text {import librarries}}}}$](#imports)"
   ]
  }
 ],
 "metadata": {
  "kernelspec": {
   "display_name": "Python 3 (ipykernel)",
   "language": "python",
   "name": "python3"
  },
  "language_info": {
   "codemirror_mode": {
    "name": "ipython",
    "version": 3
   },
   "file_extension": ".py",
   "mimetype": "text/x-python",
   "name": "python",
   "nbconvert_exporter": "python",
   "pygments_lexer": "ipython3",
   "version": "3.10.5"
  }
 },
 "nbformat": 4,
 "nbformat_minor": 4
}
