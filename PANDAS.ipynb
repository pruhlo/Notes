{
 "cells": [
  {
   "cell_type": "markdown",
   "metadata": {},
   "source": [
    "# ЗАДАЧА\n",
    "В переменной ss находится объект Series. На вход программе поступает команда, какую величину посчитать по серии данных. Команды могут быть следующие: count (кол-во элементов), mean (среднее арифметическое), min (минимальный элемент), max (максимальный элемент).\n",
    "\n",
    "Sample Input:\n",
    "\n",
    "mean\n",
    "Sample Output:\n",
    "\n",
    "539.36"
   ]
  },
  {
   "cell_type": "code",
   "execution_count": 19,
   "metadata": {},
   "outputs": [
    {
     "data": {
      "text/plain": [
       "539.36"
      ]
     },
     "execution_count": 19,
     "metadata": {},
     "output_type": "execute_result"
    }
   ],
   "source": [
    "import pandas as pd\n",
    "df  = pd.read_table('series.txt')\n",
    "df.Num.mean()"
   ]
  },
  {
   "cell_type": "code",
   "execution_count": null,
   "metadata": {},
   "outputs": [],
   "source": [
    "d = s.apply({'mean':'mean', 'count':'count', 'min':'min', 'max':'max'})\n",
    "print(d[input()])"
   ]
  },
  {
   "cell_type": "markdown",
   "metadata": {},
   "source": [
    "# Задача\n",
    "В переменную s записана серия pandas. На вход Вашей программе приходят числа a и b, Ваша задача - вывести все индексы элементов серии, которые больше a, но меньше b <br>\n",
    "\n",
    "Sample Input:<br>\n",
    "\n",
    "1 5<br>\n",
    "Sample Output:<br>\n",
    "\n",
    "d j k<br>"
   ]
  },
  {
   "cell_type": "code",
   "execution_count": 33,
   "metadata": {},
   "outputs": [
    {
     "name": "stdout",
     "output_type": "stream",
     "text": [
      "d j k\n"
     ]
    }
   ],
   "source": [
    "d = {'a':    10,\n",
    "'b' :    1,\n",
    "'c'  :   7,\n",
    "'d'  :   2,\n",
    "'e'  :   6,\n",
    "'f'  :  10,\n",
    "'g'  :   1,\n",
    "'h'  :   1,\n",
    "'i'  :   1,\n",
    "'j'  :   2,\n",
    "'k'  :   4,\n",
    "'l'  :   7,\n",
    "'m'  :   8,\n",
    "'n'  :   9,\n",
    "'o'  :  10,\n",
    "'p'  :  11,\n",
    "'q'  :  12,\n",
    "'r'  :  13,\n",
    "'s'  :  14}\n",
    "series = pd.Series(d)\n",
    "fun = lambda a,b: series[(series>a)&(series<b)].index.tolist()\n",
    "a, b = map(int, input().split())\n",
    "a, b = [int(i) for i in input().split()]\n",
    "print(*fun(1,5))"
   ]
  },
  {
   "cell_type": "code",
   "execution_count": null,
   "metadata": {},
   "outputs": [],
   "source": [
    "a, b = map(int, input().split())\n",
    "print(*s.pipe(lambda x: x[x>a]).pipe(lambda x: x[x<b]).index)"
   ]
  },
  {
   "cell_type": "markdown",
   "metadata": {},
   "source": [
    "# Задача\n",
    "В переменной cities записан датафрейм, содержащий информацию о городах. На вход Вашей программе приходит название города и имя интересующей колонки, по которой необходимо вывести данные. Если данные отсутствуют (т.е. в таблице NaN) то необходимо вывести сообщение \"no data\"<br>\n",
    "\n",
    "Sample Input:<br>\n",
    "\n",
    "Irkutsk<br>\n",
    "population<br>\n",
    "Sample Output:<br>\n",
    "\n",
    "601993.0<br>"
   ]
  },
  {
   "cell_type": "code",
   "execution_count": null,
   "metadata": {},
   "outputs": [],
   "source": [
    "import numpy\n",
    "city = input()\n",
    "col = input()\n",
    "if numpy.isnan(cities[col][city]):\n",
    "    print(\"no data\")\n",
    "else:\n",
    "    print(cities[col][city])"
   ]
  },
  {
   "cell_type": "code",
   "execution_count": null,
   "metadata": {},
   "outputs": [],
   "source": [
    "city = input()\n",
    "key = input()\n",
    "print(cities.fillna('no data')[key][city])"
   ]
  },
  {
   "cell_type": "code",
   "execution_count": null,
   "metadata": {},
   "outputs": [],
   "source": [
    "city = input()\n",
    "column = input()\n",
    "\n",
    "print(cities[column].fillna('no data').loc[city])"
   ]
  },
  {
   "cell_type": "markdown",
   "metadata": {},
   "source": [
    "# Задача\n",
    "По файлу titanic.csv определите кол-во выживших на титанике"
   ]
  },
  {
   "cell_type": "code",
   "execution_count": 37,
   "metadata": {},
   "outputs": [
    {
     "data": {
      "text/plain": [
       "342"
      ]
     },
     "execution_count": 37,
     "metadata": {},
     "output_type": "execute_result"
    }
   ],
   "source": [
    "url = 'https://raw.githubusercontent.com/bykov-alexei/data-science-course/master/Python3/titanic_train.csv'\n",
    "import pandas as pd\n",
    "df = pd.read_csv(url)\n",
    "df.Survived.sum()"
   ]
  },
  {
   "cell_type": "code",
   "execution_count": null,
   "metadata": {},
   "outputs": [],
   "source": [
    "url = 'https://raw.githubusercontent.com/bykov-alexei/data-science-course/master/Python3/titanic_train.csv'\n",
    "\n",
    "print(__import__('pandas').read_csv(url)['Survived'].sum())"
   ]
  },
  {
   "cell_type": "markdown",
   "metadata": {},
   "source": [
    "# Задача\n",
    "В файле содержатся отзывы на вина. Подробно о содержании колонок можно посмотреть тут.\n",
    "\n",
    "Ваша задача найти самое дорогое вино в данных (колонка price) и указать винодельню где оно было произведено (колонка winery)"
   ]
  },
  {
   "cell_type": "code",
   "execution_count": 45,
   "metadata": {},
   "outputs": [
    {
     "data": {
      "text/plain": [
       "'Château les Ormes Sorbet'"
      ]
     },
     "execution_count": 45,
     "metadata": {},
     "output_type": "execute_result"
    }
   ],
   "source": [
    "wines=pd.read_csv('https://github.com/bykov-alexei/data-science-course/blob/master/Pandas/wines.csv?raw=true')\n",
    "wines.iloc[wines.price.idxmax()].winery"
   ]
  },
  {
   "cell_type": "code",
   "execution_count": null,
   "metadata": {},
   "outputs": [],
   "source": [
    "import pandas as pd\n",
    "\n",
    "url = 'https://github.com/bykov-alexei/data-science-course/blob/master/Pandas/wines.csv?raw=true'\n",
    "df = pd.read_csv(url)\n",
    "max_price = df['price'].max()\n",
    "print(*df.query('price == @max_price')['winery'])"
   ]
  },
  {
   "cell_type": "markdown",
   "metadata": {},
   "source": [
    "# Задача\n",
    "В файле содержатся отзывы на вина. Подробно о содержании колонок можно посмотреть тут.\n",
    "\n",
    "Ваша задача найти кол-во отзывов на вина из Израиля (колонка country, название Israel)"
   ]
  },
  {
   "cell_type": "code",
   "execution_count": 50,
   "metadata": {},
   "outputs": [
    {
     "data": {
      "text/plain": [
       "country                  505\n",
       "description              505\n",
       "designation              435\n",
       "points                   505\n",
       "price                    489\n",
       "province                 505\n",
       "region_1                   0\n",
       "region_2                   0\n",
       "taster_name              500\n",
       "taster_twitter_handle    500\n",
       "title                    505\n",
       "variety                  505\n",
       "winery                   505\n",
       "dtype: int64"
      ]
     },
     "execution_count": 50,
     "metadata": {},
     "output_type": "execute_result"
    }
   ],
   "source": [
    "wines[wines.country == 'Israel'].count()"
   ]
  },
  {
   "cell_type": "markdown",
   "metadata": {},
   "source": [
    "# Задача\n",
    "В файле содержатся отзывы на вина. Подробно о содержании колонок можно посмотреть тут.\n",
    "\n",
    "Ваша задача найти среднюю оценку вин (колонка points) для страны Италии (колонка country). Ответ округлите до целого"
   ]
  },
  {
   "cell_type": "code",
   "execution_count": 55,
   "metadata": {},
   "outputs": [
    {
     "data": {
      "text/plain": [
       "88.56223132036847"
      ]
     },
     "execution_count": 55,
     "metadata": {},
     "output_type": "execute_result"
    }
   ],
   "source": [
    "wines[wines.country=='Italy'].points.mean()"
   ]
  },
  {
   "cell_type": "markdown",
   "metadata": {},
   "source": [
    "# Задача\n",
    "В файле содержатся отзывы на вина. Подробно о содержании колонок можно посмотреть тут.\n",
    "\n",
    "Ваша задача найти на вина из какой страны в данных содержится больше всего отзывов."
   ]
  },
  {
   "cell_type": "code",
   "execution_count": 63,
   "metadata": {},
   "outputs": [
    {
     "data": {
      "text/html": [
       "<div>\n",
       "<style scoped>\n",
       "    .dataframe tbody tr th:only-of-type {\n",
       "        vertical-align: middle;\n",
       "    }\n",
       "\n",
       "    .dataframe tbody tr th {\n",
       "        vertical-align: top;\n",
       "    }\n",
       "\n",
       "    .dataframe thead th {\n",
       "        text-align: right;\n",
       "    }\n",
       "</style>\n",
       "<table border=\"1\" class=\"dataframe\">\n",
       "  <thead>\n",
       "    <tr style=\"text-align: right;\">\n",
       "      <th></th>\n",
       "      <th>description</th>\n",
       "      <th>designation</th>\n",
       "      <th>points</th>\n",
       "      <th>price</th>\n",
       "      <th>province</th>\n",
       "      <th>region_1</th>\n",
       "      <th>region_2</th>\n",
       "      <th>taster_name</th>\n",
       "      <th>taster_twitter_handle</th>\n",
       "      <th>title</th>\n",
       "      <th>variety</th>\n",
       "      <th>winery</th>\n",
       "    </tr>\n",
       "    <tr>\n",
       "      <th>country</th>\n",
       "      <th></th>\n",
       "      <th></th>\n",
       "      <th></th>\n",
       "      <th></th>\n",
       "      <th></th>\n",
       "      <th></th>\n",
       "      <th></th>\n",
       "      <th></th>\n",
       "      <th></th>\n",
       "      <th></th>\n",
       "      <th></th>\n",
       "      <th></th>\n",
       "    </tr>\n",
       "  </thead>\n",
       "  <tbody>\n",
       "    <tr>\n",
       "      <th>US</th>\n",
       "      <td>54504</td>\n",
       "      <td>36908</td>\n",
       "      <td>54504</td>\n",
       "      <td>54265</td>\n",
       "      <td>54504</td>\n",
       "      <td>54226</td>\n",
       "      <td>50511</td>\n",
       "      <td>37730</td>\n",
       "      <td>34741</td>\n",
       "      <td>54504</td>\n",
       "      <td>54504</td>\n",
       "      <td>54504</td>\n",
       "    </tr>\n",
       "    <tr>\n",
       "      <th>France</th>\n",
       "      <td>22093</td>\n",
       "      <td>14530</td>\n",
       "      <td>22093</td>\n",
       "      <td>17776</td>\n",
       "      <td>22093</td>\n",
       "      <td>22017</td>\n",
       "      <td>0</td>\n",
       "      <td>21828</td>\n",
       "      <td>21828</td>\n",
       "      <td>22093</td>\n",
       "      <td>22093</td>\n",
       "      <td>22093</td>\n",
       "    </tr>\n",
       "    <tr>\n",
       "      <th>Italy</th>\n",
       "      <td>19540</td>\n",
       "      <td>13889</td>\n",
       "      <td>19540</td>\n",
       "      <td>16914</td>\n",
       "      <td>19540</td>\n",
       "      <td>19513</td>\n",
       "      <td>0</td>\n",
       "      <td>11042</td>\n",
       "      <td>11042</td>\n",
       "      <td>19540</td>\n",
       "      <td>19540</td>\n",
       "      <td>19540</td>\n",
       "    </tr>\n",
       "    <tr>\n",
       "      <th>Spain</th>\n",
       "      <td>6645</td>\n",
       "      <td>5320</td>\n",
       "      <td>6645</td>\n",
       "      <td>6573</td>\n",
       "      <td>6645</td>\n",
       "      <td>6637</td>\n",
       "      <td>0</td>\n",
       "      <td>6581</td>\n",
       "      <td>6581</td>\n",
       "      <td>6645</td>\n",
       "      <td>6645</td>\n",
       "      <td>6645</td>\n",
       "    </tr>\n",
       "    <tr>\n",
       "      <th>Portugal</th>\n",
       "      <td>5691</td>\n",
       "      <td>5105</td>\n",
       "      <td>5691</td>\n",
       "      <td>4875</td>\n",
       "      <td>5691</td>\n",
       "      <td>0</td>\n",
       "      <td>0</td>\n",
       "      <td>5686</td>\n",
       "      <td>5686</td>\n",
       "      <td>5691</td>\n",
       "      <td>5691</td>\n",
       "      <td>5691</td>\n",
       "    </tr>\n",
       "  </tbody>\n",
       "</table>\n",
       "</div>"
      ],
      "text/plain": [
       "          description  designation  points  price  province  region_1  \\\n",
       "country                                                                 \n",
       "US              54504        36908   54504  54265     54504     54226   \n",
       "France          22093        14530   22093  17776     22093     22017   \n",
       "Italy           19540        13889   19540  16914     19540     19513   \n",
       "Spain            6645         5320    6645   6573      6645      6637   \n",
       "Portugal         5691         5105    5691   4875      5691         0   \n",
       "\n",
       "          region_2  taster_name  taster_twitter_handle  title  variety  winery  \n",
       "country                                                                         \n",
       "US           50511        37730                  34741  54504    54504   54504  \n",
       "France           0        21828                  21828  22093    22093   22093  \n",
       "Italy            0        11042                  11042  19540    19540   19540  \n",
       "Spain            0         6581                   6581   6645     6645    6645  \n",
       "Portugal         0         5686                   5686   5691     5691    5691  "
      ]
     },
     "execution_count": 63,
     "metadata": {},
     "output_type": "execute_result"
    }
   ],
   "source": [
    "wines.groupby(wines.country).count().sort_values(by='description', ascending=False).head()"
   ]
  },
  {
   "cell_type": "markdown",
   "metadata": {},
   "source": [
    "# Задача\n",
    "В файле содержатся отзывы на вина. Подробно о содержании колонок можно посмотреть тут.\n",
    "\n",
    "Ваша задача найти на вина из какой страны в данных содержится ровно 109 отзывов."
   ]
  },
  {
   "cell_type": "code",
   "execution_count": 69,
   "metadata": {},
   "outputs": [
    {
     "data": {
      "text/html": [
       "<div>\n",
       "<style scoped>\n",
       "    .dataframe tbody tr th:only-of-type {\n",
       "        vertical-align: middle;\n",
       "    }\n",
       "\n",
       "    .dataframe tbody tr th {\n",
       "        vertical-align: top;\n",
       "    }\n",
       "\n",
       "    .dataframe thead th {\n",
       "        text-align: right;\n",
       "    }\n",
       "</style>\n",
       "<table border=\"1\" class=\"dataframe\">\n",
       "  <thead>\n",
       "    <tr style=\"text-align: right;\">\n",
       "      <th></th>\n",
       "      <th>description</th>\n",
       "      <th>designation</th>\n",
       "      <th>points</th>\n",
       "      <th>price</th>\n",
       "      <th>province</th>\n",
       "      <th>region_1</th>\n",
       "      <th>region_2</th>\n",
       "      <th>taster_name</th>\n",
       "      <th>taster_twitter_handle</th>\n",
       "      <th>title</th>\n",
       "      <th>variety</th>\n",
       "      <th>winery</th>\n",
       "    </tr>\n",
       "    <tr>\n",
       "      <th>country</th>\n",
       "      <th></th>\n",
       "      <th></th>\n",
       "      <th></th>\n",
       "      <th></th>\n",
       "      <th></th>\n",
       "      <th></th>\n",
       "      <th></th>\n",
       "      <th></th>\n",
       "      <th></th>\n",
       "      <th></th>\n",
       "      <th></th>\n",
       "      <th></th>\n",
       "    </tr>\n",
       "  </thead>\n",
       "  <tbody>\n",
       "    <tr>\n",
       "      <th>Uruguay</th>\n",
       "      <td>109.0</td>\n",
       "      <td>NaN</td>\n",
       "      <td>109.0</td>\n",
       "      <td>109.0</td>\n",
       "      <td>109.0</td>\n",
       "      <td>NaN</td>\n",
       "      <td>NaN</td>\n",
       "      <td>109.0</td>\n",
       "      <td>109.0</td>\n",
       "      <td>109.0</td>\n",
       "      <td>109.0</td>\n",
       "      <td>109.0</td>\n",
       "    </tr>\n",
       "  </tbody>\n",
       "</table>\n",
       "</div>"
      ],
      "text/plain": [
       "         description  designation  points  price  province  region_1  \\\n",
       "country                                                                \n",
       "Uruguay        109.0          NaN   109.0  109.0     109.0       NaN   \n",
       "\n",
       "         region_2  taster_name  taster_twitter_handle  title  variety  winery  \n",
       "country                                                                        \n",
       "Uruguay       NaN        109.0                  109.0  109.0    109.0   109.0  "
      ]
     },
     "execution_count": 69,
     "metadata": {},
     "output_type": "execute_result"
    }
   ],
   "source": [
    "wines.groupby(wines.country).count()[wines.groupby(wines.country).count()==109].sort_values(by='description').head(1)"
   ]
  },
  {
   "cell_type": "markdown",
   "metadata": {},
   "source": [
    "# Задача\n",
    "В файле содержатся отзывы на вина. Подробно о содержании колонок можно посмотреть тут.\n",
    "\n",
    "Ваша задача найти регион Франции (колонки country и province), на вина которого в данных меньше всего отзывов."
   ]
  },
  {
   "cell_type": "code",
   "execution_count": 74,
   "metadata": {},
   "outputs": [
    {
     "data": {
      "text/html": [
       "<div>\n",
       "<style scoped>\n",
       "    .dataframe tbody tr th:only-of-type {\n",
       "        vertical-align: middle;\n",
       "    }\n",
       "\n",
       "    .dataframe tbody tr th {\n",
       "        vertical-align: top;\n",
       "    }\n",
       "\n",
       "    .dataframe thead th {\n",
       "        text-align: right;\n",
       "    }\n",
       "</style>\n",
       "<table border=\"1\" class=\"dataframe\">\n",
       "  <thead>\n",
       "    <tr style=\"text-align: right;\">\n",
       "      <th></th>\n",
       "      <th>country</th>\n",
       "      <th>description</th>\n",
       "      <th>designation</th>\n",
       "      <th>points</th>\n",
       "      <th>price</th>\n",
       "      <th>province</th>\n",
       "      <th>region_1</th>\n",
       "      <th>region_2</th>\n",
       "      <th>taster_name</th>\n",
       "      <th>taster_twitter_handle</th>\n",
       "      <th>title</th>\n",
       "      <th>variety</th>\n",
       "      <th>winery</th>\n",
       "    </tr>\n",
       "    <tr>\n",
       "      <th>province</th>\n",
       "      <th></th>\n",
       "      <th></th>\n",
       "      <th></th>\n",
       "      <th></th>\n",
       "      <th></th>\n",
       "      <th></th>\n",
       "      <th></th>\n",
       "      <th></th>\n",
       "      <th></th>\n",
       "      <th></th>\n",
       "      <th></th>\n",
       "      <th></th>\n",
       "      <th></th>\n",
       "    </tr>\n",
       "  </thead>\n",
       "  <tbody>\n",
       "    <tr>\n",
       "      <th>Languedoc-Roussillon</th>\n",
       "      <td>613</td>\n",
       "      <td>613</td>\n",
       "      <td>439</td>\n",
       "      <td>613</td>\n",
       "      <td>589</td>\n",
       "      <td>613</td>\n",
       "      <td>611</td>\n",
       "      <td>0</td>\n",
       "      <td>567</td>\n",
       "      <td>567</td>\n",
       "      <td>613</td>\n",
       "      <td>613</td>\n",
       "      <td>613</td>\n",
       "    </tr>\n",
       "  </tbody>\n",
       "</table>\n",
       "</div>"
      ],
      "text/plain": [
       "                      country  description  designation  points  price  \\\n",
       "province                                                                 \n",
       "Languedoc-Roussillon      613          613          439     613    589   \n",
       "\n",
       "                      province  region_1  region_2  taster_name  \\\n",
       "province                                                          \n",
       "Languedoc-Roussillon       613       611         0          567   \n",
       "\n",
       "                      taster_twitter_handle  title  variety  winery  \n",
       "province                                                             \n",
       "Languedoc-Roussillon                    567    613      613     613  "
      ]
     },
     "execution_count": 74,
     "metadata": {},
     "output_type": "execute_result"
    }
   ],
   "source": [
    "wines[wines.country=='France'].groupby(wines.province).count().sort_values(by='description').head(1)"
   ]
  },
  {
   "cell_type": "markdown",
   "metadata": {},
   "source": [
    "# Задача\n",
    "В файле содержатся отзывы на вина. Подробно о содержании колонок можно посмотреть тут.\n",
    "\n",
    "Ваша задача найти страну и регион (колонка province), для вин которого средняя оценка (колонка points) наибольшая. Запишите их через запятую, как в примере\n",
    "\n",
    "France, Bordeaux"
   ]
  },
  {
   "cell_type": "code",
   "execution_count": 80,
   "metadata": {},
   "outputs": [
    {
     "data": {
      "text/html": [
       "<div>\n",
       "<style scoped>\n",
       "    .dataframe tbody tr th:only-of-type {\n",
       "        vertical-align: middle;\n",
       "    }\n",
       "\n",
       "    .dataframe tbody tr th {\n",
       "        vertical-align: top;\n",
       "    }\n",
       "\n",
       "    .dataframe thead th {\n",
       "        text-align: right;\n",
       "    }\n",
       "</style>\n",
       "<table border=\"1\" class=\"dataframe\">\n",
       "  <thead>\n",
       "    <tr style=\"text-align: right;\">\n",
       "      <th></th>\n",
       "      <th></th>\n",
       "      <th>points</th>\n",
       "      <th>price</th>\n",
       "    </tr>\n",
       "    <tr>\n",
       "      <th>province</th>\n",
       "      <th>country</th>\n",
       "      <th></th>\n",
       "      <th></th>\n",
       "    </tr>\n",
       "  </thead>\n",
       "  <tbody>\n",
       "    <tr>\n",
       "      <th>Südburgenland</th>\n",
       "      <th>Austria</th>\n",
       "      <td>94.0</td>\n",
       "      <td>57.0</td>\n",
       "    </tr>\n",
       "  </tbody>\n",
       "</table>\n",
       "</div>"
      ],
      "text/plain": [
       "                       points  price\n",
       "province      country               \n",
       "Südburgenland Austria    94.0   57.0"
      ]
     },
     "execution_count": 80,
     "metadata": {},
     "output_type": "execute_result"
    }
   ],
   "source": [
    "wines.groupby([wines.province, wines.country]).mean().sort_values(by='points', ascending=False).head(1)"
   ]
  },
  {
   "cell_type": "code",
   "execution_count": 81,
   "metadata": {},
   "outputs": [
    {
     "data": {
      "text/plain": [
       "('Austria', 'Südburgenland')"
      ]
     },
     "execution_count": 81,
     "metadata": {},
     "output_type": "execute_result"
    }
   ],
   "source": [
    "wines.groupby(['country', \"province\"]).points.mean().idxmax()"
   ]
  },
  {
   "cell_type": "markdown",
   "metadata": {},
   "source": [
    "# Задача\n",
    "В файле содержатся отзывы на вина. Подробно о содержании колонок можно посмотреть тут.\n",
    "\n",
    "Ваша задача найти кол-во стран, вина которых никогда не получали 95 и более балов"
   ]
  },
  {
   "cell_type": "code",
   "execution_count": 110,
   "metadata": {},
   "outputs": [
    {
     "data": {
      "text/plain": [
       "30"
      ]
     },
     "execution_count": 110,
     "metadata": {},
     "output_type": "execute_result"
    }
   ],
   "source": [
    "len(set(wines.country).difference(set(wines.query('points >=95').country)))"
   ]
  },
  {
   "cell_type": "code",
   "execution_count": 116,
   "metadata": {},
   "outputs": [
    {
     "name": "stdout",
     "output_type": "stream",
     "text": [
      "29\n"
     ]
    }
   ],
   "source": [
    "top_points = wines.groupby('country').points.max()\n",
    "print(top_points[top_points < 95].count())"
   ]
  },
  {
   "cell_type": "code",
   "execution_count": 112,
   "metadata": {},
   "outputs": [
    {
     "data": {
      "text/plain": [
       "29"
      ]
     },
     "execution_count": 112,
     "metadata": {},
     "output_type": "execute_result"
    }
   ],
   "source": [
    "import numpy as np\n",
    "np.array(wines.loc[:, ['country', 'points']].groupby(['country'], as_index = False).max(['points']).points < 95).sum()"
   ]
  },
  {
   "cell_type": "markdown",
   "metadata": {},
   "source": [
    "# Задача\n",
    "В файле содержатся отзывы на вина. Подробно о содержании колонок можно посмотреть тут.\n",
    "\n",
    "Ваша задача найти самого строгого оценщика (колонка taster_name), т.е. того, у которого средняя оценка минимальная."
   ]
  },
  {
   "cell_type": "code",
   "execution_count": 126,
   "metadata": {},
   "outputs": [
    {
     "data": {
      "text/plain": [
       "'Alexander Peartree'"
      ]
     },
     "execution_count": 126,
     "metadata": {},
     "output_type": "execute_result"
    }
   ],
   "source": [
    "wines.groupby('taster_name').points.mean().idxmin()"
   ]
  },
  {
   "cell_type": "markdown",
   "metadata": {},
   "source": [
    "# Задача\n",
    "В файле содержатся отзывы на вина. Подробно о содержании колонок можно посмотреть тут.\n",
    "\n",
    "Ваша задача найти вина каких трех стран, понравились критику Roger Voss больше всего. Запишите через запятую в порядке убывания средней оценки.\n",
    "\n",
    "France, Russia, United Kingdom"
   ]
  },
  {
   "cell_type": "code",
   "execution_count": 138,
   "metadata": {},
   "outputs": [
    {
     "data": {
      "text/plain": [
       "country\n",
       "US              89.500000\n",
       "Austria         89.163717\n",
       "South Africa    89.045455\n",
       "France          88.818138\n",
       "Italy           88.680412\n",
       "Portugal        88.256098\n",
       "Greece          88.000000\n",
       "Name: points, dtype: float64"
      ]
     },
     "execution_count": 138,
     "metadata": {},
     "output_type": "execute_result"
    }
   ],
   "source": [
    "wines.query('taster_name == \"Roger Voss\"').groupby('country').points.mean()\\\n",
    "    .sort_values(ascending=False)"
   ]
  },
  {
   "cell_type": "code",
   "execution_count": 140,
   "metadata": {},
   "outputs": [
    {
     "name": "stdout",
     "output_type": "stream",
     "text": [
      "US, Austria, South Africa\n"
     ]
    }
   ],
   "source": [
    "print(*wines[wines['taster_name'] == 'Roger Voss'].groupby('country')\\\n",
    "      .points.mean()\\\n",
    "      .nlargest(3).index, sep=', ')"
   ]
  },
  {
   "cell_type": "markdown",
   "metadata": {},
   "source": [
    "<h1 align=\"center\"> Дата и время</h1>"
   ]
  },
  {
   "cell_type": "markdown",
   "metadata": {},
   "source": [
    "# ЗАДАЧА\n",
    "По файлу titanic.csv определите сколько раз встречается в имени обращение Sir (там же где и Mr, Mrs в колонке Name)."
   ]
  },
  {
   "cell_type": "code",
   "execution_count": 142,
   "metadata": {},
   "outputs": [],
   "source": [
    "url = 'https://raw.githubusercontent.com/bykov-alexei/data-science-course/master/Python3/titanic_train.csv'\n",
    "titanic = pd.read_csv(url)"
   ]
  },
  {
   "cell_type": "code",
   "execution_count": 144,
   "metadata": {},
   "outputs": [
    {
     "data": {
      "text/html": [
       "<div>\n",
       "<style scoped>\n",
       "    .dataframe tbody tr th:only-of-type {\n",
       "        vertical-align: middle;\n",
       "    }\n",
       "\n",
       "    .dataframe tbody tr th {\n",
       "        vertical-align: top;\n",
       "    }\n",
       "\n",
       "    .dataframe thead th {\n",
       "        text-align: right;\n",
       "    }\n",
       "</style>\n",
       "<table border=\"1\" class=\"dataframe\">\n",
       "  <thead>\n",
       "    <tr style=\"text-align: right;\">\n",
       "      <th></th>\n",
       "      <th>PassengerId</th>\n",
       "      <th>Survived</th>\n",
       "      <th>Pclass</th>\n",
       "      <th>Name</th>\n",
       "      <th>Sex</th>\n",
       "      <th>Age</th>\n",
       "      <th>SibSp</th>\n",
       "      <th>Parch</th>\n",
       "      <th>Ticket</th>\n",
       "      <th>Fare</th>\n",
       "      <th>Cabin</th>\n",
       "      <th>Embarked</th>\n",
       "    </tr>\n",
       "  </thead>\n",
       "  <tbody>\n",
       "    <tr>\n",
       "      <th>0</th>\n",
       "      <td>1</td>\n",
       "      <td>0</td>\n",
       "      <td>3</td>\n",
       "      <td>Braund, Mr. Owen Harris</td>\n",
       "      <td>male</td>\n",
       "      <td>22.0</td>\n",
       "      <td>1</td>\n",
       "      <td>0</td>\n",
       "      <td>A/5 21171</td>\n",
       "      <td>7.25</td>\n",
       "      <td>NaN</td>\n",
       "      <td>S</td>\n",
       "    </tr>\n",
       "  </tbody>\n",
       "</table>\n",
       "</div>"
      ],
      "text/plain": [
       "   PassengerId  Survived  Pclass                     Name   Sex   Age  SibSp  \\\n",
       "0            1         0       3  Braund, Mr. Owen Harris  male  22.0      1   \n",
       "\n",
       "   Parch     Ticket  Fare Cabin Embarked  \n",
       "0      0  A/5 21171  7.25   NaN        S  "
      ]
     },
     "execution_count": 144,
     "metadata": {},
     "output_type": "execute_result"
    }
   ],
   "source": [
    "titanic.head(1)"
   ]
  },
  {
   "cell_type": "code",
   "execution_count": 156,
   "metadata": {},
   "outputs": [
    {
     "data": {
      "text/plain": [
       "1"
      ]
     },
     "execution_count": 156,
     "metadata": {},
     "output_type": "execute_result"
    }
   ],
   "source": [
    "import re\n",
    "regex = r'.Sir.'\n",
    "count = 0\n",
    "for i in titanic.Name.tolist():\n",
    "    for match in re.finditer(pattern=regex, string=i):\n",
    "        count += 1 \n",
    "count"
   ]
  },
  {
   "cell_type": "code",
   "execution_count": 157,
   "metadata": {},
   "outputs": [],
   "source": [
    "# titanic.query('Name.str.contains(\"Sir. \")')"
   ]
  },
  {
   "cell_type": "code",
   "execution_count": 167,
   "metadata": {},
   "outputs": [
    {
     "data": {
      "text/plain": [
       "1"
      ]
     },
     "execution_count": 167,
     "metadata": {},
     "output_type": "execute_result"
    }
   ],
   "source": [
    "titanic[titanic.Name.str.contains('Sir. ')].Name.count()"
   ]
  },
  {
   "cell_type": "markdown",
   "metadata": {},
   "source": [
    "# Задача\n",
    "По файлу titanic.csv определите сколько за билет заплатил капитан (колонка Fare). (Это не капитан Титаника, просто капитан какого-то корабля, который был пассажиром, смотреть нужно также по обращению)"
   ]
  },
  {
   "cell_type": "code",
   "execution_count": 172,
   "metadata": {},
   "outputs": [
    {
     "data": {
      "text/plain": [
       "745    71.0\n",
       "Name: Fare, dtype: float64"
      ]
     },
     "execution_count": 172,
     "metadata": {},
     "output_type": "execute_result"
    }
   ],
   "source": [
    "titanic[titanic.Name.str.contains('Capt')].Fare"
   ]
  },
  {
   "cell_type": "markdown",
   "metadata": {},
   "source": [
    "# Задача\n",
    "На вход программе передается три числа через пробел - y, m, d. Из этих чисел необходимо составить дату. y - год, m - месяц, d - день. Ваша задача вывести название дня недели<br>\n",
    "\n",
    "Sample Input:<br>\n",
    "\n",
    "2021 11 23<br>\n",
    "Sample Output:<br>\n",
    "\n",
    "Tuesday<br>"
   ]
  },
  {
   "cell_type": "code",
   "execution_count": 184,
   "metadata": {},
   "outputs": [
    {
     "name": "stdout",
     "output_type": "stream",
     "text": [
      "2021 11 23\n"
     ]
    },
    {
     "data": {
      "text/plain": [
       "'Tuesday'"
      ]
     },
     "execution_count": 184,
     "metadata": {},
     "output_type": "execute_result"
    }
   ],
   "source": [
    "pd.Timestamp(*[int(i) for i in input().split()]).day_name()"
   ]
  },
  {
   "cell_type": "code",
   "execution_count": 185,
   "metadata": {},
   "outputs": [
    {
     "name": "stdout",
     "output_type": "stream",
     "text": [
      "2021 11 23\n",
      "Tuesday\n"
     ]
    }
   ],
   "source": [
    "import datetime\n",
    "y, m, d = map(int, input().split())\n",
    "print(datetime.date(y, m, d).strftime('%A'))"
   ]
  },
  {
   "cell_type": "code",
   "execution_count": 186,
   "metadata": {},
   "outputs": [
    {
     "name": "stdout",
     "output_type": "stream",
     "text": [
      "2021 11 23\n",
      "Tuesday\n"
     ]
    }
   ],
   "source": [
    "print(__import__('pandas').Timestamp(input()).day_name())\n",
    "\n",
    "# можно и через календарь ))\n",
    "# from calendar import weekday, day_name\n",
    "# print(day_name[weekday(*map(int, input().split()))])"
   ]
  },
  {
   "cell_type": "code",
   "execution_count": 187,
   "metadata": {},
   "outputs": [
    {
     "name": "stdout",
     "output_type": "stream",
     "text": [
      "2021 11 23\n",
      "Tuesday\n"
     ]
    }
   ],
   "source": [
    "y, m, d = map(int, input().split())\n",
    "week = {3: 'Monday', 4: 'Tuesday', 5: 'Wednesday', 6: 'Thursday', 0: 'Friday', 1: 'Saturday', 2: 'Sunday'}\n",
    "month = {1: 31, 3: 31, 4: 30, 5: 31, 6: 30, 7: 31, 8: 31, 9: 30, 10: 31, 11: 30, 12: 31}\n",
    "\n",
    "if y % 4 == 0:\n",
    "    month[2] = 29\n",
    "    s = 0\n",
    "    for i in range(1, m):\n",
    "        s += month[i]\n",
    "    print(week[( int(y * 365.25) + s + d ) % 7])\n",
    "else:\n",
    "    month[2] = 28\n",
    "    s = 0\n",
    "    for i in range(1, m):\n",
    "        s += month[i]\n",
    "    print(week[( int(y * 365.25) + s + d ) % 7])"
   ]
  },
  {
   "cell_type": "markdown",
   "metadata": {},
   "source": [
    "# Задача\n",
    "По данным с сообщениями о преступлениях в Бостоне определите, сколько сообщений было сделано 15-го июня 2015 года в промежуток с 8 до 9 часов утра."
   ]
  },
  {
   "cell_type": "code",
   "execution_count": 265,
   "metadata": {},
   "outputs": [],
   "source": [
    "url = 'https://raw.githubusercontent.com/bykov-alexei/data-science-course/master/Pandas/crime.csv'\n",
    "crime = pd.read_csv(url, encoding='ANSI')"
   ]
  },
  {
   "cell_type": "code",
   "execution_count": 235,
   "metadata": {},
   "outputs": [
    {
     "data": {
      "text/html": [
       "<div>\n",
       "<style scoped>\n",
       "    .dataframe tbody tr th:only-of-type {\n",
       "        vertical-align: middle;\n",
       "    }\n",
       "\n",
       "    .dataframe tbody tr th {\n",
       "        vertical-align: top;\n",
       "    }\n",
       "\n",
       "    .dataframe thead th {\n",
       "        text-align: right;\n",
       "    }\n",
       "</style>\n",
       "<table border=\"1\" class=\"dataframe\">\n",
       "  <thead>\n",
       "    <tr style=\"text-align: right;\">\n",
       "      <th></th>\n",
       "      <th>INCIDENT_NUMBER</th>\n",
       "      <th>OFFENSE_CODE</th>\n",
       "      <th>OFFENSE_CODE_GROUP</th>\n",
       "      <th>OFFENSE_DESCRIPTION</th>\n",
       "      <th>DISTRICT</th>\n",
       "      <th>REPORTING_AREA</th>\n",
       "      <th>SHOOTING</th>\n",
       "      <th>OCCURRED_ON_DATE</th>\n",
       "      <th>YEAR</th>\n",
       "      <th>MONTH</th>\n",
       "      <th>DAY_OF_WEEK</th>\n",
       "      <th>HOUR</th>\n",
       "      <th>UCR_PART</th>\n",
       "      <th>STREET</th>\n",
       "      <th>Lat</th>\n",
       "      <th>Long</th>\n",
       "      <th>Location</th>\n",
       "    </tr>\n",
       "  </thead>\n",
       "  <tbody>\n",
       "    <tr>\n",
       "      <th>0</th>\n",
       "      <td>I182070945</td>\n",
       "      <td>619</td>\n",
       "      <td>Larceny</td>\n",
       "      <td>LARCENY ALL OTHERS</td>\n",
       "      <td>D14</td>\n",
       "      <td>808</td>\n",
       "      <td>NaN</td>\n",
       "      <td>2018-09-02 13:00:00</td>\n",
       "      <td>2018</td>\n",
       "      <td>9</td>\n",
       "      <td>Sunday</td>\n",
       "      <td>13</td>\n",
       "      <td>Part One</td>\n",
       "      <td>LINCOLN ST</td>\n",
       "      <td>42.357791</td>\n",
       "      <td>-71.139371</td>\n",
       "      <td>(42.35779134, -71.13937053)</td>\n",
       "    </tr>\n",
       "    <tr>\n",
       "      <th>1</th>\n",
       "      <td>I182070943</td>\n",
       "      <td>1402</td>\n",
       "      <td>Vandalism</td>\n",
       "      <td>VANDALISM</td>\n",
       "      <td>C11</td>\n",
       "      <td>347</td>\n",
       "      <td>NaN</td>\n",
       "      <td>2018-08-21 00:00:00</td>\n",
       "      <td>2018</td>\n",
       "      <td>8</td>\n",
       "      <td>Tuesday</td>\n",
       "      <td>0</td>\n",
       "      <td>Part Two</td>\n",
       "      <td>HECLA ST</td>\n",
       "      <td>42.306821</td>\n",
       "      <td>-71.060300</td>\n",
       "      <td>(42.30682138, -71.06030035)</td>\n",
       "    </tr>\n",
       "  </tbody>\n",
       "</table>\n",
       "</div>"
      ],
      "text/plain": [
       "  INCIDENT_NUMBER  OFFENSE_CODE OFFENSE_CODE_GROUP OFFENSE_DESCRIPTION  \\\n",
       "0      I182070945           619            Larceny  LARCENY ALL OTHERS   \n",
       "1      I182070943          1402          Vandalism           VANDALISM   \n",
       "\n",
       "  DISTRICT REPORTING_AREA SHOOTING     OCCURRED_ON_DATE  YEAR  MONTH  \\\n",
       "0      D14            808      NaN  2018-09-02 13:00:00  2018      9   \n",
       "1      C11            347      NaN  2018-08-21 00:00:00  2018      8   \n",
       "\n",
       "  DAY_OF_WEEK  HOUR  UCR_PART      STREET        Lat       Long  \\\n",
       "0      Sunday    13  Part One  LINCOLN ST  42.357791 -71.139371   \n",
       "1     Tuesday     0  Part Two    HECLA ST  42.306821 -71.060300   \n",
       "\n",
       "                      Location  \n",
       "0  (42.35779134, -71.13937053)  \n",
       "1  (42.30682138, -71.06030035)  "
      ]
     },
     "execution_count": 235,
     "metadata": {},
     "output_type": "execute_result"
    }
   ],
   "source": [
    "crime.head(2)"
   ]
  },
  {
   "cell_type": "code",
   "execution_count": 197,
   "metadata": {},
   "outputs": [],
   "source": [
    "def lookup(s):\n",
    "    \"\"\"\n",
    "    This is an extremely fast approach to datetime parsing.\n",
    "    For large data, the same dates are often repeated. Rather than\n",
    "    re-parse these, we store all unique dates, parse them, and\n",
    "    use a lookup to convert all dates.\n",
    "    \"\"\"\n",
    "    dates = {date:pd.to_datetime(date) for date in s.unique()}\n",
    "    return s.map(dates)\n",
    "crime['OCCURRED_ON_DATE'] = lookup(crime['OCCURRED_ON_DATE'])\n"
   ]
  },
  {
   "cell_type": "code",
   "execution_count": 200,
   "metadata": {},
   "outputs": [],
   "source": [
    "crime['time'] = crime.OCCURRED_ON_DATE.apply(lambda x: pd.Timestamp(x).time())"
   ]
  },
  {
   "cell_type": "code",
   "execution_count": 209,
   "metadata": {},
   "outputs": [
    {
     "data": {
      "text/plain": [
       "INCIDENT_NUMBER        12\n",
       "OFFENSE_CODE           12\n",
       "OFFENSE_CODE_GROUP     12\n",
       "OFFENSE_DESCRIPTION    12\n",
       "DISTRICT               12\n",
       "REPORTING_AREA         12\n",
       "SHOOTING                0\n",
       "OCCURRED_ON_DATE       12\n",
       "YEAR                   12\n",
       "MONTH                  12\n",
       "DAY_OF_WEEK            12\n",
       "HOUR                   12\n",
       "UCR_PART               12\n",
       "STREET                 12\n",
       "Lat                    12\n",
       "Long                   12\n",
       "Location               12\n",
       "time                   12\n",
       "dtype: int64"
      ]
     },
     "execution_count": 209,
     "metadata": {},
     "output_type": "execute_result"
    }
   ],
   "source": [
    "crime[(crime.OCCURRED_ON_DATE>=pd.Timestamp('2015.06.15 8:00'))&(crime.OCCURRED_ON_DATE<pd.Timestamp('2015.06.15 9:00'))].count()\n"
   ]
  },
  {
   "cell_type": "code",
   "execution_count": 210,
   "metadata": {},
   "outputs": [
    {
     "data": {
      "text/plain": [
       "12"
      ]
     },
     "execution_count": 210,
     "metadata": {},
     "output_type": "execute_result"
    }
   ],
   "source": [
    "len(crime.query('OCCURRED_ON_DATE >= \"2015-06-15 08:00:00\" and OCCURRED_ON_DATE < \"2015-06-15 09:00:00\"'))"
   ]
  },
  {
   "cell_type": "markdown",
   "metadata": {},
   "source": [
    "# Задача\n",
    "По данным с сообщениями о преступлениях в Бостоне определите, сколько сообщений было сделано 15-го июня 2015 года в промежуток с 6 до 9 часов утра."
   ]
  },
  {
   "cell_type": "code",
   "execution_count": 211,
   "metadata": {},
   "outputs": [
    {
     "data": {
      "text/plain": [
       "22"
      ]
     },
     "execution_count": 211,
     "metadata": {},
     "output_type": "execute_result"
    }
   ],
   "source": [
    "len(crime.query('OCCURRED_ON_DATE >= \"2015-06-15 06:00:00\" and OCCURRED_ON_DATE < \"2015-06-15 09:00:00\"'))"
   ]
  },
  {
   "cell_type": "markdown",
   "metadata": {},
   "source": [
    "# Задача\n",
    "По данным с сообщениями о преступлениях в Бостоне определите, сколько сообщений о вандализме было сделано 1-го января 2017 года."
   ]
  },
  {
   "cell_type": "code",
   "execution_count": 215,
   "metadata": {},
   "outputs": [
    {
     "data": {
      "text/plain": [
       "12"
      ]
     },
     "execution_count": 215,
     "metadata": {},
     "output_type": "execute_result"
    }
   ],
   "source": [
    "len(crime.query('OCCURRED_ON_DATE >= \"2017-01-01 00:00:00\" & OCCURRED_ON_DATE < \"2017-01-01 23:59:59\" & OFFENSE_CODE_GROUP==\"Vandalism\"'))"
   ]
  },
  {
   "cell_type": "markdown",
   "metadata": {},
   "source": [
    "# Задача\n",
    "По данным с сообщениями о преступлениях в Бостоне определите, день 2017 года, когда было больше всего сообщений о вандализме."
   ]
  },
  {
   "cell_type": "code",
   "execution_count": 276,
   "metadata": {},
   "outputs": [
    {
     "data": {
      "text/plain": [
       "'2017-05-05'"
      ]
     },
     "execution_count": 276,
     "metadata": {},
     "output_type": "execute_result"
    }
   ],
   "source": [
    "crime['Y-M-D'] = crime['OCCURRED_ON_DATE'].apply(lambda s: s.split()[0]) # pd.to_datetime(df['OCCURRED_ON_DATE']).dt.date\n",
    "crime.query('OCCURRED_ON_DATE >= \"2017-01-01 00:00:00\" & OCCURRED_ON_DATE < \"2017-12-31 23:59:59\" & OFFENSE_CODE_GROUP==\"Vandalism\"')\\\n",
    ".groupby('Y-M-D').count().sort_values(by='INCIDENT_NUMBER', ascending=False).idxmax()[0]"
   ]
  },
  {
   "cell_type": "code",
   "execution_count": 279,
   "metadata": {},
   "outputs": [],
   "source": [
    "# y2017 = crime[(crime.YEAR == 2017) & (crime.OFFENSE_DESCRIPTION == 'VANDALISM')]\n",
    "# print(y2017.groupby(y2017.OCCURRED_ON_DATE.dt.date).size().idxmax())"
   ]
  },
  {
   "cell_type": "markdown",
   "metadata": {},
   "source": [
    "# Задача\n",
    "По файлу посчитайте кол-во победителей финальных олимпиад (stage = 4) по математике"
   ]
  },
  {
   "cell_type": "code",
   "execution_count": 288,
   "metadata": {},
   "outputs": [],
   "source": [
    "url = 'https://raw.githubusercontent.com/bykov-alexei/data-science-course/master/Python3/moscow%20schools%20-%20winners.csv'\n",
    "winners = pd.read_csv(url)"
   ]
  },
  {
   "cell_type": "code",
   "execution_count": 287,
   "metadata": {},
   "outputs": [
    {
     "data": {
      "text/plain": [
       "46"
      ]
     },
     "execution_count": 287,
     "metadata": {},
     "output_type": "execute_result"
    }
   ],
   "source": [
    "winners.query('Stage==\"4\" and Status == \"победитель\" and Subject == \"Математика\"').count()[0]"
   ]
  },
  {
   "cell_type": "markdown",
   "metadata": {},
   "source": [
    "# Задача\n",
    "По тому же файлу посчитайте кол-во призеров регионального этапа (stage=3) по информатике из 9-ого класса"
   ]
  },
  {
   "cell_type": "code",
   "execution_count": 300,
   "metadata": {},
   "outputs": [
    {
     "data": {
      "text/plain": [
       "349"
      ]
     },
     "execution_count": 300,
     "metadata": {},
     "output_type": "execute_result"
    }
   ],
   "source": [
    "winners.query('Stage==\"3\" and Status == \"призёр\" and Subject == \"Информатика\" and Class==\"9\"').count()[0]"
   ]
  },
  {
   "cell_type": "code",
   "execution_count": null,
   "metadata": {},
   "outputs": [],
   "source": []
  },
  {
   "cell_type": "markdown",
   "metadata": {},
   "source": [
    "# Задача\n",
    "Составьте рейтинг школ по кол-ву победителей любых этапов и напишите школу с наибольшим кол-вом. В качестве ответа используйте ShortName"
   ]
  },
  {
   "cell_type": "code",
   "execution_count": 307,
   "metadata": {},
   "outputs": [
    {
     "data": {
      "text/plain": [
       "'ГБОУ лицей «Вторая школа»'"
      ]
     },
     "execution_count": 307,
     "metadata": {},
     "output_type": "execute_result"
    }
   ],
   "source": [
    "winners.query('Status == \"победитель\"').groupby('ShortName').count().sort_values(by='FullName', ascending=False).idxmax()[0]"
   ]
  },
  {
   "cell_type": "markdown",
   "metadata": {},
   "source": [
    "# Задача\n",
    "Датасет, который будем использовать можно скачать тут. Содержит данные о продажах в булочной. В каждой строчке содержится информация об отдельном купленном товаре.\n",
    "\n",
    "TransactionNo - номер покупки (может повторяться так как могли купить сразу несколько товаров)\n",
    "Items - товар, который был куплен\n",
    "DateTime - время покупки"
   ]
  },
  {
   "cell_type": "code",
   "execution_count": 15,
   "metadata": {},
   "outputs": [],
   "source": [
    "import pandas as pd\n",
    "url= 'https://raw.githubusercontent.com/bykov-alexei/data-science-course/master/Pandas/bakery.csv'\n",
    "bakery = pd.read_csv(url)"
   ]
  },
  {
   "cell_type": "code",
   "execution_count": 3,
   "metadata": {},
   "outputs": [
    {
     "data": {
      "text/html": [
       "<div>\n",
       "<style scoped>\n",
       "    .dataframe tbody tr th:only-of-type {\n",
       "        vertical-align: middle;\n",
       "    }\n",
       "\n",
       "    .dataframe tbody tr th {\n",
       "        vertical-align: top;\n",
       "    }\n",
       "\n",
       "    .dataframe thead th {\n",
       "        text-align: right;\n",
       "    }\n",
       "</style>\n",
       "<table border=\"1\" class=\"dataframe\">\n",
       "  <thead>\n",
       "    <tr style=\"text-align: right;\">\n",
       "      <th></th>\n",
       "      <th>TransactionNo</th>\n",
       "      <th>Items</th>\n",
       "      <th>DateTime</th>\n",
       "    </tr>\n",
       "  </thead>\n",
       "  <tbody>\n",
       "    <tr>\n",
       "      <th>0</th>\n",
       "      <td>1</td>\n",
       "      <td>Bread</td>\n",
       "      <td>2016-10-30 09:58:11</td>\n",
       "    </tr>\n",
       "    <tr>\n",
       "      <th>1</th>\n",
       "      <td>2</td>\n",
       "      <td>Scandinavian</td>\n",
       "      <td>2016-10-30 10:05:34</td>\n",
       "    </tr>\n",
       "    <tr>\n",
       "      <th>2</th>\n",
       "      <td>2</td>\n",
       "      <td>Scandinavian</td>\n",
       "      <td>2016-10-30 10:05:34</td>\n",
       "    </tr>\n",
       "    <tr>\n",
       "      <th>3</th>\n",
       "      <td>3</td>\n",
       "      <td>Hot chocolate</td>\n",
       "      <td>2016-10-30 10:07:57</td>\n",
       "    </tr>\n",
       "    <tr>\n",
       "      <th>4</th>\n",
       "      <td>3</td>\n",
       "      <td>Jam</td>\n",
       "      <td>2016-10-30 10:07:57</td>\n",
       "    </tr>\n",
       "  </tbody>\n",
       "</table>\n",
       "</div>"
      ],
      "text/plain": [
       "   TransactionNo          Items             DateTime\n",
       "0              1          Bread  2016-10-30 09:58:11\n",
       "1              2   Scandinavian  2016-10-30 10:05:34\n",
       "2              2   Scandinavian  2016-10-30 10:05:34\n",
       "3              3  Hot chocolate  2016-10-30 10:07:57\n",
       "4              3            Jam  2016-10-30 10:07:57"
      ]
     },
     "execution_count": 3,
     "metadata": {},
     "output_type": "execute_result"
    }
   ],
   "source": [
    "bakery.head()"
   ]
  },
  {
   "cell_type": "markdown",
   "metadata": {},
   "source": [
    "# Задача\n",
    "По файлу определите кол-во видов товаров в булочной"
   ]
  },
  {
   "cell_type": "code",
   "execution_count": 16,
   "metadata": {},
   "outputs": [
    {
     "data": {
      "text/plain": [
       "94"
      ]
     },
     "execution_count": 16,
     "metadata": {},
     "output_type": "execute_result"
    }
   ],
   "source": [
    "len(bakery.groupby('Items')) # len(df.Items.unique())"
   ]
  },
  {
   "cell_type": "markdown",
   "metadata": {},
   "source": [
    "# Задача\n",
    "По файлу определите сколько чая (Tea) было продано в булочной за все время"
   ]
  },
  {
   "cell_type": "code",
   "execution_count": 17,
   "metadata": {},
   "outputs": [
    {
     "data": {
      "text/plain": [
       "1435"
      ]
     },
     "execution_count": 17,
     "metadata": {},
     "output_type": "execute_result"
    }
   ],
   "source": [
    "bakery[bakery.Items == 'Tea'].TransactionNo.count() # bakery is DataFrame "
   ]
  },
  {
   "cell_type": "markdown",
   "metadata": {},
   "source": [
    "# Задача\n",
    "По файлу определите сколько покупок было совершено первого мая 2017 года.\n",
    "\n",
    "Кол-во покупок != кол-во строк\n",
    "\n",
    "Кол-во покупок == Кол-во уникальных значений TransactionNo "
   ]
  },
  {
   "cell_type": "code",
   "execution_count": 18,
   "metadata": {},
   "outputs": [
    {
     "data": {
      "text/plain": [
       "50"
      ]
     },
     "execution_count": 18,
     "metadata": {},
     "output_type": "execute_result"
    }
   ],
   "source": [
    "bakery.query('DateTime >= \"2017-05-01 00:00:00\" & DateTime < \"2017-05-01 23:59:59\"').TransactionNo.nunique()"
   ]
  },
  {
   "cell_type": "code",
   "execution_count": 19,
   "metadata": {},
   "outputs": [
    {
     "data": {
      "text/plain": [
       "50"
      ]
     },
     "execution_count": 19,
     "metadata": {},
     "output_type": "execute_result"
    }
   ],
   "source": [
    "bakery[bakery.DateTime.str.contains('2017-05-01')].TransactionNo.nunique()"
   ]
  },
  {
   "cell_type": "code",
   "execution_count": 23,
   "metadata": {},
   "outputs": [],
   "source": [
    "# bakery.DateTime = pd.to_datetime(bakery.DateTime)\n",
    "# start, stop = (bakery.Timestamp(f'2017-05-01 {x}') for x in ('00:00', '23:59:59'))\n",
    "# len(bakery.query(\"DateTime >= @start and DateTime <= @stop\").TransactionNo.unique())"
   ]
  },
  {
   "cell_type": "markdown",
   "metadata": {},
   "source": [
    "# Задача\n",
    "По файлу определите, сколько покупок было совершено в понедельники. Для этого:\n",
    "\n",
    "Преобразуйте колонку в тип datetime\n",
    "Создайте новую колонку, в которой будет информация о том, являлся ли день покупки понедельником\n",
    "Посчитайте кол-во уникальных значений в TransactionNo - это и будет кол-во покупок"
   ]
  },
  {
   "cell_type": "code",
   "execution_count": 21,
   "metadata": {},
   "outputs": [
    {
     "data": {
      "text/plain": [
       "1441"
      ]
     },
     "execution_count": 21,
     "metadata": {},
     "output_type": "execute_result"
    }
   ],
   "source": [
    "bakery.DateTime = pd.to_datetime(bakery.DateTime)\n",
    "bakery[bakery.DateTime.dt.day_name()=='Monday'].TransactionNo.nunique()"
   ]
  },
  {
   "cell_type": "markdown",
   "metadata": {},
   "source": [
    "# Задача\n",
    "По файлу определите, сколько покупок было совершено в выходные. Для этого:\n",
    "\n",
    "Преобразуйте колонку в тип datetime\n",
    "Создайте новую колонку, в которой будет информация о том, являлся ли день покупки выходным\n",
    "Посчитайте кол-во уникальных значений в TransactionNo - это и будет кол-во покупок"
   ]
  },
  {
   "cell_type": "code",
   "execution_count": 29,
   "metadata": {},
   "outputs": [
    {
     "data": {
      "text/plain": [
       "2962"
      ]
     },
     "execution_count": 29,
     "metadata": {},
     "output_type": "execute_result"
    }
   ],
   "source": [
    "bakery.DateTime = pd.to_datetime(bakery.DateTime)\n",
    "bakery[bakery.DateTime.dt.day_name().isin(['Sunday', 'Saturday'])].TransactionNo.nunique()"
   ]
  },
  {
   "cell_type": "code",
   "execution_count": 28,
   "metadata": {},
   "outputs": [
    {
     "data": {
      "text/plain": [
       "2962"
      ]
     },
     "execution_count": 28,
     "metadata": {},
     "output_type": "execute_result"
    }
   ],
   "source": [
    "import pandas as pd\n",
    "url= 'https://raw.githubusercontent.com/bykov-alexei/data-science-course/master/Pandas/bakery.csv'\n",
    "df = pd.read_csv(url)\n",
    "df.DateTime = pd.to_datetime(df.DateTime)\n",
    "df['Weekday'] = df.DateTime.dt.day_name()\n",
    "len(df.query('Weekday in (\"Saturday\", \"Sunday\")').TransactionNo.unique())"
   ]
  },
  {
   "cell_type": "markdown",
   "metadata": {},
   "source": [
    "# Задача\n",
    "По файлу определите, в какой месяц какого года совершилось наибольшее кол-во покупок (TransactionNo)\n",
    "\n",
    "Преобразуйте колонку в тип datetime и сделайте ее индексом датафрейма\n",
    "Сделайте resample с периодичностью в 1 месяц\n",
    "Посчитайте кол-во уникальных значений в TransactionNo - это и будет кол-во покупок в каждом месяце\n",
    "Найдите в результате месяц где покупок больше всего\n",
    "Ответ запишите в формате YYYY-MM"
   ]
  },
  {
   "cell_type": "code",
   "execution_count": 58,
   "metadata": {},
   "outputs": [
    {
     "data": {
      "text/plain": [
       "'2017-3'"
      ]
     },
     "execution_count": 58,
     "metadata": {},
     "output_type": "execute_result"
    }
   ],
   "source": [
    "df['YearMonth'] = df.DateTime.apply(lambda x: '{}-{}'.format(x.year, x.month))\n",
    "df.groupby('YearMonth').TransactionNo.nunique().sort_values(ascending=False).idxmax()"
   ]
  },
  {
   "cell_type": "code",
   "execution_count": 54,
   "metadata": {},
   "outputs": [],
   "source": [
    "#                                        что это resample('M')  Only valid with DatetimeIndex, TimedeltaIndex or PeriodIndex          \n",
    "#df.set_index(df.DateTime).TransactionNo.resample('M').count().sort_values(ascending=False)"
   ]
  },
  {
   "cell_type": "code",
   "execution_count": 65,
   "metadata": {},
   "outputs": [
    {
     "data": {
      "text/plain": [
       "(2017, 3)"
      ]
     },
     "execution_count": 65,
     "metadata": {},
     "output_type": "execute_result"
    }
   ],
   "source": [
    "df.groupby([df.DateTime.dt.year, df.DateTime.dt.month])['TransactionNo']\\\n",
    "    .nunique().sort_values(ascending=False).idxmax()"
   ]
  },
  {
   "cell_type": "code",
   "execution_count": 71,
   "metadata": {},
   "outputs": [
    {
     "data": {
      "text/plain": [
       "TransactionNo   2017-03-31\n",
       "Items           2017-03-31\n",
       "DateTime        2017-03-31\n",
       "Weekday         2016-11-30\n",
       "YearMonth       2016-01-31\n",
       "dtype: datetime64[ns]"
      ]
     },
     "execution_count": 71,
     "metadata": {},
     "output_type": "execute_result"
    }
   ],
   "source": [
    "df.set_index(df.DateTime).resample('M').nunique().idxmax()"
   ]
  },
  {
   "cell_type": "markdown",
   "metadata": {},
   "source": [
    "# Задача\n",
    "Теперь более простой датасет. Содержит данные о поездках в такси в очень упрощенном виде. \n",
    "\n",
    "Для решения задач нужно будет произвести небольшую обработку.\n",
    "\n",
    "Сложить столбцы DATE и TIME просто через +. Чтобы получить полную строку с датой\n",
    "Новую колонку перевести в тип datetime через pd.to_datetime\n",
    "Результат записать в индекс датафрейма"
   ]
  },
  {
   "cell_type": "code",
   "execution_count": 73,
   "metadata": {},
   "outputs": [],
   "source": [
    "url = 'https://raw.githubusercontent.com/bykov-alexei/data-science-course/master/Pandas/uber.csv'\n",
    "uber = pd.read_csv(url)"
   ]
  },
  {
   "cell_type": "code",
   "execution_count": 78,
   "metadata": {},
   "outputs": [
    {
     "data": {
      "text/html": [
       "<div>\n",
       "<style scoped>\n",
       "    .dataframe tbody tr th:only-of-type {\n",
       "        vertical-align: middle;\n",
       "    }\n",
       "\n",
       "    .dataframe tbody tr th {\n",
       "        vertical-align: top;\n",
       "    }\n",
       "\n",
       "    .dataframe thead th {\n",
       "        text-align: right;\n",
       "    }\n",
       "</style>\n",
       "<table border=\"1\" class=\"dataframe\">\n",
       "  <thead>\n",
       "    <tr style=\"text-align: right;\">\n",
       "      <th></th>\n",
       "      <th>DATE</th>\n",
       "      <th>TIME</th>\n",
       "      <th>PICK UP ADDRESS</th>\n",
       "    </tr>\n",
       "  </thead>\n",
       "  <tbody>\n",
       "    <tr>\n",
       "      <th>2014-07-01 00:00:00</th>\n",
       "      <td>7/1/2014</td>\n",
       "      <td>12:00:00 AM</td>\n",
       "      <td>874 E 139th St Mott Haven, BX</td>\n",
       "    </tr>\n",
       "    <tr>\n",
       "      <th>2014-07-01 00:01:00</th>\n",
       "      <td>7/1/2014</td>\n",
       "      <td>12:01:00 AM</td>\n",
       "      <td>628 E 141st St Mott Haven, BX</td>\n",
       "    </tr>\n",
       "  </tbody>\n",
       "</table>\n",
       "</div>"
      ],
      "text/plain": [
       "                         DATE         TIME                 PICK UP ADDRESS\n",
       "2014-07-01 00:00:00  7/1/2014  12:00:00 AM   874 E 139th St Mott Haven, BX\n",
       "2014-07-01 00:01:00  7/1/2014  12:01:00 AM   628 E 141st St Mott Haven, BX"
      ]
     },
     "execution_count": 78,
     "metadata": {},
     "output_type": "execute_result"
    }
   ],
   "source": [
    "uber = uber.set_index(pd.to_datetime(uber.DATE + ' ' + uber.TIME))\n",
    "uber.head(2)"
   ]
  },
  {
   "cell_type": "code",
   "execution_count": 95,
   "metadata": {},
   "outputs": [
    {
     "data": {
      "text/html": [
       "<div>\n",
       "<style scoped>\n",
       "    .dataframe tbody tr th:only-of-type {\n",
       "        vertical-align: middle;\n",
       "    }\n",
       "\n",
       "    .dataframe tbody tr th {\n",
       "        vertical-align: top;\n",
       "    }\n",
       "\n",
       "    .dataframe thead th {\n",
       "        text-align: right;\n",
       "    }\n",
       "</style>\n",
       "<table border=\"1\" class=\"dataframe\">\n",
       "  <thead>\n",
       "    <tr style=\"text-align: right;\">\n",
       "      <th></th>\n",
       "      <th>DATE</th>\n",
       "      <th>TIME</th>\n",
       "    </tr>\n",
       "    <tr>\n",
       "      <th>PICK UP ADDRESS</th>\n",
       "      <th></th>\n",
       "      <th></th>\n",
       "    </tr>\n",
       "  </thead>\n",
       "  <tbody>\n",
       "    <tr>\n",
       "      <th>400 Brook Ave Mott Haven, BX</th>\n",
       "      <td>1216</td>\n",
       "      <td>1216</td>\n",
       "    </tr>\n",
       "    <tr>\n",
       "      <th>331 E 132nd St Mott Haven, BX</th>\n",
       "      <td>888</td>\n",
       "      <td>888</td>\n",
       "    </tr>\n",
       "    <tr>\n",
       "      <th>545 E 145th St Mott Haven, BX</th>\n",
       "      <td>708</td>\n",
       "      <td>708</td>\n",
       "    </tr>\n",
       "    <tr>\n",
       "      <th>436 E 149th St South Bronx, BX</th>\n",
       "      <td>660</td>\n",
       "      <td>660</td>\n",
       "    </tr>\n",
       "    <tr>\n",
       "      <th>169 Cypress Ave Mott Haven, BX</th>\n",
       "      <td>643</td>\n",
       "      <td>643</td>\n",
       "    </tr>\n",
       "    <tr>\n",
       "      <th>...</th>\n",
       "      <td>...</td>\n",
       "      <td>...</td>\n",
       "    </tr>\n",
       "    <tr>\n",
       "      <th>370 E 154th St South Bronx, BX</th>\n",
       "      <td>1</td>\n",
       "      <td>1</td>\n",
       "    </tr>\n",
       "    <tr>\n",
       "      <th>370 E 149th St South Bronx, BX</th>\n",
       "      <td>1</td>\n",
       "      <td>1</td>\n",
       "    </tr>\n",
       "    <tr>\n",
       "      <th>370 E 142th St Bronx</th>\n",
       "      <td>1</td>\n",
       "      <td>1</td>\n",
       "    </tr>\n",
       "    <tr>\n",
       "      <th>370 E 141st St Mott Haven, BX</th>\n",
       "      <td>1</td>\n",
       "      <td>1</td>\n",
       "    </tr>\n",
       "    <tr>\n",
       "      <th>zarros  E 132nd St Mott Haven, BX</th>\n",
       "      <td>1</td>\n",
       "      <td>1</td>\n",
       "    </tr>\n",
       "  </tbody>\n",
       "</table>\n",
       "<p>10608 rows × 2 columns</p>\n",
       "</div>"
      ],
      "text/plain": [
       "                                   DATE  TIME\n",
       "PICK UP ADDRESS                              \n",
       " 400 Brook Ave Mott Haven, BX      1216  1216\n",
       " 331 E 132nd St Mott Haven, BX      888   888\n",
       " 545 E 145th St Mott Haven, BX      708   708\n",
       " 436 E 149th St South Bronx, BX     660   660\n",
       " 169 Cypress Ave Mott Haven, BX     643   643\n",
       "...                                 ...   ...\n",
       " 370 E 154th St South Bronx, BX       1     1\n",
       " 370 E 149th St South Bronx, BX       1     1\n",
       " 370 E 142th St Bronx                 1     1\n",
       " 370 E 141st St Mott Haven, BX        1     1\n",
       "zarros  E 132nd St Mott Haven, BX     1     1\n",
       "\n",
       "[10608 rows x 2 columns]"
      ]
     },
     "execution_count": 95,
     "metadata": {},
     "output_type": "execute_result"
    }
   ],
   "source": [
    "uber.groupby(uber['PICK UP ADDRESS']).count().sort_values(by = 'DATE', ascending=False)"
   ]
  },
  {
   "cell_type": "code",
   "execution_count": 96,
   "metadata": {},
   "outputs": [
    {
     "name": "stdout",
     "output_type": "stream",
     "text": [
      " 400 Brook Ave Mott Haven, BX\n"
     ]
    }
   ],
   "source": [
    "print(uber.groupby('PICK UP ADDRESS').size().idxmax())"
   ]
  },
  {
   "cell_type": "code",
   "execution_count": 99,
   "metadata": {},
   "outputs": [
    {
     "data": {
      "text/plain": [
       "PICK UP ADDRESS\n",
       " 400 Brook Ave Mott Haven, BX        1216\n",
       " 331 E 132nd St Mott Haven, BX        888\n",
       " 545 E 145th St Mott Haven, BX        708\n",
       " 436 E 149th St South Bronx, BX       660\n",
       " 169 Cypress Ave Mott Haven, BX       643\n",
       "                                     ... \n",
       " 370 E 154th St South Bronx, BX         1\n",
       " 370 E 149th St South Bronx, BX         1\n",
       " 370 E 142th St Bronx                   1\n",
       " 370 E 141st St Mott Haven, BX          1\n",
       "zarros  E 132nd St Mott Haven, BX       1\n",
       "Length: 10608, dtype: int64"
      ]
     },
     "execution_count": 99,
     "metadata": {},
     "output_type": "execute_result"
    }
   ],
   "source": [
    "uber.groupby('PICK UP ADDRESS').size().sort_values(ascending=False)"
   ]
  },
  {
   "cell_type": "markdown",
   "metadata": {},
   "source": [
    "# Задача\n",
    "По файлу определите самый загруженный день"
   ]
  },
  {
   "cell_type": "code",
   "execution_count": 102,
   "metadata": {},
   "outputs": [
    {
     "data": {
      "text/plain": [
       "'9/13/2014'"
      ]
     },
     "execution_count": 102,
     "metadata": {},
     "output_type": "execute_result"
    }
   ],
   "source": [
    "uber.groupby('DATE').size().idxmax()"
   ]
  },
  {
   "cell_type": "code",
   "execution_count": 103,
   "metadata": {},
   "outputs": [
    {
     "data": {
      "text/plain": [
       "Timestamp('2014-09-13 00:00:00')"
      ]
     },
     "execution_count": 103,
     "metadata": {},
     "output_type": "execute_result"
    }
   ],
   "source": [
    "uber.resample('D').count().idxmax().DATE"
   ]
  },
  {
   "cell_type": "markdown",
   "metadata": {},
   "source": [
    "# Задача\n",
    "По файлу определите самую загруженную неделю. В качестве ответа укажите дату последнего дня недели (resample выдает ее по умолчанию)"
   ]
  },
  {
   "cell_type": "code",
   "execution_count": 123,
   "metadata": {},
   "outputs": [
    {
     "data": {
      "text/plain": [
       "Timestamp('2014-09-14 00:00:00')"
      ]
     },
     "execution_count": 123,
     "metadata": {},
     "output_type": "execute_result"
    }
   ],
   "source": [
    "uber.resample('W').count().idxmax().DATE"
   ]
  },
  {
   "cell_type": "markdown",
   "metadata": {},
   "source": [
    "# Задача\n",
    "И последний файл. В файле содержится информация об аварийных отключениях электричества.\n",
    "\n",
    "Колонки:\n",
    "\n",
    "Event Description - описание происшествия\n",
    "Date Event Began,Time Event Began - дата и время начала происшествия (необходимо перевести в datetime аналогично такси)\n",
    "Date of Restoration,Time of Restoration - дата и время конца происшествия (необходимо перевести в datetime аналогично такси)\n",
    "Respondent - ответственный\n",
    "Demand Loss (MW) - потери спроса в мега ватах\n",
    "Number of Customers Affected - кол-во пострадавших, т.е. у какого кол-ва людей отключилось электричество"
   ]
  },
  {
   "cell_type": "code",
   "execution_count": 3,
   "metadata": {},
   "outputs": [],
   "source": [
    "import pandas as pd\n",
    "url = 'https://raw.githubusercontent.com/bykov-alexei/data-science-course/master/Pandas/disruptions.csv'\n",
    "disruptions = pd.read_csv(url)"
   ]
  },
  {
   "cell_type": "code",
   "execution_count": 4,
   "metadata": {},
   "outputs": [
    {
     "data": {
      "text/html": [
       "<div>\n",
       "<style scoped>\n",
       "    .dataframe tbody tr th:only-of-type {\n",
       "        vertical-align: middle;\n",
       "    }\n",
       "\n",
       "    .dataframe tbody tr th {\n",
       "        vertical-align: top;\n",
       "    }\n",
       "\n",
       "    .dataframe thead th {\n",
       "        text-align: right;\n",
       "    }\n",
       "</style>\n",
       "<table border=\"1\" class=\"dataframe\">\n",
       "  <thead>\n",
       "    <tr style=\"text-align: right;\">\n",
       "      <th></th>\n",
       "      <th>Event Description</th>\n",
       "      <th>Year</th>\n",
       "      <th>Date Event Began</th>\n",
       "      <th>Time Event Began</th>\n",
       "      <th>Date of Restoration</th>\n",
       "      <th>Time of Restoration</th>\n",
       "      <th>Respondent</th>\n",
       "      <th>Geographic Areas</th>\n",
       "      <th>NERC Region</th>\n",
       "      <th>Demand Loss (MW)</th>\n",
       "      <th>Number of Customers Affected</th>\n",
       "      <th>Tags</th>\n",
       "    </tr>\n",
       "  </thead>\n",
       "  <tbody>\n",
       "    <tr>\n",
       "      <th>0</th>\n",
       "      <td>Severe Weather - Thunderstorms</td>\n",
       "      <td>2014</td>\n",
       "      <td>6/30/2014</td>\n",
       "      <td>8:00 PM</td>\n",
       "      <td>7/2/2014</td>\n",
       "      <td>6:30 PM</td>\n",
       "      <td>Exelon Corporation/ComEd</td>\n",
       "      <td>Illinois</td>\n",
       "      <td>RFC</td>\n",
       "      <td>Unknown</td>\n",
       "      <td>420,000</td>\n",
       "      <td>severe weather, thunderstorm</td>\n",
       "    </tr>\n",
       "  </tbody>\n",
       "</table>\n",
       "</div>"
      ],
      "text/plain": [
       "                Event Description  Year Date Event Began Time Event Began  \\\n",
       "0  Severe Weather - Thunderstorms  2014        6/30/2014          8:00 PM   \n",
       "\n",
       "  Date of Restoration Time of Restoration                Respondent  \\\n",
       "0            7/2/2014             6:30 PM  Exelon Corporation/ComEd   \n",
       "\n",
       "  Geographic Areas NERC Region Demand Loss (MW) Number of Customers Affected  \\\n",
       "0         Illinois         RFC          Unknown                      420,000   \n",
       "\n",
       "                           Tags  \n",
       "0  severe weather, thunderstorm  "
      ]
     },
     "execution_count": 4,
     "metadata": {},
     "output_type": "execute_result"
    }
   ],
   "source": [
    "disruptions.head(1)"
   ]
  },
  {
   "cell_type": "markdown",
   "metadata": {},
   "source": [
    "# Задача\n",
    "Напишите в какой месяц и в какой год произошло больше всего аварий"
   ]
  },
  {
   "cell_type": "code",
   "execution_count": 152,
   "metadata": {},
   "outputs": [
    {
     "data": {
      "text/plain": [
       "Timestamp('2012-10-31 00:00:00')"
      ]
     },
     "execution_count": 152,
     "metadata": {},
     "output_type": "execute_result"
    }
   ],
   "source": [
    "disruptions['date'] = pd.to_datetime(disruptions['Date Event Began'])\n",
    "disruptions.set_index(disruptions['date']).resample('M').nunique().idxmax()['Date of Restoration']"
   ]
  },
  {
   "cell_type": "code",
   "execution_count": 15,
   "metadata": {},
   "outputs": [
    {
     "name": "stdout",
     "output_type": "stream",
     "text": [
      "2012-10-31 00:00:00\n"
     ]
    }
   ],
   "source": [
    "import pandas as pd\n",
    "\n",
    "url = 'https://raw.githubusercontent.com/bykov-alexei/data-science-course/master/Pandas/disruptions.csv'\n",
    "df = pd.read_csv(url)\n",
    "df['DATE_TIME_START'] = pd.to_datetime(df['Date Event Began'] + ' ' + df['Time Event Began'])\n",
    "df['DATE_TIME_END'] = pd.to_datetime(df['Date of Restoration'] + ' ' + df['Time of Restoration'])\n",
    "print(df.set_index('DATE_TIME_START').resample('M').size().idxmax())"
   ]
  },
  {
   "cell_type": "markdown",
   "metadata": {},
   "source": [
    "# Задача\n",
    "В какой месяц и год <u>среднее время устранения аварии</u> было минимальным. Ответ запишите в таком формате:\n",
    "\n",
    "2015-12"
   ]
  },
  {
   "cell_type": "code",
   "execution_count": 62,
   "metadata": {},
   "outputs": [
    {
     "data": {
      "text/plain": [
       "Timestamp('2005-04-30 00:00:00')"
      ]
     },
     "execution_count": 62,
     "metadata": {},
     "output_type": "execute_result"
    }
   ],
   "source": [
    "import pandas as pd\n",
    "url = 'https://raw.githubusercontent.com/bykov-alexei/data-science-course/master/Pandas/disruptions.csv'\n",
    "df = pd.read_csv(url)\n",
    "df['DATE_TIME_START'] = pd.to_datetime(df['Date Event Began'] + ' ' + df['Time Event Began'])\n",
    "df['DATE_TIME_END'] = pd.to_datetime(df['Date of Restoration'] + ' ' + df['Time of Restoration'])\n",
    "df['between'] = df['DATE_TIME_END'] - df['DATE_TIME_START']\n",
    "df['durationSeconds'] = df['between'].dt.total_seconds()\n",
    "idx = df[df['DATE_TIME_END'] < df['DATE_TIME_START']].index.tolist()\n",
    "df = df.query('index not in @idx')\n",
    "# df.set_index(pd.to_datetime(df['Date of Restoration'])).resample('M').mean().sort_values(by='durationSeconds')\n",
    "df.set_index(pd.to_datetime(df['Date of Restoration'])).resample('M').mean().idxmin()[1]"
   ]
  },
  {
   "cell_type": "code",
   "execution_count": 61,
   "metadata": {},
   "outputs": [],
   "source": [
    "# df2 = disruptions.copy()\n",
    "# df2['timedelta'] = df2['datetimeRest'] - df2['datetimeEB']\n",
    "# df2 = df2[['datetimeEB','datetimeRest','timedelta']]\n",
    "# df2 = df2[df2.timedelta >= pd.Timedelta(1)]\n",
    "# df2['timedelta'] = df2['timedelta'].dt.total_seconds()\n",
    "# df2 = df2.resample('M', on='datetimeEB').mean().idxmin()\n",
    "# df2"
   ]
  }
 ],
 "metadata": {
  "kernelspec": {
   "display_name": "Python 3",
   "language": "python",
   "name": "python3"
  },
  "language_info": {
   "codemirror_mode": {
    "name": "ipython",
    "version": 3
   },
   "file_extension": ".py",
   "mimetype": "text/x-python",
   "name": "python",
   "nbconvert_exporter": "python",
   "pygments_lexer": "ipython3",
   "version": "3.7.0"
  }
 },
 "nbformat": 4,
 "nbformat_minor": 2
}
