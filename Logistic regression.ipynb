{
 "cells": [
  {
   "cell_type": "markdown",
   "metadata": {},
   "source": [
    "\n",
    "# <center> Логістична регресія (Logistic regression) <center>\n",
    "\n",
    "<a href='#part0' style=\"color:#75736f; text-decoration:none;\"> Import libraries <a>\n",
    "    \n",
    "<a href='#part1' style=\"color:#75736f; text-decoration:none;\"> Модель без предикторів. Intercept only model <a>\n",
    "    \n",
    "<a href='#part2' style=\"color:#75736f; text-decoration:none;\"> Модель з одним номінативним предиктором <a>\n",
    "    \n",
    "<a href='#part2.5' style=\"color:#75736f; text-decoration:none; margin-left:10em;\"> Розрахунок середньоефективної (середньолетальної) дози <a>  \n",
    "    \n",
    "<a href='#part3' style=\"color:#75736f; text-decoration:none;\"> Модель із двома номінативними предикторами <a>\n",
    "\n",
    "<a href='#part4' style=\"color:#75736f; text-decoration:none;\"> Прогнозування моделі <a>"
   ]
  },
  {
   "cell_type": "markdown",
   "metadata": {},
   "source": [
    "[Логістична регресія](https://uk.wikipedia.org/wiki/Логістична_регресія) (англ. logistic regression) або лоґіт-регресія (англ. logit model) — статистичний регресійний метод, що застосовують у випадку, коли залежна змінна є бінарною, тобто може набувати тільки двох значень (0 або 1). При запровадженні порогового значення може знаходити застосування у класифікуванні."
   ]
  },
  {
   "cell_type": "markdown",
   "metadata": {},
   "source": [
    "[Імові́рність (**p**)](https://uk.wikipedia.org/wiki/Імовірність) (лат. probabilitas, англ. probability) — числова характеристика можливості того, що випадкова подія відбудеться в умовах, які можуть бути відтворені необмежену кількість разів. Це ступінь (відносна міра, кількісна оцінка) можливості настання деякої події.\n",
    "\n",
    "Неможлива подія має ймовірність 0 (назад взагалі кажучи не завжди вірно). Якщо ймовірність настання події дорівнює $\\displaystyle p$, то ймовірність його ненастання (а також неймовірність настання) дорівнює $\\displaystyle 1-p$. Зокрема, ймовірність $\\displaystyle 1/2$ означає рівну ймовірність настання та ненастання події.\n",
    "\n",
    "Шанси (англ. **odds**) забезпечують міру ймовірності конкретного результату. Вони розраховуються як відношення кількості подій, що призводять до цього результату, до кількості подій, що не призводять до такого результату.\n",
    "\n",
    "Шанси також мають простий зв'язок з ймовірністю: шанси результату є відношенням ймовірності того, що результат відбудеться, до ймовірності того, що результат не відбудеться. З точки зору математики, де ймовірність результату:\n",
    "\n",
    "$$\\displaystyle {\\text {odds}} = {\\frac {p} {1-p}}$$\n",
    "\n",
    "де $1-р$ - ймовірність того, що результат не настане.\n",
    "\n",
    "Відношення імовірності до шансів:\n",
    "<a id='part0'></a>"
   ]
  },
  {
   "cell_type": "code",
   "execution_count": 115,
   "metadata": {},
   "outputs": [
    {
     "name": "stderr",
     "output_type": "stream",
     "text": [
      "C:\\Users\\GbreH\\AppData\\Local\\Temp\\ipykernel_11920\\3957056945.py:8: DeprecationWarning: Importing display from IPython.core.display is deprecated since IPython 7.14, please import from IPython display\n",
      "  from IPython.core.display import display, HTML\n"
     ]
    }
   ],
   "source": [
    "import numpy as np\n",
    "import matplotlib.pyplot as plt\n",
    "import math\n",
    "import pandas as pd\n",
    "from statsmodels.graphics.mosaicplot import mosaic\n",
    "import statsmodels.api as sm\n",
    "import statsmodels.formula.api as smf\n",
    "from IPython.core.display import display, HTML\n"
   ]
  },
  {
   "cell_type": "code",
   "execution_count": 116,
   "metadata": {},
   "outputs": [
    {
     "name": "stderr",
     "output_type": "stream",
     "text": [
      "C:\\Users\\GbreH\\AppData\\Local\\Temp\\ipykernel_11920\\214601321.py:2: RuntimeWarning: divide by zero encountered in double_scalars\n",
      "  odds = lambda p: p/(1-p)\n"
     ]
    },
    {
     "data": {
      "text/plain": [
       "(-2.5, 2.5)"
      ]
     },
     "execution_count": 116,
     "metadata": {},
     "output_type": "execute_result"
    },
    {
     "data": {
      "image/png": "[encoded data removed]",
      "text/plain": [
       "<Figure size 1080x360 with 2 Axes>"
      ]
     },
     "metadata": {
      "needs_background": "light"
     },
     "output_type": "display_data"
    }
   ],
   "source": [
    "probability = np.arange(0,1.1,0.1) # значення від 0 до 1 с кроком 0.1\n",
    "odds = lambda p: p/(1-p)\n",
    "ODDS = list(map(odds, probability)) # шанси від 0 до 10 (= 1/0.1)\n",
    "\n",
    "\n",
    "fig, axs = plt.subplots(ncols=2, figsize=(15, 5))\n",
    "ax = axs[0]\n",
    "axis = axs[1]\n",
    "ax.plot(probability, ODDS)\n",
    "ax.grid(True)\n",
    "ax.locator_params ('x', nbins = 10)\n",
    "ax.locator_params ('y', nbins = 10)\n",
    "ax.set_xlabel('Probability')\n",
    "ax.set_ylabel('ODDS')\n",
    "ODDS[0] = 0.0000001\n",
    "ln = lambda x: math.log(x)\n",
    "ln_ODDS = list(map(ln, ODDS))\n",
    "axis.plot(ODDS, ln_ODDS)\n",
    "axis.grid(True)\n",
    "axis.locator_params ('x', nbins = 10)\n",
    "axis.locator_params ('y', nbins = 10)\n",
    "axis.set_xlabel('ODDS')\n",
    "axis.set_ylabel('ln(ODDS)')\n",
    "# axis.axhline(y=0, lw=5, color='k')\n",
    "# axis.axvline(x=0, lw=5, color='k')\n",
    "axis.set_ylim(-2.5, 2.5)"
   ]
  },
  {
   "cell_type": "markdown",
   "metadata": {},
   "source": [
    "На графіках видно, що зі збільшенням імовірності збільшуються шанси, а в випадку логарифма (натурального) при значенні 0 шанси рівні odds=1 та зростають\n",
    "\n",
    "В логістичній регресійній моделі Залежна Перемінна відповідає логарифму шансів, а коефіцієнт(и) це відношення логарифмів шасу(ів)\n",
    "\n",
    "Розглянемо на прикладі вижавання при кораблекрушінні Титаніку"
   ]
  },
  {
   "cell_type": "markdown",
   "metadata": {},
   "source": [
    "<a id='part1'></a>\n",
    "# Модель без предикторів. Intercept only model"
   ]
  },
  {
   "cell_type": "code",
   "execution_count": 117,
   "metadata": {},
   "outputs": [
    {
     "data": {
      "text/html": [
       "<div>\n",
       "<style scoped>\n",
       "    .dataframe tbody tr th:only-of-type {\n",
       "        vertical-align: middle;\n",
       "    }\n",
       "\n",
       "    .dataframe tbody tr th {\n",
       "        vertical-align: top;\n",
       "    }\n",
       "\n",
       "    .dataframe thead th {\n",
       "        text-align: right;\n",
       "    }\n",
       "</style>\n",
       "<table border=\"1\" class=\"dataframe\">\n",
       "  <thead>\n",
       "    <tr style=\"text-align: right;\">\n",
       "      <th></th>\n",
       "      <th>PassengerId</th>\n",
       "      <th>Survived</th>\n",
       "      <th>Pclass</th>\n",
       "      <th>Name</th>\n",
       "      <th>Sex</th>\n",
       "      <th>Age</th>\n",
       "      <th>SibSp</th>\n",
       "      <th>Parch</th>\n",
       "      <th>Ticket</th>\n",
       "      <th>Fare</th>\n",
       "      <th>Cabin</th>\n",
       "      <th>Embarked</th>\n",
       "    </tr>\n",
       "  </thead>\n",
       "  <tbody>\n",
       "    <tr>\n",
       "      <th>0</th>\n",
       "      <td>1</td>\n",
       "      <td>0</td>\n",
       "      <td>3</td>\n",
       "      <td>Braund, Mr. Owen Harris</td>\n",
       "      <td>male</td>\n",
       "      <td>22.0</td>\n",
       "      <td>1</td>\n",
       "      <td>0</td>\n",
       "      <td>A/5 21171</td>\n",
       "      <td>7.2500</td>\n",
       "      <td>NaN</td>\n",
       "      <td>S</td>\n",
       "    </tr>\n",
       "    <tr>\n",
       "      <th>1</th>\n",
       "      <td>2</td>\n",
       "      <td>1</td>\n",
       "      <td>1</td>\n",
       "      <td>Cumings, Mrs. John Bradley (Florence Briggs Th...</td>\n",
       "      <td>female</td>\n",
       "      <td>38.0</td>\n",
       "      <td>1</td>\n",
       "      <td>0</td>\n",
       "      <td>PC 17599</td>\n",
       "      <td>71.2833</td>\n",
       "      <td>C85</td>\n",
       "      <td>C</td>\n",
       "    </tr>\n",
       "    <tr>\n",
       "      <th>2</th>\n",
       "      <td>3</td>\n",
       "      <td>1</td>\n",
       "      <td>3</td>\n",
       "      <td>Heikkinen, Miss. Laina</td>\n",
       "      <td>female</td>\n",
       "      <td>26.0</td>\n",
       "      <td>0</td>\n",
       "      <td>0</td>\n",
       "      <td>STON/O2. 3101282</td>\n",
       "      <td>7.9250</td>\n",
       "      <td>NaN</td>\n",
       "      <td>S</td>\n",
       "    </tr>\n",
       "  </tbody>\n",
       "</table>\n",
       "</div>"
      ],
      "text/plain": [
       "   PassengerId  Survived  Pclass  \\\n",
       "0            1         0       3   \n",
       "1            2         1       1   \n",
       "2            3         1       3   \n",
       "\n",
       "                                                Name     Sex   Age  SibSp  \\\n",
       "0                            Braund, Mr. Owen Harris    male  22.0      1   \n",
       "1  Cumings, Mrs. John Bradley (Florence Briggs Th...  female  38.0      1   \n",
       "2                             Heikkinen, Miss. Laina  female  26.0      0   \n",
       "\n",
       "   Parch            Ticket     Fare Cabin Embarked  \n",
       "0      0         A/5 21171   7.2500   NaN        S  \n",
       "1      0          PC 17599  71.2833   C85        C  \n",
       "2      0  STON/O2. 3101282   7.9250   NaN        S  "
      ]
     },
     "execution_count": 117,
     "metadata": {},
     "output_type": "execute_result"
    }
   ],
   "source": [
    "df = pd.read_csv('https://stepic.org/media/attachments/course/524/train.csv')\n",
    "df.head(3) # Survived - вказує на виживання пасажиру 1 -вижив, 0-загинув"
   ]
  },
  {
   "cell_type": "code",
   "execution_count": 118,
   "metadata": {},
   "outputs": [],
   "source": [
    "survivors = df.query('Survived==1').Survived.count() # Out 342\n",
    "deаd = df.query('Survived==0').Survived.count() # Out 549\n",
    "odds = survivors/deаd # Out 0.6229508196721312\n",
    "p = survivors/(survivors+deаd) # Out 0.3838383838383838\n",
    "ln_odds = math.log(odds) # Out: -0.4732877044469254 Intercept натуральний логарифм шансів вижити\n",
    "p = np.exp(ln_odds) / (1 + np.exp(ln_odds)) # Out 0.3838383838383838 # p = 1/(1+math.e**(ln_odds*-1))"
   ]
  },
  {
   "cell_type": "code",
   "execution_count": 119,
   "metadata": {},
   "outputs": [],
   "source": [
    "#probability = lambda ln_odds: np.exp(ln_odds) / (1 + np.exp(ln_odds))\n",
    "def probability(ln_odds):\n",
    "    return 1/(1+math.e**(ln_odds*-1))"
   ]
  },
  {
   "cell_type": "code",
   "execution_count": 120,
   "metadata": {},
   "outputs": [
    {
     "data": {
      "text/html": [
       "<table class=\"simpletable\">\n",
       "<caption>Generalized Linear Model Regression Results</caption>\n",
       "<tr>\n",
       "  <th>Dep. Variable:</th>       <td>Survived</td>     <th>  No. Observations:  </th>  <td>   891</td> \n",
       "</tr>\n",
       "<tr>\n",
       "  <th>Model:</th>                  <td>GLM</td>       <th>  Df Residuals:      </th>  <td>   890</td> \n",
       "</tr>\n",
       "<tr>\n",
       "  <th>Model Family:</th>        <td>Binomial</td>     <th>  Df Model:          </th>  <td>     0</td> \n",
       "</tr>\n",
       "<tr>\n",
       "  <th>Link Function:</th>         <td>Logit</td>      <th>  Scale:             </th> <td>  1.0000</td>\n",
       "</tr>\n",
       "<tr>\n",
       "  <th>Method:</th>                <td>IRLS</td>       <th>  Log-Likelihood:    </th> <td> -593.33</td>\n",
       "</tr>\n",
       "<tr>\n",
       "  <th>Date:</th>            <td>Sun, 14 Aug 2022</td> <th>  Deviance:          </th> <td>  1186.7</td>\n",
       "</tr>\n",
       "<tr>\n",
       "  <th>Time:</th>                <td>15:37:32</td>     <th>  Pearson chi2:      </th>  <td>  891.</td> \n",
       "</tr>\n",
       "<tr>\n",
       "  <th>No. Iterations:</th>          <td>4</td>        <th>  Pseudo R-squ. (CS):</th>  <td> 0.000</td> \n",
       "</tr>\n",
       "<tr>\n",
       "  <th>Covariance Type:</th>     <td>nonrobust</td>    <th>                     </th>     <td> </td>   \n",
       "</tr>\n",
       "</table>\n",
       "<table class=\"simpletable\">\n",
       "<tr>\n",
       "      <td></td>         <th>coef</th>     <th>std err</th>      <th>z</th>      <th>P>|z|</th>  <th>[0.025</th>    <th>0.975]</th>  \n",
       "</tr>\n",
       "<tr>\n",
       "  <th>Intercept</th> <td>   -0.4733</td> <td>    0.069</td> <td>   -6.870</td> <td> 0.000</td> <td>   -0.608</td> <td>   -0.338</td>\n",
       "</tr>\n",
       "</table>"
      ],
      "text/plain": [
       "<class 'statsmodels.iolib.summary.Summary'>\n",
       "\"\"\"\n",
       "                 Generalized Linear Model Regression Results                  \n",
       "==============================================================================\n",
       "Dep. Variable:               Survived   No. Observations:                  891\n",
       "Model:                            GLM   Df Residuals:                      890\n",
       "Model Family:                Binomial   Df Model:                            0\n",
       "Link Function:                  Logit   Scale:                          1.0000\n",
       "Method:                          IRLS   Log-Likelihood:                -593.33\n",
       "Date:                Sun, 14 Aug 2022   Deviance:                       1186.7\n",
       "Time:                        15:37:32   Pearson chi2:                     891.\n",
       "No. Iterations:                     4   Pseudo R-squ. (CS):              0.000\n",
       "Covariance Type:            nonrobust                                         \n",
       "==============================================================================\n",
       "                 coef    std err          z      P>|z|      [0.025      0.975]\n",
       "------------------------------------------------------------------------------\n",
       "Intercept     -0.4733      0.069     -6.870      0.000      -0.608      -0.338\n",
       "==============================================================================\n",
       "\"\"\""
      ]
     },
     "execution_count": 120,
     "metadata": {},
     "output_type": "execute_result"
    }
   ],
   "source": [
    "glm_binom_only_model = smf.glm(formula=\"Survived ~ 1\", data=df, family=sm.families.Binomial())\n",
    "intercept_only_model = glm_binom_only_model.fit()\n",
    "intercept_only_model.summary()"
   ]
  },
  {
   "cell_type": "markdown",
   "metadata": {},
   "source": [
    "<a id='part2'></a>\n",
    "# Модель з одним номінативним предиктором"
   ]
  },
  {
   "cell_type": "code",
   "execution_count": 121,
   "metadata": {},
   "outputs": [
    {
     "data": {
      "text/html": [
       "<table class=\"simpletable\">\n",
       "<caption>Generalized Linear Model Regression Results</caption>\n",
       "<tr>\n",
       "  <th>Dep. Variable:</th>       <td>Survived</td>     <th>  No. Observations:  </th>  <td>   891</td> \n",
       "</tr>\n",
       "<tr>\n",
       "  <th>Model:</th>                  <td>GLM</td>       <th>  Df Residuals:      </th>  <td>   889</td> \n",
       "</tr>\n",
       "<tr>\n",
       "  <th>Model Family:</th>        <td>Binomial</td>     <th>  Df Model:          </th>  <td>     1</td> \n",
       "</tr>\n",
       "<tr>\n",
       "  <th>Link Function:</th>         <td>Logit</td>      <th>  Scale:             </th> <td>  1.0000</td>\n",
       "</tr>\n",
       "<tr>\n",
       "  <th>Method:</th>                <td>IRLS</td>       <th>  Log-Likelihood:    </th> <td> -458.90</td>\n",
       "</tr>\n",
       "<tr>\n",
       "  <th>Date:</th>            <td>Sun, 14 Aug 2022</td> <th>  Deviance:          </th> <td>  917.80</td>\n",
       "</tr>\n",
       "<tr>\n",
       "  <th>Time:</th>                <td>15:37:32</td>     <th>  Pearson chi2:      </th>  <td>  891.</td> \n",
       "</tr>\n",
       "<tr>\n",
       "  <th>No. Iterations:</th>          <td>4</td>        <th>  Pseudo R-squ. (CS):</th>  <td>0.2605</td> \n",
       "</tr>\n",
       "<tr>\n",
       "  <th>Covariance Type:</th>     <td>nonrobust</td>    <th>                     </th>     <td> </td>   \n",
       "</tr>\n",
       "</table>\n",
       "<table class=\"simpletable\">\n",
       "<tr>\n",
       "         <td></td>           <th>coef</th>     <th>std err</th>      <th>z</th>      <th>P>|z|</th>  <th>[0.025</th>    <th>0.975]</th>  \n",
       "</tr>\n",
       "<tr>\n",
       "  <th>Intercept</th>      <td>    1.0566</td> <td>    0.129</td> <td>    8.191</td> <td> 0.000</td> <td>    0.804</td> <td>    1.309</td>\n",
       "</tr>\n",
       "<tr>\n",
       "  <th>C(Sex)[T.male]</th> <td>   -2.5137</td> <td>    0.167</td> <td>  -15.036</td> <td> 0.000</td> <td>   -2.841</td> <td>   -2.186</td>\n",
       "</tr>\n",
       "</table>"
      ],
      "text/plain": [
       "<class 'statsmodels.iolib.summary.Summary'>\n",
       "\"\"\"\n",
       "                 Generalized Linear Model Regression Results                  \n",
       "==============================================================================\n",
       "Dep. Variable:               Survived   No. Observations:                  891\n",
       "Model:                            GLM   Df Residuals:                      889\n",
       "Model Family:                Binomial   Df Model:                            1\n",
       "Link Function:                  Logit   Scale:                          1.0000\n",
       "Method:                          IRLS   Log-Likelihood:                -458.90\n",
       "Date:                Sun, 14 Aug 2022   Deviance:                       917.80\n",
       "Time:                        15:37:32   Pearson chi2:                     891.\n",
       "No. Iterations:                     4   Pseudo R-squ. (CS):             0.2605\n",
       "Covariance Type:            nonrobust                                         \n",
       "==================================================================================\n",
       "                     coef    std err          z      P>|z|      [0.025      0.975]\n",
       "----------------------------------------------------------------------------------\n",
       "Intercept          1.0566      0.129      8.191      0.000       0.804       1.309\n",
       "C(Sex)[T.male]    -2.5137      0.167    -15.036      0.000      -2.841      -2.186\n",
       "==================================================================================\n",
       "\"\"\""
      ]
     },
     "execution_count": 121,
     "metadata": {},
     "output_type": "execute_result"
    }
   ],
   "source": [
    "glm_binom_one_predictor = smf.glm(formula=\"Survived ~ C(Sex)\", data=df, family=sm.families.Binomial())\n",
    "model_one_predictor = glm_binom_one_predictor.fit()\n",
    "model_one_predictor.summary()"
   ]
  },
  {
   "cell_type": "markdown",
   "metadata": {},
   "source": [
    "Може залишитися законне питання: навіщо так ускладнювати? Чому значення коефіцієнтів при номінативних змінних – це логарифм відношення шансів, тобто логарифм дробу? Тут нам на допомогу прийде властивість логарифмів.\n",
    "\n",
    "Рівняння регресії може бути записано таким чином:\n",
    "\n",
    "$$\\ln(odds) = Intercept + b_{1}*SexMale$$\n",
    "\n",
    "\n",
    "Значення **intercept** – це логарифм шансів вижити для жінок:  \n",
    "\n",
    " $$Intercept=\\ln(\\frac{P_{survive}}{1 - P_{survive}})=\\ln(odds_{female})$$\n",
    "\n",
    "\n",
    "Значення коефіцієнта при **SexMale** - це логарифм відношення шансів вижити для чоловіків і шансів вижити для жінок, але за властивістю логарифмів ми можемо уявити логарифм відношення як різницю логарифмів:\n",
    "\n",
    "$$b_{1}=\\ln(\\frac{odds_{male}}{odds_{female}}) =\\ln(odds_{male}) - \\ln(odds_{female})$$\n",
    "\n",
    "\n",
    "Таким чином, коефіцієнт при **SexMale** – це різниця логарифмів шансів. Іншими словами, це ціна переходу з однієї градації нашої ознаки на іншу!\n",
    "\n",
    "Давайте ще раз розглянемо завдання передбачення. Якщо новий пасажир - жінка, тоді значення змінної **SexMale** = 0 і ми отримаємо логарифм шансів для жінок:\n",
    "\n",
    "$$\\ln(odds_{female}) = \\ln(odds_{female}) + 0*(\\ln(odds_{male}) - \\ln(odds_{female})) = \\ln(odds_\n",
    "{female})$$\n",
    "\n",
    "Тепер, зробимо прогноз для пасажира чоловіка, у цьому випадку **SexMale** = 1, шанси для жінок скоротяться, і ми отримаємо шанси для чоловіків:\n",
    "\n",
    "$$\\ln(odds_{male}) = \\ln(odds_{female}) + 1*(\\ln(odds_{male}) - \\ln(odds_{female}))\\\\\\hspace{55pt}= \\ln(odds_{female}) +\\ln(odds_{male}) - \\ln(odds_{female})\\\\\\hspace{55pt}= \\ln(odds_{male})$$\n"
   ]
  },
  {
   "cell_type": "code",
   "execution_count": 122,
   "metadata": {},
   "outputs": [
    {
     "data": {
      "text/html": [
       "<div>\n",
       "<style scoped>\n",
       "    .dataframe tbody tr th:only-of-type {\n",
       "        vertical-align: middle;\n",
       "    }\n",
       "\n",
       "    .dataframe tbody tr th {\n",
       "        vertical-align: top;\n",
       "    }\n",
       "\n",
       "    .dataframe thead th {\n",
       "        text-align: right;\n",
       "    }\n",
       "</style>\n",
       "<table border=\"1\" class=\"dataframe\">\n",
       "  <thead>\n",
       "    <tr style=\"text-align: right;\">\n",
       "      <th>Sex</th>\n",
       "      <th>female</th>\n",
       "      <th>male</th>\n",
       "    </tr>\n",
       "    <tr>\n",
       "      <th>Survived</th>\n",
       "      <th></th>\n",
       "      <th></th>\n",
       "    </tr>\n",
       "  </thead>\n",
       "  <tbody>\n",
       "    <tr>\n",
       "      <th>0</th>\n",
       "      <td>81</td>\n",
       "      <td>468</td>\n",
       "    </tr>\n",
       "    <tr>\n",
       "      <th>1</th>\n",
       "      <td>233</td>\n",
       "      <td>109</td>\n",
       "    </tr>\n",
       "  </tbody>\n",
       "</table>\n",
       "</div>"
      ],
      "text/plain": [
       "Sex       female  male\n",
       "Survived              \n",
       "0             81   468\n",
       "1            233   109"
      ]
     },
     "execution_count": 122,
     "metadata": {},
     "output_type": "execute_result"
    }
   ],
   "source": [
    "survive = pd.crosstab(df.Survived, df.Sex)\n",
    "survive"
   ]
  },
  {
   "cell_type": "code",
   "execution_count": 123,
   "metadata": {},
   "outputs": [
    {
     "data": {
      "text/html": [
       "<div>\n",
       "<style scoped>\n",
       "    .dataframe tbody tr th:only-of-type {\n",
       "        vertical-align: middle;\n",
       "    }\n",
       "\n",
       "    .dataframe tbody tr th {\n",
       "        vertical-align: top;\n",
       "    }\n",
       "\n",
       "    .dataframe thead th {\n",
       "        text-align: right;\n",
       "    }\n",
       "</style>\n",
       "<table border=\"1\" class=\"dataframe\">\n",
       "  <thead>\n",
       "    <tr style=\"text-align: right;\">\n",
       "      <th></th>\n",
       "      <th>Ln</th>\n",
       "      <th>coef</th>\n",
       "    </tr>\n",
       "  </thead>\n",
       "  <tbody>\n",
       "    <tr>\n",
       "      <th>odds male</th>\n",
       "      <td>-1.45712</td>\n",
       "      <td>C(Sex)[T.male] - Intercept</td>\n",
       "    </tr>\n",
       "    <tr>\n",
       "      <th>odds female</th>\n",
       "      <td>1.056589</td>\n",
       "      <td>Intercept</td>\n",
       "    </tr>\n",
       "    <tr>\n",
       "      <th>odds male/odds female</th>\n",
       "      <td>-2.51371</td>\n",
       "      <td>C(Sex)[T.male]</td>\n",
       "    </tr>\n",
       "  </tbody>\n",
       "</table>\n",
       "</div>"
      ],
      "text/plain": [
       "                             Ln                        coef\n",
       "odds male              -1.45712  C(Sex)[T.male] - Intercept\n",
       "odds female            1.056589                   Intercept\n",
       "odds male/odds female  -2.51371              C(Sex)[T.male]"
      ]
     },
     "execution_count": 123,
     "metadata": {},
     "output_type": "execute_result"
    }
   ],
   "source": [
    "odds_male = survive['male'][1]/survive['male'][0]\n",
    "odds_female = survive['female'][1] / survive['female'][0]\n",
    "\n",
    "ln_odds_male = np.log(odds_male) # ln(109 / 468)\n",
    "ln_odds_female = np.log(odds_female) # intercept = ln(233 / 81)\n",
    "odds_ratio = np.log(odds_male / odds_female) # coef_\n",
    "\n",
    "data = pd.DataFrame(index=['odds male', 'odds female', 'odds male/odds female'], columns=['Ln', 'coef'])\n",
    "data['Ln']['odds male'] = ln_odds_male\n",
    "data['Ln']['odds female'] = ln_odds_female\n",
    "data['Ln']['odds male/odds female'] = odds_ratio\n",
    "data['coef']['odds female'] = 'Intercept'\n",
    "data['coef']['odds male/odds female'] = 'C(Sex)[T.male]'\n",
    "data['coef']['odds male']= 'C(Sex)[T.male] - Intercept'\n",
    "data"
   ]
  },
  {
   "cell_type": "markdown",
   "metadata": {},
   "source": [
    "<a id='part2.5'></a>\n",
    "# Розрахунок середньоефективної (середньолетальної) дози"
   ]
  },
  {
   "cell_type": "code",
   "execution_count": 124,
   "metadata": {},
   "outputs": [],
   "source": [
    "# Підготовка даних\n",
    "\n",
    "dose = [38,40,40,40,42,42,42,44,44,44,47,47,47] # певна температура дії на комах\n",
    "alive = [20,20,20,20,19,14,15,5,3,2,0,0,0] # кількість виживших комах за умов дії певної температури\n",
    "dead = [0,0,0,0,1,6,5,15,17,18,20,20,20] # кількість загинувших комах за умов дії певної температури\n",
    "\n",
    "def get_dataframe(dose, alive, dead):\n",
    "    data_for_df = []\n",
    "    for i, j in zip(dose, alive):\n",
    "        for n in range(j):\n",
    "            data_for_df.append((i,1))\n",
    "    for i, j in zip(dose, dead):\n",
    "        for n in range(j):\n",
    "            data_for_df.append((i,0))  \n",
    "    df = pd.DataFrame(columns=['dose', 'Survived'])\n",
    "    df[['dose', 'Survived']] = data_for_df\n",
    "    return df\n",
    "\n",
    "ld = get_dataframe(dose, alive, dead)"
   ]
  },
  {
   "cell_type": "code",
   "execution_count": 125,
   "metadata": {},
   "outputs": [
    {
     "data": {
      "text/html": [
       "<table class=\"simpletable\">\n",
       "<tr>\n",
       "      <td></td>         <th>coef</th>     <th>std err</th>      <th>z</th>      <th>P>|z|</th>  <th>[0.025</th>    <th>0.975]</th>  \n",
       "</tr>\n",
       "<tr>\n",
       "  <th>Intercept</th> <td>   69.1126</td> <td>    9.019</td> <td>    7.663</td> <td> 0.000</td> <td>   51.436</td> <td>   86.789</td>\n",
       "</tr>\n",
       "<tr>\n",
       "  <th>dose</th>      <td>   -1.6094</td> <td>    0.210</td> <td>   -7.653</td> <td> 0.000</td> <td>   -2.022</td> <td>   -1.197</td>\n",
       "</tr>\n",
       "</table>"
      ],
      "text/plain": [
       "<class 'statsmodels.iolib.table.SimpleTable'>"
      ]
     },
     "execution_count": 125,
     "metadata": {},
     "output_type": "execute_result"
    }
   ],
   "source": [
    "# будуємо логіт-модель виживаємості від дози\n",
    "model = smf.glm(formula=\"Survived ~ dose\", data=ld, family=sm.families.Binomial())\n",
    "result = model.fit()\n",
    "result.summary().tables[1]"
   ]
  },
  {
   "cell_type": "markdown",
   "metadata": {},
   "source": [
    "[Розрахуємо](https://bookdown.org/dereksonderegger/571/11-binomial-regression.html#prediction-and-effective-dose-levels) дозу(температуру) виживаємості у 50% ($р=0.5$) комах\n",
    "\n",
    "$$x_p = \\frac{logit(p)-\\beta_{0}}{\\beta_{1}}=\\frac{logit(p)-Intercept}{coef_{dose}}$$\n",
    "$$dose_{0.5} = \\frac{ln(\\frac{0.5}{1-0.5})-69.1126}{-1.6094} = 42.943$$\n",
    "\n",
    "\n",
    "```Python\n",
    "dose = (np.log(0.5/(1-0.5))-69.1126)/-1.6094 # Out: 42.94308437927178\n",
    "```\n",
    "\n",
    "Так як виживаємість при $р=0.5$ відповідає смертності то $LD_{50}$ (Dosis letalis of a tested 50% population), то $LD_{50} = 42.94$\n",
    "\n",
    "Для мови програмування R є бібліотека \"MASS\", в якій функція [$dose.p$](https://github.com/cran/MASS/blob/master/R/dose.p.R) розрахову частку від дози за заданою ймовірністю. Реалізуємо її на python:"
   ]
  },
  {
   "cell_type": "code",
   "execution_count": 126,
   "metadata": {},
   "outputs": [],
   "source": [
    "def dose_p(model_fit, p=0.5):\n",
    "    logit = lambda p: np.log(p/(1-p))\n",
    "    # https://bookdown.org/dereksonderegger/571/11-binomial-regression.html#prediction-and-effective-dose-levels\n",
    "    dose = (logit(p)-result.params.Intercept)/result.params['dose']\n",
    "    # https://stats.stackexchange.com/questions/483362/pointwise-standard-errors-for-a-logistic-regression-fit-with-statsmodels\n",
    "    C = model_fit.normalized_cov_params\n",
    "    L_T = np.array([1/result.params['dose'], dose/result.params['dose']])\n",
    "    L_T = np.matrix(L_T)\n",
    "    L = np.transpose(L_T)\n",
    "    C = np.matrix(C)\n",
    "    var_f = np.matmul(np.matmul(L_T, C), L)\n",
    "    var_f = np.asarray(var_f)[0][0]\n",
    "    pointwise_se = np.sqrt(var_f) \n",
    "    return dose, pointwise_se"
   ]
  },
  {
   "cell_type": "code",
   "execution_count": 127,
   "metadata": {},
   "outputs": [
    {
     "data": {
      "text/plain": [
       "0    0.001455\n",
       "dtype: float64"
      ]
     },
     "execution_count": 127,
     "metadata": {},
     "output_type": "execute_result"
    }
   ],
   "source": [
    "result.predict({'dose':38}) # при 38 градусами не загинуло жодної комахи p = 0.999649\n",
    "result.predict({'dose':47}) # при 47 градусами загинули всі комахи p = 0.001455"
   ]
  },
  {
   "cell_type": "code",
   "execution_count": 128,
   "metadata": {},
   "outputs": [
    {
     "name": "stdout",
     "output_type": "stream",
     "text": [
      "LD 0 : dose=37.99962494180197, SE=0.6534979205851655\n",
      "LD 16 : dose=41.911625562766844, SE=0.19481776686450214\n",
      "LD 50 : dose=42.941936818804464, SE=0.14973243803577288\n",
      "LD 84 : dose=43.97224807484208, SE=0.2076925424635493\n",
      "LD 99 : dose=47.000042647433894, SE=0.5601892131158194\n"
     ]
    }
   ],
   "source": [
    "P_ld = [0.999649, 0.84, 0.5, 0.16, 0.001455] # задамо перелік вірогідностей для яких розрахуємо дози\n",
    "for p in P_ld:\n",
    "    dose, SE = dose_p(result, p)\n",
    "    print(f'LD {int((1-p)*100)} : {dose=}, {SE=}') # 1-p так як розраховуємо ймовірність загинути"
   ]
  },
  {
   "cell_type": "code",
   "execution_count": 129,
   "metadata": {},
   "outputs": [
    {
     "name": "stderr",
     "output_type": "stream",
     "text": [
      "C:\\Users\\GbreH\\AppData\\Local\\Temp\\ipykernel_11920\\1177815527.py:6: RuntimeWarning: divide by zero encountered in log\n",
      "  f = lambda x: (np.log(x/(1-x))-69.1126)/-1.6094\n",
      "C:\\Users\\GbreH\\AppData\\Local\\Temp\\ipykernel_11920\\1177815527.py:6: RuntimeWarning: divide by zero encountered in double_scalars\n",
      "  f = lambda x: (np.log(x/(1-x))-69.1126)/-1.6094\n"
     ]
    },
    {
     "data": {
      "text/plain": [
       "Text(41, 0.02, '$LD_{84} = 43.97 \\\\pm 0.2077$')"
      ]
     },
     "execution_count": 129,
     "metadata": {},
     "output_type": "execute_result"
    },
    {
     "data": {
      "image/png": "[encoded data removed]",
      "text/plain": [
       "<Figure size 720x360 with 1 Axes>"
      ]
     },
     "metadata": {
      "needs_background": "light"
     },
     "output_type": "display_data"
    }
   ],
   "source": [
    "fig, ax = plt.subplots(figsize=(10,5))\n",
    "\n",
    "_y = result.predict(ld['dose'])\n",
    "ax.scatter(ld['dose'], _y, s=80, facecolors='none', edgecolors='grey') # plt.plot(df['dose'], _y, 'o', mfc='none', color='grey')\n",
    "\n",
    "f = lambda x: (np.log(x/(1-x))-69.1126)/-1.6094\n",
    "y = np.linspace(0,1,10000)\n",
    "x = list(map(f,y))\n",
    "ax.plot(x,y, color='r')\n",
    "\n",
    "ax.grid(True)\n",
    "ax.locator_params('y', nbins=20)\n",
    "ax.locator_params('x', nbins=20)\n",
    "ax.set_xlabel('Температура')\n",
    "ax.set_ylabel('Імовірність виживання')\n",
    "\n",
    "ax.annotate(r\"$LD_{50} = 42.94 \\pm 0.1497$\",\n",
    "                xy=(42.94, 0.5), xytext=(43.5, 0.5),\n",
    "                arrowprops=dict(facecolor=\"red\", shrink=0.05))\n",
    "ax.annotate(r\"$LD_{16} = 41.91 \\pm 0.1948$\",\n",
    "                xy=(41.91, 0.84), xytext=(39, 0.7),\n",
    "                arrowprops=dict(facecolor=\"grey\", shrink=0.05))\n",
    "ax.annotate(r\"$LD_{84} = 43.97 \\pm 0.2077$\",\n",
    "                xy=(43.97, 0.16), xytext=(41, 0.02),\n",
    "                arrowprops=dict(facecolor=\"grey\", shrink=0.05))"
   ]
  },
  {
   "cell_type": "markdown",
   "metadata": {},
   "source": [
    "<a id='part3'></a>\n",
    "# Модель із двома номінативними предикторами"
   ]
  },
  {
   "cell_type": "code",
   "execution_count": 130,
   "metadata": {},
   "outputs": [
    {
     "data": {
      "text/html": [
       "<table class=\"simpletable\">\n",
       "<caption>Generalized Linear Model Regression Results</caption>\n",
       "<tr>\n",
       "  <th>Dep. Variable:</th>       <td>Survived</td>     <th>  No. Observations:  </th>  <td>   891</td> \n",
       "</tr>\n",
       "<tr>\n",
       "  <th>Model:</th>                  <td>GLM</td>       <th>  Df Residuals:      </th>  <td>   885</td> \n",
       "</tr>\n",
       "<tr>\n",
       "  <th>Model Family:</th>        <td>Binomial</td>     <th>  Df Model:          </th>  <td>     5</td> \n",
       "</tr>\n",
       "<tr>\n",
       "  <th>Link Function:</th>         <td>Logit</td>      <th>  Scale:             </th> <td>  1.0000</td>\n",
       "</tr>\n",
       "<tr>\n",
       "  <th>Method:</th>                <td>IRLS</td>       <th>  Log-Likelihood:    </th> <td> -399.05</td>\n",
       "</tr>\n",
       "<tr>\n",
       "  <th>Date:</th>            <td>Sun, 14 Aug 2022</td> <th>  Deviance:          </th> <td>  798.10</td>\n",
       "</tr>\n",
       "<tr>\n",
       "  <th>Time:</th>                <td>15:37:33</td>     <th>  Pearson chi2:      </th>  <td>  891.</td> \n",
       "</tr>\n",
       "<tr>\n",
       "  <th>No. Iterations:</th>          <td>6</td>        <th>  Pseudo R-squ. (CS):</th>  <td>0.3534</td> \n",
       "</tr>\n",
       "<tr>\n",
       "  <th>Covariance Type:</th>     <td>nonrobust</td>    <th>                     </th>     <td> </td>   \n",
       "</tr>\n",
       "</table>\n",
       "<table class=\"simpletable\">\n",
       "<tr>\n",
       "               <td></td>                 <th>coef</th>     <th>std err</th>      <th>z</th>      <th>P>|z|</th>  <th>[0.025</th>    <th>0.975]</th>  \n",
       "</tr>\n",
       "<tr>\n",
       "  <th>Intercept</th>                  <td>    3.4122</td> <td>    0.587</td> <td>    5.815</td> <td> 0.000</td> <td>    2.262</td> <td>    4.562</td>\n",
       "</tr>\n",
       "<tr>\n",
       "  <th>Sex[T.male]</th>                <td>   -3.9494</td> <td>    0.616</td> <td>   -6.411</td> <td> 0.000</td> <td>   -5.157</td> <td>   -2.742</td>\n",
       "</tr>\n",
       "<tr>\n",
       "  <th>C(Pclass)[T.2]</th>             <td>   -0.9555</td> <td>    0.725</td> <td>   -1.318</td> <td> 0.187</td> <td>   -2.376</td> <td>    0.465</td>\n",
       "</tr>\n",
       "<tr>\n",
       "  <th>C(Pclass)[T.3]</th>             <td>   -3.4122</td> <td>    0.610</td> <td>   -5.594</td> <td> 0.000</td> <td>   -4.608</td> <td>   -2.217</td>\n",
       "</tr>\n",
       "<tr>\n",
       "  <th>Sex[T.male]:C(Pclass)[T.2]</th> <td>   -0.1850</td> <td>    0.794</td> <td>   -0.233</td> <td> 0.816</td> <td>   -1.741</td> <td>    1.371</td>\n",
       "</tr>\n",
       "<tr>\n",
       "  <th>Sex[T.male]:C(Pclass)[T.3]</th> <td>    2.0958</td> <td>    0.657</td> <td>    3.189</td> <td> 0.001</td> <td>    0.808</td> <td>    3.384</td>\n",
       "</tr>\n",
       "</table>"
      ],
      "text/plain": [
       "<class 'statsmodels.iolib.summary.Summary'>\n",
       "\"\"\"\n",
       "                 Generalized Linear Model Regression Results                  \n",
       "==============================================================================\n",
       "Dep. Variable:               Survived   No. Observations:                  891\n",
       "Model:                            GLM   Df Residuals:                      885\n",
       "Model Family:                Binomial   Df Model:                            5\n",
       "Link Function:                  Logit   Scale:                          1.0000\n",
       "Method:                          IRLS   Log-Likelihood:                -399.05\n",
       "Date:                Sun, 14 Aug 2022   Deviance:                       798.10\n",
       "Time:                        15:37:33   Pearson chi2:                     891.\n",
       "No. Iterations:                     6   Pseudo R-squ. (CS):             0.3534\n",
       "Covariance Type:            nonrobust                                         \n",
       "==============================================================================================\n",
       "                                 coef    std err          z      P>|z|      [0.025      0.975]\n",
       "----------------------------------------------------------------------------------------------\n",
       "Intercept                      3.4122      0.587      5.815      0.000       2.262       4.562\n",
       "Sex[T.male]                   -3.9494      0.616     -6.411      0.000      -5.157      -2.742\n",
       "C(Pclass)[T.2]                -0.9555      0.725     -1.318      0.187      -2.376       0.465\n",
       "C(Pclass)[T.3]                -3.4122      0.610     -5.594      0.000      -4.608      -2.217\n",
       "Sex[T.male]:C(Pclass)[T.2]    -0.1850      0.794     -0.233      0.816      -1.741       1.371\n",
       "Sex[T.male]:C(Pclass)[T.3]     2.0958      0.657      3.189      0.001       0.808       3.384\n",
       "==============================================================================================\n",
       "\"\"\""
      ]
     },
     "execution_count": 130,
     "metadata": {},
     "output_type": "execute_result"
    }
   ],
   "source": [
    "glm_binom_two_predictor = smf.glm(formula=\"Survived ~ Sex * C(Pclass)\", data=df, family=sm.families.Binomial())\n",
    "model_two_predictor = glm_binom_two_predictor.fit()\n",
    "model_two_predictor.summary()"
   ]
  },
  {
   "cell_type": "markdown",
   "metadata": {},
   "source": [
    "$Intercept$ - жінки в першому класі (так як $C(Pclass)$ не має значення $[T.1]$ в зображеній моделі)"
   ]
  },
  {
   "cell_type": "code",
   "execution_count": 131,
   "metadata": {},
   "outputs": [
    {
     "data": {
      "text/html": [
       "<div>\n",
       "<style scoped>\n",
       "    .dataframe tbody tr th:only-of-type {\n",
       "        vertical-align: middle;\n",
       "    }\n",
       "\n",
       "    .dataframe tbody tr th {\n",
       "        vertical-align: top;\n",
       "    }\n",
       "\n",
       "    .dataframe thead th {\n",
       "        text-align: right;\n",
       "    }\n",
       "</style>\n",
       "<table border=\"1\" class=\"dataframe\">\n",
       "  <thead>\n",
       "    <tr style=\"text-align: right;\">\n",
       "      <th>Pclass</th>\n",
       "      <th>1</th>\n",
       "      <th>2</th>\n",
       "      <th>3</th>\n",
       "    </tr>\n",
       "    <tr>\n",
       "      <th>Survived</th>\n",
       "      <th></th>\n",
       "      <th></th>\n",
       "      <th></th>\n",
       "    </tr>\n",
       "  </thead>\n",
       "  <tbody>\n",
       "    <tr>\n",
       "      <th>0</th>\n",
       "      <td>3</td>\n",
       "      <td>6</td>\n",
       "      <td>72</td>\n",
       "    </tr>\n",
       "    <tr>\n",
       "      <th>1</th>\n",
       "      <td>91</td>\n",
       "      <td>70</td>\n",
       "      <td>72</td>\n",
       "    </tr>\n",
       "  </tbody>\n",
       "</table>\n",
       "</div>"
      ],
      "text/plain": [
       "Pclass     1   2   3\n",
       "Survived            \n",
       "0          3   6  72\n",
       "1         91  70  72"
      ]
     },
     "execution_count": 131,
     "metadata": {},
     "output_type": "execute_result"
    }
   ],
   "source": [
    "# Розподіл виживших та загинувших жінок в 1,2 та 3 класах\n",
    "survive_female = pd.crosstab(df.query('Sex==\"female\"').Survived, df.Pclass)\n",
    "survive_female"
   ]
  },
  {
   "cell_type": "code",
   "execution_count": 132,
   "metadata": {},
   "outputs": [],
   "source": [
    "odds_female_1class = survive_female[1][1]/survive_female[1][0] # Out: 30.333 шанс вижити жінкам в 1 класі\n",
    "𝐼𝑛𝑡𝑒𝑟𝑐𝑒𝑝𝑡 = np.log(odds_female_1class) # Out: 3.41224721784874"
   ]
  },
  {
   "cell_type": "code",
   "execution_count": 133,
   "metadata": {},
   "outputs": [
    {
     "data": {
      "text/html": [
       "<div>\n",
       "<style scoped>\n",
       "    .dataframe tbody tr th:only-of-type {\n",
       "        vertical-align: middle;\n",
       "    }\n",
       "\n",
       "    .dataframe tbody tr th {\n",
       "        vertical-align: top;\n",
       "    }\n",
       "\n",
       "    .dataframe thead th {\n",
       "        text-align: right;\n",
       "    }\n",
       "</style>\n",
       "<table border=\"1\" class=\"dataframe\">\n",
       "  <thead>\n",
       "    <tr style=\"text-align: right;\">\n",
       "      <th>Pclass</th>\n",
       "      <th>1</th>\n",
       "      <th>2</th>\n",
       "      <th>3</th>\n",
       "    </tr>\n",
       "    <tr>\n",
       "      <th>Survived</th>\n",
       "      <th></th>\n",
       "      <th></th>\n",
       "      <th></th>\n",
       "    </tr>\n",
       "  </thead>\n",
       "  <tbody>\n",
       "    <tr>\n",
       "      <th>0</th>\n",
       "      <td>77</td>\n",
       "      <td>91</td>\n",
       "      <td>300</td>\n",
       "    </tr>\n",
       "    <tr>\n",
       "      <th>1</th>\n",
       "      <td>45</td>\n",
       "      <td>17</td>\n",
       "      <td>47</td>\n",
       "    </tr>\n",
       "  </tbody>\n",
       "</table>\n",
       "</div>"
      ],
      "text/plain": [
       "Pclass     1   2    3\n",
       "Survived             \n",
       "0         77  91  300\n",
       "1         45  17   47"
      ]
     },
     "execution_count": 133,
     "metadata": {},
     "output_type": "execute_result"
    }
   ],
   "source": [
    "# Розподіл виживших та загинувших чоловіків в 1,2 та 3 класах\n",
    "survive_male = pd.crosstab(df.query('Sex==\"male\"').Survived, df.Pclass)\n",
    "survive_male"
   ]
  },
  {
   "cell_type": "code",
   "execution_count": 134,
   "metadata": {},
   "outputs": [],
   "source": [
    "# Допоміжні розрахунки: шанси вижити для чоловіків в 1,2 та 3 класах\n",
    "odds_male_1class = survive_male[1][1]/survive_male[1][0] # Out: 0.5844155844155844\n",
    "odds_male_2class = survive_male[2][1]/survive_male[2][0] # Out: 0.18681318681318682\n",
    "odds_male_3class = survive_male[3][1]/survive_male[3][0] # Out: 0.15666666666666668\n",
    "\n",
    "# Допоміжні розрахунки: шанси вижити для жінок в 1,2 та 3 класах\n",
    "odds_female_1class = survive_female[1][1]/survive_female[1][0] # Out: 30.333333333333332\n",
    "odds_female_2class = survive_female[2][1]/survive_female[2][0] # Out: 11.666666666666666\n",
    "odds_female_3class = survive_female[3][1]/survive_female[3][0] # Out: 1\n",
    "\n",
    "# Sex[T.male] - значення відношення шансів вижити чоловікам в 1 класі до виживання  жінок в 1 класі \n",
    "# натуральний логарифм шансу вижити чоловікам в 1 класі\n",
    "ln_odds_male_1class = np.log(odds_male_1class) # Out: -0.5371429320833642\n",
    "SexT_male = ln_odds_male_1class - Intercept # Out: -3.9493901499321042\n",
    "\n",
    "# C(Pclass)[T.2] - значення відношення шансів  вижити жінкам в 2 класі до виживання  жінок в 1 класі\n",
    "ln_odds_female_2class = np.log(odds_female_2class) # Out: -1.677646162460634\n",
    "PclassT_2 = ln_odds_female_2class - Intercept # Out: -0.9555114450274362\n",
    "\n",
    "# C(Pclass)[T.3] - значення відношення шансів вижити жінкам в 3 класі до виживання  жінок в 1 класі\n",
    "ln_odds_female_3class = np.log(odds_female_3class) # Out: 0\n",
    "PclassT_3 = ln_odds_female_3class - Intercept # Out: -3.41224721784874\n",
    "\n",
    "# Sex[T.male]:C(Pclass)[T.2] - значення відношення шансів вижити чоловікам до виживання  жінок в 2 класі між 1 класом\n",
    "# відношення шансів для чоловіків та жінок 2 та 1 класу\n",
    "class_2_male_female = odds_male_2class/odds_female_2class # Out: 0.016012558869701727\n",
    "class_1_male_female = odds_male_1class/odds_female_1class # Out: 0.01926644783787641\n",
    "Sex_male_Pclass_2 = np.log(class_2_male_female) - np.log(class_1_male_female) # Out: -0.1849917853498333\n",
    "\n",
    "# Sex[T.male]:C(Pclass)[T.3] - Натуральний логарифм відношення шансів вижити чоловікам до виживання  жінок в 3 класі між 1 класом\n",
    "class_3_male_female = odds_male_3class/odds_female_3class\n",
    "Sex_male_Pclass_3 = np.log(class_3_male_female) - np.log(class_1_male_female) # Out: 2.0957552769859618"
   ]
  },
  {
   "cell_type": "code",
   "execution_count": 135,
   "metadata": {},
   "outputs": [
    {
     "data": {
      "text/html": [
       "<table border=\"1\" class=\"dataframe\">\n",
       "  <thead>\n",
       "    <tr style=\"text-align: right;\">\n",
       "      <th></th>\n",
       "      <th>Value</th>\n",
       "      <th>calulate</th>\n",
       "    </tr>\n",
       "  </thead>\n",
       "  <tbody>\n",
       "    <tr>\n",
       "      <th>𝐼𝑛𝑡𝑒𝑟𝑐𝑒𝑝𝑡</th>\n",
       "      <td>3.412247</td>\n",
       "      <td>Натуральний логарифм шансів вижити жінкам 1 класу</td>\n",
       "    </tr>\n",
       "    <tr>\n",
       "      <th>Sex[T.male]</th>\n",
       "      <td>-3.94939</td>\n",
       "      <td>Натуральний логарифм відношення шансів вижити чоловікам в 1 класі до виживання  жінок в 1 класі</td>\n",
       "    </tr>\n",
       "    <tr>\n",
       "      <th>C(Pclass)[T.2]</th>\n",
       "      <td>-0.955511</td>\n",
       "      <td>Натуральний логарифм відношення шансів  вижити жінкам в 2 класі до виживання  жінок в 1 класі</td>\n",
       "    </tr>\n",
       "    <tr>\n",
       "      <th>C(Pclass)[T.3]</th>\n",
       "      <td>-3.412247</td>\n",
       "      <td>Натуральний логарифм відношення шансів вижити жінкам в 3 класі до виживання  жінок в 1 класі</td>\n",
       "    </tr>\n",
       "    <tr>\n",
       "      <th>Sex[T.male]:C(Pclass)[T.2]</th>\n",
       "      <td>-0.184992</td>\n",
       "      <td>Натуральний логарифм відношення шансів вижити чоловікам до виживання  жінок в 2 класі між 1 класом</td>\n",
       "    </tr>\n",
       "    <tr>\n",
       "      <th>Sex[T.male]:C(Pclass)[T.3]</th>\n",
       "      <td>2.095755</td>\n",
       "      <td>Натуральний логарифм відношення шансів вижити чоловікам до виживання  жінок в 3 класі між 1 класом</td>\n",
       "    </tr>\n",
       "  </tbody>\n",
       "</table>"
      ],
      "text/plain": [
       "<IPython.core.display.HTML object>"
      ]
     },
     "metadata": {},
     "output_type": "display_data"
    }
   ],
   "source": [
    "data = pd.DataFrame(index=[ '𝐼𝑛𝑡𝑒𝑟𝑐𝑒𝑝𝑡', 'Sex[T.male]','C(Pclass)[T.2]','C(Pclass)[T.3]',\n",
    "                           'Sex[T.male]:C(Pclass)[T.2]', 'Sex[T.male]:C(Pclass)[T.3]'], \n",
    "                    columns=['Value', 'calulate'])\n",
    "data['Value']['𝐼𝑛𝑡𝑒𝑟𝑐𝑒𝑝𝑡'] = Intercept\n",
    "data['Value']['Sex[T.male]'] = SexT_male\n",
    "data['Value']['C(Pclass)[T.2]'] = PclassT_2\n",
    "data['Value']['C(Pclass)[T.3]'] = PclassT_3\n",
    "data['Value']['Sex[T.male]:C(Pclass)[T.2]'] = Sex_male_Pclass_2\n",
    "data['Value']['Sex[T.male]:C(Pclass)[T.3]'] = Sex_male_Pclass_3\n",
    "data['calulate']['𝐼𝑛𝑡𝑒𝑟𝑐𝑒𝑝𝑡'] = 'Натуральний логарифм шансів вижити жінкам 1 класу '\n",
    "data['calulate']['Sex[T.male]'] = 'Натуральний логарифм відношення шансів вижити чоловікам в 1 класі до виживання  жінок в 1 класі'\n",
    "data['calulate']['C(Pclass)[T.2]'] = 'Натуральний логарифм відношення шансів  вижити жінкам в 2 класі до виживання  жінок в 1 класі'\n",
    "data['calulate']['C(Pclass)[T.3]'] = 'Натуральний логарифм відношення шансів вижити жінкам в 3 класі до виживання  жінок в 1 класі'\n",
    "data['calulate']['Sex[T.male]:C(Pclass)[T.2]'] = 'Натуральний логарифм відношення шансів вижити чоловікам до виживання  жінок в 2 класі між 1 класом'\n",
    "data['calulate']['Sex[T.male]:C(Pclass)[T.3]'] = 'Натуральний логарифм відношення шансів вижити чоловікам до виживання  жінок в 3 класі між 1 класом'\n",
    "\n",
    "display(HTML(data.to_html()))"
   ]
  },
  {
   "cell_type": "code",
   "execution_count": 136,
   "metadata": {},
   "outputs": [
    {
     "data": {
      "text/html": [
       "<table class=\"simpletable\">\n",
       "<tr>\n",
       "               <td></td>                 <th>coef</th>     <th>std err</th>      <th>z</th>      <th>P>|z|</th>  <th>[0.025</th>    <th>0.975]</th>  \n",
       "</tr>\n",
       "<tr>\n",
       "  <th>Intercept</th>                  <td>    3.4122</td> <td>    0.587</td> <td>    5.815</td> <td> 0.000</td> <td>    2.262</td> <td>    4.562</td>\n",
       "</tr>\n",
       "<tr>\n",
       "  <th>Sex[T.male]</th>                <td>   -3.9494</td> <td>    0.616</td> <td>   -6.411</td> <td> 0.000</td> <td>   -5.157</td> <td>   -2.742</td>\n",
       "</tr>\n",
       "<tr>\n",
       "  <th>C(Pclass)[T.2]</th>             <td>   -0.9555</td> <td>    0.725</td> <td>   -1.318</td> <td> 0.187</td> <td>   -2.376</td> <td>    0.465</td>\n",
       "</tr>\n",
       "<tr>\n",
       "  <th>C(Pclass)[T.3]</th>             <td>   -3.4122</td> <td>    0.610</td> <td>   -5.594</td> <td> 0.000</td> <td>   -4.608</td> <td>   -2.217</td>\n",
       "</tr>\n",
       "<tr>\n",
       "  <th>Sex[T.male]:C(Pclass)[T.2]</th> <td>   -0.1850</td> <td>    0.794</td> <td>   -0.233</td> <td> 0.816</td> <td>   -1.741</td> <td>    1.371</td>\n",
       "</tr>\n",
       "<tr>\n",
       "  <th>Sex[T.male]:C(Pclass)[T.3]</th> <td>    2.0958</td> <td>    0.657</td> <td>    3.189</td> <td> 0.001</td> <td>    0.808</td> <td>    3.384</td>\n",
       "</tr>\n",
       "</table>"
      ],
      "text/plain": [
       "<class 'statsmodels.iolib.table.SimpleTable'>"
      ]
     },
     "execution_count": 136,
     "metadata": {},
     "output_type": "execute_result"
    }
   ],
   "source": [
    "model_two_predictor.summary().tables[1]"
   ]
  },
  {
   "cell_type": "markdown",
   "metadata": {},
   "source": [
    "**Intercept** – логарифм шансів позитивного результату для жінок у першому класі.\n",
    "\n",
    "**SexMale** - логарифм відношення шансів для чоловіків у першому класі та жінок у першому класі.\n",
    "\n",
    "**PclassSecond** - логарифм відношення шансів для жінок у другому класі та жінок у першому класі.\n",
    "\n",
    "**PclassThird** - логарифм відношення шансів для жінок у третьому класі та жінок у першому класі.\n",
    "\n",
    "**SexMale:PclassSecond** — різниця логарифмів відношення шансів, розрахованого для чоловіків та жінок у першому класі та у другому класі.\n",
    "\n",
    "**SexMale:PclassThird** - різниця логарифмів відношення шансів розрахованого для чоловіків і жінок у першому та третьому класі."
   ]
  },
  {
   "cell_type": "markdown",
   "metadata": {},
   "source": [
    "Так що ж впливає на виживаємість? Поглянувши на значення колонки $P>|z|$ видно, що відмінностей між шансами вижити жінкам в 2 класі до виживання жінок в 1 класі не має. Так як і  шансів вижити чоловікам до виживання жінок в 2 класі між 1 класом теж не має. А ось відношення шансів вижити чоловікам в 1 класі до виживання жінок в 1 класі статистично значимі, як і у випадку  відношення шансів вижити жінкам в 3 класі до виживання жінок в 1 класі"
   ]
  },
  {
   "cell_type": "markdown",
   "metadata": {},
   "source": [
    "<a id='part4'></a>\n",
    "# Прогнозування моделі"
   ]
  },
  {
   "cell_type": "markdown",
   "metadata": {},
   "source": [
    "Тепер спробуємо спрогнозувати виживаємість пасажирів на основі нашої навченої логістичної моделі:\n"
   ]
  },
  {
   "cell_type": "code",
   "execution_count": 137,
   "metadata": {},
   "outputs": [
    {
     "data": {
      "text/plain": [
       "0    0.157407\n",
       "dtype: float64"
      ]
     },
     "execution_count": 137,
     "metadata": {},
     "output_type": "execute_result"
    }
   ],
   "source": [
    "model_two_predictor.predict({'Sex':'male', 'Pclass':3}) # вірогідність вижити чоловікам з 3 класу = 0.135447\n",
    "model_two_predictor.predict({'Sex':'female', 'Pclass':3}) # вірогідність вижити жінкам з 3 класу = 0.5\n",
    "model_two_predictor.predict({'Sex':'female', 'Pclass':1}) # вірогідність вижити жінкам з 1 класу = 0.968085\n",
    "model_two_predictor.predict({'Sex':'male', 'Pclass':1}) # вірогідність вижити чоловікам з 1 класу = 0.368852\n",
    "model_two_predictor.predict({'Sex':'female', 'Pclass':2}) # вірогідність вижити жінкам з 2 класу = 0.921053\n",
    "model_two_predictor.predict({'Sex':'male', 'Pclass':2}) # вірогідність вижити чоловікам з 2 класу = 0.157407"
   ]
  },
  {
   "cell_type": "markdown",
   "metadata": {},
   "source": [
    "Показник | Код |Значення|\n",
    "---------|------|------------------------------------------------\n",
    "Sex_male  |0 |пасажир жіночої статі\n",
    "          |1 |пасажир чоловічої статі\n",
    "Pclass_2 |0 |пасажир 1 або 3 класу\n",
    "            |1 |пасажир 2 класу\n",
    "Pclass_3 |0 |пасажир 1 або 2 класу\n",
    "           |1 |пасажир 3 класу\n",
    "Sex_male:Pclass_2 |0 |пасажир 1 або 3 класу або пасажирка 2 класу\n",
    "             |1 |пасажир 2 класи чоловічої статі\n",
    "Sex_male:Pclass_3 |0 |пасажир 1 або 2 класу або пасажирка 3 класу\n",
    "             |1 |пасажир 3 класи чоловічої статі"
   ]
  },
  {
   "cell_type": "markdown",
   "metadata": {},
   "source": [
    "показники     |intercept|Sex_male|Pclass_2|Pclass_3|Sex_male:Pclass_2|Sex_male:Pclass_3|\n",
    "--------------|:-------:|:------:|:------:|:------:|:---------------:|:---------------:|\n",
    "модель f(x)     |$$3.4122$$|$$- 3.9494x $$|$$- 0.9555x$$|$$- 3.4122x$$|$$- 0.1850x$$|$$+ 2.0958x$$|\n",
    "\n",
    "$$logit_{\\text{(P чоловіки 1 класу)}} = 3.4122 - 3.9494*1 - 0.9555*0 - 3.4122*0 - 0.1850*0 + 2.0958*0 = -0.5372$$\n",
    "\n",
    "$$P_{\\text{чоловіки 1 класу}} = \\frac{1}{1+e^{-logit_{\\text{(P чоловіки 1 класу)}}}} = \\frac{1}{1+e^{0.5372}} = 0.3688$$\n",
    "\n"
   ]
  },
  {
   "cell_type": "code",
   "execution_count": 138,
   "metadata": {},
   "outputs": [
    {
     "data": {
      "text/plain": [
       "0.13545076958360053"
      ]
     },
     "execution_count": 138,
     "metadata": {},
     "output_type": "execute_result"
    }
   ],
   "source": [
    "def logit(p):\n",
    "    return np.log(p/(1-p))\n",
    "\n",
    "def invlogit(x):\n",
    "    # inverse function of logit\n",
    "    return 1/(1+np.exp(-x))\n",
    "\n",
    "invlogit(3.4122 - 3.9494*1 - 0.9555*0 - 3.4122*1 - 0.1850*0 + 2.0958*1)# чоловіки 3 класу"
   ]
  },
  {
   "cell_type": "code",
   "execution_count": 139,
   "metadata": {},
   "outputs": [
    {
     "data": {
      "image/png": "[encoded data removed]",
      "text/plain": [
       "<Figure size 864x576 with 3 Axes>"
      ]
     },
     "metadata": {
      "needs_background": "light"
     },
     "output_type": "display_data"
    }
   ],
   "source": [
    "plt.rcParams['figure.figsize']=(12, 8) # встановили розмір\n",
    "mosaic(df, ['Survived', 'Sex', 'Pclass'], gap = 0.02, title='Survived from Titanic')\n",
    "plt.show()"
   ]
  },
  {
   "cell_type": "code",
   "execution_count": null,
   "metadata": {},
   "outputs": [],
   "source": []
  }
 ],
 "metadata": {
  "kernelspec": {
   "display_name": "Python 3 (ipykernel)",
   "language": "python",
   "name": "python3"
  },
  "language_info": {
   "codemirror_mode": {
    "name": "ipython",
    "version": 3
   },
   "file_extension": ".py",
   "mimetype": "text/x-python",
   "name": "python",
   "nbconvert_exporter": "python",
   "pygments_lexer": "ipython3",
   "version": "3.10.5"
  }
 },
 "nbformat": 4,
 "nbformat_minor": 2
}
