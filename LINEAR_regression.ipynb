{
 "cells": [
  {
   "cell_type": "markdown",
   "metadata": {},
   "source": [
    "# Задача\n",
    "Вам даны два ряда. В одном ряду значения курса валюты за определенный промежуток времени, во втором ряду находится предсказанный некоторой моделью курс этой же валюты. По двум рядам определите ошибку предсказания MSE<br>\n",
    "\n",
    "$$\\normalsize MSE =\\frac{1}{n}\\sum_{n}^{i=1}(y_{i} - f(x_{i}))^{2}$$"
   ]
  },
  {
   "cell_type": "code",
   "execution_count": 1,
   "metadata": {},
   "outputs": [
    {
     "data": {
      "text/plain": [
       "489.16182735045805"
      ]
     },
     "execution_count": 1,
     "metadata": {},
     "output_type": "execute_result"
    }
   ],
   "source": [
    "import numpy as np\n",
    "from urllib.request import urlopen\n",
    "from io import BytesIO\n",
    "url_y = 'https://github.com/bykov-alexei/data-science-course/blob/master/ML/first-series.npy?raw=true'\n",
    "url_x = 'https://github.com/bykov-alexei/data-science-course/blob/master/ML/second-series.npy?raw=true'\n",
    "arr_x, arr_y = [np.load(BytesIO(urlopen(url).read())) for url in (url_x, url_y)]\n",
    "MSE = sum((arr_y - arr_x)**2)/len(arr_y)\n",
    "MSE"
   ]
  },
  {
   "cell_type": "code",
   "execution_count": 3,
   "metadata": {},
   "outputs": [
    {
     "name": "stdout",
     "output_type": "stream",
     "text": [
      "489.1618273504579\n"
     ]
    }
   ],
   "source": [
    "from sklearn.metrics import mean_squared_error\n",
    "\n",
    "MSE = mean_squared_error(arr_x, arr_y) \n",
    "print(MSE)"
   ]
  },
  {
   "cell_type": "markdown",
   "metadata": {},
   "source": [
    "# Задача\n",
    "Вам даны два ряда. В одном ряду значения курса валюты за определенный промежуток времени, во втором ряду находится предсказанный некоторой моделью курс этой же валюты. По двум рядам определите ошибку предсказания RMSE\n",
    "\n",
    "$$RMSE = \\sqrt{MSE} = \\sqrt{\\frac{1}{n}\\sum_{n}^{i=1}(y_{i} - f(x_{i}))^{2}} $$"
   ]
  },
  {
   "cell_type": "code",
   "execution_count": 4,
   "metadata": {},
   "outputs": [
    {
     "data": {
      "text/plain": [
       "22.117003127694716"
      ]
     },
     "execution_count": 4,
     "metadata": {},
     "output_type": "execute_result"
    }
   ],
   "source": [
    "RMSE = MSE**0.5\n",
    "RMSE"
   ]
  },
  {
   "cell_type": "code",
   "execution_count": 5,
   "metadata": {},
   "outputs": [
    {
     "ename": "TypeError",
     "evalue": "mean_squared_error() got an unexpected keyword argument 'squared'",
     "output_type": "error",
     "traceback": [
      "\u001b[1;31m---------------------------------------------------------------------------\u001b[0m",
      "\u001b[1;31mTypeError\u001b[0m                                 Traceback (most recent call last)",
      "\u001b[1;32m<ipython-input-5-ff4579f3f0c1>\u001b[0m in \u001b[0;36m<module>\u001b[1;34m()\u001b[0m\n\u001b[1;32m----> 1\u001b[1;33m \u001b[0mmean_squared_error\u001b[0m\u001b[1;33m(\u001b[0m\u001b[0marr_x\u001b[0m\u001b[1;33m,\u001b[0m \u001b[0marr_y\u001b[0m\u001b[1;33m,\u001b[0m \u001b[0msquared\u001b[0m\u001b[1;33m=\u001b[0m\u001b[1;32mFalse\u001b[0m\u001b[1;33m)\u001b[0m\u001b[1;33m\u001b[0m\u001b[0m\n\u001b[0m",
      "\u001b[1;31mTypeError\u001b[0m: mean_squared_error() got an unexpected keyword argument 'squared'"
     ]
    }
   ],
   "source": [
    "mean_squared_error(arr_x, arr_y, squared=False)"
   ]
  },
  {
   "cell_type": "markdown",
   "metadata": {},
   "source": [
    "Вам даны два ряда. В одном ряду значения курса валюты за определенный промежуток времени, во втором ряду находится предсказанный некоторой моделью курс этой же валюты. По двум рядам определите ошибку предсказания MAE"
   ]
  },
  {
   "cell_type": "code",
   "execution_count": 6,
   "metadata": {},
   "outputs": [
    {
     "data": {
      "text/plain": [
       "17.996466944603252"
      ]
     },
     "execution_count": 6,
     "metadata": {},
     "output_type": "execute_result"
    }
   ],
   "source": [
    "MAE = sum(abs(arr_y - arr_x))/len(arr_y)\n",
    "MAE"
   ]
  },
  {
   "cell_type": "code",
   "execution_count": 7,
   "metadata": {},
   "outputs": [
    {
     "data": {
      "text/plain": [
       "17.996466944603256"
      ]
     },
     "execution_count": 7,
     "metadata": {},
     "output_type": "execute_result"
    }
   ],
   "source": [
    "from sklearn.metrics import mean_absolute_error\n",
    "mean_absolute_error(arr_x, arr_y)"
   ]
  },
  {
   "cell_type": "code",
   "execution_count": 8,
   "metadata": {},
   "outputs": [
    {
     "data": {
      "text/plain": [
       "17.996466944603256"
      ]
     },
     "execution_count": 8,
     "metadata": {},
     "output_type": "execute_result"
    }
   ],
   "source": [
    "import numpy as np\n",
    "\n",
    "def mae(y_true, predictions):\n",
    "    y_true, predictions = np.array(y_true), np.array(predictions)\n",
    "    return np.mean(np.abs(y_true - predictions))\n",
    "mae(arr_y, arr_x)"
   ]
  },
  {
   "cell_type": "code",
   "execution_count": 9,
   "metadata": {},
   "outputs": [
    {
     "data": {
      "text/plain": [
       "17.996466944603256"
      ]
     },
     "execution_count": 9,
     "metadata": {},
     "output_type": "execute_result"
    }
   ],
   "source": [
    "np.sum(abs(arr_y - arr_x))/len(arr_x)"
   ]
  },
  {
   "cell_type": "markdown",
   "metadata": {},
   "source": [
    "# Задача\n",
    "Постройте линейную регрессию по данным и в ответ запишите получившийся коэффициент k"
   ]
  },
  {
   "cell_type": "code",
   "execution_count": 10,
   "metadata": {},
   "outputs": [
    {
     "data": {
      "text/html": [
       "<div>\n",
       "<style scoped>\n",
       "    .dataframe tbody tr th:only-of-type {\n",
       "        vertical-align: middle;\n",
       "    }\n",
       "\n",
       "    .dataframe tbody tr th {\n",
       "        vertical-align: top;\n",
       "    }\n",
       "\n",
       "    .dataframe thead th {\n",
       "        text-align: right;\n",
       "    }\n",
       "</style>\n",
       "<table border=\"1\" class=\"dataframe\">\n",
       "  <thead>\n",
       "    <tr style=\"text-align: right;\">\n",
       "      <th></th>\n",
       "      <th>years</th>\n",
       "      <th>prices</th>\n",
       "    </tr>\n",
       "  </thead>\n",
       "  <tbody>\n",
       "    <tr>\n",
       "      <th>0</th>\n",
       "      <td>1960</td>\n",
       "      <td>1.004326e+06</td>\n",
       "    </tr>\n",
       "  </tbody>\n",
       "</table>\n",
       "</div>"
      ],
      "text/plain": [
       "   years        prices\n",
       "0   1960  1.004326e+06"
      ]
     },
     "execution_count": 10,
     "metadata": {},
     "output_type": "execute_result"
    }
   ],
   "source": [
    "url = 'https://github.com/bykov-alexei/data-science-course/blob/master/ML/data.npz?raw=true'\n",
    "from urllib.request import urlopen\n",
    "from io import BytesIO\n",
    "import pandas as pd\n",
    "load = BytesIO(urlopen(url).read())\n",
    "npz = np.load(load)\n",
    "df= pd.DataFrame.from_dict({item: npz[item] for item in npz.files}, orient='columns')\n",
    "df.head(1)"
   ]
  },
  {
   "cell_type": "code",
   "execution_count": 14,
   "metadata": {},
   "outputs": [
    {
     "name": "stdout",
     "output_type": "stream",
     "text": [
      "                            OLS Regression Results                            \n",
      "==============================================================================\n",
      "Dep. Variable:                 prices   R-squared:                       0.694\n",
      "Model:                            OLS   Adj. R-squared:                  0.689\n",
      "Method:                 Least Squares   F-statistic:                     131.8\n",
      "Date:                Mon, 11 Jul 2022   Prob (F-statistic):           1.46e-16\n",
      "Time:                        17:10:45   Log-Likelihood:                -282.81\n",
      "No. Observations:                  60   AIC:                             569.6\n",
      "Df Residuals:                      58   BIC:                             573.8\n",
      "Df Model:                           1                                         \n",
      "Covariance Type:            nonrobust                                         \n",
      "==============================================================================\n",
      "                 coef    std err          t      P>|t|      [0.025      0.975]\n",
      "------------------------------------------------------------------------------\n",
      "Intercept   9.998e+05    406.801   2457.598      0.000    9.99e+05       1e+06\n",
      "years          2.3470      0.204     11.479      0.000       1.938       2.756\n",
      "==============================================================================\n",
      "Omnibus:                        8.743   Durbin-Watson:                   2.199\n",
      "Prob(Omnibus):                  0.013   Jarque-Bera (JB):                3.034\n",
      "Skew:                           0.169   Prob(JB):                        0.219\n",
      "Kurtosis:                       1.952   Cond. No.                     2.29e+05\n",
      "==============================================================================\n",
      "\n",
      "Warnings:\n",
      "[1] Standard Errors assume that the covariance matrix of the errors is correctly specified.\n",
      "[2] The condition number is large, 2.29e+05. This might indicate that there are\n",
      "strong multicollinearity or other numerical problems.\n",
      "2.3470422819882515\n"
     ]
    }
   ],
   "source": [
    "import statsmodels.formula.api as smf\n",
    "\n",
    "\n",
    "model = smf.ols('prices~years',data=df)\n",
    "fitted = model.fit()\n",
    "print (fitted.summary())\n",
    "print(fitted.params['years'])"
   ]
  },
  {
   "cell_type": "code",
   "execution_count": 43,
   "metadata": {},
   "outputs": [
    {
     "name": "stdout",
     "output_type": "stream",
     "text": [
      "2.3470422819942174\n"
     ]
    }
   ],
   "source": [
    "years, prices = (npz[x] for x in npz)\n",
    "print(sum((years - years.mean()) * (prices - prices.mean())) / sum((years - years.mean())**2))"
   ]
  },
  {
   "cell_type": "markdown",
   "metadata": {},
   "source": [
    "# Задача регрессии. Линейная регрессия не для kx + b"
   ]
  },
  {
   "cell_type": "markdown",
   "metadata": {},
   "source": [
    "В файле даны значения x, y<br>\n",
    "y=a1​∗sin(x)+a2​cos(x)+a3​<br>\n",
    "Ваша задача найти коэффициенты a1, a2, a3 округлить их до ближайшего целого и записать через пробел"
   ]
  },
  {
   "cell_type": "code",
   "execution_count": 51,
   "metadata": {},
   "outputs": [
    {
     "name": "stdout",
     "output_type": "stream",
     "text": [
      "Intercept    2.998885\n",
      "np.sin(x)    1.991507\n",
      "np.cos(x)    2.031243\n",
      "dtype: float64\n"
     ]
    }
   ],
   "source": [
    "url = 'https://github.com/bykov-alexei/data-science-course/blob/master/%D0%9C%D0%B0%D1%88%D0%B8%D0%BD%D0%BD%D0%BE%D0%B5%20%D0%BE%D0%B1%D1%83%D1%87%D0%B5%D0%BD%D0%B8%D0%B5/%D0%9B%D0%B8%D0%BD%D0%B5%D0%B9%D0%BD%D0%B0%D1%8F%20%D1%80%D0%B5%D0%B3%D1%80%D0%B5%D1%81%D1%81%D0%B8%D1%8F/data.npz?raw=true'\n",
    "from urllib.request import urlopen\n",
    "from io import BytesIO\n",
    "import pandas as pd\n",
    "import statsmodels.formula.api as smf\n",
    "\n",
    "load = BytesIO(urlopen(url).read())\n",
    "npz = np.load(load)\n",
    "df= pd.DataFrame.from_dict({item: npz[item] for item in npz.files}, orient='columns')\n",
    "\n",
    "# OLS - for \"ordinary least squares\" ОБЫЧНЫЕ НАИМЕНЬШИЕ КВАДРАТЫ метод\n",
    "model = smf.ols('y~ np.sin(x) + np.cos(x)',data=df)\n",
    "fitted = model.fit()\n",
    "print(fitted.params)"
   ]
  },
  {
   "cell_type": "markdown",
   "metadata": {},
   "source": [
    "В файле даны значения x, y<br>\n",
    "y=a1​∗sin(x)+a2​∗x+a3​∗x2+a4​<br>\n",
    "\n",
    "Ваша задача найти коэффициенты a1, a2, a3, a4 округлить их до ближайшего целого и записать через пробел"
   ]
  },
  {
   "cell_type": "code",
   "execution_count": 53,
   "metadata": {},
   "outputs": [
    {
     "name": "stdout",
     "output_type": "stream",
     "text": [
      "Intercept         249.576871\n",
      "np.sin(x)          48.307098\n",
      "x                   1.943237\n",
      "np.power(x, 2)      7.024498\n",
      "dtype: float64\n"
     ]
    }
   ],
   "source": [
    "url = 'https://github.com/bykov-alexei/data-science-course/blob/master/%D0%9C%D0%B0%D1%88%D0%B8%D0%BD%D0%BD%D0%BE%D0%B5%20%D0%BE%D0%B1%D1%83%D1%87%D0%B5%D0%BD%D0%B8%D0%B5/%D0%9B%D0%B8%D0%BD%D0%B5%D0%B9%D0%BD%D0%B0%D1%8F%20%D1%80%D0%B5%D0%B3%D1%80%D0%B5%D1%81%D1%81%D0%B8%D1%8F/task2.npz?raw=true'\n",
    "from urllib.request import urlopen\n",
    "from io import BytesIO\n",
    "import pandas as pd\n",
    "import statsmodels.formula.api as smf\n",
    "\n",
    "load = BytesIO(urlopen(url).read())\n",
    "npz = np.load(load)\n",
    "df= pd.DataFrame.from_dict({item: npz[item] for item in npz.files}, orient='columns')\n",
    "\n",
    "model = smf.ols('y~ np.sin(x) + x + np.power(x, 2)',data=df)\n",
    "fitted = model.fit()\n",
    "print(fitted.params)"
   ]
  },
  {
   "cell_type": "code",
   "execution_count": 54,
   "metadata": {},
   "outputs": [
    {
     "name": "stdout",
     "output_type": "stream",
     "text": [
      "48 2 7 250\n"
     ]
    }
   ],
   "source": [
    "import numpy as np\n",
    "from urllib.request import urlopen\n",
    "from io import BytesIO\n",
    "\n",
    "url = 'https://github.com/bykov-alexei/data-science-course/blob/master/%D0%9C%D0%B0%D1%88%D0%B8%D0%BD%D0%BD%D0%BE%D0%B5%20%D0%BE%D0%B1%D1%83%D1%87%D0%B5%D0%BD%D0%B8%D0%B5/%D0%9B%D0%B8%D0%BD%D0%B5%D0%B9%D0%BD%D0%B0%D1%8F%20%D1%80%D0%B5%D0%B3%D1%80%D0%B5%D1%81%D1%81%D0%B8%D1%8F/task2.npz?raw=true'\n",
    "\n",
    "data = np.load(BytesIO(urlopen(url).read()))\n",
    "x, y = (data[i] for i in data)\n",
    "X = np.column_stack((np.ones(x.shape[0]), np.square(x), x, np.sin(x)))\n",
    "coeffs = (np.linalg.inv(X.T @ X) @ X.T @ y).round().astype(int)\n",
    "print(*coeffs[::-1])"
   ]
  },
  {
   "cell_type": "code",
   "execution_count": 64,
   "metadata": {},
   "outputs": [
    {
     "name": "stdout",
     "output_type": "stream",
     "text": [
      "48 2 7 250"
     ]
    }
   ],
   "source": [
    "import numpy as np\n",
    "import pandas as pd\n",
    "# data = np.load(r\"C:\\Users\\vadim\\Downloads\\task2.npz\")\n",
    "# df = pd.DataFrame({'x':data['x'], 'y':data['y']})\n",
    "df['x_sin'] = np.sin(df['x'])\n",
    "df['x2'] = df['x']*df['x']\n",
    "X = df[['x_sin','x','x2']]\n",
    "Y = df['y']\n",
    "from sklearn.linear_model import LinearRegression\n",
    "model = LinearRegression()\n",
    "model.fit(X,Y)\n",
    "print(*np.round(model.coef_).astype(int), np.round(model.intercept_).astype(int),end='')"
   ]
  },
  {
   "cell_type": "code",
   "execution_count": null,
   "metadata": {},
   "outputs": [],
   "source": []
  },
  {
   "cell_type": "markdown",
   "metadata": {},
   "source": [
    "В файле даны значения x, y. Ваша задача построить модель регрессии и предсказать значения y для различных значений x. Предсказанные значения округлите до ближайшего целого"
   ]
  },
  {
   "cell_type": "code",
   "execution_count": 65,
   "metadata": {},
   "outputs": [],
   "source": [
    "url = 'https://github.com/bykov-alexei/data-science-course/blob/master/%D0%9C%D0%B0%D1%88%D0%B8%D0%BD%D0%BD%D0%BE%D0%B5%20%D0%BE%D0%B1%D1%83%D1%87%D0%B5%D0%BD%D0%B8%D0%B5/%D0%9B%D0%B8%D0%BD%D0%B5%D0%B9%D0%BD%D0%B0%D1%8F%20%D1%80%D0%B5%D0%B3%D1%80%D0%B5%D1%81%D1%81%D0%B8%D1%8F/task3.npz?raw=true'\n",
    "def url_numpy_npz_to_dataframe(url):\n",
    "    from urllib.request import urlopen\n",
    "    from io import BytesIO\n",
    "    from pandas import DataFrame\n",
    "    load = BytesIO(urlopen(url).read())\n",
    "    npz = np.load(load)\n",
    "    df= pd.DataFrame.from_dict({item: npz[item] for item in npz.files}, orient='columns')\n",
    "    return df"
   ]
  },
  {
   "cell_type": "code",
   "execution_count": 66,
   "metadata": {},
   "outputs": [],
   "source": [
    "df = url_numpy_npz_to_dataframe(url)"
   ]
  },
  {
   "cell_type": "markdown",
   "metadata": {},
   "source": [
    "Заполните пропуски<br>\n",
    "\n",
    "При x = 21 значение функции y = <br>\n",
    " При x = 22 значение функции y = <br>\n",
    " При x = 50 значение функции y = <br>\n",
    " При x = -20 значение функции y = <br>"
   ]
  },
  {
   "cell_type": "code",
   "execution_count": 69,
   "metadata": {},
   "outputs": [
    {
     "name": "stdout",
     "output_type": "stream",
     "text": [
      "                            OLS Regression Results                            \n",
      "==============================================================================\n",
      "Dep. Variable:                      y   R-squared:                       0.829\n",
      "Model:                            OLS   Adj. R-squared:                  0.827\n",
      "Method:                 Least Squares   F-statistic:                     475.6\n",
      "Date:                Sat, 02 Jul 2022   Prob (F-statistic):           2.20e-39\n",
      "Time:                        18:07:30   Log-Likelihood:                -430.92\n",
      "No. Observations:                 100   AIC:                             865.8\n",
      "Df Residuals:                      98   BIC:                             871.1\n",
      "Df Model:                           1                                         \n",
      "Covariance Type:            nonrobust                                         \n",
      "==============================================================================\n",
      "                 coef    std err          t      P>|t|      [0.025      0.975]\n",
      "------------------------------------------------------------------------------\n",
      "Intercept     14.3788      2.094      6.866      0.000      10.223      18.535\n",
      "x              4.5329      0.208     21.808      0.000       4.120       4.945\n",
      "==============================================================================\n",
      "Omnibus:                        5.081   Durbin-Watson:                   0.022\n",
      "Prob(Omnibus):                  0.079   Jarque-Bera (JB):                4.971\n",
      "Skew:                           0.499   Prob(JB):                       0.0833\n",
      "Kurtosis:                       2.556   Cond. No.                         11.6\n",
      "==============================================================================\n",
      "\n",
      "Notes:\n",
      "[1] Standard Errors assume that the covariance matrix of the errors is correctly specified.\n"
     ]
    }
   ],
   "source": [
    "import statsmodels.formula.api as smf\n",
    "\n",
    "# линейная регрессия\n",
    "model = smf.ols('y~x',data=df)\n",
    "fitted = model.fit()\n",
    "\n",
    "# коеффиценты\n",
    "# fitted.params\n",
    "\n",
    "# выкладка по модели\n",
    "print (fitted.summary())"
   ]
  },
  {
   "cell_type": "code",
   "execution_count": 84,
   "metadata": {},
   "outputs": [
    {
     "name": "stdout",
     "output_type": "stream",
     "text": [
      "0    109.569436\n",
      "1    114.102324\n",
      "2    241.023185\n",
      "3    -76.278967\n",
      "dtype: float64\n"
     ]
    }
   ],
   "source": [
    "# d = pd.DataFrame(np.array([21,22,50,-20]))\n",
    "new = pd.DataFrame([[1, 21], [1, 22], [1, 50], [1,-20]], columns=['Intercept', 'x'])\n",
    "predict = fitted.predict(new)\n",
    "print(predict)\n",
    "# X_test = np.array([21,22,50,-20])\n",
    "# fitted.get_prediction(X_test).summary_frame(alpha=0.05)  # alpha = significance level for confidence interval"
   ]
  },
  {
   "cell_type": "code",
   "execution_count": null,
   "metadata": {},
   "outputs": [],
   "source": [
    "Заполните пропуски\n",
    "\n",
    "При x = 21 значение функции y =\n",
    "При x = 22 значение функции y =\n",
    "При x = 50 значение функции y =\n",
    "При x = -20 значение функции y ="
   ]
  },
  {
   "cell_type": "code",
   "execution_count": 86,
   "metadata": {},
   "outputs": [
    {
     "name": "stdout",
     "output_type": "stream",
     "text": [
      "Intercept          2.00\n",
      "np.sin(x)         10.00\n",
      "x                  2.00\n",
      "np.power(x, 2)     0.25\n",
      "dtype: float64\n",
      "0    162.616556\n",
      "1    166.911487\n",
      "2    724.376251\n",
      "3     52.870547\n",
      "dtype: float64\n"
     ]
    }
   ],
   "source": [
    "url = 'https://github.com/bykov-alexei/data-science-course/blob/master/%D0%9C%D0%B0%D1%88%D0%B8%D0%BD%D0%BD%D0%BE%D0%B5%20%D0%BE%D0%B1%D1%83%D1%87%D0%B5%D0%BD%D0%B8%D0%B5/%D0%9B%D0%B8%D0%BD%D0%B5%D0%B9%D0%BD%D0%B0%D1%8F%20%D1%80%D0%B5%D0%B3%D1%80%D0%B5%D1%81%D1%81%D0%B8%D1%8F/task3.npz?raw=true'\n",
    "\n",
    "from urllib.request import urlopen\n",
    "from io import BytesIO\n",
    "from pandas import DataFrame\n",
    "\n",
    "load = BytesIO(urlopen(url).read())\n",
    "npz = np.load(load)\n",
    "df= pd.DataFrame.from_dict({item: npz[item] for item in npz.files}, orient='columns')\n",
    "\n",
    "import statsmodels.formula.api as smf\n",
    "\n",
    "model = smf.ols('y~ np.sin(x) + x + np.power(x,2)',data=df)\n",
    "result = model.fit()\n",
    "new_df = pd.DataFrame([[1, 21], [1, 22], [1, 50], [1,-20]], columns=['Intercept', 'x'])\n",
    "predict = result.predict(new_df)\n",
    "\n",
    "print(predict)"
   ]
  }
 ],
 "metadata": {
  "kernelspec": {
   "display_name": "Python 3",
   "language": "python",
   "name": "python3"
  },
  "language_info": {
   "codemirror_mode": {
    "name": "ipython",
    "version": 3
   },
   "file_extension": ".py",
   "mimetype": "text/x-python",
   "name": "python",
   "nbconvert_exporter": "python",
   "pygments_lexer": "ipython3",
   "version": "3.7.0"
  }
 },
 "nbformat": 4,
 "nbformat_minor": 2
}
