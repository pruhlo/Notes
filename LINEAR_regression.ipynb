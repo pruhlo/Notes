{
 "cells": [
  {
   "cell_type": "markdown",
   "metadata": {},
   "source": [
    "# Лінійна регресія (Linear regression)\n",
    "\n",
    "#### Регресійний аналіз із однією незалежною змінною"
   ]
  },
  {
   "cell_type": "markdown",
   "metadata": {},
   "source": [
    "[Метод найменших квадратів](https://uk.wikipedia.org/wiki/Метод_найменших_квадратів) — метод знаходження наближеного розв'язку надлишково-визначеної системи. Часто застосовується в регресійному аналізі. На практиці найчастіше використовується лінійний метод найменших квадратів, що використовується у випадку системи лінійних рівнянь.\n",
    "\n",
    "Нехай маємо лінійну регресію зі скалярною змінною x:\n",
    "\n",
    "$$\\displaystyle y=x\\beta _{1}+\\beta _{0},$$ \n",
    "а також вибірку початкових даних $\\displaystyle (y_{i},x_{i})$ розміру $M \\text(size)$. Тоді\n",
    "\n",
    "$\\displaystyle \\beta _{0}={\\frac {1}{M}}\\sum _{i}y_{i}-{\\frac {\\beta _{1}}{M}}\\sum _{i}x_{i}=\\overline{y}-\\overline{x}\\cdot \\beta _{1}, \\hspace{10mm} \\beta _{1}={\\frac {M\\sum _{i}x_{i}y_{i}-\\sum _{i}x_{i}\\sum _{i}y_{i}}{M\\sum _{i}x_{i}^{2}-(\\sum _{i}x_{i})^{2}}} = \\frac{\\text{size} \\cdot \\text{sum_xy - sum_x} \\cdot \\text{sum_y}}{\\text{size} \\cdot \\text{sum_sqare_x} \\cdot ({\\text{sum_x})}^2}$"
   ]
  },
  {
   "cell_type": "code",
   "execution_count": 10,
   "metadata": {},
   "outputs": [],
   "source": [
    "import warnings\n",
    "warnings.filterwarnings(\"ignore\")\n",
    "\n",
    "import numpy as np\n",
    "import matplotlib.pyplot as plt\n",
    "import itertools\n",
    "import pandas as pd\n",
    "import statsmodels.formula.api as smf\n",
    "import statsmodels.api as sm\n",
    "from statsmodels.formula.api import ols\n",
    "import seaborn as sns\n",
    "import sympy\n",
    "from pandas import DataFrame\n",
    "from sklearn.metrics import mean_squared_error\n",
    "from sklearn.metrics import mean_absolute_error\n",
    "from urllib.request import urlopen\n",
    "from io import BytesIO\n",
    "from IPython.core.display import display, HTML"
   ]
  },
  {
   "cell_type": "code",
   "execution_count": 11,
   "metadata": {},
   "outputs": [
    {
     "name": "stdout",
     "output_type": "stream",
     "text": [
      "Алгоритм МНК за формулою: k=0.8393, b=0.0714\n",
      "Алгоритм бібліотеки numpy: coef_k=0.8393(коефіціент k), Intercept_b=0.0714 (коефіціент b)\n"
     ]
    }
   ],
   "source": [
    "def least_square_method(data_x,data_y):\n",
    "    size = len(data_x);\n",
    "    i = 0\n",
    "    sum_xy = 0\n",
    "    sum_y = 0\n",
    "    sum_x = 0\n",
    "    sum_sqare_x = 0\n",
    "    while i < size:\n",
    "        sum_xy += data_x[i]*data_y[i];\n",
    "        sum_y += data_y[i]\n",
    "        sum_x += data_x[i]\n",
    "        sum_sqare_x += data_x[i]*data_x[i]\n",
    "        i+=1\n",
    "    average_x = sum_x / size\n",
    "    average_y = sum_y / size\n",
    "    k = (size * sum_xy - sum_x * sum_y) / (size * sum_sqare_x -sum_x * sum_x)\n",
    "    b = average_y - average_x * k\n",
    "    return k, b\n",
    "\n",
    "\n",
    "x = [1, 2, 3, 4, 5, 6, 7];\n",
    "y = [0.5, 2.5, 2, 4, 3.5, 6, 5.5]\n",
    "      \n",
    "k, b = least_square_method(x,y)\n",
    "\n",
    "coef_k, Intercept_b = np.polyfit(x,y,1) # реалізація алгоритму через numpy\n",
    "\n",
    "print(f'Алгоритм МНК за формулою: {k=:.4f}, {b=:.4f}')\n",
    "print(f'Алгоритм бібліотеки numpy: {coef_k=:.4f}(коефіціент k), {Intercept_b=:.4f} (коефіціент b)')"
   ]
  },
  {
   "cell_type": "code",
   "execution_count": 12,
   "metadata": {},
   "outputs": [
    {
     "name": "stdout",
     "output_type": "stream",
     "text": [
      "k_=0.839286 b_=0.071429\n"
     ]
    }
   ],
   "source": [
    "# Пошук коефіцієнтів k b через похідну функції втрат MSE (градієнтним спуском)\n",
    "\n",
    "sympy.init_printing(use_unicode=False, no_global=True)\n",
    "# ініциалізація перемінних 'k, b'\n",
    "k, b = sympy.symbols('k, b')\n",
    "# створимо пусту функцію\n",
    "f = 1\n",
    "\n",
    "# до функції додамо квадрат заданої лінійної функції f(x) = kx + b ==> kx + b - f(x) = 0 або kx + b - y = 0\n",
    "# в кожній із відомих точок x,y : ((X1 * k + b - Y1)**2 + ((X2 * k + b - Y2)**2 + ... + ((Xn * k + b - Yn)**2\n",
    "for X, Y in zip(x,y):\n",
    "    f += (k*X + b -Y)**2\n",
    "# задамо функцію втрат MSE \n",
    "# MSE = 1 / n * ((X1 * k + b - Y1)**2 + ((X2 * k + b - Y2)**2 + ... + ((Xn * k + b - Yn)**2\n",
    "MSE = 1/len(x)*(f)\n",
    "\n",
    "# задамо початкові коефіцієнти 'k, b' для пошуку k, b' з мінімальним MSE\n",
    "k_ = 0\n",
    "b_ = 0\n",
    "\n",
    "point = np.array([k_, b_]) # задамо початкову точку з коефіцієнтів k, b  для градієнтного спуску\n",
    "\n",
    "# знайдемо похідні функції втрат MSE за коефіцієнтом k та b\n",
    "MSEk = sympy.diff(MSE, k)\n",
    "MSEb = sympy.diff(MSE, b)\n",
    "\n",
    "m_se = 0\n",
    "mse = MSE.subs({k: k_, b: b_}) # розрахуємо значення функції втрат в випадкових точках k_ та b_\n",
    "while m_se!=mse:\n",
    "    m_se = MSE.subs({k: k_, b: b_}) # значення MSE в розрахованих точках k_ та b_\n",
    "    \n",
    "    grd = (MSEk.subs({k: k_, b: b_}),MSEb.subs({k: k_, b: b_})) # градієнт\n",
    "    step = 0.01 # крок для спуску\n",
    "    vag =  np.array(grd)*-1*step # -1 отримаємо антиградієнт\n",
    "    point = point+vag # отримаємо наступну точку з для пошуку k_ та b_ з меншою MSE\n",
    "    \n",
    "    k_ = point[0]\n",
    "    b_ = point[1]\n",
    "    mse = MSE.subs({k: k_, b: b_}) # розрахуємо значення функції втрат в розрахованих точках k_ та b_\n",
    "\n",
    "print(f'{k_=:0.6f} {b_=:0.6f}')"
   ]
  },
  {
   "cell_type": "code",
   "execution_count": 13,
   "metadata": {},
   "outputs": [
    {
     "name": "stdout",
     "output_type": "stream",
     "text": [
      "                            OLS Regression Results                            \n",
      "==============================================================================\n",
      "Dep. Variable:                      y   R-squared:                       0.868\n",
      "Model:                            OLS   Adj. R-squared:                  0.842\n",
      "Method:                 Least Squares   F-statistic:                     32.97\n",
      "Date:                Thu, 11 Aug 2022   Prob (F-statistic):            0.00225\n",
      "Time:                        12:59:06   Log-Likelihood:                -6.9566\n",
      "No. Observations:                   7   AIC:                             17.91\n",
      "Df Residuals:                       5   BIC:                             17.81\n",
      "Df Model:                           1                                         \n",
      "Covariance Type:            nonrobust                                         \n",
      "==============================================================================\n",
      "                 coef    std err          t      P>|t|      [0.025      0.975]\n",
      "------------------------------------------------------------------------------\n",
      "Intercept      0.0714      0.654      0.109      0.917      -1.609       1.752\n",
      "x              0.8393      0.146      5.742      0.002       0.464       1.215\n",
      "==============================================================================\n",
      "Omnibus:                          nan   Durbin-Watson:                   3.622\n",
      "Prob(Omnibus):                    nan   Jarque-Bera (JB):                0.973\n",
      "Skew:                           0.258   Prob(JB):                        0.615\n",
      "Kurtosis:                       1.248   Cond. No.                         10.4\n",
      "==============================================================================\n",
      "\n",
      "Notes:\n",
      "[1] Standard Errors assume that the covariance matrix of the errors is correctly specified.\n"
     ]
    }
   ],
   "source": [
    "# Method: Least Squares за допомогою бібліотеки statsmodels\n",
    "\n",
    "d = {'x':x, \"y\":y}\n",
    "df = pd.DataFrame.from_dict(d)\n",
    "model = smf.ols('y~x',data=df)\n",
    "fitted = model.fit()\n",
    "result = fitted.summary()\n",
    "print(result)"
   ]
  },
  {
   "cell_type": "markdown",
   "metadata": {},
   "source": [
    "<h1 style='text-align:center'>Опис до результатів регресійного аналізу</h1>\n",
    "<h2 style='text-align:center'>OLS Regression Results</h2>\n",
    "<div class=\"output_subarea output_html rendered_html\" dir=\"auto\"><table border=\"1\" class=\"dataframe\">\n",
    "  <thead>\n",
    "    <tr style=\"text-align: right;\">\n",
    "      <th></th>\n",
    "      <th>values</th>\n",
    "      <th>explanation</th>\n",
    "    </tr>\n",
    "  </thead>\n",
    "  <tbody>\n",
    "    <tr>\n",
    "      <th>Dep. Variable:</th>\n",
    "      <td>y</td>\n",
    "      <td>Виводить ім'я залежної змінної (y)</td>\n",
    "    </tr>\n",
    "    <tr>\n",
    "      <th>Model:</th>\n",
    "      <td>OLS</td>\n",
    "      <td>Модель, що використовується в підгонці, модель МНК визначається за допомогою параметрів</td>\n",
    "    </tr>\n",
    "    <tr>\n",
    "      <th>Method:</th>\n",
    "      <td>Least Squares</td>\n",
    "      <td>За яким методом розраховувалися параметри моделі</td>\n",
    "    </tr>\n",
    "    <tr>\n",
    "      <th>Date:</th>\n",
    "      <td>Wed, 03 Aug 2022</td>\n",
    "      <td>Дата проведення регресійного аналізу</td>\n",
    "    </tr>\n",
    "    <tr>\n",
    "      <th>Time:</th>\n",
    "      <td>09:24:43</td>\n",
    "      <td>Час проведення регресійного аналізу</td>\n",
    "    </tr>\n",
    "    <tr>\n",
    "      <th>No. Observations:</th>\n",
    "      <td>7</td>\n",
    "      <td>Кількість зразків</td>\n",
    "    </tr>\n",
    "    <tr>\n",
    "      <th>Df Residuals:</th>\n",
    "      <td>5</td>\n",
    "      <td>Ступені свободи залишків (рівняється різниці кількості спостережень та кількості параметрів</td>\n",
    "    </tr>\n",
    "    <tr>\n",
    "      <th>Df Model:</th>\n",
    "      <td>1</td>\n",
    "      <td>Кількість параметрів у моделі (без урахування постійного члена, якщо він присутній) - відповідає кількості рядків в стовбчику coef (без Intercept)</td>\n",
    "    </tr>\n",
    "    <tr>\n",
    "      <th>R-squared:</th>\n",
    "      <td>0.868</td>\n",
    "      <td>Коефіцієнт детермінації. Статистична міра того, наскільки добре лінія регресії наближається до реальних точок даних. $\\text{R-squared} = correlation^2$ </td>\n",
    "    </tr>\n",
    "    <tr>\n",
    "      <th>Adj. R-squared:</th>\n",
    "      <td>0.842</td>\n",
    "      <td>Вищевказане значення (R-squared) скориговано на основі кількості спостережень та ступенів свободи залишків.</td>\n",
    "    </tr>\n",
    "    <tr>\n",
    "      <th>F-statistic:</th>\n",
    "      <td>32.97</td>\n",
    "      <td>Міра того, наскільки важлива підгонка. Середньоквадратична помилка моделі, поділена на середньоквадратичну помилку залишків.</td>\n",
    "    </tr>\n",
    "    <tr>\n",
    "      <th>Prob (F-statistic):</th>\n",
    "      <td>0.00225</td>\n",
    "      <td>Імовірність того, що ви отримаєте вищезгадану статистику (F-statistic)</td>\n",
    "    </tr>\n",
    "    <tr>\n",
    "      <th>Log-Likelihood:</th>\n",
    "      <td>-6.9566</td>\n",
    "      <td>Функція логарифмічної правдоподібності</td>\n",
    "    </tr>\n",
    "    <tr>\n",
    "      <th>AIC:</th>\n",
    "      <td>17.91</td>\n",
    "      <td>Інформаційний критерій Акаіке. Регулює логарифмічну можливість залежно від кількості спостережень і складності моделі.</td>\n",
    "    </tr>\n",
    "    <tr>\n",
    "      <th>BIC:</th>\n",
    "      <td>17.81</td>\n",
    "      <td>Байєсовський інформаційний критерій. Аналогічний AIC, але має більший штраф для моделей з великою кількістю параметрів.</td>\n",
    "    </tr>\n",
    "    <tr>\n",
    "      <th>Covariance Type:</th>\n",
    "      <td>nonrobust</td>\n",
    "      <td>Вказує на стійкість до викидів ??????</td>\n",
    "    </tr>\n",
    "    <tr>\n",
    "      <th>Omnibus:</th>\n",
    "      <td>nan</td>\n",
    "      <td>Тест Д Агостіно. Він забезпечує комбінований статистичний тест на наявність асиметрії (Skew) та ексцесу(Kurtosis).</td>\n",
    "    </tr>\n",
    "    <tr>\n",
    "      <th>Prob(Omnibus):</th>\n",
    "      <td>nan</td>\n",
    "      <td>Ймовірність наведеної вище статистики</td>\n",
    "    </tr>\n",
    "    <tr>\n",
    "      <th>Skew:</th>\n",
    "      <td>0.258</td>\n",
    "      <td>Міра симетрії даних щодо середнього. Нормально розподілені помилки мають бути симетрично розподілені щодо середнього (рівні суми вище та нижче лінії).</td>\n",
    "    </tr>\n",
    "    <tr>\n",
    "      <th>Kurtosis:</th>\n",
    "      <td>1.248</td>\n",
    "      <td>Міра форми розподілу. Порівнює обсяг даних, близьких до середнього, з даними, далекими від середнього (у хвостах).</td>\n",
    "    </tr>\n",
    "    <tr>\n",
    "      <th>Durbin-Watson:</th>\n",
    "      <td>3.622</td>\n",
    "      <td>Тест на наявність автокореляції (що помилки є незалежними). Часто важливий під час аналізу часових рядів.</td>\n",
    "    </tr>\n",
    "    <tr>\n",
    "      <th>Jarque-Bera (JB):</th>\n",
    "      <td>0.973</td>\n",
    "      <td>Тест на асиметрію (Skew) та ексцес(Kurtosis)</td>\n",
    "    </tr>\n",
    "    <tr>\n",
    "      <th>Prob(JB):</th>\n",
    "      <td>0.615</td>\n",
    "      <td>Ймовірність наведеної вище статистики (Jarque-Bera (JB))</td>\n",
    "    </tr>\n",
    "    <tr>\n",
    "      <th>Cond. No.</th>\n",
    "      <td>10.4</td>\n",
    "      <td>Тест на мультиколлінеарність (при доборі кількох параметрів параметри пов'язані один з одним)</td>\n",
    "    </tr>\n",
    "  </tbody>\n",
    "</table></div>\n",
    "\n",
    "<div class=\"output_subarea output_html rendered_html\" dir=\"auto\"><table border=\"1\" class=\"dataframe\">\n",
    "  <thead>\n",
    "    <tr style=\"text-align: right;\">\n",
    "      <th></th>\n",
    "      <th>coef</th>\n",
    "      <th>std err</th>\n",
    "      <th>t</th>\n",
    "      <th>P&gt;|t|</th>\n",
    "      <th>[0.025</th>\n",
    "      <th>0.975]</th>\n",
    "    </tr>\n",
    "  </thead>\n",
    "  <tbody>\n",
    "    <tr>\n",
    "      <th>explanation</th>\n",
    "      <td>Розрахункове значення коефіцієнта</td>\n",
    "      <td>Основна стандартна помилка оцінки коефіцієнта.</td>\n",
    "      <td>Значення t-статистики. Це показник того, наскільки статистично значущим є коефіцієнт.</td>\n",
    "      <td>P-значення, що підтверджує, що нульова гіпотеза у тому, що коефіцієнт = 0, правильна.</td>\n",
    "      <td>Нижнє значення 95% довірчого інтервалу</td>\n",
    "      <td>Верхнє значення 95% довірчого інтервалу</td>\n",
    "    </tr>\n",
    "  </tbody>\n",
    "</table></div>"
   ]
  },
  {
   "cell_type": "code",
   "execution_count": 14,
   "metadata": {},
   "outputs": [
    {
     "name": "stdout",
     "output_type": "stream",
     "text": [
      "eval_env: 1\n"
     ]
    },
    {
     "data": {
      "image/png": "[encoded data removed]",
      "text/plain": [
       "<Figure size 1008x576 with 4 Axes>"
      ]
     },
     "metadata": {
      "needs_background": "light"
     },
     "output_type": "display_data"
    }
   ],
   "source": [
    "# creating regression plots\n",
    "fig = plt.figure(figsize=(14, 8))\n",
    "fig = sm.graphics.plot_regress_exog(fitted,\n",
    "                                    'x',\n",
    "                                    fig=fig)"
   ]
  },
  {
   "cell_type": "code",
   "execution_count": 15,
   "metadata": {},
   "outputs": [
    {
     "data": {
      "image/png": "[encoded data removed]",
      "text/plain": [
       "<Figure size 432x288 with 1 Axes>"
      ]
     },
     "metadata": {
      "needs_background": "light"
     },
     "output_type": "display_data"
    }
   ],
   "source": [
    "#residuals\n",
    "  \n",
    "sns.residplot(x='x', y='y', data=df)\n",
    "plt.show()"
   ]
  },
  {
   "cell_type": "markdown",
   "metadata": {},
   "source": [
    "Вилучаємо дані з результатів регресійного аналізу (statsmodels):"
   ]
  },
  {
   "cell_type": "code",
   "execution_count": 16,
   "metadata": {},
   "outputs": [],
   "source": [
    "dfs = {}\n",
    "\n",
    "for item in result.tables[0].data:\n",
    "    dfs[item[0].strip()] = item[1].strip()\n",
    "    dfs[item[2].strip()] = item[3].strip()\n",
    "for item in result.tables[2].data:\n",
    "    dfs[item[0].strip()] = item[1].strip()\n",
    "    dfs[item[2].strip()] = item[3].strip()"
   ]
  },
  {
   "cell_type": "markdown",
   "metadata": {},
   "source": [
    "Додаємо пояснення до таблиці:"
   ]
  },
  {
   "cell_type": "code",
   "execution_count": 17,
   "metadata": {},
   "outputs": [],
   "source": [
    "df = pd.Series(dfs).to_frame()\n",
    "\n",
    "l = ['Dep. Variable:', 'Model:','Method:','Date:','Time:','No. Observations:','Df Residuals:',\n",
    "     'Df Model:','R-squared:',  'Adj. R-squared:', 'F-statistic:','Prob (F-statistic):',\n",
    "     'Log-Likelihood:',  'AIC:',  'BIC:',   'Covariance Type:', 'Omnibus:', 'Prob(Omnibus):',\n",
    "     'Skew:',  'Kurtosis:','Durbin-Watson:','Jarque-Bera (JB):','Prob(JB):','Cond. No.']\n",
    "df = df.T[l].T\n",
    "df.columns = ['values']\n",
    "df['explanation'] = None\n",
    "\n",
    "df['explanation']['Dep. Variable:'] = \"Виводить ім'я залежної змінної (y)\"\n",
    "df['explanation']['Model:'] = \"Модель, що використовується в підгонці, модель МНК визначається за допомогою параметрів\"\n",
    "df['explanation']['Method:'] = \"За яким методом розраховувалися параметри моделі\"\n",
    "df['explanation']['Date:'] = \"Дата проведення регресійного аналізу\"\n",
    "df['explanation']['Time:'] = \"Час проведення регресійного аналізу\"\n",
    "df['explanation']['No. Observations:'] = \"Кількість зразків\"\n",
    "df['explanation']['Df Residuals:'] = \"Ступені свободи залишків (рівняється різниці кількості спостережень та кількості параметрів\" \n",
    "df['explanation']['Df Model:'] = \"Кількість параметрів у моделі (без урахування постійного члена, якщо він присутній) - відповідає кількості рядків в стовбчику coef (без Intercept)\"\n",
    "# df['Covariance Type:'] = \"Вказує на стійкість до викидів\" #??????\n",
    "df['explanation']['R-squared:'] = \"Коефіцієнт детермінації. Статистична міра того, наскільки добре лінія регресії наближається до реальних точок даних.\"\n",
    "df['explanation']['Adj. R-squared:'] = \"Вищевказане значення (R-squared) скориговано на основі кількості спостережень та ступенів свободи залишків.\"\n",
    "df['explanation']['F-statistic:'] = \"Міра того, наскільки важлива підгонка. Середньоквадратична помилка моделі, поділена на середньоквадратичну помилку залишків.\"\n",
    "df['explanation']['Prob (F-statistic):'] = \"Імовірність того, що ви отримаєте вищезгадану статистику (F-statistic)\"\n",
    "df['explanation']['Log-Likelihood:'] = \"Функція логарифмічної правдоподібності\"\n",
    "df['explanation']['AIC:'] = \"Інформаційний критерій Акаіке. Регулює логарифмічну можливість залежно від кількості спостережень і складності моделі.\"\n",
    "df['explanation']['BIC:'] = \"Байєсовський інформаційний критерій. Аналогічний AIC, але має більший штраф для моделей з великою кількістю параметрів.\"\n",
    "df['explanation']['Omnibus:'] = \"Тест Д Агостіно. Він забезпечує комбінований статистичний тест на наявність асиметрії (Skew) та ексцесу(Kurtosis).\"\n",
    "df['explanation']['Prob(Omnibus):'] = \"Ймовірність наведеної вище статистики\"\n",
    "df['explanation']['Skew:'] = \"Міра симетрії даних щодо середнього. Нормально розподілені помилки мають бути симетрично розподілені щодо середнього (рівні суми вище та нижче лінії).\"\n",
    "df['explanation']['Kurtosis:'] = \"Міра форми розподілу. Порівнює обсяг даних, близьких до середнього, з даними, далекими від середнього (у хвостах).\"\n",
    "df['explanation']['Durbin-Watson:'] = \"Тест на наявність автокореляції (що помилки є незалежними). Часто важливий під час аналізу часових рядів.\"\n",
    "df['explanation']['Jarque-Bera (JB):'] = \"Тест на асиметрію (Skew) та ексцес(Kurtosis)\"\n",
    "df['explanation']['Prob(JB):'] = \"Ймовірність наведеної вище статистики (Jarque-Bera (JB))\"\n",
    "df['explanation']['Cond. No.'] = \"Тест на мультиколлінеарність (при доборі кількох параметрів параметри пов'язані один з одним)\"\n",
    "# html = df.to_html()\n",
    "# display(HTML(html))"
   ]
  },
  {
   "cell_type": "code",
   "execution_count": 18,
   "metadata": {},
   "outputs": [],
   "source": [
    "df_continue = pd.DataFrame(columns=['coef','std err','t','P>|t|', '[0.025', '0.975]'], index=['explanation'])\n",
    "\n",
    "df_continue['coef']['explanation'] = \"Розрахункове значення коефіцієнта\"\n",
    "df_continue['std err']['explanation'] = \"Основна стандартна помилка оцінки коефіцієнта.\"\n",
    "df_continue['t']['explanation'] = \"Значення t-статистики. Це показник того, наскільки статистично значущим є коефіцієнт.\"\n",
    "df_continue['P>|t|']['explanation'] = \"P-значення, що підтверджує, що нульова гіпотеза у тому, що коефіцієнт = 0, правильна.\"\n",
    "df_continue['[0.025']['explanation'] = \"Нижнє значення 95% довірчого інтервалу\"\n",
    "df_continue['0.975]']['explanation'] = \"Верхнє значення 95% довірчого інтервалу\"\n",
    "\n",
    "# html_continue = df_continue.to_html()\n",
    "# display(HTML(html_continue))"
   ]
  },
  {
   "cell_type": "markdown",
   "metadata": {},
   "source": [
    "<h1>Регресійний аналіз із кількома незалежними змінними</h1>"
   ]
  },
  {
   "cell_type": "code",
   "execution_count": 19,
   "metadata": {},
   "outputs": [],
   "source": [
    "URL = \"https://stepik.org/media/attachments/lesson/8086/states.csv\"\n",
    "states = pd.read_csv('http://d396qusza40orc.cloudfront.net/statistics/lec_resources/states.csv')"
   ]
  },
  {
   "cell_type": "code",
   "execution_count": 20,
   "metadata": {},
   "outputs": [
    {
     "data": {
      "text/plain": [
       "Index(['state', 'metro_res', 'white', 'hs_grad', 'poverty', 'female_house'], dtype='object')"
      ]
     },
     "execution_count": 20,
     "metadata": {},
     "output_type": "execute_result"
    }
   ],
   "source": [
    "states.columns # Out: ['state', 'metro_res', 'white', 'hs_grad', 'poverty', 'female_house']"
   ]
  },
  {
   "cell_type": "code",
   "execution_count": 21,
   "metadata": {},
   "outputs": [
    {
     "name": "stdout",
     "output_type": "stream",
     "text": [
      "                            OLS Regression Results                            \n",
      "==============================================================================\n",
      "Dep. Variable:                poverty   R-squared:                       0.642\n",
      "Model:                            OLS   Adj. R-squared:                  0.610\n",
      "Method:                 Least Squares   F-statistic:                     20.58\n",
      "Date:                Thu, 11 Aug 2022   Prob (F-statistic):           8.88e-10\n",
      "Time:                        12:59:08   Log-Likelihood:                -103.39\n",
      "No. Observations:                  51   AIC:                             216.8\n",
      "Df Residuals:                      46   BIC:                             226.4\n",
      "Df Model:                           4                                         \n",
      "Covariance Type:            nonrobust                                         \n",
      "================================================================================\n",
      "                   coef    std err          t      P>|t|      [0.025      0.975]\n",
      "--------------------------------------------------------------------------------\n",
      "Intercept       66.4765     12.590      5.280      0.000      41.134      91.819\n",
      "metro_res       -0.0563      0.020     -2.881      0.006      -0.096      -0.017\n",
      "white           -0.0481      0.033     -1.456      0.152      -0.115       0.018\n",
      "hs_grad         -0.5547      0.105     -5.288      0.000      -0.766      -0.344\n",
      "female_house     0.0505      0.243      0.208      0.836      -0.439       0.540\n",
      "==============================================================================\n",
      "Omnibus:                        3.254   Durbin-Watson:                   1.891\n",
      "Prob(Omnibus):                  0.197   Jarque-Bera (JB):                3.043\n",
      "Skew:                           0.585   Prob(JB):                        0.218\n",
      "Kurtosis:                       2.750   Cond. No.                     6.50e+03\n",
      "==============================================================================\n",
      "\n",
      "Notes:\n",
      "[1] Standard Errors assume that the covariance matrix of the errors is correctly specified.\n",
      "[2] The condition number is large, 6.5e+03. This might indicate that there are\n",
      "strong multicollinearity or other numerical problems.\n"
     ]
    }
   ],
   "source": [
    "models = smf.ols('poverty ~ metro_res + white + hs_grad + female_house',data=states)\n",
    "fitteds = models.fit()\n",
    "results = fitteds.summary()\n",
    "print(results)"
   ]
  },
  {
   "cell_type": "code",
   "execution_count": 22,
   "metadata": {},
   "outputs": [
    {
     "data": {
      "image/png": "[encoded data removed]",
      "text/plain": [
       "<Figure size 720x720 with 25 Axes>"
      ]
     },
     "metadata": {
      "needs_background": "light"
     },
     "output_type": "display_data"
    }
   ],
   "source": [
    "axes = pd.plotting.scatter_matrix(states, figsize=(10,10), diagonal='kde', grid=True)\n",
    "corr = states.corr().values\n",
    "for i, j in zip(*plt.np.triu_indices_from(axes, k=1)):\n",
    "    axes[i, j].annotate(\"%.3f\" %corr[i,j], (0.8, 0.8), xycoords='axes fraction', ha='center', va='center')\n",
    "plt.show()"
   ]
  },
  {
   "cell_type": "code",
   "execution_count": 23,
   "metadata": {},
   "outputs": [
    {
     "name": "stdout",
     "output_type": "stream",
     "text": [
      "0.62 \t white + hs_grad + metro_res\n",
      "0.61 \t white + female_house + hs_grad + metro_res\n",
      "0.6 \t female_house + hs_grad + metro_res\n",
      "0.58 \t hs_grad + metro_res\n",
      "0.56 \t white + hs_grad\n",
      "0.55 \t white + female_house + hs_grad\n",
      "0.55 \t female_house + hs_grad\n",
      "0.55 \t hs_grad\n",
      "0.4 \t female_house + metro_res\n",
      "0.39 \t white + female_house + metro_res\n",
      "0.26 \t female_house\n",
      "0.26 \t white + female_house\n",
      "0.17 \t white + metro_res\n",
      "0.077 \t white\n",
      "0.022 \t metro_res\n"
     ]
    }
   ],
   "source": [
    "# Знайдемо такий набір фіч, де R-squared максимальна\n",
    "feats = {'metro_res', 'white', 'hs_grad', 'female_house'}\n",
    "\n",
    "# Рекурсивно переберемо всі поєднання змінних\n",
    "def brute_force(params: set, formula: str, result: set) -> str:\n",
    "    if not params:\n",
    "        result.add(formula.lstrip('+ '))\n",
    "        return \n",
    "    else:\n",
    "        new_params = params.copy()\n",
    "        for el in params:\n",
    "            new_params.remove(el)\n",
    "\n",
    "            brute_force(new_params, formula + ' + ' + el, result)\n",
    "            brute_force(new_params, formula, result)\n",
    "\n",
    "res = set()          \n",
    "brute_force(feats, '', res)\n",
    "res.remove('')\n",
    "results = {}\n",
    "\n",
    "# Порахуємо Adjusted R-Square для кожного поєднання\n",
    "for formula in res:\n",
    "    lm = smf.ols(formula='poverty ~ ' + formula, data=states).fit()\n",
    "    results[formula] = f'{lm.rsquared_adj:.2}'\n",
    "    \n",
    "# виведемо відсортовані результати\n",
    "d = sorted(results.items(), key=lambda x: x[1], reverse=True)\n",
    "for i in d:\n",
    "    print(i[1],'\\t',i[0])\n"
   ]
  },
  {
   "cell_type": "code",
   "execution_count": 24,
   "metadata": {},
   "outputs": [],
   "source": [
    "# Відбір змінних у моделях лінійної регресії\n",
    "#https://loginom.ru/blog/feature-selection\n",
    "#https://www.geeksforgeeks.org/ml-multiple-linear-regression-backward-elimination-technique/\n",
    "#https://www.kaggle.com/code/hitesh19/multi-linear-regression-with-backward-elimination/notebook"
   ]
  },
  {
   "cell_type": "markdown",
   "metadata": {},
   "source": [
    "# Завдання\n",
    "Вам дано два ряди. В одному ряду значення курсу валюти за певний проміжок часу, у другому ряду знаходиться передбачений деякою моделлю курс цієї валюти. По двох рядах визначте помилку передбачення MSE<br>\n",
    "\n",
    "$$\\normalsize MSE =\\frac{1}{n}\\sum_{n}^{i=1}(y_{i} - f(x_{i}))^{2}$$"
   ]
  },
  {
   "cell_type": "code",
   "execution_count": 25,
   "metadata": {},
   "outputs": [
    {
     "name": "stdout",
     "output_type": "stream",
     "text": [
      "MSE=489.16182735045805\n"
     ]
    }
   ],
   "source": [
    "\n",
    "url_y = 'https://github.com/bykov-alexei/data-science-course/blob/master/ML/first-series.npy?raw=true'\n",
    "url_x = 'https://github.com/bykov-alexei/data-science-course/blob/master/ML/second-series.npy?raw=true'\n",
    "arr_x, arr_y = [np.load(BytesIO(urlopen(url).read())) for url in (url_x, url_y)]\n",
    "MSE = sum((arr_y - arr_x)**2)/len(arr_y)\n",
    "print(f'{MSE=}')"
   ]
  },
  {
   "cell_type": "code",
   "execution_count": 26,
   "metadata": {},
   "outputs": [
    {
     "name": "stdout",
     "output_type": "stream",
     "text": [
      "MSE=489.1618273504579\n"
     ]
    }
   ],
   "source": [
    "\n",
    "MSE = mean_squared_error(arr_x, arr_y) \n",
    "print(f'{MSE=}')"
   ]
  },
  {
   "cell_type": "markdown",
   "metadata": {},
   "source": [
    "# Завдання\n",
    "Вам дано два ряди. В одному ряду значення курсу валюти за певний проміжок часу, у другому ряду знаходиться передбачений деякою моделлю курс цієї валюти. По двох рядах визначте помилку передбачення RMSE\n",
    "\n",
    "$$RMSE = \\sqrt{MSE} = \\sqrt{\\frac{1}{n}\\sum_{n}^{i=1}(y_{i} - f(x_{i}))^{2}} $$"
   ]
  },
  {
   "cell_type": "code",
   "execution_count": 27,
   "metadata": {},
   "outputs": [
    {
     "name": "stdout",
     "output_type": "stream",
     "text": [
      "RMSE=22.117003127694716\n"
     ]
    }
   ],
   "source": [
    "RMSE = MSE**0.5\n",
    "print(f'{RMSE=}')"
   ]
  },
  {
   "cell_type": "code",
   "execution_count": 28,
   "metadata": {},
   "outputs": [
    {
     "name": "stdout",
     "output_type": "stream",
     "text": [
      "RMSE=22.117003127694716\n"
     ]
    }
   ],
   "source": [
    "RMSE = mean_squared_error(arr_x, arr_y, squared=False)\n",
    "print(f'{RMSE=}')"
   ]
  },
  {
   "cell_type": "markdown",
   "metadata": {},
   "source": [
    "# Завдання\n",
    "Вам дано два ряди. В одному ряду значення курсу валюти за певний проміжок часу, у другому ряду знаходиться передбачений деякою моделлю курс цієї валюти. По двох рядах визначте помилку передбачення MAE\n",
    "\n",
    "$$\\displaystyle \\mathrm {MAE} ={\\frac {\\sum _{i=1}^{n}\\left|y_{i}-x_{i}\\right|}{n}}={\\frac {\\sum _{i=1}^{n}\\left|e_{i}\\right|}{n}}.$$"
   ]
  },
  {
   "cell_type": "code",
   "execution_count": 29,
   "metadata": {},
   "outputs": [
    {
     "name": "stdout",
     "output_type": "stream",
     "text": [
      "MAE=17.996466944603252\n"
     ]
    }
   ],
   "source": [
    "MAE = sum(abs(arr_y - arr_x))/len(arr_y)\n",
    "print(f'{MAE=}')"
   ]
  },
  {
   "cell_type": "code",
   "execution_count": 30,
   "metadata": {},
   "outputs": [
    {
     "name": "stdout",
     "output_type": "stream",
     "text": [
      "MAE=17.996466944603256\n"
     ]
    }
   ],
   "source": [
    "\n",
    "MAE = mean_absolute_error(arr_x, arr_y)\n",
    "print(f'{MAE=}')"
   ]
  },
  {
   "cell_type": "code",
   "execution_count": 31,
   "metadata": {},
   "outputs": [
    {
     "name": "stdout",
     "output_type": "stream",
     "text": [
      "MAE=17.996466944603256\n"
     ]
    }
   ],
   "source": [
    "def mae(y_true, predictions):\n",
    "    y_true, predictions = np.array(y_true), np.array(predictions)\n",
    "    return np.mean(np.abs(y_true - predictions))\n",
    "MAE = mae(arr_y, arr_x)\n",
    "print(f'{MAE=}')"
   ]
  },
  {
   "cell_type": "code",
   "execution_count": 32,
   "metadata": {},
   "outputs": [
    {
     "name": "stdout",
     "output_type": "stream",
     "text": [
      "MAE=17.996466944603256\n"
     ]
    }
   ],
   "source": [
    "MAE = np.sum(abs(arr_y - arr_x))/len(arr_x)\n",
    "print(f'{MAE=}')"
   ]
  },
  {
   "cell_type": "markdown",
   "metadata": {},
   "source": [
    "# Завдання\n",
    "Побудуйте лінійну регресію за даними і у відповідь запишіть коефіцієнт, що вийшов k"
   ]
  },
  {
   "cell_type": "code",
   "execution_count": 33,
   "metadata": {},
   "outputs": [],
   "source": [
    "url = 'https://github.com/bykov-alexei/data-science-course/blob/master/ML/data.npz?raw=true'\n",
    "load = BytesIO(urlopen(url).read())\n",
    "npz = np.load(load)\n",
    "df= pd.DataFrame.from_dict({item: npz[item] for item in npz.files}, orient='columns')"
   ]
  },
  {
   "cell_type": "code",
   "execution_count": 34,
   "metadata": {},
   "outputs": [
    {
     "name": "stdout",
     "output_type": "stream",
     "text": [
      "k=2.347042281992799\n"
     ]
    }
   ],
   "source": [
    "model = smf.ols('prices~years',data=df)\n",
    "fitted = model.fit()\n",
    "k = fitted.params[1]\n",
    "print(f'{k=}')"
   ]
  },
  {
   "cell_type": "code",
   "execution_count": 35,
   "metadata": {},
   "outputs": [
    {
     "name": "stdout",
     "output_type": "stream",
     "text": [
      "k=2.3470422819942174\n"
     ]
    }
   ],
   "source": [
    "years, prices = (npz[x] for x in npz)\n",
    "k = sum((years - years.mean()) * (prices - prices.mean())) / sum((years - years.mean())**2)\n",
    "print(f'{k=}')"
   ]
  },
  {
   "cell_type": "markdown",
   "metadata": {},
   "source": [
    "# Завдання регресії. Лінійна регресія не для kx+b"
   ]
  },
  {
   "cell_type": "markdown",
   "metadata": {},
   "source": [
    "# Завдання\n",
    "У файлі наведено значення x, y\n",
    "\n",
    "$y=a_1 \\cdot sin(x)+a_2 \\cdot cos(x) + a_3$\n",
    "\n",
    "Ваше завдання знайти коефіцієнти $a_1, a_2, a_3$ округлити їх до найближчого цілого та записати через пробіл"
   ]
  },
  {
   "cell_type": "code",
   "execution_count": 36,
   "metadata": {},
   "outputs": [
    {
     "name": "stdout",
     "output_type": "stream",
     "text": [
      "a1=1.99151  a2=2.03124  a3=2.99889\n"
     ]
    }
   ],
   "source": [
    "url = 'https://github.com/bykov-alexei/data-science-course/blob/master/%D0%9C%D0%B0%D1%88%D0%B8%D0%BD%D0%BD%D0%BE%D0%B5%20%D0%BE%D0%B1%D1%83%D1%87%D0%B5%D0%BD%D0%B8%D0%B5/%D0%9B%D0%B8%D0%BD%D0%B5%D0%B9%D0%BD%D0%B0%D1%8F%20%D1%80%D0%B5%D0%B3%D1%80%D0%B5%D1%81%D1%81%D0%B8%D1%8F/data.npz?raw=true'\n",
    "from urllib.request import urlopen\n",
    "from io import BytesIO\n",
    "import pandas as pd\n",
    "import statsmodels.formula.api as smf\n",
    "\n",
    "load = BytesIO(urlopen(url).read())\n",
    "npz = np.load(load)\n",
    "df= pd.DataFrame.from_dict({item: npz[item] for item in npz.files}, orient='columns')\n",
    "\n",
    "# OLS - for \"ordinary least squares\" ЗВИЧАЙНІ НАЙМЕНШІ КВАДРАТИ метод\n",
    "model = smf.ols('y~ np.sin(x) + np.cos(x)',data=df)\n",
    "a3, a1, a2 = model.fit().params\n",
    "print(f'{a1=:0.5f}  {a2=:0.5f}  {a3=:0.5f}')"
   ]
  },
  {
   "cell_type": "code",
   "execution_count": 37,
   "metadata": {},
   "outputs": [
    {
     "name": "stdout",
     "output_type": "stream",
     "text": [
      "Intercept    2.998885\n",
      "np.sin(x)    1.991507\n",
      "np.cos(x)    2.031243\n",
      "dtype: float64\n"
     ]
    }
   ],
   "source": [
    "print(model.fit().params)"
   ]
  },
  {
   "cell_type": "markdown",
   "metadata": {},
   "source": [
    "# Завдання\n",
    "У файлі надано значення x, y<br>\n",
    "$y=a_1 \\cdot sin(x) + a_2 \\cdot x + a_3 \\cdot x^2 + a_4$ <br>\n",
    "\n",
    "Ваше завдання знайти коефіцієнти $a_1, a_2, a_3, a_4$ округлити їх до найближчого цілого та записати через пробіл"
   ]
  },
  {
   "cell_type": "code",
   "execution_count": 38,
   "metadata": {},
   "outputs": [
    {
     "name": "stdout",
     "output_type": "stream",
     "text": [
      "a1=48 a2=2 a3=7 a4=250\n"
     ]
    }
   ],
   "source": [
    "url = 'https://github.com/bykov-alexei/data-science-course/blob/master/%D0%9C%D0%B0%D1%88%D0%B8%D0%BD%D0%BD%D0%BE%D0%B5%20%D0%BE%D0%B1%D1%83%D1%87%D0%B5%D0%BD%D0%B8%D0%B5/%D0%9B%D0%B8%D0%BD%D0%B5%D0%B9%D0%BD%D0%B0%D1%8F%20%D1%80%D0%B5%D0%B3%D1%80%D0%B5%D1%81%D1%81%D0%B8%D1%8F/task2.npz?raw=true'\n",
    "load = BytesIO(urlopen(url).read())\n",
    "npz = np.load(load)\n",
    "df= pd.DataFrame.from_dict({item: npz[item] for item in npz.files}, orient='columns')\n",
    "\n",
    "model = smf.ols('y~ np.sin(x) + x + np.power(x, 2)',data=df)\n",
    "fitted = model.fit()\n",
    "def round_(arg):\n",
    "    f, j = divmod(arg, 1)\n",
    "    return int(f) + int(j>0.5)\n",
    "a4, a1, a2, a3 = map(round_,fitted.params)\n",
    "print(f'{a1=} {a2=} {a3=} {a4=}')"
   ]
  },
  {
   "cell_type": "code",
   "execution_count": 39,
   "metadata": {},
   "outputs": [
    {
     "name": "stdout",
     "output_type": "stream",
     "text": [
      "48 2 7 250\n"
     ]
    }
   ],
   "source": [
    "url = 'https://github.com/bykov-alexei/data-science-course/blob/master/%D0%9C%D0%B0%D1%88%D0%B8%D0%BD%D0%BD%D0%BE%D0%B5%20%D0%BE%D0%B1%D1%83%D1%87%D0%B5%D0%BD%D0%B8%D0%B5/%D0%9B%D0%B8%D0%BD%D0%B5%D0%B9%D0%BD%D0%B0%D1%8F%20%D1%80%D0%B5%D0%B3%D1%80%D0%B5%D1%81%D1%81%D0%B8%D1%8F/task2.npz?raw=true'\n",
    "data = np.load(BytesIO(urlopen(url).read()))\n",
    "x, y = (data[i] for i in data)\n",
    "X = np.column_stack((np.ones(x.shape[0]), np.square(x), x, np.sin(x)))\n",
    "coeffs = (np.linalg.inv(X.T @ X) @ X.T @ y).round().astype(int)\n",
    "print(*coeffs[::-1])"
   ]
  },
  {
   "cell_type": "code",
   "execution_count": 40,
   "metadata": {},
   "outputs": [
    {
     "name": "stdout",
     "output_type": "stream",
     "text": [
      "48 2 7 250"
     ]
    }
   ],
   "source": [
    "df['x_sin'] = np.sin(df['x'])\n",
    "df['x2'] = df['x']*df['x']\n",
    "X = df[['x_sin','x','x2']]\n",
    "Y = df['y']\n",
    "from sklearn.linear_model import LinearRegression\n",
    "model = LinearRegression()\n",
    "model.fit(X,Y)\n",
    "print(*np.round(model.coef_).astype(int), np.round(model.intercept_).astype(int),end='')"
   ]
  },
  {
   "cell_type": "markdown",
   "metadata": {},
   "source": [
    "# Завдання\n",
    "У файлі наведено значення x, y. Ваше завдання побудувати модель регресії та передбачити значення y для різних значень x. Передбачені значення округліть до найближчого цілого"
   ]
  },
  {
   "cell_type": "code",
   "execution_count": 41,
   "metadata": {},
   "outputs": [],
   "source": [
    "url = 'https://github.com/bykov-alexei/data-science-course/blob/master/%D0%9C%D0%B0%D1%88%D0%B8%D0%BD%D0%BD%D0%BE%D0%B5%20%D0%BE%D0%B1%D1%83%D1%87%D0%B5%D0%BD%D0%B8%D0%B5/%D0%9B%D0%B8%D0%BD%D0%B5%D0%B9%D0%BD%D0%B0%D1%8F%20%D1%80%D0%B5%D0%B3%D1%80%D0%B5%D1%81%D1%81%D0%B8%D1%8F/task3.npz?raw=true'\n",
    "def url_numpy_npz_to_dataframe(url):\n",
    "    from urllib.request import urlopen\n",
    "    from io import BytesIO\n",
    "    from pandas import DataFrame\n",
    "    load = BytesIO(urlopen(url).read())\n",
    "    npz = np.load(load)\n",
    "    df= pd.DataFrame.from_dict({item: npz[item] for item in npz.files}, orient='columns')\n",
    "    return df"
   ]
  },
  {
   "cell_type": "code",
   "execution_count": 42,
   "metadata": {},
   "outputs": [],
   "source": [
    "df = url_numpy_npz_to_dataframe(url)"
   ]
  },
  {
   "cell_type": "markdown",
   "metadata": {},
   "source": [
    "Заповніть пропущені значення<br>\n",
    "\n",
    "При x = 21 значення функції y = <br>\n",
    "При x = 22 значення функції y = <br>\n",
    "При x = 50 значення функції y = <br>\n",
    "При x = -20 значення функції y = <br>"
   ]
  },
  {
   "cell_type": "code",
   "execution_count": 43,
   "metadata": {},
   "outputs": [
    {
     "name": "stdout",
     "output_type": "stream",
     "text": [
      "                            OLS Regression Results                            \n",
      "==============================================================================\n",
      "Dep. Variable:                      y   R-squared:                       0.829\n",
      "Model:                            OLS   Adj. R-squared:                  0.827\n",
      "Method:                 Least Squares   F-statistic:                     475.6\n",
      "Date:                Thu, 11 Aug 2022   Prob (F-statistic):           2.20e-39\n",
      "Time:                        12:59:17   Log-Likelihood:                -430.92\n",
      "No. Observations:                 100   AIC:                             865.8\n",
      "Df Residuals:                      98   BIC:                             871.1\n",
      "Df Model:                           1                                         \n",
      "Covariance Type:            nonrobust                                         \n",
      "==============================================================================\n",
      "                 coef    std err          t      P>|t|      [0.025      0.975]\n",
      "------------------------------------------------------------------------------\n",
      "Intercept     14.3788      2.094      6.866      0.000      10.223      18.535\n",
      "x              4.5329      0.208     21.808      0.000       4.120       4.945\n",
      "==============================================================================\n",
      "Omnibus:                        5.081   Durbin-Watson:                   0.022\n",
      "Prob(Omnibus):                  0.079   Jarque-Bera (JB):                4.971\n",
      "Skew:                           0.499   Prob(JB):                       0.0833\n",
      "Kurtosis:                       2.556   Cond. No.                         11.6\n",
      "==============================================================================\n",
      "\n",
      "Notes:\n",
      "[1] Standard Errors assume that the covariance matrix of the errors is correctly specified.\n"
     ]
    }
   ],
   "source": [
    "model = smf.ols('y~x',data=df)\n",
    "fitted = model.fit()\n",
    "print (fitted.summary())"
   ]
  },
  {
   "cell_type": "code",
   "execution_count": 44,
   "metadata": {},
   "outputs": [
    {
     "name": "stdout",
     "output_type": "stream",
     "text": [
      "0    109.569436\n",
      "1    114.102324\n",
      "2    241.023185\n",
      "3    -76.278967\n",
      "dtype: float64\n"
     ]
    }
   ],
   "source": [
    "new = pd.DataFrame([[1, 21], [1, 22], [1, 50], [1,-20]], columns=['Intercept', 'x'])\n",
    "predict = fitted.predict(new)\n",
    "print(predict)"
   ]
  },
  {
   "cell_type": "code",
   "execution_count": 45,
   "metadata": {},
   "outputs": [
    {
     "name": "stdout",
     "output_type": "stream",
     "text": [
      "0    162.616556\n",
      "1    166.911487\n",
      "2    724.376251\n",
      "3     52.870547\n",
      "dtype: float64\n"
     ]
    }
   ],
   "source": [
    "url = 'https://github.com/bykov-alexei/data-science-course/blob/master/%D0%9C%D0%B0%D1%88%D0%B8%D0%BD%D0%BD%D0%BE%D0%B5%20%D0%BE%D0%B1%D1%83%D1%87%D0%B5%D0%BD%D0%B8%D0%B5/%D0%9B%D0%B8%D0%BD%D0%B5%D0%B9%D0%BD%D0%B0%D1%8F%20%D1%80%D0%B5%D0%B3%D1%80%D0%B5%D1%81%D1%81%D0%B8%D1%8F/task3.npz?raw=true'\n",
    "load = BytesIO(urlopen(url).read())\n",
    "npz = np.load(load)\n",
    "df= pd.DataFrame.from_dict({item: npz[item] for item in npz.files}, orient='columns')\n",
    "model = smf.ols('y~ np.sin(x) + x + np.power(x,2)',data=df)\n",
    "result = model.fit()\n",
    "new_df = pd.DataFrame([[1, 21], [1, 22], [1, 50], [1,-20]], columns=['Intercept', 'x'])\n",
    "predict = result.predict(new_df)\n",
    "\n",
    "print(predict)"
   ]
  }
 ],
 "metadata": {
  "kernelspec": {
   "display_name": "Python 3 (ipykernel)",
   "language": "python",
   "name": "python3"
  },
  "language_info": {
   "codemirror_mode": {
    "name": "ipython",
    "version": 3
   },
   "file_extension": ".py",
   "mimetype": "text/x-python",
   "name": "python",
   "nbconvert_exporter": "python",
   "pygments_lexer": "ipython3",
   "version": "3.10.5"
  }
 },
 "nbformat": 4,
 "nbformat_minor": 2
}
